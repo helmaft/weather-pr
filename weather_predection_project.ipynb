{
  "nbformat": 4,
  "nbformat_minor": 0,
  "metadata": {
    "colab": {
      "provenance": [],
      "authorship_tag": "ABX9TyPuJRj1gzr+h5qk4wkY6QgW",
      "include_colab_link": true
    },
    "kernelspec": {
      "name": "python3",
      "display_name": "Python 3"
    },
    "language_info": {
      "name": "python"
    }
  },
  "cells": [
    {
      "cell_type": "markdown",
      "metadata": {
        "id": "view-in-github",
        "colab_type": "text"
      },
      "source": [
        "<a href=\"https://colab.research.google.com/github/helmaft/weather-pr/blob/main/weather_predection_project.ipynb\" target=\"_parent\"><img src=\"https://colab.research.google.com/assets/colab-badge.svg\" alt=\"Open In Colab\"/></a>"
      ]
    },
    {
      "cell_type": "code",
      "execution_count": null,
      "metadata": {
        "id": "O-U4GJd2HxeE"
      },
      "outputs": [],
      "source": [
        "import pandas as pd\n",
        "import numpy as np\n",
        "import plotly.express as px\n",
        "import plotly.graph_objs as go\n",
        "import pandas as pd\n",
        "from sklearn.model_selection import train_test_split \n",
        "from sklearn.preprocessing import MinMaxScaler, OneHotEncoder\n",
        "from sklearn.preprocessing import StandardScaler\n",
        "import matplotlib.pyplot as plt\n",
        "from sklearn.metrics import accuracy_score\n",
        "from sklearn.preprocessing import LabelEncoder\n",
        "from sklearn import metrics\n",
        "from sklearn.tree import DecisionTreeClassifier\n",
        "from sklearn.metrics import mean_squared_error\n",
        "from sklearn.ensemble import RandomForestClassifier\n",
        "from sklearn.metrics import confusion_matrix\n",
        "import seaborn as sns\n",
        "import matplotlib.pyplot as plt\n",
        "\n"
      ]
    },
    {
      "cell_type": "code",
      "source": [
        "df = pd.read_csv('/content/drive/MyDrive/programing/seattle-weather.csv')"
      ],
      "metadata": {
        "id": "XSf_YNKXRgk2"
      },
      "execution_count": null,
      "outputs": []
    },
    {
      "cell_type": "code",
      "source": [
        "df.head()"
      ],
      "metadata": {
        "colab": {
          "base_uri": "https://localhost:8080/",
          "height": 206
        },
        "id": "SamUlx4YR2zK",
        "outputId": "fc0e260d-7297-43cc-b39a-ce7c3c0811a7"
      },
      "execution_count": null,
      "outputs": [
        {
          "output_type": "execute_result",
          "data": {
            "text/plain": [
              "         date  precipitation  temp_max  temp_min  wind  weather\n",
              "0  2012-01-01            0.0      12.8       5.0   4.7  drizzle\n",
              "1  2012-01-02           10.9      10.6       2.8   4.5     rain\n",
              "2  2012-01-03            0.8      11.7       7.2   2.3     rain\n",
              "3  2012-01-04           20.3      12.2       5.6   4.7     rain\n",
              "4  2012-01-05            1.3       8.9       2.8   6.1     rain"
            ],
            "text/html": [
              "\n",
              "  <div id=\"df-b1496449-2ec1-4225-bb19-5e7fa487243f\">\n",
              "    <div class=\"colab-df-container\">\n",
              "      <div>\n",
              "<style scoped>\n",
              "    .dataframe tbody tr th:only-of-type {\n",
              "        vertical-align: middle;\n",
              "    }\n",
              "\n",
              "    .dataframe tbody tr th {\n",
              "        vertical-align: top;\n",
              "    }\n",
              "\n",
              "    .dataframe thead th {\n",
              "        text-align: right;\n",
              "    }\n",
              "</style>\n",
              "<table border=\"1\" class=\"dataframe\">\n",
              "  <thead>\n",
              "    <tr style=\"text-align: right;\">\n",
              "      <th></th>\n",
              "      <th>date</th>\n",
              "      <th>precipitation</th>\n",
              "      <th>temp_max</th>\n",
              "      <th>temp_min</th>\n",
              "      <th>wind</th>\n",
              "      <th>weather</th>\n",
              "    </tr>\n",
              "  </thead>\n",
              "  <tbody>\n",
              "    <tr>\n",
              "      <th>0</th>\n",
              "      <td>2012-01-01</td>\n",
              "      <td>0.0</td>\n",
              "      <td>12.8</td>\n",
              "      <td>5.0</td>\n",
              "      <td>4.7</td>\n",
              "      <td>drizzle</td>\n",
              "    </tr>\n",
              "    <tr>\n",
              "      <th>1</th>\n",
              "      <td>2012-01-02</td>\n",
              "      <td>10.9</td>\n",
              "      <td>10.6</td>\n",
              "      <td>2.8</td>\n",
              "      <td>4.5</td>\n",
              "      <td>rain</td>\n",
              "    </tr>\n",
              "    <tr>\n",
              "      <th>2</th>\n",
              "      <td>2012-01-03</td>\n",
              "      <td>0.8</td>\n",
              "      <td>11.7</td>\n",
              "      <td>7.2</td>\n",
              "      <td>2.3</td>\n",
              "      <td>rain</td>\n",
              "    </tr>\n",
              "    <tr>\n",
              "      <th>3</th>\n",
              "      <td>2012-01-04</td>\n",
              "      <td>20.3</td>\n",
              "      <td>12.2</td>\n",
              "      <td>5.6</td>\n",
              "      <td>4.7</td>\n",
              "      <td>rain</td>\n",
              "    </tr>\n",
              "    <tr>\n",
              "      <th>4</th>\n",
              "      <td>2012-01-05</td>\n",
              "      <td>1.3</td>\n",
              "      <td>8.9</td>\n",
              "      <td>2.8</td>\n",
              "      <td>6.1</td>\n",
              "      <td>rain</td>\n",
              "    </tr>\n",
              "  </tbody>\n",
              "</table>\n",
              "</div>\n",
              "      <button class=\"colab-df-convert\" onclick=\"convertToInteractive('df-b1496449-2ec1-4225-bb19-5e7fa487243f')\"\n",
              "              title=\"Convert this dataframe to an interactive table.\"\n",
              "              style=\"display:none;\">\n",
              "        \n",
              "  <svg xmlns=\"http://www.w3.org/2000/svg\" height=\"24px\"viewBox=\"0 0 24 24\"\n",
              "       width=\"24px\">\n",
              "    <path d=\"M0 0h24v24H0V0z\" fill=\"none\"/>\n",
              "    <path d=\"M18.56 5.44l.94 2.06.94-2.06 2.06-.94-2.06-.94-.94-2.06-.94 2.06-2.06.94zm-11 1L8.5 8.5l.94-2.06 2.06-.94-2.06-.94L8.5 2.5l-.94 2.06-2.06.94zm10 10l.94 2.06.94-2.06 2.06-.94-2.06-.94-.94-2.06-.94 2.06-2.06.94z\"/><path d=\"M17.41 7.96l-1.37-1.37c-.4-.4-.92-.59-1.43-.59-.52 0-1.04.2-1.43.59L10.3 9.45l-7.72 7.72c-.78.78-.78 2.05 0 2.83L4 21.41c.39.39.9.59 1.41.59.51 0 1.02-.2 1.41-.59l7.78-7.78 2.81-2.81c.8-.78.8-2.07 0-2.86zM5.41 20L4 18.59l7.72-7.72 1.47 1.35L5.41 20z\"/>\n",
              "  </svg>\n",
              "      </button>\n",
              "      \n",
              "  <style>\n",
              "    .colab-df-container {\n",
              "      display:flex;\n",
              "      flex-wrap:wrap;\n",
              "      gap: 12px;\n",
              "    }\n",
              "\n",
              "    .colab-df-convert {\n",
              "      background-color: #E8F0FE;\n",
              "      border: none;\n",
              "      border-radius: 50%;\n",
              "      cursor: pointer;\n",
              "      display: none;\n",
              "      fill: #1967D2;\n",
              "      height: 32px;\n",
              "      padding: 0 0 0 0;\n",
              "      width: 32px;\n",
              "    }\n",
              "\n",
              "    .colab-df-convert:hover {\n",
              "      background-color: #E2EBFA;\n",
              "      box-shadow: 0px 1px 2px rgba(60, 64, 67, 0.3), 0px 1px 3px 1px rgba(60, 64, 67, 0.15);\n",
              "      fill: #174EA6;\n",
              "    }\n",
              "\n",
              "    [theme=dark] .colab-df-convert {\n",
              "      background-color: #3B4455;\n",
              "      fill: #D2E3FC;\n",
              "    }\n",
              "\n",
              "    [theme=dark] .colab-df-convert:hover {\n",
              "      background-color: #434B5C;\n",
              "      box-shadow: 0px 1px 3px 1px rgba(0, 0, 0, 0.15);\n",
              "      filter: drop-shadow(0px 1px 2px rgba(0, 0, 0, 0.3));\n",
              "      fill: #FFFFFF;\n",
              "    }\n",
              "  </style>\n",
              "\n",
              "      <script>\n",
              "        const buttonEl =\n",
              "          document.querySelector('#df-b1496449-2ec1-4225-bb19-5e7fa487243f button.colab-df-convert');\n",
              "        buttonEl.style.display =\n",
              "          google.colab.kernel.accessAllowed ? 'block' : 'none';\n",
              "\n",
              "        async function convertToInteractive(key) {\n",
              "          const element = document.querySelector('#df-b1496449-2ec1-4225-bb19-5e7fa487243f');\n",
              "          const dataTable =\n",
              "            await google.colab.kernel.invokeFunction('convertToInteractive',\n",
              "                                                     [key], {});\n",
              "          if (!dataTable) return;\n",
              "\n",
              "          const docLinkHtml = 'Like what you see? Visit the ' +\n",
              "            '<a target=\"_blank\" href=https://colab.research.google.com/notebooks/data_table.ipynb>data table notebook</a>'\n",
              "            + ' to learn more about interactive tables.';\n",
              "          element.innerHTML = '';\n",
              "          dataTable['output_type'] = 'display_data';\n",
              "          await google.colab.output.renderOutput(dataTable, element);\n",
              "          const docLink = document.createElement('div');\n",
              "          docLink.innerHTML = docLinkHtml;\n",
              "          element.appendChild(docLink);\n",
              "        }\n",
              "      </script>\n",
              "    </div>\n",
              "  </div>\n",
              "  "
            ]
          },
          "metadata": {},
          "execution_count": 3
        }
      ]
    },
    {
      "cell_type": "code",
      "source": [
        "df.columns"
      ],
      "metadata": {
        "id": "fNPUxrgbT7Fl",
        "colab": {
          "base_uri": "https://localhost:8080/"
        },
        "outputId": "564e6938-273f-4fb0-a154-893d7437dd16"
      },
      "execution_count": null,
      "outputs": [
        {
          "output_type": "execute_result",
          "data": {
            "text/plain": [
              "Index(['date', 'precipitation', 'temp_max', 'temp_min', 'wind', 'weather'], dtype='object')"
            ]
          },
          "metadata": {},
          "execution_count": 4
        }
      ]
    },
    {
      "cell_type": "code",
      "source": [
        "df.info()"
      ],
      "metadata": {
        "colab": {
          "base_uri": "https://localhost:8080/"
        },
        "id": "dpcguakUwBQ7",
        "outputId": "ca420491-78c3-4e22-c192-cbe87c251a54"
      },
      "execution_count": null,
      "outputs": [
        {
          "output_type": "stream",
          "name": "stdout",
          "text": [
            "<class 'pandas.core.frame.DataFrame'>\n",
            "RangeIndex: 1461 entries, 0 to 1460\n",
            "Data columns (total 6 columns):\n",
            " #   Column         Non-Null Count  Dtype  \n",
            "---  ------         --------------  -----  \n",
            " 0   date           1461 non-null   object \n",
            " 1   precipitation  1461 non-null   float64\n",
            " 2   temp_max       1461 non-null   float64\n",
            " 3   temp_min       1461 non-null   float64\n",
            " 4   wind           1461 non-null   float64\n",
            " 5   weather        1461 non-null   object \n",
            "dtypes: float64(4), object(2)\n",
            "memory usage: 68.6+ KB\n"
          ]
        }
      ]
    },
    {
      "cell_type": "code",
      "source": [
        "df.describe()"
      ],
      "metadata": {
        "colab": {
          "base_uri": "https://localhost:8080/",
          "height": 300
        },
        "id": "ktIlZMz4wvnh",
        "outputId": "e08297bc-8ebf-4bf1-a025-cf8fe4d9de63"
      },
      "execution_count": null,
      "outputs": [
        {
          "output_type": "execute_result",
          "data": {
            "text/plain": [
              "       precipitation     temp_max     temp_min         wind\n",
              "count    1461.000000  1461.000000  1461.000000  1461.000000\n",
              "mean        3.029432    16.439083     8.234771     3.241136\n",
              "std         6.680194     7.349758     5.023004     1.437825\n",
              "min         0.000000    -1.600000    -7.100000     0.400000\n",
              "25%         0.000000    10.600000     4.400000     2.200000\n",
              "50%         0.000000    15.600000     8.300000     3.000000\n",
              "75%         2.800000    22.200000    12.200000     4.000000\n",
              "max        55.900000    35.600000    18.300000     9.500000"
            ],
            "text/html": [
              "\n",
              "  <div id=\"df-f23b20d8-a5f5-40cf-805c-db4147a4238a\">\n",
              "    <div class=\"colab-df-container\">\n",
              "      <div>\n",
              "<style scoped>\n",
              "    .dataframe tbody tr th:only-of-type {\n",
              "        vertical-align: middle;\n",
              "    }\n",
              "\n",
              "    .dataframe tbody tr th {\n",
              "        vertical-align: top;\n",
              "    }\n",
              "\n",
              "    .dataframe thead th {\n",
              "        text-align: right;\n",
              "    }\n",
              "</style>\n",
              "<table border=\"1\" class=\"dataframe\">\n",
              "  <thead>\n",
              "    <tr style=\"text-align: right;\">\n",
              "      <th></th>\n",
              "      <th>precipitation</th>\n",
              "      <th>temp_max</th>\n",
              "      <th>temp_min</th>\n",
              "      <th>wind</th>\n",
              "    </tr>\n",
              "  </thead>\n",
              "  <tbody>\n",
              "    <tr>\n",
              "      <th>count</th>\n",
              "      <td>1461.000000</td>\n",
              "      <td>1461.000000</td>\n",
              "      <td>1461.000000</td>\n",
              "      <td>1461.000000</td>\n",
              "    </tr>\n",
              "    <tr>\n",
              "      <th>mean</th>\n",
              "      <td>3.029432</td>\n",
              "      <td>16.439083</td>\n",
              "      <td>8.234771</td>\n",
              "      <td>3.241136</td>\n",
              "    </tr>\n",
              "    <tr>\n",
              "      <th>std</th>\n",
              "      <td>6.680194</td>\n",
              "      <td>7.349758</td>\n",
              "      <td>5.023004</td>\n",
              "      <td>1.437825</td>\n",
              "    </tr>\n",
              "    <tr>\n",
              "      <th>min</th>\n",
              "      <td>0.000000</td>\n",
              "      <td>-1.600000</td>\n",
              "      <td>-7.100000</td>\n",
              "      <td>0.400000</td>\n",
              "    </tr>\n",
              "    <tr>\n",
              "      <th>25%</th>\n",
              "      <td>0.000000</td>\n",
              "      <td>10.600000</td>\n",
              "      <td>4.400000</td>\n",
              "      <td>2.200000</td>\n",
              "    </tr>\n",
              "    <tr>\n",
              "      <th>50%</th>\n",
              "      <td>0.000000</td>\n",
              "      <td>15.600000</td>\n",
              "      <td>8.300000</td>\n",
              "      <td>3.000000</td>\n",
              "    </tr>\n",
              "    <tr>\n",
              "      <th>75%</th>\n",
              "      <td>2.800000</td>\n",
              "      <td>22.200000</td>\n",
              "      <td>12.200000</td>\n",
              "      <td>4.000000</td>\n",
              "    </tr>\n",
              "    <tr>\n",
              "      <th>max</th>\n",
              "      <td>55.900000</td>\n",
              "      <td>35.600000</td>\n",
              "      <td>18.300000</td>\n",
              "      <td>9.500000</td>\n",
              "    </tr>\n",
              "  </tbody>\n",
              "</table>\n",
              "</div>\n",
              "      <button class=\"colab-df-convert\" onclick=\"convertToInteractive('df-f23b20d8-a5f5-40cf-805c-db4147a4238a')\"\n",
              "              title=\"Convert this dataframe to an interactive table.\"\n",
              "              style=\"display:none;\">\n",
              "        \n",
              "  <svg xmlns=\"http://www.w3.org/2000/svg\" height=\"24px\"viewBox=\"0 0 24 24\"\n",
              "       width=\"24px\">\n",
              "    <path d=\"M0 0h24v24H0V0z\" fill=\"none\"/>\n",
              "    <path d=\"M18.56 5.44l.94 2.06.94-2.06 2.06-.94-2.06-.94-.94-2.06-.94 2.06-2.06.94zm-11 1L8.5 8.5l.94-2.06 2.06-.94-2.06-.94L8.5 2.5l-.94 2.06-2.06.94zm10 10l.94 2.06.94-2.06 2.06-.94-2.06-.94-.94-2.06-.94 2.06-2.06.94z\"/><path d=\"M17.41 7.96l-1.37-1.37c-.4-.4-.92-.59-1.43-.59-.52 0-1.04.2-1.43.59L10.3 9.45l-7.72 7.72c-.78.78-.78 2.05 0 2.83L4 21.41c.39.39.9.59 1.41.59.51 0 1.02-.2 1.41-.59l7.78-7.78 2.81-2.81c.8-.78.8-2.07 0-2.86zM5.41 20L4 18.59l7.72-7.72 1.47 1.35L5.41 20z\"/>\n",
              "  </svg>\n",
              "      </button>\n",
              "      \n",
              "  <style>\n",
              "    .colab-df-container {\n",
              "      display:flex;\n",
              "      flex-wrap:wrap;\n",
              "      gap: 12px;\n",
              "    }\n",
              "\n",
              "    .colab-df-convert {\n",
              "      background-color: #E8F0FE;\n",
              "      border: none;\n",
              "      border-radius: 50%;\n",
              "      cursor: pointer;\n",
              "      display: none;\n",
              "      fill: #1967D2;\n",
              "      height: 32px;\n",
              "      padding: 0 0 0 0;\n",
              "      width: 32px;\n",
              "    }\n",
              "\n",
              "    .colab-df-convert:hover {\n",
              "      background-color: #E2EBFA;\n",
              "      box-shadow: 0px 1px 2px rgba(60, 64, 67, 0.3), 0px 1px 3px 1px rgba(60, 64, 67, 0.15);\n",
              "      fill: #174EA6;\n",
              "    }\n",
              "\n",
              "    [theme=dark] .colab-df-convert {\n",
              "      background-color: #3B4455;\n",
              "      fill: #D2E3FC;\n",
              "    }\n",
              "\n",
              "    [theme=dark] .colab-df-convert:hover {\n",
              "      background-color: #434B5C;\n",
              "      box-shadow: 0px 1px 3px 1px rgba(0, 0, 0, 0.15);\n",
              "      filter: drop-shadow(0px 1px 2px rgba(0, 0, 0, 0.3));\n",
              "      fill: #FFFFFF;\n",
              "    }\n",
              "  </style>\n",
              "\n",
              "      <script>\n",
              "        const buttonEl =\n",
              "          document.querySelector('#df-f23b20d8-a5f5-40cf-805c-db4147a4238a button.colab-df-convert');\n",
              "        buttonEl.style.display =\n",
              "          google.colab.kernel.accessAllowed ? 'block' : 'none';\n",
              "\n",
              "        async function convertToInteractive(key) {\n",
              "          const element = document.querySelector('#df-f23b20d8-a5f5-40cf-805c-db4147a4238a');\n",
              "          const dataTable =\n",
              "            await google.colab.kernel.invokeFunction('convertToInteractive',\n",
              "                                                     [key], {});\n",
              "          if (!dataTable) return;\n",
              "\n",
              "          const docLinkHtml = 'Like what you see? Visit the ' +\n",
              "            '<a target=\"_blank\" href=https://colab.research.google.com/notebooks/data_table.ipynb>data table notebook</a>'\n",
              "            + ' to learn more about interactive tables.';\n",
              "          element.innerHTML = '';\n",
              "          dataTable['output_type'] = 'display_data';\n",
              "          await google.colab.output.renderOutput(dataTable, element);\n",
              "          const docLink = document.createElement('div');\n",
              "          docLink.innerHTML = docLinkHtml;\n",
              "          element.appendChild(docLink);\n",
              "        }\n",
              "      </script>\n",
              "    </div>\n",
              "  </div>\n",
              "  "
            ]
          },
          "metadata": {},
          "execution_count": 6
        }
      ]
    },
    {
      "cell_type": "code",
      "source": [
        "df.isna().sum()"
      ],
      "metadata": {
        "id": "PIJmW2c4UZCa",
        "colab": {
          "base_uri": "https://localhost:8080/"
        },
        "outputId": "9ffd4dca-38f9-4d4f-b111-db664ad95a43"
      },
      "execution_count": null,
      "outputs": [
        {
          "output_type": "execute_result",
          "data": {
            "text/plain": [
              "date             0\n",
              "precipitation    0\n",
              "temp_max         0\n",
              "temp_min         0\n",
              "wind             0\n",
              "weather          0\n",
              "dtype: int64"
            ]
          },
          "metadata": {},
          "execution_count": 7
        }
      ]
    },
    {
      "cell_type": "code",
      "source": [
        "df.dtypes"
      ],
      "metadata": {
        "id": "_FG_KPtVWAOU",
        "colab": {
          "base_uri": "https://localhost:8080/"
        },
        "outputId": "1201f8f8-9ff3-44ec-b9ed-36d0d5a6c5a6"
      },
      "execution_count": null,
      "outputs": [
        {
          "output_type": "execute_result",
          "data": {
            "text/plain": [
              "date              object\n",
              "precipitation    float64\n",
              "temp_max         float64\n",
              "temp_min         float64\n",
              "wind             float64\n",
              "weather           object\n",
              "dtype: object"
            ]
          },
          "metadata": {},
          "execution_count": 8
        }
      ]
    },
    {
      "cell_type": "code",
      "source": [
        "df.hist(bins=60, figsize=(20,10))"
      ],
      "metadata": {
        "id": "FJZGd3KhWkth",
        "colab": {
          "base_uri": "https://localhost:8080/",
          "height": 670
        },
        "outputId": "065f2c86-0413-40bc-b9c5-239eca908419"
      },
      "execution_count": null,
      "outputs": [
        {
          "output_type": "execute_result",
          "data": {
            "text/plain": [
              "array([[<matplotlib.axes._subplots.AxesSubplot object at 0x7f523a21ae50>,\n",
              "        <matplotlib.axes._subplots.AxesSubplot object at 0x7f523a1fa550>],\n",
              "       [<matplotlib.axes._subplots.AxesSubplot object at 0x7f523a1ab970>,\n",
              "        <matplotlib.axes._subplots.AxesSubplot object at 0x7f523a15ad60>]],\n",
              "      dtype=object)"
            ]
          },
          "metadata": {},
          "execution_count": 9
        },
        {
          "output_type": "display_data",
          "data": {
            "text/plain": [
              "<Figure size 1440x720 with 4 Axes>"
            ],
            "image/png": "[encoded data removed]"
          },
          "metadata": {
            "needs_background": "light"
          }
        }
      ]
    },
    {
      "cell_type": "code",
      "source": [
        "df['temp_max'].value_counts()"
      ],
      "metadata": {
        "id": "R4CYApnWb-9H",
        "colab": {
          "base_uri": "https://localhost:8080/"
        },
        "outputId": "8718a423-1184-4179-99a8-a6b00a92115c"
      },
      "execution_count": null,
      "outputs": [
        {
          "output_type": "execute_result",
          "data": {
            "text/plain": [
              " 11.1    58\n",
              " 14.4    49\n",
              " 10.0    47\n",
              " 12.8    46\n",
              " 12.2    44\n",
              "         ..\n",
              "-0.5      1\n",
              "-1.6      1\n",
              " 35.6     1\n",
              "-1.1      1\n",
              " 35.0     1\n",
              "Name: temp_max, Length: 67, dtype: int64"
            ]
          },
          "metadata": {},
          "execution_count": 10
        }
      ]
    },
    {
      "cell_type": "code",
      "source": [
        "df['temp_min'].value_counts()"
      ],
      "metadata": {
        "id": "__srVazlcd08",
        "colab": {
          "base_uri": "https://localhost:8080/"
        },
        "outputId": "7c7c1c79-d591-48be-87b1-baeed1395bd1"
      },
      "execution_count": null,
      "outputs": [
        {
          "output_type": "execute_result",
          "data": {
            "text/plain": [
              " 6.1     66\n",
              " 10.0    64\n",
              " 11.7    60\n",
              " 7.2     60\n",
              " 13.3    58\n",
              " 11.1    56\n",
              " 4.4     55\n",
              " 13.9    54\n",
              " 9.4     53\n",
              " 8.3     52\n",
              " 15.0    51\n",
              " 8.9     51\n",
              " 5.6     50\n",
              " 6.7     47\n",
              " 14.4    46\n",
              " 7.8     46\n",
              " 12.2    45\n",
              " 2.8     45\n",
              " 12.8    45\n",
              " 3.3     44\n",
              " 3.9     44\n",
              " 5.0     41\n",
              " 10.6    37\n",
              " 1.7     30\n",
              " 0.6     28\n",
              " 1.1     27\n",
              " 15.6    27\n",
              " 2.2     24\n",
              " 16.1    23\n",
              " 0.0     16\n",
              " 16.7    15\n",
              " 17.2    14\n",
              " 17.8     9\n",
              "-0.5      9\n",
              "-2.1      8\n",
              "-0.6      7\n",
              "-1.1      7\n",
              "-2.8      7\n",
              "-1.7      6\n",
              " 18.3     6\n",
              "-4.9      4\n",
              "-1.6      3\n",
              "-3.2      3\n",
              "-2.2      3\n",
              "-1.0      2\n",
              "-2.7      2\n",
              "-4.3      2\n",
              "-3.9      2\n",
              "-6.6      1\n",
              "-7.1      1\n",
              "-5.5      1\n",
              "-6.0      1\n",
              "-3.3      1\n",
              "-4.4      1\n",
              "-3.8      1\n",
              "Name: temp_min, dtype: int64"
            ]
          },
          "metadata": {},
          "execution_count": 11
        }
      ]
    },
    {
      "cell_type": "code",
      "source": [
        "df['wind'].value_counts()"
      ],
      "metadata": {
        "id": "QTqLEZbSc28j",
        "colab": {
          "base_uri": "https://localhost:8080/"
        },
        "outputId": "812cd6b4-3860-4201-861b-f4aacaf358a3"
      },
      "execution_count": null,
      "outputs": [
        {
          "output_type": "execute_result",
          "data": {
            "text/plain": [
              "2.6    76\n",
              "3.0    65\n",
              "2.2    55\n",
              "2.5    51\n",
              "2.8    47\n",
              "       ..\n",
              "8.2     1\n",
              "0.4     1\n",
              "0.7     1\n",
              "6.9     1\n",
              "7.7     1\n",
              "Name: wind, Length: 79, dtype: int64"
            ]
          },
          "metadata": {},
          "execution_count": 12
        }
      ]
    },
    {
      "cell_type": "code",
      "source": [
        "df['weather'].value_counts()"
      ],
      "metadata": {
        "colab": {
          "base_uri": "https://localhost:8080/"
        },
        "id": "vgqc-5mM8-nJ",
        "outputId": "64af8b3f-622b-4ddd-ae08-ece792643a8c"
      },
      "execution_count": null,
      "outputs": [
        {
          "output_type": "execute_result",
          "data": {
            "text/plain": [
              "rain       641\n",
              "sun        640\n",
              "fog        101\n",
              "drizzle     53\n",
              "snow        26\n",
              "Name: weather, dtype: int64"
            ]
          },
          "metadata": {},
          "execution_count": 13
        }
      ]
    },
    {
      "cell_type": "code",
      "source": [
        "fig = px.bar(df, x='weather', y='temp_max')\n",
        "fig.show()"
      ],
      "metadata": {
        "colab": {
          "base_uri": "https://localhost:8080/",
          "height": 542
        },
        "id": "sQVIu6UY99ey",
        "outputId": "711d875a-af3b-4268-9435-a1dca5834ed3"
      },
      "execution_count": null,
      "outputs": [
        {
          "output_type": "display_data",
          "data": {
            "text/html": [
              "<html>\n",
              "<head><meta charset=\"utf-8\" /></head>\n",
              "<body>\n",
              "    <div>            <script src=\"https://cdnjs.cloudflare.com/ajax/libs/mathjax/2.7.5/MathJax.js?config=TeX-AMS-MML_SVG\"></script><script type=\"text/javascript\">if (window.MathJax) {MathJax.Hub.Config({SVG: {font: \"STIX-Web\"}});}</script>                <script type=\"text/javascript\">window.PlotlyConfig = {MathJaxConfig: 'local'};</script>\n",
              "        <script src=\"https://cdn.plot.ly/plotly-2.8.3.min.js\"></script>                <div id=\"41201a78-8e4a-4891-ae61-165483eda9f1\" class=\"plotly-graph-div\" style=\"height:525px; width:100%;\"></div>            <script type=\"text/javascript\">                                    window.PLOTLYENV=window.PLOTLYENV || {};                                    if (document.getElementById(\"41201a78-8e4a-4891-ae61-165483eda9f1\")) {                    Plotly.newPlot(                        \"41201a78-8e4a-4891-ae61-165483eda9f1\",                        [{\"alignmentgroup\":\"True\",\"hovertemplate\":\"weather=%{x}<br>temp_max=%{y}<extra></extra>\",\"legendgroup\":\"\",\"marker\":{\"color\":\"#636efa\",\"pattern\":{\"shape\":\"\"}},\"name\":\"\",\"offsetgroup\":\"\",\"orientation\":\"v\",\"showlegend\":false,\"textposition\":\"auto\",\"x\":[\"drizzle\",\"rain\",\"rain\",\"rain\",\"rain\",\"rain\",\"rain\",\"sun\",\"rain\",\"rain\",\"sun\",\"sun\",\"sun\",\"snow\",\"snow\",\"snow\",\"snow\",\"snow\",\"snow\",\"snow\",\"rain\",\"rain\",\"rain\",\"rain\",\"rain\",\"rain\",\"drizzle\",\"rain\",\"rain\",\"rain\",\"rain\",\"rain\",\"sun\",\"sun\",\"sun\",\"sun\",\"sun\",\"rain\",\"rain\",\"rain\",\"rain\",\"rain\",\"rain\",\"rain\",\"rain\",\"drizzle\",\"rain\",\"rain\",\"rain\",\"sun\",\"rain\",\"rain\",\"rain\",\"sun\",\"rain\",\"rain\",\"snow\",\"sun\",\"snow\",\"snow\",\"sun\",\"rain\",\"sun\",\"rain\",\"rain\",\"snow\",\"sun\",\"sun\",\"rain\",\"rain\",\"rain\",\"snow\",\"snow\",\"rain\",\"snow\",\"rain\",\"snow\",\"rain\",\"rain\",\"rain\",\"rain\",\"rain\",\"sun\",\"sun\",\"rain\",\"drizzle\",\"rain\",\"rain\",\"rain\",\"rain\",\"rain\",\"rain\",\"sun\",\"rain\",\"sun\",\"snow\",\"rain\",\"sun\",\"sun\",\"sun\",\"rain\",\"rain\",\"rain\",\"drizzle\",\"sun\",\"rain\",\"rain\",\"rain\",\"rain\",\"rain\",\"rain\",\"sun\",\"rain\",\"sun\",\"rain\",\"rain\",\"rain\",\"rain\",\"drizzle\",\"rain\",\"rain\",\"rain\",\"rain\",\"rain\",\"rain\",\"sun\",\"sun\",\"sun\",\"sun\",\"rain\",\"sun\",\"sun\",\"sun\",\"sun\",\"sun\",\"drizzle\",\"sun\",\"rain\",\"rain\",\"sun\",\"rain\",\"rain\",\"rain\",\"rain\",\"rain\",\"rain\",\"sun\",\"sun\",\"rain\",\"sun\",\"rain\",\"rain\",\"rain\",\"rain\",\"sun\",\"rain\",\"rain\",\"sun\",\"rain\",\"rain\",\"rain\",\"sun\",\"rain\",\"rain\",\"sun\",\"sun\",\"sun\",\"rain\",\"sun\",\"rain\",\"rain\",\"sun\",\"sun\",\"rain\",\"rain\",\"drizzle\",\"rain\",\"rain\",\"sun\",\"rain\",\"rain\",\"rain\",\"rain\",\"rain\",\"rain\",\"sun\",\"drizzle\",\"sun\",\"sun\",\"rain\",\"rain\",\"drizzle\",\"fog\",\"drizzle\",\"rain\",\"rain\",\"rain\",\"rain\",\"sun\",\"sun\",\"sun\",\"rain\",\"sun\",\"rain\",\"rain\",\"sun\",\"sun\",\"drizzle\",\"drizzle\",\"drizzle\",\"sun\",\"sun\",\"sun\",\"drizzle\",\"sun\",\"sun\",\"sun\",\"sun\",\"rain\",\"drizzle\",\"sun\",\"drizzle\",\"sun\",\"sun\",\"sun\",\"sun\",\"sun\",\"sun\",\"sun\",\"sun\",\"drizzle\",\"drizzle\",\"sun\",\"rain\",\"sun\",\"sun\",\"sun\",\"sun\",\"sun\",\"sun\",\"sun\",\"sun\",\"sun\",\"sun\",\"sun\",\"sun\",\"sun\",\"sun\",\"sun\",\"sun\",\"sun\",\"sun\",\"rain\",\"rain\",\"sun\",\"sun\",\"sun\",\"sun\",\"sun\",\"sun\",\"fog\",\"sun\",\"drizzle\",\"drizzle\",\"drizzle\",\"rain\",\"fog\",\"fog\",\"sun\",\"drizzle\",\"drizzle\",\"rain\",\"sun\",\"sun\",\"sun\",\"sun\",\"sun\",\"sun\",\"sun\",\"sun\",\"sun\",\"sun\",\"drizzle\",\"drizzle\",\"drizzle\",\"rain\",\"rain\",\"rain\",\"rain\",\"sun\",\"sun\",\"rain\",\"rain\",\"rain\",\"rain\",\"rain\",\"rain\",\"rain\",\"sun\",\"rain\",\"rain\",\"rain\",\"rain\",\"rain\",\"rain\",\"rain\",\"rain\",\"rain\",\"rain\",\"rain\",\"rain\",\"rain\",\"rain\",\"rain\",\"sun\",\"rain\",\"rain\",\"rain\",\"rain\",\"drizzle\",\"rain\",\"rain\",\"rain\",\"rain\",\"rain\",\"rain\",\"rain\",\"rain\",\"rain\",\"drizzle\",\"fog\",\"sun\",\"rain\",\"rain\",\"rain\",\"rain\",\"rain\",\"rain\",\"rain\",\"rain\",\"rain\",\"rain\",\"sun\",\"rain\",\"rain\",\"rain\",\"rain\",\"rain\",\"rain\",\"snow\",\"snow\",\"rain\",\"snow\",\"snow\",\"rain\",\"rain\",\"rain\",\"rain\",\"rain\",\"snow\",\"rain\",\"rain\",\"rain\",\"rain\",\"drizzle\",\"drizzle\",\"sun\",\"sun\",\"rain\",\"rain\",\"rain\",\"rain\",\"rain\",\"rain\",\"rain\",\"snow\",\"drizzle\",\"sun\",\"sun\",\"sun\",\"sun\",\"drizzle\",\"drizzle\",\"drizzle\",\"drizzle\",\"drizzle\",\"drizzle\",\"drizzle\",\"rain\",\"rain\",\"rain\",\"rain\",\"rain\",\"rain\",\"rain\",\"rain\",\"rain\",\"rain\",\"drizzle\",\"rain\",\"rain\",\"rain\",\"rain\",\"rain\",\"sun\",\"rain\",\"drizzle\",\"rain\",\"rain\",\"rain\",\"rain\",\"drizzle\",\"rain\",\"rain\",\"rain\",\"sun\",\"rain\",\"rain\",\"rain\",\"rain\",\"rain\",\"rain\",\"rain\",\"rain\",\"rain\",\"rain\",\"rain\",\"sun\",\"sun\",\"rain\",\"rain\",\"rain\",\"drizzle\",\"fog\",\"rain\",\"rain\",\"rain\",\"rain\",\"rain\",\"rain\",\"rain\",\"sun\",\"rain\",\"rain\",\"rain\",\"snow\",\"sun\",\"sun\",\"sun\",\"sun\",\"sun\",\"rain\",\"rain\",\"rain\",\"drizzle\",\"sun\",\"sun\",\"sun\",\"sun\",\"rain\",\"rain\",\"rain\",\"rain\",\"rain\",\"sun\",\"rain\",\"rain\",\"rain\",\"rain\",\"rain\",\"fog\",\"rain\",\"drizzle\",\"rain\",\"rain\",\"sun\",\"rain\",\"sun\",\"sun\",\"sun\",\"sun\",\"fog\",\"sun\",\"rain\",\"rain\",\"sun\",\"sun\",\"sun\",\"sun\",\"sun\",\"sun\",\"sun\",\"sun\",\"sun\",\"sun\",\"sun\",\"sun\",\"rain\",\"rain\",\"sun\",\"rain\",\"fog\",\"rain\",\"sun\",\"sun\",\"sun\",\"rain\",\"rain\",\"rain\",\"rain\",\"sun\",\"rain\",\"rain\",\"rain\",\"rain\",\"sun\",\"sun\",\"sun\",\"rain\",\"sun\",\"sun\",\"sun\",\"sun\",\"sun\",\"sun\",\"sun\",\"sun\",\"sun\",\"rain\",\"sun\",\"sun\",\"sun\",\"sun\",\"sun\",\"rain\",\"sun\",\"rain\",\"rain\",\"sun\",\"rain\",\"rain\",\"rain\",\"rain\",\"rain\",\"sun\",\"sun\",\"sun\",\"sun\",\"sun\",\"sun\",\"fog\",\"sun\",\"sun\",\"sun\",\"sun\",\"sun\",\"sun\",\"sun\",\"sun\",\"sun\",\"sun\",\"sun\",\"sun\",\"sun\",\"sun\",\"sun\",\"sun\",\"sun\",\"fog\",\"sun\",\"sun\",\"sun\",\"sun\",\"sun\",\"fog\",\"sun\",\"sun\",\"sun\",\"sun\",\"rain\",\"fog\",\"sun\",\"sun\",\"sun\",\"sun\",\"sun\",\"sun\",\"rain\",\"sun\",\"sun\",\"sun\",\"rain\",\"rain\",\"fog\",\"sun\",\"sun\",\"sun\",\"sun\",\"sun\",\"sun\",\"sun\",\"sun\",\"rain\",\"rain\",\"rain\",\"rain\",\"rain\",\"sun\",\"sun\",\"sun\",\"sun\",\"rain\",\"rain\",\"rain\",\"rain\",\"sun\",\"fog\",\"sun\",\"sun\",\"sun\",\"sun\",\"sun\",\"fog\",\"rain\",\"rain\",\"sun\",\"sun\",\"sun\",\"rain\",\"sun\",\"rain\",\"rain\",\"sun\",\"rain\",\"sun\",\"rain\",\"rain\",\"rain\",\"rain\",\"rain\",\"rain\",\"rain\",\"sun\",\"sun\",\"rain\",\"rain\",\"rain\",\"sun\",\"rain\",\"rain\",\"rain\",\"fog\",\"sun\",\"sun\",\"fog\",\"fog\",\"sun\",\"sun\",\"sun\",\"sun\",\"sun\",\"sun\",\"sun\",\"sun\",\"sun\",\"rain\",\"sun\",\"sun\",\"rain\",\"rain\",\"rain\",\"rain\",\"rain\",\"drizzle\",\"rain\",\"rain\",\"rain\",\"sun\",\"rain\",\"sun\",\"fog\",\"rain\",\"sun\",\"rain\",\"rain\",\"sun\",\"rain\",\"rain\",\"rain\",\"sun\",\"sun\",\"sun\",\"sun\",\"fog\",\"sun\",\"sun\",\"sun\",\"sun\",\"rain\",\"rain\",\"rain\",\"rain\",\"sun\",\"sun\",\"sun\",\"sun\",\"sun\",\"sun\",\"sun\",\"sun\",\"sun\",\"rain\",\"rain\",\"sun\",\"rain\",\"rain\",\"sun\",\"rain\",\"sun\",\"snow\",\"rain\",\"rain\",\"rain\",\"sun\",\"sun\",\"sun\",\"rain\",\"sun\",\"sun\",\"rain\",\"rain\",\"sun\",\"rain\",\"rain\",\"fog\",\"sun\",\"rain\",\"rain\",\"rain\",\"rain\",\"rain\",\"rain\",\"rain\",\"sun\",\"sun\",\"sun\",\"sun\",\"sun\",\"sun\",\"sun\",\"sun\",\"sun\",\"rain\",\"fog\",\"sun\",\"sun\",\"sun\",\"sun\",\"rain\",\"rain\",\"sun\",\"rain\",\"rain\",\"sun\",\"sun\",\"sun\",\"sun\",\"sun\",\"sun\",\"snow\",\"rain\",\"rain\",\"rain\",\"rain\",\"rain\",\"rain\",\"rain\",\"rain\",\"rain\",\"rain\",\"rain\",\"rain\",\"rain\",\"rain\",\"rain\",\"rain\",\"rain\",\"sun\",\"sun\",\"sun\",\"rain\",\"rain\",\"rain\",\"rain\",\"rain\",\"rain\",\"sun\",\"rain\",\"rain\",\"rain\",\"fog\",\"fog\",\"rain\",\"rain\",\"rain\",\"rain\",\"rain\",\"sun\",\"rain\",\"sun\",\"sun\",\"sun\",\"sun\",\"sun\",\"rain\",\"rain\",\"rain\",\"rain\",\"rain\",\"sun\",\"sun\",\"sun\",\"sun\",\"rain\",\"sun\",\"rain\",\"sun\",\"sun\",\"rain\",\"sun\",\"sun\",\"sun\",\"sun\",\"sun\",\"sun\",\"rain\",\"rain\",\"rain\",\"sun\",\"rain\",\"sun\",\"rain\",\"rain\",\"rain\",\"rain\",\"sun\",\"rain\",\"rain\",\"sun\",\"sun\",\"sun\",\"sun\",\"sun\",\"rain\",\"rain\",\"rain\",\"sun\",\"sun\",\"rain\",\"rain\",\"rain\",\"sun\",\"sun\",\"sun\",\"sun\",\"sun\",\"sun\",\"sun\",\"sun\",\"sun\",\"sun\",\"sun\",\"sun\",\"rain\",\"sun\",\"rain\",\"sun\",\"sun\",\"sun\",\"sun\",\"sun\",\"sun\",\"sun\",\"sun\",\"sun\",\"sun\",\"sun\",\"sun\",\"sun\",\"sun\",\"sun\",\"sun\",\"sun\",\"rain\",\"rain\",\"sun\",\"rain\",\"rain\",\"rain\",\"sun\",\"rain\",\"rain\",\"sun\",\"sun\",\"sun\",\"sun\",\"sun\",\"sun\",\"rain\",\"rain\",\"sun\",\"sun\",\"sun\",\"sun\",\"sun\",\"sun\",\"fog\",\"sun\",\"fog\",\"sun\",\"sun\",\"fog\",\"sun\",\"sun\",\"sun\",\"sun\",\"sun\",\"sun\",\"sun\",\"sun\",\"fog\",\"sun\",\"sun\",\"rain\",\"rain\",\"sun\",\"sun\",\"sun\",\"sun\",\"sun\",\"sun\",\"sun\",\"sun\",\"sun\",\"rain\",\"sun\",\"sun\",\"sun\",\"fog\",\"fog\",\"sun\",\"sun\",\"sun\",\"rain\",\"rain\",\"rain\",\"sun\",\"rain\",\"sun\",\"sun\",\"sun\",\"sun\",\"sun\",\"sun\",\"sun\",\"sun\",\"sun\",\"sun\",\"sun\",\"sun\",\"sun\",\"sun\",\"rain\",\"rain\",\"sun\",\"rain\",\"sun\",\"fog\",\"fog\",\"sun\",\"sun\",\"sun\",\"sun\",\"sun\",\"sun\",\"sun\",\"sun\",\"sun\",\"sun\",\"sun\",\"rain\",\"rain\",\"sun\",\"fog\",\"sun\",\"rain\",\"rain\",\"rain\",\"rain\",\"rain\",\"fog\",\"fog\",\"rain\",\"sun\",\"sun\",\"sun\",\"sun\",\"sun\",\"fog\",\"fog\",\"fog\",\"fog\",\"fog\",\"rain\",\"rain\",\"sun\",\"rain\",\"rain\",\"rain\",\"sun\",\"rain\",\"rain\",\"sun\",\"rain\",\"rain\",\"rain\",\"rain\",\"rain\",\"rain\",\"rain\",\"rain\",\"rain\",\"rain\",\"rain\",\"rain\",\"fog\",\"rain\",\"rain\",\"rain\",\"rain\",\"rain\",\"sun\",\"fog\",\"rain\",\"sun\",\"sun\",\"sun\",\"sun\",\"sun\",\"sun\",\"sun\",\"sun\",\"sun\",\"sun\",\"rain\",\"rain\",\"rain\",\"rain\",\"rain\",\"rain\",\"rain\",\"rain\",\"rain\",\"snow\",\"sun\",\"sun\",\"fog\",\"sun\",\"rain\",\"rain\",\"rain\",\"sun\",\"rain\",\"rain\",\"rain\",\"rain\",\"sun\",\"fog\",\"fog\",\"sun\",\"sun\",\"rain\",\"rain\",\"rain\",\"rain\",\"sun\",\"sun\",\"rain\",\"rain\",\"fog\",\"fog\",\"rain\",\"rain\",\"fog\",\"sun\",\"sun\",\"sun\",\"rain\",\"fog\",\"rain\",\"rain\",\"fog\",\"fog\",\"fog\",\"rain\",\"rain\",\"rain\",\"fog\",\"fog\",\"fog\",\"rain\",\"fog\",\"rain\",\"rain\",\"rain\",\"fog\",\"fog\",\"rain\",\"rain\",\"rain\",\"fog\",\"fog\",\"rain\",\"fog\",\"sun\",\"fog\",\"fog\",\"rain\",\"rain\",\"rain\",\"rain\",\"rain\",\"rain\",\"rain\",\"rain\",\"rain\",\"rain\",\"fog\",\"rain\",\"fog\",\"rain\",\"sun\",\"fog\",\"sun\",\"sun\",\"rain\",\"rain\",\"sun\",\"sun\",\"sun\",\"sun\",\"rain\",\"rain\",\"rain\",\"sun\",\"sun\",\"sun\",\"sun\",\"sun\",\"sun\",\"sun\",\"fog\",\"fog\",\"fog\",\"rain\",\"rain\",\"sun\",\"rain\",\"rain\",\"rain\",\"rain\",\"rain\",\"sun\",\"sun\",\"rain\",\"rain\",\"rain\",\"rain\",\"rain\",\"rain\",\"sun\",\"rain\",\"sun\",\"sun\",\"rain\",\"rain\",\"rain\",\"sun\",\"rain\",\"sun\",\"sun\",\"rain\",\"rain\",\"sun\",\"sun\",\"rain\",\"sun\",\"sun\",\"rain\",\"rain\",\"sun\",\"sun\",\"sun\",\"sun\",\"sun\",\"sun\",\"rain\",\"sun\",\"rain\",\"rain\",\"rain\",\"fog\",\"rain\",\"rain\",\"sun\",\"sun\",\"sun\",\"sun\",\"sun\",\"sun\",\"rain\",\"fog\",\"sun\",\"sun\",\"sun\",\"sun\",\"fog\",\"rain\",\"rain\",\"rain\",\"fog\",\"sun\",\"sun\",\"sun\",\"sun\",\"fog\",\"sun\",\"sun\",\"sun\",\"sun\",\"sun\",\"sun\",\"sun\",\"sun\",\"sun\",\"sun\",\"sun\",\"rain\",\"rain\",\"sun\",\"sun\",\"sun\",\"sun\",\"sun\",\"sun\",\"sun\",\"sun\",\"sun\",\"sun\",\"sun\",\"sun\",\"drizzle\",\"sun\",\"sun\",\"sun\",\"rain\",\"sun\",\"sun\",\"sun\",\"sun\",\"sun\",\"sun\",\"sun\",\"sun\",\"rain\",\"sun\",\"fog\",\"sun\",\"sun\",\"sun\",\"sun\",\"sun\",\"drizzle\",\"sun\",\"drizzle\",\"sun\",\"sun\",\"sun\",\"sun\",\"sun\",\"sun\",\"sun\",\"sun\",\"sun\",\"sun\",\"sun\",\"sun\",\"sun\",\"sun\",\"sun\",\"rain\",\"fog\",\"rain\",\"fog\",\"sun\",\"sun\",\"sun\",\"sun\",\"sun\",\"sun\",\"sun\",\"fog\",\"sun\",\"sun\",\"sun\",\"fog\",\"sun\",\"sun\",\"sun\",\"rain\",\"sun\",\"rain\",\"sun\",\"sun\",\"sun\",\"sun\",\"drizzle\",\"rain\",\"sun\",\"drizzle\",\"drizzle\",\"sun\",\"sun\",\"sun\",\"sun\",\"rain\",\"rain\",\"rain\",\"sun\",\"rain\",\"sun\",\"sun\",\"sun\",\"rain\",\"rain\",\"rain\",\"sun\",\"sun\",\"fog\",\"sun\",\"sun\",\"rain\",\"sun\",\"sun\",\"rain\",\"rain\",\"sun\",\"sun\",\"rain\",\"fog\",\"sun\",\"sun\",\"fog\",\"rain\",\"sun\",\"sun\",\"sun\",\"sun\",\"fog\",\"fog\",\"fog\",\"sun\",\"sun\",\"sun\",\"drizzle\",\"rain\",\"fog\",\"rain\",\"rain\",\"sun\",\"rain\",\"rain\",\"fog\",\"fog\",\"sun\",\"rain\",\"rain\",\"rain\",\"fog\",\"fog\",\"fog\",\"fog\",\"fog\",\"rain\",\"rain\",\"fog\",\"rain\",\"rain\",\"rain\",\"rain\",\"rain\",\"rain\",\"rain\",\"sun\",\"rain\",\"fog\",\"rain\",\"rain\",\"rain\",\"rain\",\"rain\",\"rain\",\"rain\",\"rain\",\"rain\",\"rain\",\"rain\",\"rain\",\"rain\",\"fog\",\"sun\",\"fog\",\"rain\",\"rain\",\"sun\",\"sun\",\"sun\",\"sun\",\"fog\",\"rain\",\"rain\",\"rain\",\"rain\",\"rain\",\"rain\",\"rain\",\"rain\",\"rain\",\"rain\",\"rain\",\"rain\",\"rain\",\"rain\",\"sun\",\"rain\",\"rain\",\"rain\",\"rain\",\"fog\",\"rain\",\"rain\",\"rain\",\"rain\",\"rain\",\"rain\",\"sun\",\"rain\",\"rain\",\"fog\",\"sun\",\"sun\"],\"xaxis\":\"x\",\"y\":[12.8,10.6,11.7,12.2,8.9,4.4,7.2,10.0,9.4,6.1,6.1,6.1,5.0,4.4,1.1,1.7,3.3,0.0,-1.1,7.2,8.3,6.7,8.3,10.0,8.9,8.9,6.7,6.7,9.4,8.3,9.4,8.9,8.3,14.4,15.6,13.9,16.1,15.6,10.0,11.1,12.8,8.9,8.3,7.2,6.7,7.2,7.2,10.0,6.7,6.7,7.8,10.0,10.0,8.3,6.7,7.2,5.0,6.7,6.7,5.0,6.1,6.7,12.2,10.6,7.8,6.7,8.9,15.6,9.4,7.2,6.7,8.3,5.6,7.8,11.1,8.9,10.0,5.0,7.2,7.8,8.9,10.0,12.2,15.0,13.3,12.8,14.4,10.6,10.0,9.4,10.0,8.9,16.7,11.7,10.6,9.4,11.1,16.1,21.1,20.0,17.8,11.1,13.9,15.0,15.6,16.1,13.3,10.0,13.3,13.9,13.3,20.0,23.3,21.7,13.9,16.7,13.9,13.3,16.1,15.6,12.8,11.7,13.3,11.1,12.2,13.3,17.8,23.9,18.3,13.3,14.4,18.3,24.4,25.6,26.7,24.4,19.4,17.8,15.6,19.4,14.4,16.7,12.8,14.4,17.2,22.2,22.2,17.2,16.7,16.1,18.9,17.8,20.0,18.9,17.2,12.8,13.3,16.1,16.1,15.0,17.2,18.9,23.3,18.3,16.1,17.2,22.2,21.1,18.9,17.2,19.4,24.4,23.9,13.9,15.6,19.4,19.4,18.3,22.8,22.2,21.7,20.0,20.0,18.9,18.3,20.6,24.4,25.0,26.7,28.3,25.0,23.9,27.8,25.6,23.3,25.0,18.9,26.1,21.7,21.1,25.0,19.4,23.9,20.6,18.9,23.3,26.7,25.6,18.9,22.2,22.8,19.4,22.8,23.9,23.3,27.2,33.9,33.9,28.3,21.1,22.2,24.4,25.6,28.3,30.6,30.6,28.9,31.1,34.4,32.8,21.7,23.3,25.6,23.3,22.2,21.1,22.2,26.1,21.1,23.9,22.8,22.8,22.8,22.2,21.7,21.1,22.8,24.4,26.1,28.3,32.2,25.0,18.9,20.0,20.0,22.2,27.8,26.1,22.2,24.4,27.8,27.8,23.9,19.4,16.1,19.4,19.4,21.1,19.4,19.4,22.8,25.0,20.6,21.1,23.3,17.8,18.9,18.9,21.7,23.9,23.9,21.1,16.1,12.2,13.9,13.9,15.6,17.8,17.2,16.1,14.4,17.8,15.0,11.1,11.7,7.8,11.1,11.7,11.7,11.1,14.4,14.4,15.6,15.0,15.6,15.0,15.0,15.6,17.8,15.0,12.8,12.2,10.0,8.9,7.8,8.9,12.8,11.1,11.1,9.4,9.4,12.2,10.0,13.3,11.1,8.3,8.9,9.4,8.9,8.3,9.4,10.0,9.4,12.8,15.0,13.3,8.3,9.4,11.7,8.9,7.2,7.8,6.7,6.7,7.2,7.8,6.7,7.2,6.1,4.4,6.7,8.3,3.9,8.3,7.2,8.3,8.3,7.2,5.6,5.6,6.7,7.8,8.3,5.0,4.4,3.3,5.0,6.1,6.7,10.0,6.7,7.2,10.0,11.7,10.0,3.3,2.8,2.8,2.2,3.3,6.7,6.1,3.9,3.3,1.1,3.3,2.2,3.3,7.2,7.2,10.6,8.3,5.6,6.1,8.3,8.9,9.4,11.7,6.1,8.9,10.6,10.0,10.6,9.4,7.8,8.3,8.9,8.3,11.1,9.4,9.4,13.3,11.1,9.4,7.8,10.6,7.8,6.7,7.8,10.0,8.9,10.6,8.9,10.0,11.7,15.0,13.9,11.1,13.3,9.4,7.2,12.2,11.7,12.8,7.8,10.6,12.8,11.7,11.7,14.4,10.6,8.9,11.7,12.8,11.1,10.0,9.4,10.0,12.2,16.7,16.7,13.3,16.1,18.3,20.0,20.6,17.2,13.9,16.7,14.4,13.9,12.2,8.3,13.3,12.2,15.0,12.2,7.8,10.6,12.8,13.9,13.9,15.0,11.7,13.3,13.9,12.2,16.1,17.8,21.1,21.7,20.6,13.9,15.0,13.9,12.8,18.3,20.6,21.7,25.0,28.9,30.6,20.6,19.4,22.8,26.1,27.2,21.7,18.9,18.3,17.2,21.7,17.2,16.7,18.3,19.4,15.6,11.1,12.2,16.7,17.8,18.3,16.7,17.2,16.1,16.7,19.4,22.8,20.6,22.2,26.1,26.7,26.7,21.7,20.6,20.6,21.7,20.0,20.6,21.1,20.0,25.6,23.9,25.6,23.3,20.0,17.2,20.6,25.6,22.2,21.1,23.3,22.2,21.1,30.6,30.0,33.9,31.7,28.3,26.1,21.7,23.3,26.1,23.9,26.7,30.0,22.2,22.8,19.4,26.1,27.8,27.8,31.1,22.2,26.1,27.8,25.0,23.9,26.1,31.1,31.1,31.1,31.1,25.6,21.1,25.0,25.0,21.7,20.6,17.2,25.0,28.9,30.0,30.6,31.1,28.3,28.3,25.6,25.0,25.6,27.8,27.2,21.1,28.9,25.6,26.1,26.7,25.6,27.8,28.9,25.0,25.0,22.2,24.4,26.7,26.7,23.9,26.1,27.8,27.8,27.8,25.0,22.8,20.0,21.7,23.3,26.7,26.1,26.7,33.9,25.6,18.9,21.7,18.9,21.7,17.8,21.1,25.6,23.3,21.1,17.2,16.1,17.8,16.1,17.2,13.9,16.7,14.4,13.9,14.4,12.8,14.4,17.8,20.0,22.8,16.1,13.9,15.0,14.4,13.9,14.4,15.0,15.6,15.6,12.8,14.4,12.8,10.6,10.6,11.7,14.4,12.8,10.0,12.2,11.7,13.9,14.4,13.3,15.0,14.4,17.8,14.4,12.2,10.6,13.3,12.8,11.1,13.3,11.1,11.1,16.1,15.6,13.9,11.1,10.6,10.0,11.7,12.8,13.3,7.8,7.8,9.4,11.1,11.7,12.2,12.2,14.4,11.7,9.4,11.1,13.3,7.8,5.0,4.4,1.1,1.1,0.0,2.2,1.1,5.6,5.0,5.6,9.4,9.4,11.7,10.0,8.3,7.8,5.0,8.3,8.9,10.6,11.7,8.3,6.7,6.7,8.9,9.4,7.2,8.9,8.3,7.2,10.6,8.9,7.8,8.3,7.8,8.3,10.0,9.4,12.8,14.4,11.1,10.6,11.1,11.1,6.7,5.6,9.4,6.1,10.0,10.0,9.4,10.0,12.8,12.2,8.3,9.4,11.1,11.1,8.3,7.8,7.8,8.9,5.0,2.8,-0.5,-1.6,3.3,5.6,3.9,10.0,12.2,12.2,12.8,11.7,11.1,9.4,8.3,8.9,8.3,10.0,6.7,5.6,7.2,6.7,12.2,13.9,12.8,14.4,7.2,11.1,14.4,13.9,15.6,13.3,15.6,12.8,15.0,12.2,14.4,16.1,13.9,14.4,16.7,10.6,10.0,10.0,11.1,11.1,10.6,11.1,12.8,18.9,13.9,11.1,12.2,11.7,11.7,11.1,15.6,14.4,14.4,13.3,12.8,11.7,13.9,21.1,15.6,14.4,15.0,17.2,16.1,20.6,20.0,14.4,11.1,11.7,14.4,11.7,15.6,17.2,12.2,11.7,13.9,14.4,15.0,11.1,16.1,25.0,27.8,29.4,18.3,15.0,14.4,15.6,16.7,18.3,13.9,13.3,15.6,18.9,24.4,26.7,27.8,26.7,20.0,20.0,20.0,21.1,22.2,20.0,24.4,20.0,18.3,15.0,18.3,20.0,18.9,18.9,20.6,23.3,22.2,23.3,18.3,19.4,22.2,25.0,24.4,23.3,21.1,20.0,23.9,21.7,15.6,17.8,18.3,17.8,17.8,18.9,25.6,20.0,22.2,25.0,25.0,24.4,26.1,21.1,21.1,20.0,20.6,25.6,34.4,27.2,21.7,23.9,24.4,28.9,27.2,30.0,26.7,28.9,31.1,32.2,29.4,27.8,31.1,31.1,26.7,23.9,25.6,19.4,23.9,21.1,18.9,20.6,22.8,26.1,28.3,30.6,30.0,29.4,30.6,28.9,29.4,31.7,32.8,25.0,26.1,25.6,25.6,27.2,30.6,35.6,27.2,23.3,21.1,24.4,25.6,27.8,29.4,27.2,21.7,21.1,23.9,27.8,25.0,28.9,31.1,28.9,23.3,22.8,17.8,21.1,23.3,20.0,20.6,23.9,27.8,32.2,28.3,21.1,21.7,22.2,24.4,24.4,28.3,30.0,30.6,22.2,22.8,19.4,23.9,24.4,26.1,22.2,18.9,18.9,21.7,20.0,20.6,18.9,16.7,19.4,18.3,19.4,22.2,21.7,23.9,25.6,18.9,20.6,17.2,18.3,18.3,17.8,21.1,16.7,16.1,20.6,16.7,19.4,22.2,16.1,16.1,15.6,14.4,14.4,16.7,12.8,15.6,15.0,16.7,15.6,12.8,11.1,13.3,13.9,14.4,15.0,16.7,14.4,12.8,13.3,11.1,7.8,6.7,7.2,7.2,8.3,9.4,10.6,7.2,11.1,11.1,11.1,9.4,12.8,11.7,13.9,15.0,14.4,12.8,4.4,2.8,4.4,5.6,10.0,8.3,12.8,11.7,14.4,14.4,16.1,18.9,14.4,11.1,10.0,12.8,12.2,10.0,8.9,9.4,11.1,12.8,12.8,10.6,12.2,7.2,7.8,5.6,9.4,6.7,6.1,3.3,3.3,5.6,5.6,5.0,10.6,12.2,12.2,7.8,7.8,10.0,7.8,9.4,11.1,9.4,6.1,7.8,11.7,13.3,13.9,10.0,10.0,7.2,9.4,12.2,14.4,17.2,16.1,11.1,12.2,12.2,8.3,7.2,9.4,11.1,10.0,10.6,13.3,14.4,12.2,15.0,13.3,12.8,12.8,16.7,15.6,14.4,12.2,15.0,16.1,12.2,10.6,11.1,12.2,11.7,12.8,11.1,10.0,11.7,10.0,12.2,11.1,11.1,10.6,12.8,13.3,15.0,16.7,17.2,14.4,13.3,14.4,17.8,17.2,13.9,10.6,13.9,13.3,15.6,15.6,13.9,13.3,11.7,11.1,12.8,14.4,20.6,18.3,15.6,15.6,17.8,12.8,12.8,13.3,11.1,12.8,16.7,13.9,14.4,17.2,17.2,13.9,11.7,13.3,11.7,11.7,13.9,17.8,18.9,18.9,21.1,22.8,17.2,15.6,12.2,12.2,13.3,15.6,25.0,15.6,16.1,17.2,18.3,18.3,20.6,17.2,14.4,16.7,20.6,23.9,26.7,19.4,13.9,15.6,12.2,17.8,20.0,15.6,19.4,25.6,21.7,23.3,25.6,16.7,16.1,17.8,15.6,21.7,24.4,27.8,26.1,22.8,25.0,16.1,17.8,20.0,22.8,26.7,29.4,31.1,30.6,28.9,25.6,24.4,20.0,23.9,27.8,30.0,22.8,25.0,24.4,23.9,25.0,25.6,25.0,26.1,25.6,30.6,31.7,33.3,28.3,28.9,30.6,32.2,33.9,33.3,33.3,32.8,29.4,27.2,30.0,28.9,21.1,22.2,26.1,25.6,27.8,26.1,26.1,27.8,33.3,35.0,26.7,23.9,23.9,26.1,22.8,21.1,22.2,23.3,27.8,32.2,34.4,34.4,33.3,30.6,28.3,26.1,23.3,25.0,28.3,25.0,28.3,28.9,30.0,28.3,28.3,18.3,21.7,25.0,27.2,30.0,31.7,22.8,22.2,26.7,27.8,23.9,25.6,28.3,29.4,23.3,22.2,20.0,18.9,19.4,19.4,18.3,18.3,20.6,16.1,21.1,22.8,24.4,25.0,27.2,26.7,20.6,16.7,17.8,20.0,18.3,19.4,21.1,22.8,18.3,18.9,20.6,22.2,15.6,18.3,17.8,21.1,21.7,18.3,21.1,15.6,19.4,22.8,23.3,18.3,16.1,18.9,19.4,21.1,17.8,18.3,16.7,15.0,21.1,20.0,19.4,15.0,17.2,17.8,16.1,16.1,12.8,15.0,19.4,12.2,16.1,13.9,15.0,17.2,15.6,12.2,11.1,10.6,10.0,11.7,15.6,12.2,11.1,10.0,11.1,11.1,11.1,13.3,9.4,8.9,8.9,13.3,8.9,8.9,8.3,8.9,10.0,6.7,6.7,7.2,9.4,9.4,7.2,1.7,5.6,10.0,10.6,15.6,10.6,10.0,12.8,11.1,15.6,12.2,11.7,9.4,8.9,7.8,7.8,6.7,6.1,6.7,8.9,8.3,7.8,5.6,7.8,5.0,5.6,5.0,4.4,4.4,5.0,7.2,5.6,5.6],\"yaxis\":\"y\",\"type\":\"bar\"}],                        {\"template\":{\"data\":{\"bar\":[{\"error_x\":{\"color\":\"#2a3f5f\"},\"error_y\":{\"color\":\"#2a3f5f\"},\"marker\":{\"line\":{\"color\":\"#E5ECF6\",\"width\":0.5},\"pattern\":{\"fillmode\":\"overlay\",\"size\":10,\"solidity\":0.2}},\"type\":\"bar\"}],\"barpolar\":[{\"marker\":{\"line\":{\"color\":\"#E5ECF6\",\"width\":0.5},\"pattern\":{\"fillmode\":\"overlay\",\"size\":10,\"solidity\":0.2}},\"type\":\"barpolar\"}],\"carpet\":[{\"aaxis\":{\"endlinecolor\":\"#2a3f5f\",\"gridcolor\":\"white\",\"linecolor\":\"white\",\"minorgridcolor\":\"white\",\"startlinecolor\":\"#2a3f5f\"},\"baxis\":{\"endlinecolor\":\"#2a3f5f\",\"gridcolor\":\"white\",\"linecolor\":\"white\",\"minorgridcolor\":\"white\",\"startlinecolor\":\"#2a3f5f\"},\"type\":\"carpet\"}],\"choropleth\":[{\"colorbar\":{\"outlinewidth\":0,\"ticks\":\"\"},\"type\":\"choropleth\"}],\"contour\":[{\"colorbar\":{\"outlinewidth\":0,\"ticks\":\"\"},\"colorscale\":[[0.0,\"#0d0887\"],[0.1111111111111111,\"#46039f\"],[0.2222222222222222,\"#7201a8\"],[0.3333333333333333,\"#9c179e\"],[0.4444444444444444,\"#bd3786\"],[0.5555555555555556,\"#d8576b\"],[0.6666666666666666,\"#ed7953\"],[0.7777777777777778,\"#fb9f3a\"],[0.8888888888888888,\"#fdca26\"],[1.0,\"#f0f921\"]],\"type\":\"contour\"}],\"contourcarpet\":[{\"colorbar\":{\"outlinewidth\":0,\"ticks\":\"\"},\"type\":\"contourcarpet\"}],\"heatmap\":[{\"colorbar\":{\"outlinewidth\":0,\"ticks\":\"\"},\"colorscale\":[[0.0,\"#0d0887\"],[0.1111111111111111,\"#46039f\"],[0.2222222222222222,\"#7201a8\"],[0.3333333333333333,\"#9c179e\"],[0.4444444444444444,\"#bd3786\"],[0.5555555555555556,\"#d8576b\"],[0.6666666666666666,\"#ed7953\"],[0.7777777777777778,\"#fb9f3a\"],[0.8888888888888888,\"#fdca26\"],[1.0,\"#f0f921\"]],\"type\":\"heatmap\"}],\"heatmapgl\":[{\"colorbar\":{\"outlinewidth\":0,\"ticks\":\"\"},\"colorscale\":[[0.0,\"#0d0887\"],[0.1111111111111111,\"#46039f\"],[0.2222222222222222,\"#7201a8\"],[0.3333333333333333,\"#9c179e\"],[0.4444444444444444,\"#bd3786\"],[0.5555555555555556,\"#d8576b\"],[0.6666666666666666,\"#ed7953\"],[0.7777777777777778,\"#fb9f3a\"],[0.8888888888888888,\"#fdca26\"],[1.0,\"#f0f921\"]],\"type\":\"heatmapgl\"}],\"histogram\":[{\"marker\":{\"pattern\":{\"fillmode\":\"overlay\",\"size\":10,\"solidity\":0.2}},\"type\":\"histogram\"}],\"histogram2d\":[{\"colorbar\":{\"outlinewidth\":0,\"ticks\":\"\"},\"colorscale\":[[0.0,\"#0d0887\"],[0.1111111111111111,\"#46039f\"],[0.2222222222222222,\"#7201a8\"],[0.3333333333333333,\"#9c179e\"],[0.4444444444444444,\"#bd3786\"],[0.5555555555555556,\"#d8576b\"],[0.6666666666666666,\"#ed7953\"],[0.7777777777777778,\"#fb9f3a\"],[0.8888888888888888,\"#fdca26\"],[1.0,\"#f0f921\"]],\"type\":\"histogram2d\"}],\"histogram2dcontour\":[{\"colorbar\":{\"outlinewidth\":0,\"ticks\":\"\"},\"colorscale\":[[0.0,\"#0d0887\"],[0.1111111111111111,\"#46039f\"],[0.2222222222222222,\"#7201a8\"],[0.3333333333333333,\"#9c179e\"],[0.4444444444444444,\"#bd3786\"],[0.5555555555555556,\"#d8576b\"],[0.6666666666666666,\"#ed7953\"],[0.7777777777777778,\"#fb9f3a\"],[0.8888888888888888,\"#fdca26\"],[1.0,\"#f0f921\"]],\"type\":\"histogram2dcontour\"}],\"mesh3d\":[{\"colorbar\":{\"outlinewidth\":0,\"ticks\":\"\"},\"type\":\"mesh3d\"}],\"parcoords\":[{\"line\":{\"colorbar\":{\"outlinewidth\":0,\"ticks\":\"\"}},\"type\":\"parcoords\"}],\"pie\":[{\"automargin\":true,\"type\":\"pie\"}],\"scatter\":[{\"marker\":{\"colorbar\":{\"outlinewidth\":0,\"ticks\":\"\"}},\"type\":\"scatter\"}],\"scatter3d\":[{\"line\":{\"colorbar\":{\"outlinewidth\":0,\"ticks\":\"\"}},\"marker\":{\"colorbar\":{\"outlinewidth\":0,\"ticks\":\"\"}},\"type\":\"scatter3d\"}],\"scattercarpet\":[{\"marker\":{\"colorbar\":{\"outlinewidth\":0,\"ticks\":\"\"}},\"type\":\"scattercarpet\"}],\"scattergeo\":[{\"marker\":{\"colorbar\":{\"outlinewidth\":0,\"ticks\":\"\"}},\"type\":\"scattergeo\"}],\"scattergl\":[{\"marker\":{\"colorbar\":{\"outlinewidth\":0,\"ticks\":\"\"}},\"type\":\"scattergl\"}],\"scattermapbox\":[{\"marker\":{\"colorbar\":{\"outlinewidth\":0,\"ticks\":\"\"}},\"type\":\"scattermapbox\"}],\"scatterpolar\":[{\"marker\":{\"colorbar\":{\"outlinewidth\":0,\"ticks\":\"\"}},\"type\":\"scatterpolar\"}],\"scatterpolargl\":[{\"marker\":{\"colorbar\":{\"outlinewidth\":0,\"ticks\":\"\"}},\"type\":\"scatterpolargl\"}],\"scatterternary\":[{\"marker\":{\"colorbar\":{\"outlinewidth\":0,\"ticks\":\"\"}},\"type\":\"scatterternary\"}],\"surface\":[{\"colorbar\":{\"outlinewidth\":0,\"ticks\":\"\"},\"colorscale\":[[0.0,\"#0d0887\"],[0.1111111111111111,\"#46039f\"],[0.2222222222222222,\"#7201a8\"],[0.3333333333333333,\"#9c179e\"],[0.4444444444444444,\"#bd3786\"],[0.5555555555555556,\"#d8576b\"],[0.6666666666666666,\"#ed7953\"],[0.7777777777777778,\"#fb9f3a\"],[0.8888888888888888,\"#fdca26\"],[1.0,\"#f0f921\"]],\"type\":\"surface\"}],\"table\":[{\"cells\":{\"fill\":{\"color\":\"#EBF0F8\"},\"line\":{\"color\":\"white\"}},\"header\":{\"fill\":{\"color\":\"#C8D4E3\"},\"line\":{\"color\":\"white\"}},\"type\":\"table\"}]},\"layout\":{\"annotationdefaults\":{\"arrowcolor\":\"#2a3f5f\",\"arrowhead\":0,\"arrowwidth\":1},\"autotypenumbers\":\"strict\",\"coloraxis\":{\"colorbar\":{\"outlinewidth\":0,\"ticks\":\"\"}},\"colorscale\":{\"diverging\":[[0,\"#8e0152\"],[0.1,\"#c51b7d\"],[0.2,\"#de77ae\"],[0.3,\"#f1b6da\"],[0.4,\"#fde0ef\"],[0.5,\"#f7f7f7\"],[0.6,\"#e6f5d0\"],[0.7,\"#b8e186\"],[0.8,\"#7fbc41\"],[0.9,\"#4d9221\"],[1,\"#276419\"]],\"sequential\":[[0.0,\"#0d0887\"],[0.1111111111111111,\"#46039f\"],[0.2222222222222222,\"#7201a8\"],[0.3333333333333333,\"#9c179e\"],[0.4444444444444444,\"#bd3786\"],[0.5555555555555556,\"#d8576b\"],[0.6666666666666666,\"#ed7953\"],[0.7777777777777778,\"#fb9f3a\"],[0.8888888888888888,\"#fdca26\"],[1.0,\"#f0f921\"]],\"sequentialminus\":[[0.0,\"#0d0887\"],[0.1111111111111111,\"#46039f\"],[0.2222222222222222,\"#7201a8\"],[0.3333333333333333,\"#9c179e\"],[0.4444444444444444,\"#bd3786\"],[0.5555555555555556,\"#d8576b\"],[0.6666666666666666,\"#ed7953\"],[0.7777777777777778,\"#fb9f3a\"],[0.8888888888888888,\"#fdca26\"],[1.0,\"#f0f921\"]]},\"colorway\":[\"#636efa\",\"#EF553B\",\"#00cc96\",\"#ab63fa\",\"#FFA15A\",\"#19d3f3\",\"#FF6692\",\"#B6E880\",\"#FF97FF\",\"#FECB52\"],\"font\":{\"color\":\"#2a3f5f\"},\"geo\":{\"bgcolor\":\"white\",\"lakecolor\":\"white\",\"landcolor\":\"#E5ECF6\",\"showlakes\":true,\"showland\":true,\"subunitcolor\":\"white\"},\"hoverlabel\":{\"align\":\"left\"},\"hovermode\":\"closest\",\"mapbox\":{\"style\":\"light\"},\"paper_bgcolor\":\"white\",\"plot_bgcolor\":\"#E5ECF6\",\"polar\":{\"angularaxis\":{\"gridcolor\":\"white\",\"linecolor\":\"white\",\"ticks\":\"\"},\"bgcolor\":\"#E5ECF6\",\"radialaxis\":{\"gridcolor\":\"white\",\"linecolor\":\"white\",\"ticks\":\"\"}},\"scene\":{\"xaxis\":{\"backgroundcolor\":\"#E5ECF6\",\"gridcolor\":\"white\",\"gridwidth\":2,\"linecolor\":\"white\",\"showbackground\":true,\"ticks\":\"\",\"zerolinecolor\":\"white\"},\"yaxis\":{\"backgroundcolor\":\"#E5ECF6\",\"gridcolor\":\"white\",\"gridwidth\":2,\"linecolor\":\"white\",\"showbackground\":true,\"ticks\":\"\",\"zerolinecolor\":\"white\"},\"zaxis\":{\"backgroundcolor\":\"#E5ECF6\",\"gridcolor\":\"white\",\"gridwidth\":2,\"linecolor\":\"white\",\"showbackground\":true,\"ticks\":\"\",\"zerolinecolor\":\"white\"}},\"shapedefaults\":{\"line\":{\"color\":\"#2a3f5f\"}},\"ternary\":{\"aaxis\":{\"gridcolor\":\"white\",\"linecolor\":\"white\",\"ticks\":\"\"},\"baxis\":{\"gridcolor\":\"white\",\"linecolor\":\"white\",\"ticks\":\"\"},\"bgcolor\":\"#E5ECF6\",\"caxis\":{\"gridcolor\":\"white\",\"linecolor\":\"white\",\"ticks\":\"\"}},\"title\":{\"x\":0.05},\"xaxis\":{\"automargin\":true,\"gridcolor\":\"white\",\"linecolor\":\"white\",\"ticks\":\"\",\"title\":{\"standoff\":15},\"zerolinecolor\":\"white\",\"zerolinewidth\":2},\"yaxis\":{\"automargin\":true,\"gridcolor\":\"white\",\"linecolor\":\"white\",\"ticks\":\"\",\"title\":{\"standoff\":15},\"zerolinecolor\":\"white\",\"zerolinewidth\":2}}},\"xaxis\":{\"anchor\":\"y\",\"domain\":[0.0,1.0],\"title\":{\"text\":\"weather\"}},\"yaxis\":{\"anchor\":\"x\",\"domain\":[0.0,1.0],\"title\":{\"text\":\"temp_max\"}},\"legend\":{\"tracegroupgap\":0},\"margin\":{\"t\":60},\"barmode\":\"relative\"},                        {\"responsive\": true}                    ).then(function(){\n",
              "                            \n",
              "var gd = document.getElementById('41201a78-8e4a-4891-ae61-165483eda9f1');\n",
              "var x = new MutationObserver(function (mutations, observer) {{\n",
              "        var display = window.getComputedStyle(gd).display;\n",
              "        if (!display || display === 'none') {{\n",
              "            console.log([gd, 'removed!']);\n",
              "            Plotly.purge(gd);\n",
              "            observer.disconnect();\n",
              "        }}\n",
              "}});\n",
              "\n",
              "// Listen for the removal of the full notebook cells\n",
              "var notebookContainer = gd.closest('#notebook-container');\n",
              "if (notebookContainer) {{\n",
              "    x.observe(notebookContainer, {childList: true});\n",
              "}}\n",
              "\n",
              "// Listen for the clearing of the current output cell\n",
              "var outputEl = gd.closest('.output');\n",
              "if (outputEl) {{\n",
              "    x.observe(outputEl, {childList: true});\n",
              "}}\n",
              "\n",
              "                        })                };                            </script>        </div>\n",
              "</body>\n",
              "</html>"
            ]
          },
          "metadata": {}
        }
      ]
    },
    {
      "cell_type": "code",
      "source": [
        "df.info()"
      ],
      "metadata": {
        "colab": {
          "base_uri": "https://localhost:8080/"
        },
        "id": "yJkTlLZa3Ert",
        "outputId": "479b5962-1d24-4d21-b3a1-21545cf860e1"
      },
      "execution_count": null,
      "outputs": [
        {
          "output_type": "stream",
          "name": "stdout",
          "text": [
            "<class 'pandas.core.frame.DataFrame'>\n",
            "RangeIndex: 1461 entries, 0 to 1460\n",
            "Data columns (total 6 columns):\n",
            " #   Column         Non-Null Count  Dtype  \n",
            "---  ------         --------------  -----  \n",
            " 0   date           1461 non-null   object \n",
            " 1   precipitation  1461 non-null   float64\n",
            " 2   temp_max       1461 non-null   float64\n",
            " 3   temp_min       1461 non-null   float64\n",
            " 4   wind           1461 non-null   float64\n",
            " 5   weather        1461 non-null   object \n",
            "dtypes: float64(4), object(2)\n",
            "memory usage: 68.6+ KB\n"
          ]
        }
      ]
    },
    {
      "cell_type": "code",
      "source": [
        "df['date'] = df['date'].apply(pd.to_datetime)"
      ],
      "metadata": {
        "id": "jdv--vqF3dQP"
      },
      "execution_count": null,
      "outputs": []
    },
    {
      "cell_type": "code",
      "source": [
        "df.info()"
      ],
      "metadata": {
        "colab": {
          "base_uri": "https://localhost:8080/"
        },
        "id": "1Mx4yWqG3q6E",
        "outputId": "42c22737-d936-43dc-d7ec-e542db4054f6"
      },
      "execution_count": null,
      "outputs": [
        {
          "output_type": "stream",
          "name": "stdout",
          "text": [
            "<class 'pandas.core.frame.DataFrame'>\n",
            "RangeIndex: 1461 entries, 0 to 1460\n",
            "Data columns (total 6 columns):\n",
            " #   Column         Non-Null Count  Dtype         \n",
            "---  ------         --------------  -----         \n",
            " 0   date           1461 non-null   datetime64[ns]\n",
            " 1   precipitation  1461 non-null   float64       \n",
            " 2   temp_max       1461 non-null   float64       \n",
            " 3   temp_min       1461 non-null   float64       \n",
            " 4   wind           1461 non-null   float64       \n",
            " 5   weather        1461 non-null   object        \n",
            "dtypes: datetime64[ns](1), float64(4), object(1)\n",
            "memory usage: 68.6+ KB\n"
          ]
        }
      ]
    },
    {
      "cell_type": "code",
      "source": [
        "df['date'].tail()"
      ],
      "metadata": {
        "colab": {
          "base_uri": "https://localhost:8080/"
        },
        "id": "STHkjBF73r1y",
        "outputId": "0c235df8-2aa3-401b-af1a-43b82aa5dec2"
      },
      "execution_count": null,
      "outputs": [
        {
          "output_type": "execute_result",
          "data": {
            "text/plain": [
              "1456   2015-12-27\n",
              "1457   2015-12-28\n",
              "1458   2015-12-29\n",
              "1459   2015-12-30\n",
              "1460   2015-12-31\n",
              "Name: date, dtype: datetime64[ns]"
            ]
          },
          "metadata": {},
          "execution_count": 22
        }
      ]
    },
    {
      "cell_type": "code",
      "source": [
        "df['year']= df['date'].dt.year\n",
        "df['month']= df['date'].dt.month\n",
        "df['day']= df['date'].dt.day"
      ],
      "metadata": {
        "id": "uKfNNiMs3yEQ"
      },
      "execution_count": null,
      "outputs": []
    },
    {
      "cell_type": "code",
      "source": [
        "df.drop(\"date\", axis='columns')"
      ],
      "metadata": {
        "colab": {
          "base_uri": "https://localhost:8080/",
          "height": 423
        },
        "id": "9InaoooY4dIH",
        "outputId": "697e3c0b-6da9-4a19-ccea-27e195aad326"
      },
      "execution_count": null,
      "outputs": [
        {
          "output_type": "execute_result",
          "data": {
            "text/plain": [
              "      precipitation  temp_max  temp_min  wind  weather  year  month  day\n",
              "0               0.0      12.8       5.0   4.7  drizzle  2012      1    1\n",
              "1              10.9      10.6       2.8   4.5     rain  2012      1    2\n",
              "2               0.8      11.7       7.2   2.3     rain  2012      1    3\n",
              "3              20.3      12.2       5.6   4.7     rain  2012      1    4\n",
              "4               1.3       8.9       2.8   6.1     rain  2012      1    5\n",
              "...             ...       ...       ...   ...      ...   ...    ...  ...\n",
              "1456            8.6       4.4       1.7   2.9     rain  2015     12   27\n",
              "1457            1.5       5.0       1.7   1.3     rain  2015     12   28\n",
              "1458            0.0       7.2       0.6   2.6      fog  2015     12   29\n",
              "1459            0.0       5.6      -1.0   3.4      sun  2015     12   30\n",
              "1460            0.0       5.6      -2.1   3.5      sun  2015     12   31\n",
              "\n",
              "[1461 rows x 8 columns]"
            ],
            "text/html": [
              "\n",
              "  <div id=\"df-85e689ba-717c-429b-862e-a4462ee44ff4\">\n",
              "    <div class=\"colab-df-container\">\n",
              "      <div>\n",
              "<style scoped>\n",
              "    .dataframe tbody tr th:only-of-type {\n",
              "        vertical-align: middle;\n",
              "    }\n",
              "\n",
              "    .dataframe tbody tr th {\n",
              "        vertical-align: top;\n",
              "    }\n",
              "\n",
              "    .dataframe thead th {\n",
              "        text-align: right;\n",
              "    }\n",
              "</style>\n",
              "<table border=\"1\" class=\"dataframe\">\n",
              "  <thead>\n",
              "    <tr style=\"text-align: right;\">\n",
              "      <th></th>\n",
              "      <th>precipitation</th>\n",
              "      <th>temp_max</th>\n",
              "      <th>temp_min</th>\n",
              "      <th>wind</th>\n",
              "      <th>weather</th>\n",
              "      <th>year</th>\n",
              "      <th>month</th>\n",
              "      <th>day</th>\n",
              "    </tr>\n",
              "  </thead>\n",
              "  <tbody>\n",
              "    <tr>\n",
              "      <th>0</th>\n",
              "      <td>0.0</td>\n",
              "      <td>12.8</td>\n",
              "      <td>5.0</td>\n",
              "      <td>4.7</td>\n",
              "      <td>drizzle</td>\n",
              "      <td>2012</td>\n",
              "      <td>1</td>\n",
              "      <td>1</td>\n",
              "    </tr>\n",
              "    <tr>\n",
              "      <th>1</th>\n",
              "      <td>10.9</td>\n",
              "      <td>10.6</td>\n",
              "      <td>2.8</td>\n",
              "      <td>4.5</td>\n",
              "      <td>rain</td>\n",
              "      <td>2012</td>\n",
              "      <td>1</td>\n",
              "      <td>2</td>\n",
              "    </tr>\n",
              "    <tr>\n",
              "      <th>2</th>\n",
              "      <td>0.8</td>\n",
              "      <td>11.7</td>\n",
              "      <td>7.2</td>\n",
              "      <td>2.3</td>\n",
              "      <td>rain</td>\n",
              "      <td>2012</td>\n",
              "      <td>1</td>\n",
              "      <td>3</td>\n",
              "    </tr>\n",
              "    <tr>\n",
              "      <th>3</th>\n",
              "      <td>20.3</td>\n",
              "      <td>12.2</td>\n",
              "      <td>5.6</td>\n",
              "      <td>4.7</td>\n",
              "      <td>rain</td>\n",
              "      <td>2012</td>\n",
              "      <td>1</td>\n",
              "      <td>4</td>\n",
              "    </tr>\n",
              "    <tr>\n",
              "      <th>4</th>\n",
              "      <td>1.3</td>\n",
              "      <td>8.9</td>\n",
              "      <td>2.8</td>\n",
              "      <td>6.1</td>\n",
              "      <td>rain</td>\n",
              "      <td>2012</td>\n",
              "      <td>1</td>\n",
              "      <td>5</td>\n",
              "    </tr>\n",
              "    <tr>\n",
              "      <th>...</th>\n",
              "      <td>...</td>\n",
              "      <td>...</td>\n",
              "      <td>...</td>\n",
              "      <td>...</td>\n",
              "      <td>...</td>\n",
              "      <td>...</td>\n",
              "      <td>...</td>\n",
              "      <td>...</td>\n",
              "    </tr>\n",
              "    <tr>\n",
              "      <th>1456</th>\n",
              "      <td>8.6</td>\n",
              "      <td>4.4</td>\n",
              "      <td>1.7</td>\n",
              "      <td>2.9</td>\n",
              "      <td>rain</td>\n",
              "      <td>2015</td>\n",
              "      <td>12</td>\n",
              "      <td>27</td>\n",
              "    </tr>\n",
              "    <tr>\n",
              "      <th>1457</th>\n",
              "      <td>1.5</td>\n",
              "      <td>5.0</td>\n",
              "      <td>1.7</td>\n",
              "      <td>1.3</td>\n",
              "      <td>rain</td>\n",
              "      <td>2015</td>\n",
              "      <td>12</td>\n",
              "      <td>28</td>\n",
              "    </tr>\n",
              "    <tr>\n",
              "      <th>1458</th>\n",
              "      <td>0.0</td>\n",
              "      <td>7.2</td>\n",
              "      <td>0.6</td>\n",
              "      <td>2.6</td>\n",
              "      <td>fog</td>\n",
              "      <td>2015</td>\n",
              "      <td>12</td>\n",
              "      <td>29</td>\n",
              "    </tr>\n",
              "    <tr>\n",
              "      <th>1459</th>\n",
              "      <td>0.0</td>\n",
              "      <td>5.6</td>\n",
              "      <td>-1.0</td>\n",
              "      <td>3.4</td>\n",
              "      <td>sun</td>\n",
              "      <td>2015</td>\n",
              "      <td>12</td>\n",
              "      <td>30</td>\n",
              "    </tr>\n",
              "    <tr>\n",
              "      <th>1460</th>\n",
              "      <td>0.0</td>\n",
              "      <td>5.6</td>\n",
              "      <td>-2.1</td>\n",
              "      <td>3.5</td>\n",
              "      <td>sun</td>\n",
              "      <td>2015</td>\n",
              "      <td>12</td>\n",
              "      <td>31</td>\n",
              "    </tr>\n",
              "  </tbody>\n",
              "</table>\n",
              "<p>1461 rows × 8 columns</p>\n",
              "</div>\n",
              "      <button class=\"colab-df-convert\" onclick=\"convertToInteractive('df-85e689ba-717c-429b-862e-a4462ee44ff4')\"\n",
              "              title=\"Convert this dataframe to an interactive table.\"\n",
              "              style=\"display:none;\">\n",
              "        \n",
              "  <svg xmlns=\"http://www.w3.org/2000/svg\" height=\"24px\"viewBox=\"0 0 24 24\"\n",
              "       width=\"24px\">\n",
              "    <path d=\"M0 0h24v24H0V0z\" fill=\"none\"/>\n",
              "    <path d=\"M18.56 5.44l.94 2.06.94-2.06 2.06-.94-2.06-.94-.94-2.06-.94 2.06-2.06.94zm-11 1L8.5 8.5l.94-2.06 2.06-.94-2.06-.94L8.5 2.5l-.94 2.06-2.06.94zm10 10l.94 2.06.94-2.06 2.06-.94-2.06-.94-.94-2.06-.94 2.06-2.06.94z\"/><path d=\"M17.41 7.96l-1.37-1.37c-.4-.4-.92-.59-1.43-.59-.52 0-1.04.2-1.43.59L10.3 9.45l-7.72 7.72c-.78.78-.78 2.05 0 2.83L4 21.41c.39.39.9.59 1.41.59.51 0 1.02-.2 1.41-.59l7.78-7.78 2.81-2.81c.8-.78.8-2.07 0-2.86zM5.41 20L4 18.59l7.72-7.72 1.47 1.35L5.41 20z\"/>\n",
              "  </svg>\n",
              "      </button>\n",
              "      \n",
              "  <style>\n",
              "    .colab-df-container {\n",
              "      display:flex;\n",
              "      flex-wrap:wrap;\n",
              "      gap: 12px;\n",
              "    }\n",
              "\n",
              "    .colab-df-convert {\n",
              "      background-color: #E8F0FE;\n",
              "      border: none;\n",
              "      border-radius: 50%;\n",
              "      cursor: pointer;\n",
              "      display: none;\n",
              "      fill: #1967D2;\n",
              "      height: 32px;\n",
              "      padding: 0 0 0 0;\n",
              "      width: 32px;\n",
              "    }\n",
              "\n",
              "    .colab-df-convert:hover {\n",
              "      background-color: #E2EBFA;\n",
              "      box-shadow: 0px 1px 2px rgba(60, 64, 67, 0.3), 0px 1px 3px 1px rgba(60, 64, 67, 0.15);\n",
              "      fill: #174EA6;\n",
              "    }\n",
              "\n",
              "    [theme=dark] .colab-df-convert {\n",
              "      background-color: #3B4455;\n",
              "      fill: #D2E3FC;\n",
              "    }\n",
              "\n",
              "    [theme=dark] .colab-df-convert:hover {\n",
              "      background-color: #434B5C;\n",
              "      box-shadow: 0px 1px 3px 1px rgba(0, 0, 0, 0.15);\n",
              "      filter: drop-shadow(0px 1px 2px rgba(0, 0, 0, 0.3));\n",
              "      fill: #FFFFFF;\n",
              "    }\n",
              "  </style>\n",
              "\n",
              "      <script>\n",
              "        const buttonEl =\n",
              "          document.querySelector('#df-85e689ba-717c-429b-862e-a4462ee44ff4 button.colab-df-convert');\n",
              "        buttonEl.style.display =\n",
              "          google.colab.kernel.accessAllowed ? 'block' : 'none';\n",
              "\n",
              "        async function convertToInteractive(key) {\n",
              "          const element = document.querySelector('#df-85e689ba-717c-429b-862e-a4462ee44ff4');\n",
              "          const dataTable =\n",
              "            await google.colab.kernel.invokeFunction('convertToInteractive',\n",
              "                                                     [key], {});\n",
              "          if (!dataTable) return;\n",
              "\n",
              "          const docLinkHtml = 'Like what you see? Visit the ' +\n",
              "            '<a target=\"_blank\" href=https://colab.research.google.com/notebooks/data_table.ipynb>data table notebook</a>'\n",
              "            + ' to learn more about interactive tables.';\n",
              "          element.innerHTML = '';\n",
              "          dataTable['output_type'] = 'display_data';\n",
              "          await google.colab.output.renderOutput(dataTable, element);\n",
              "          const docLink = document.createElement('div');\n",
              "          docLink.innerHTML = docLinkHtml;\n",
              "          element.appendChild(docLink);\n",
              "        }\n",
              "      </script>\n",
              "    </div>\n",
              "  </div>\n",
              "  "
            ]
          },
          "metadata": {},
          "execution_count": 24
        }
      ]
    },
    {
      "cell_type": "code",
      "source": [
        "df = pd.get_dummies(df, columns=['weather'])  #convert categorical variables into dummy or indicator variables"
      ],
      "metadata": {
        "id": "CXgI1tzh4piF"
      },
      "execution_count": null,
      "outputs": []
    },
    {
      "cell_type": "code",
      "source": [
        "df.head()"
      ],
      "metadata": {
        "colab": {
          "base_uri": "https://localhost:8080/",
          "height": 250
        },
        "id": "CiG71-py5-4r",
        "outputId": "7d5d25f9-7bf3-4b46-a9f5-8f03a36441ec"
      },
      "execution_count": null,
      "outputs": [
        {
          "output_type": "execute_result",
          "data": {
            "text/plain": [
              "        date  precipitation  temp_max  temp_min  wind  year  month  day  \\\n",
              "0 2012-01-01            0.0      12.8       5.0   4.7  2012      1    1   \n",
              "1 2012-01-02           10.9      10.6       2.8   4.5  2012      1    2   \n",
              "2 2012-01-03            0.8      11.7       7.2   2.3  2012      1    3   \n",
              "3 2012-01-04           20.3      12.2       5.6   4.7  2012      1    4   \n",
              "4 2012-01-05            1.3       8.9       2.8   6.1  2012      1    5   \n",
              "\n",
              "   weather_drizzle  weather_fog  weather_rain  weather_snow  weather_sun  \n",
              "0                1            0             0             0            0  \n",
              "1                0            0             1             0            0  \n",
              "2                0            0             1             0            0  \n",
              "3                0            0             1             0            0  \n",
              "4                0            0             1             0            0  "
            ],
            "text/html": [
              "\n",
              "  <div id=\"df-59d6f34b-aaac-40a8-a635-6cc2058d360f\">\n",
              "    <div class=\"colab-df-container\">\n",
              "      <div>\n",
              "<style scoped>\n",
              "    .dataframe tbody tr th:only-of-type {\n",
              "        vertical-align: middle;\n",
              "    }\n",
              "\n",
              "    .dataframe tbody tr th {\n",
              "        vertical-align: top;\n",
              "    }\n",
              "\n",
              "    .dataframe thead th {\n",
              "        text-align: right;\n",
              "    }\n",
              "</style>\n",
              "<table border=\"1\" class=\"dataframe\">\n",
              "  <thead>\n",
              "    <tr style=\"text-align: right;\">\n",
              "      <th></th>\n",
              "      <th>date</th>\n",
              "      <th>precipitation</th>\n",
              "      <th>temp_max</th>\n",
              "      <th>temp_min</th>\n",
              "      <th>wind</th>\n",
              "      <th>year</th>\n",
              "      <th>month</th>\n",
              "      <th>day</th>\n",
              "      <th>weather_drizzle</th>\n",
              "      <th>weather_fog</th>\n",
              "      <th>weather_rain</th>\n",
              "      <th>weather_snow</th>\n",
              "      <th>weather_sun</th>\n",
              "    </tr>\n",
              "  </thead>\n",
              "  <tbody>\n",
              "    <tr>\n",
              "      <th>0</th>\n",
              "      <td>2012-01-01</td>\n",
              "      <td>0.0</td>\n",
              "      <td>12.8</td>\n",
              "      <td>5.0</td>\n",
              "      <td>4.7</td>\n",
              "      <td>2012</td>\n",
              "      <td>1</td>\n",
              "      <td>1</td>\n",
              "      <td>1</td>\n",
              "      <td>0</td>\n",
              "      <td>0</td>\n",
              "      <td>0</td>\n",
              "      <td>0</td>\n",
              "    </tr>\n",
              "    <tr>\n",
              "      <th>1</th>\n",
              "      <td>2012-01-02</td>\n",
              "      <td>10.9</td>\n",
              "      <td>10.6</td>\n",
              "      <td>2.8</td>\n",
              "      <td>4.5</td>\n",
              "      <td>2012</td>\n",
              "      <td>1</td>\n",
              "      <td>2</td>\n",
              "      <td>0</td>\n",
              "      <td>0</td>\n",
              "      <td>1</td>\n",
              "      <td>0</td>\n",
              "      <td>0</td>\n",
              "    </tr>\n",
              "    <tr>\n",
              "      <th>2</th>\n",
              "      <td>2012-01-03</td>\n",
              "      <td>0.8</td>\n",
              "      <td>11.7</td>\n",
              "      <td>7.2</td>\n",
              "      <td>2.3</td>\n",
              "      <td>2012</td>\n",
              "      <td>1</td>\n",
              "      <td>3</td>\n",
              "      <td>0</td>\n",
              "      <td>0</td>\n",
              "      <td>1</td>\n",
              "      <td>0</td>\n",
              "      <td>0</td>\n",
              "    </tr>\n",
              "    <tr>\n",
              "      <th>3</th>\n",
              "      <td>2012-01-04</td>\n",
              "      <td>20.3</td>\n",
              "      <td>12.2</td>\n",
              "      <td>5.6</td>\n",
              "      <td>4.7</td>\n",
              "      <td>2012</td>\n",
              "      <td>1</td>\n",
              "      <td>4</td>\n",
              "      <td>0</td>\n",
              "      <td>0</td>\n",
              "      <td>1</td>\n",
              "      <td>0</td>\n",
              "      <td>0</td>\n",
              "    </tr>\n",
              "    <tr>\n",
              "      <th>4</th>\n",
              "      <td>2012-01-05</td>\n",
              "      <td>1.3</td>\n",
              "      <td>8.9</td>\n",
              "      <td>2.8</td>\n",
              "      <td>6.1</td>\n",
              "      <td>2012</td>\n",
              "      <td>1</td>\n",
              "      <td>5</td>\n",
              "      <td>0</td>\n",
              "      <td>0</td>\n",
              "      <td>1</td>\n",
              "      <td>0</td>\n",
              "      <td>0</td>\n",
              "    </tr>\n",
              "  </tbody>\n",
              "</table>\n",
              "</div>\n",
              "      <button class=\"colab-df-convert\" onclick=\"convertToInteractive('df-59d6f34b-aaac-40a8-a635-6cc2058d360f')\"\n",
              "              title=\"Convert this dataframe to an interactive table.\"\n",
              "              style=\"display:none;\">\n",
              "        \n",
              "  <svg xmlns=\"http://www.w3.org/2000/svg\" height=\"24px\"viewBox=\"0 0 24 24\"\n",
              "       width=\"24px\">\n",
              "    <path d=\"M0 0h24v24H0V0z\" fill=\"none\"/>\n",
              "    <path d=\"M18.56 5.44l.94 2.06.94-2.06 2.06-.94-2.06-.94-.94-2.06-.94 2.06-2.06.94zm-11 1L8.5 8.5l.94-2.06 2.06-.94-2.06-.94L8.5 2.5l-.94 2.06-2.06.94zm10 10l.94 2.06.94-2.06 2.06-.94-2.06-.94-.94-2.06-.94 2.06-2.06.94z\"/><path d=\"M17.41 7.96l-1.37-1.37c-.4-.4-.92-.59-1.43-.59-.52 0-1.04.2-1.43.59L10.3 9.45l-7.72 7.72c-.78.78-.78 2.05 0 2.83L4 21.41c.39.39.9.59 1.41.59.51 0 1.02-.2 1.41-.59l7.78-7.78 2.81-2.81c.8-.78.8-2.07 0-2.86zM5.41 20L4 18.59l7.72-7.72 1.47 1.35L5.41 20z\"/>\n",
              "  </svg>\n",
              "      </button>\n",
              "      \n",
              "  <style>\n",
              "    .colab-df-container {\n",
              "      display:flex;\n",
              "      flex-wrap:wrap;\n",
              "      gap: 12px;\n",
              "    }\n",
              "\n",
              "    .colab-df-convert {\n",
              "      background-color: #E8F0FE;\n",
              "      border: none;\n",
              "      border-radius: 50%;\n",
              "      cursor: pointer;\n",
              "      display: none;\n",
              "      fill: #1967D2;\n",
              "      height: 32px;\n",
              "      padding: 0 0 0 0;\n",
              "      width: 32px;\n",
              "    }\n",
              "\n",
              "    .colab-df-convert:hover {\n",
              "      background-color: #E2EBFA;\n",
              "      box-shadow: 0px 1px 2px rgba(60, 64, 67, 0.3), 0px 1px 3px 1px rgba(60, 64, 67, 0.15);\n",
              "      fill: #174EA6;\n",
              "    }\n",
              "\n",
              "    [theme=dark] .colab-df-convert {\n",
              "      background-color: #3B4455;\n",
              "      fill: #D2E3FC;\n",
              "    }\n",
              "\n",
              "    [theme=dark] .colab-df-convert:hover {\n",
              "      background-color: #434B5C;\n",
              "      box-shadow: 0px 1px 3px 1px rgba(0, 0, 0, 0.15);\n",
              "      filter: drop-shadow(0px 1px 2px rgba(0, 0, 0, 0.3));\n",
              "      fill: #FFFFFF;\n",
              "    }\n",
              "  </style>\n",
              "\n",
              "      <script>\n",
              "        const buttonEl =\n",
              "          document.querySelector('#df-59d6f34b-aaac-40a8-a635-6cc2058d360f button.colab-df-convert');\n",
              "        buttonEl.style.display =\n",
              "          google.colab.kernel.accessAllowed ? 'block' : 'none';\n",
              "\n",
              "        async function convertToInteractive(key) {\n",
              "          const element = document.querySelector('#df-59d6f34b-aaac-40a8-a635-6cc2058d360f');\n",
              "          const dataTable =\n",
              "            await google.colab.kernel.invokeFunction('convertToInteractive',\n",
              "                                                     [key], {});\n",
              "          if (!dataTable) return;\n",
              "\n",
              "          const docLinkHtml = 'Like what you see? Visit the ' +\n",
              "            '<a target=\"_blank\" href=https://colab.research.google.com/notebooks/data_table.ipynb>data table notebook</a>'\n",
              "            + ' to learn more about interactive tables.';\n",
              "          element.innerHTML = '';\n",
              "          dataTable['output_type'] = 'display_data';\n",
              "          await google.colab.output.renderOutput(dataTable, element);\n",
              "          const docLink = document.createElement('div');\n",
              "          docLink.innerHTML = docLinkHtml;\n",
              "          element.appendChild(docLink);\n",
              "        }\n",
              "      </script>\n",
              "    </div>\n",
              "  </div>\n",
              "  "
            ]
          },
          "metadata": {},
          "execution_count": 26
        }
      ]
    },
    {
      "cell_type": "code",
      "source": [],
      "metadata": {
        "id": "KTy8eAn85_15"
      },
      "execution_count": null,
      "outputs": []
    },
    {
      "cell_type": "code",
      "source": [],
      "metadata": {
        "id": "iDvxCtBk9Le1"
      },
      "execution_count": null,
      "outputs": []
    }
  ]
}