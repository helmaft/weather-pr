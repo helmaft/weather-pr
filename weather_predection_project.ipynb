{
  "nbformat": 4,
  "nbformat_minor": 0,
  "metadata": {
    "colab": {
      "provenance": [],
      "collapsed_sections": [
        "nSW7Z5sIh0sL",
        "NcXlFUsJiCf0",
        "91SkjFkqiUaL",
        "Nd1aLZFPkrUF",
        "4GSNDBjMlT6b",
        "z29_XVlxlzxM",
        "Ml2swbm4mJeN",
        "SVEQoO7K1-nV"
      ]
    },
    "kernelspec": {
      "name": "python3",
      "display_name": "Python 3"
    },
    "language_info": {
      "name": "python"
    }
  },
  "cells": [
    {
      "cell_type": "markdown",
      "source": [
        "#REQUIRED LIBRARIES"
      ],
      "metadata": {
        "id": "nSW7Z5sIh0sL"
      }
    },
    {
      "cell_type": "code",
      "execution_count": 441,
      "metadata": {
        "id": "O-U4GJd2HxeE"
      },
      "outputs": [],
      "source": [
        "import pandas as pd\n",
        "import numpy as np\n",
        "import plotly.express as px\n",
        "import plotly.graph_objs as go\n",
        "import pandas as pd\n",
        "from sklearn.model_selection import train_test_split \n",
        "from sklearn.preprocessing import MinMaxScaler, OneHotEncoder\n",
        "from sklearn.preprocessing import StandardScaler\n",
        "import matplotlib.pyplot as plt\n",
        "from sklearn.metrics import accuracy_score\n",
        "from sklearn.preprocessing import LabelEncoder\n",
        "from sklearn import metrics\n",
        "from sklearn.tree import DecisionTreeClassifier\n",
        "from sklearn.metrics import mean_squared_error\n",
        "from sklearn.ensemble import RandomForestClassifier\n",
        "from sklearn.metrics import confusion_matrix\n",
        "import random\n",
        "from sklearn.neighbors import KNeighborsClassifier\n",
        "\n",
        "\n",
        "from sklearn.ensemble import GradientBoostingClassifier\n",
        "\n",
        "from sklearn.svm import SVC\n",
        "\n",
        "from sklearn.metrics import classification_report\n",
        "from sklearn.discriminant_analysis import LinearDiscriminantAnalysis\n",
        "\n",
        "import seaborn as sns\n",
        "import matplotlib.pyplot as plt\n",
        "\n",
        "import warnings\n",
        "warnings.filterwarnings(\"ignore\", category=UserWarning)\n",
        "\n",
        "# Set the random seed\n",
        "np.random.seed(42)\n",
        "random.seed(42)\n"
      ]
    },
    {
      "cell_type": "code",
      "source": [
        "df = pd.read_csv('/content/seattle-weather.csv')"
      ],
      "metadata": {
        "id": "XSf_YNKXRgk2"
      },
      "execution_count": 442,
      "outputs": []
    },
    {
      "cell_type": "markdown",
      "source": [
        "#data analyzation"
      ],
      "metadata": {
        "id": "NcXlFUsJiCf0"
      }
    },
    {
      "cell_type": "code",
      "source": [
        "df.head()"
      ],
      "metadata": {
        "colab": {
          "base_uri": "https://localhost:8080/",
          "height": 270
        },
        "id": "SamUlx4YR2zK",
        "outputId": "b75429ce-ff73-491a-be6b-841da0cdcd15"
      },
      "execution_count": 443,
      "outputs": [
        {
          "output_type": "execute_result",
          "data": {
            "text/plain": [
              "         date  precipitation  temp_max  temp_min  wind  weather\n",
              "0  2012-01-01            0.0      12.8       5.0   4.7  drizzle\n",
              "1  2012-01-02           10.9      10.6       2.8   4.5     rain\n",
              "2  2012-01-03            0.8      11.7       7.2   2.3     rain\n",
              "3  2012-01-04           20.3      12.2       5.6   4.7     rain\n",
              "4  2012-01-05            1.3       8.9       2.8   6.1     rain"
            ],
            "text/html": [
              "\n",
              "  <div id=\"df-83550280-8be3-419e-acfd-0258f820ad2f\">\n",
              "    <div class=\"colab-df-container\">\n",
              "      <div>\n",
              "<style scoped>\n",
              "    .dataframe tbody tr th:only-of-type {\n",
              "        vertical-align: middle;\n",
              "    }\n",
              "\n",
              "    .dataframe tbody tr th {\n",
              "        vertical-align: top;\n",
              "    }\n",
              "\n",
              "    .dataframe thead th {\n",
              "        text-align: right;\n",
              "    }\n",
              "</style>\n",
              "<table border=\"1\" class=\"dataframe\">\n",
              "  <thead>\n",
              "    <tr style=\"text-align: right;\">\n",
              "      <th></th>\n",
              "      <th>date</th>\n",
              "      <th>precipitation</th>\n",
              "      <th>temp_max</th>\n",
              "      <th>temp_min</th>\n",
              "      <th>wind</th>\n",
              "      <th>weather</th>\n",
              "    </tr>\n",
              "  </thead>\n",
              "  <tbody>\n",
              "    <tr>\n",
              "      <th>0</th>\n",
              "      <td>2012-01-01</td>\n",
              "      <td>0.0</td>\n",
              "      <td>12.8</td>\n",
              "      <td>5.0</td>\n",
              "      <td>4.7</td>\n",
              "      <td>drizzle</td>\n",
              "    </tr>\n",
              "    <tr>\n",
              "      <th>1</th>\n",
              "      <td>2012-01-02</td>\n",
              "      <td>10.9</td>\n",
              "      <td>10.6</td>\n",
              "      <td>2.8</td>\n",
              "      <td>4.5</td>\n",
              "      <td>rain</td>\n",
              "    </tr>\n",
              "    <tr>\n",
              "      <th>2</th>\n",
              "      <td>2012-01-03</td>\n",
              "      <td>0.8</td>\n",
              "      <td>11.7</td>\n",
              "      <td>7.2</td>\n",
              "      <td>2.3</td>\n",
              "      <td>rain</td>\n",
              "    </tr>\n",
              "    <tr>\n",
              "      <th>3</th>\n",
              "      <td>2012-01-04</td>\n",
              "      <td>20.3</td>\n",
              "      <td>12.2</td>\n",
              "      <td>5.6</td>\n",
              "      <td>4.7</td>\n",
              "      <td>rain</td>\n",
              "    </tr>\n",
              "    <tr>\n",
              "      <th>4</th>\n",
              "      <td>2012-01-05</td>\n",
              "      <td>1.3</td>\n",
              "      <td>8.9</td>\n",
              "      <td>2.8</td>\n",
              "      <td>6.1</td>\n",
              "      <td>rain</td>\n",
              "    </tr>\n",
              "  </tbody>\n",
              "</table>\n",
              "</div>\n",
              "      <button class=\"colab-df-convert\" onclick=\"convertToInteractive('df-83550280-8be3-419e-acfd-0258f820ad2f')\"\n",
              "              title=\"Convert this dataframe to an interactive table.\"\n",
              "              style=\"display:none;\">\n",
              "        \n",
              "  <svg xmlns=\"http://www.w3.org/2000/svg\" height=\"24px\"viewBox=\"0 0 24 24\"\n",
              "       width=\"24px\">\n",
              "    <path d=\"M0 0h24v24H0V0z\" fill=\"none\"/>\n",
              "    <path d=\"M18.56 5.44l.94 2.06.94-2.06 2.06-.94-2.06-.94-.94-2.06-.94 2.06-2.06.94zm-11 1L8.5 8.5l.94-2.06 2.06-.94-2.06-.94L8.5 2.5l-.94 2.06-2.06.94zm10 10l.94 2.06.94-2.06 2.06-.94-2.06-.94-.94-2.06-.94 2.06-2.06.94z\"/><path d=\"M17.41 7.96l-1.37-1.37c-.4-.4-.92-.59-1.43-.59-.52 0-1.04.2-1.43.59L10.3 9.45l-7.72 7.72c-.78.78-.78 2.05 0 2.83L4 21.41c.39.39.9.59 1.41.59.51 0 1.02-.2 1.41-.59l7.78-7.78 2.81-2.81c.8-.78.8-2.07 0-2.86zM5.41 20L4 18.59l7.72-7.72 1.47 1.35L5.41 20z\"/>\n",
              "  </svg>\n",
              "      </button>\n",
              "      \n",
              "  <style>\n",
              "    .colab-df-container {\n",
              "      display:flex;\n",
              "      flex-wrap:wrap;\n",
              "      gap: 12px;\n",
              "    }\n",
              "\n",
              "    .colab-df-convert {\n",
              "      background-color: #E8F0FE;\n",
              "      border: none;\n",
              "      border-radius: 50%;\n",
              "      cursor: pointer;\n",
              "      display: none;\n",
              "      fill: #1967D2;\n",
              "      height: 32px;\n",
              "      padding: 0 0 0 0;\n",
              "      width: 32px;\n",
              "    }\n",
              "\n",
              "    .colab-df-convert:hover {\n",
              "      background-color: #E2EBFA;\n",
              "      box-shadow: 0px 1px 2px rgba(60, 64, 67, 0.3), 0px 1px 3px 1px rgba(60, 64, 67, 0.15);\n",
              "      fill: #174EA6;\n",
              "    }\n",
              "\n",
              "    [theme=dark] .colab-df-convert {\n",
              "      background-color: #3B4455;\n",
              "      fill: #D2E3FC;\n",
              "    }\n",
              "\n",
              "    [theme=dark] .colab-df-convert:hover {\n",
              "      background-color: #434B5C;\n",
              "      box-shadow: 0px 1px 3px 1px rgba(0, 0, 0, 0.15);\n",
              "      filter: drop-shadow(0px 1px 2px rgba(0, 0, 0, 0.3));\n",
              "      fill: #FFFFFF;\n",
              "    }\n",
              "  </style>\n",
              "\n",
              "      <script>\n",
              "        const buttonEl =\n",
              "          document.querySelector('#df-83550280-8be3-419e-acfd-0258f820ad2f button.colab-df-convert');\n",
              "        buttonEl.style.display =\n",
              "          google.colab.kernel.accessAllowed ? 'block' : 'none';\n",
              "\n",
              "        async function convertToInteractive(key) {\n",
              "          const element = document.querySelector('#df-83550280-8be3-419e-acfd-0258f820ad2f');\n",
              "          const dataTable =\n",
              "            await google.colab.kernel.invokeFunction('convertToInteractive',\n",
              "                                                     [key], {});\n",
              "          if (!dataTable) return;\n",
              "\n",
              "          const docLinkHtml = 'Like what you see? Visit the ' +\n",
              "            '<a target=\"_blank\" href=https://colab.research.google.com/notebooks/data_table.ipynb>data table notebook</a>'\n",
              "            + ' to learn more about interactive tables.';\n",
              "          element.innerHTML = '';\n",
              "          dataTable['output_type'] = 'display_data';\n",
              "          await google.colab.output.renderOutput(dataTable, element);\n",
              "          const docLink = document.createElement('div');\n",
              "          docLink.innerHTML = docLinkHtml;\n",
              "          element.appendChild(docLink);\n",
              "        }\n",
              "      </script>\n",
              "    </div>\n",
              "  </div>\n",
              "  "
            ]
          },
          "metadata": {},
          "execution_count": 443
        }
      ]
    },
    {
      "cell_type": "code",
      "source": [
        "df.columns"
      ],
      "metadata": {
        "id": "fNPUxrgbT7Fl",
        "colab": {
          "base_uri": "https://localhost:8080/"
        },
        "outputId": "21e03b66-01b0-443e-e2e2-e818038541f0"
      },
      "execution_count": 444,
      "outputs": [
        {
          "output_type": "execute_result",
          "data": {
            "text/plain": [
              "Index(['date', 'precipitation', 'temp_max', 'temp_min', 'wind', 'weather'], dtype='object')"
            ]
          },
          "metadata": {},
          "execution_count": 444
        }
      ]
    },
    {
      "cell_type": "code",
      "source": [
        "df.info()"
      ],
      "metadata": {
        "colab": {
          "base_uri": "https://localhost:8080/"
        },
        "id": "dpcguakUwBQ7",
        "outputId": "4138d2e5-c7eb-40a2-9cea-722e0af088ae"
      },
      "execution_count": 445,
      "outputs": [
        {
          "output_type": "stream",
          "name": "stdout",
          "text": [
            "<class 'pandas.core.frame.DataFrame'>\n",
            "RangeIndex: 1461 entries, 0 to 1460\n",
            "Data columns (total 6 columns):\n",
            " #   Column         Non-Null Count  Dtype  \n",
            "---  ------         --------------  -----  \n",
            " 0   date           1461 non-null   object \n",
            " 1   precipitation  1461 non-null   float64\n",
            " 2   temp_max       1461 non-null   float64\n",
            " 3   temp_min       1461 non-null   float64\n",
            " 4   wind           1461 non-null   float64\n",
            " 5   weather        1461 non-null   object \n",
            "dtypes: float64(4), object(2)\n",
            "memory usage: 68.6+ KB\n"
          ]
        }
      ]
    },
    {
      "cell_type": "code",
      "source": [
        "df.describe()"
      ],
      "metadata": {
        "colab": {
          "base_uri": "https://localhost:8080/",
          "height": 364
        },
        "id": "ktIlZMz4wvnh",
        "outputId": "469083e3-c255-408f-959b-eb1c475f3a75"
      },
      "execution_count": 446,
      "outputs": [
        {
          "output_type": "execute_result",
          "data": {
            "text/plain": [
              "       precipitation     temp_max     temp_min         wind\n",
              "count    1461.000000  1461.000000  1461.000000  1461.000000\n",
              "mean        3.029432    16.439083     8.234771     3.241136\n",
              "std         6.680194     7.349758     5.023004     1.437825\n",
              "min         0.000000    -1.600000    -7.100000     0.400000\n",
              "25%         0.000000    10.600000     4.400000     2.200000\n",
              "50%         0.000000    15.600000     8.300000     3.000000\n",
              "75%         2.800000    22.200000    12.200000     4.000000\n",
              "max        55.900000    35.600000    18.300000     9.500000"
            ],
            "text/html": [
              "\n",
              "  <div id=\"df-95962e8f-baa6-421d-b6a6-2f72aa2e7adc\">\n",
              "    <div class=\"colab-df-container\">\n",
              "      <div>\n",
              "<style scoped>\n",
              "    .dataframe tbody tr th:only-of-type {\n",
              "        vertical-align: middle;\n",
              "    }\n",
              "\n",
              "    .dataframe tbody tr th {\n",
              "        vertical-align: top;\n",
              "    }\n",
              "\n",
              "    .dataframe thead th {\n",
              "        text-align: right;\n",
              "    }\n",
              "</style>\n",
              "<table border=\"1\" class=\"dataframe\">\n",
              "  <thead>\n",
              "    <tr style=\"text-align: right;\">\n",
              "      <th></th>\n",
              "      <th>precipitation</th>\n",
              "      <th>temp_max</th>\n",
              "      <th>temp_min</th>\n",
              "      <th>wind</th>\n",
              "    </tr>\n",
              "  </thead>\n",
              "  <tbody>\n",
              "    <tr>\n",
              "      <th>count</th>\n",
              "      <td>1461.000000</td>\n",
              "      <td>1461.000000</td>\n",
              "      <td>1461.000000</td>\n",
              "      <td>1461.000000</td>\n",
              "    </tr>\n",
              "    <tr>\n",
              "      <th>mean</th>\n",
              "      <td>3.029432</td>\n",
              "      <td>16.439083</td>\n",
              "      <td>8.234771</td>\n",
              "      <td>3.241136</td>\n",
              "    </tr>\n",
              "    <tr>\n",
              "      <th>std</th>\n",
              "      <td>6.680194</td>\n",
              "      <td>7.349758</td>\n",
              "      <td>5.023004</td>\n",
              "      <td>1.437825</td>\n",
              "    </tr>\n",
              "    <tr>\n",
              "      <th>min</th>\n",
              "      <td>0.000000</td>\n",
              "      <td>-1.600000</td>\n",
              "      <td>-7.100000</td>\n",
              "      <td>0.400000</td>\n",
              "    </tr>\n",
              "    <tr>\n",
              "      <th>25%</th>\n",
              "      <td>0.000000</td>\n",
              "      <td>10.600000</td>\n",
              "      <td>4.400000</td>\n",
              "      <td>2.200000</td>\n",
              "    </tr>\n",
              "    <tr>\n",
              "      <th>50%</th>\n",
              "      <td>0.000000</td>\n",
              "      <td>15.600000</td>\n",
              "      <td>8.300000</td>\n",
              "      <td>3.000000</td>\n",
              "    </tr>\n",
              "    <tr>\n",
              "      <th>75%</th>\n",
              "      <td>2.800000</td>\n",
              "      <td>22.200000</td>\n",
              "      <td>12.200000</td>\n",
              "      <td>4.000000</td>\n",
              "    </tr>\n",
              "    <tr>\n",
              "      <th>max</th>\n",
              "      <td>55.900000</td>\n",
              "      <td>35.600000</td>\n",
              "      <td>18.300000</td>\n",
              "      <td>9.500000</td>\n",
              "    </tr>\n",
              "  </tbody>\n",
              "</table>\n",
              "</div>\n",
              "      <button class=\"colab-df-convert\" onclick=\"convertToInteractive('df-95962e8f-baa6-421d-b6a6-2f72aa2e7adc')\"\n",
              "              title=\"Convert this dataframe to an interactive table.\"\n",
              "              style=\"display:none;\">\n",
              "        \n",
              "  <svg xmlns=\"http://www.w3.org/2000/svg\" height=\"24px\"viewBox=\"0 0 24 24\"\n",
              "       width=\"24px\">\n",
              "    <path d=\"M0 0h24v24H0V0z\" fill=\"none\"/>\n",
              "    <path d=\"M18.56 5.44l.94 2.06.94-2.06 2.06-.94-2.06-.94-.94-2.06-.94 2.06-2.06.94zm-11 1L8.5 8.5l.94-2.06 2.06-.94-2.06-.94L8.5 2.5l-.94 2.06-2.06.94zm10 10l.94 2.06.94-2.06 2.06-.94-2.06-.94-.94-2.06-.94 2.06-2.06.94z\"/><path d=\"M17.41 7.96l-1.37-1.37c-.4-.4-.92-.59-1.43-.59-.52 0-1.04.2-1.43.59L10.3 9.45l-7.72 7.72c-.78.78-.78 2.05 0 2.83L4 21.41c.39.39.9.59 1.41.59.51 0 1.02-.2 1.41-.59l7.78-7.78 2.81-2.81c.8-.78.8-2.07 0-2.86zM5.41 20L4 18.59l7.72-7.72 1.47 1.35L5.41 20z\"/>\n",
              "  </svg>\n",
              "      </button>\n",
              "      \n",
              "  <style>\n",
              "    .colab-df-container {\n",
              "      display:flex;\n",
              "      flex-wrap:wrap;\n",
              "      gap: 12px;\n",
              "    }\n",
              "\n",
              "    .colab-df-convert {\n",
              "      background-color: #E8F0FE;\n",
              "      border: none;\n",
              "      border-radius: 50%;\n",
              "      cursor: pointer;\n",
              "      display: none;\n",
              "      fill: #1967D2;\n",
              "      height: 32px;\n",
              "      padding: 0 0 0 0;\n",
              "      width: 32px;\n",
              "    }\n",
              "\n",
              "    .colab-df-convert:hover {\n",
              "      background-color: #E2EBFA;\n",
              "      box-shadow: 0px 1px 2px rgba(60, 64, 67, 0.3), 0px 1px 3px 1px rgba(60, 64, 67, 0.15);\n",
              "      fill: #174EA6;\n",
              "    }\n",
              "\n",
              "    [theme=dark] .colab-df-convert {\n",
              "      background-color: #3B4455;\n",
              "      fill: #D2E3FC;\n",
              "    }\n",
              "\n",
              "    [theme=dark] .colab-df-convert:hover {\n",
              "      background-color: #434B5C;\n",
              "      box-shadow: 0px 1px 3px 1px rgba(0, 0, 0, 0.15);\n",
              "      filter: drop-shadow(0px 1px 2px rgba(0, 0, 0, 0.3));\n",
              "      fill: #FFFFFF;\n",
              "    }\n",
              "  </style>\n",
              "\n",
              "      <script>\n",
              "        const buttonEl =\n",
              "          document.querySelector('#df-95962e8f-baa6-421d-b6a6-2f72aa2e7adc button.colab-df-convert');\n",
              "        buttonEl.style.display =\n",
              "          google.colab.kernel.accessAllowed ? 'block' : 'none';\n",
              "\n",
              "        async function convertToInteractive(key) {\n",
              "          const element = document.querySelector('#df-95962e8f-baa6-421d-b6a6-2f72aa2e7adc');\n",
              "          const dataTable =\n",
              "            await google.colab.kernel.invokeFunction('convertToInteractive',\n",
              "                                                     [key], {});\n",
              "          if (!dataTable) return;\n",
              "\n",
              "          const docLinkHtml = 'Like what you see? Visit the ' +\n",
              "            '<a target=\"_blank\" href=https://colab.research.google.com/notebooks/data_table.ipynb>data table notebook</a>'\n",
              "            + ' to learn more about interactive tables.';\n",
              "          element.innerHTML = '';\n",
              "          dataTable['output_type'] = 'display_data';\n",
              "          await google.colab.output.renderOutput(dataTable, element);\n",
              "          const docLink = document.createElement('div');\n",
              "          docLink.innerHTML = docLinkHtml;\n",
              "          element.appendChild(docLink);\n",
              "        }\n",
              "      </script>\n",
              "    </div>\n",
              "  </div>\n",
              "  "
            ]
          },
          "metadata": {},
          "execution_count": 446
        }
      ]
    },
    {
      "cell_type": "code",
      "source": [
        "df.isna().sum()"
      ],
      "metadata": {
        "id": "PIJmW2c4UZCa",
        "colab": {
          "base_uri": "https://localhost:8080/"
        },
        "outputId": "4c422840-708e-4cd7-d25b-04559c8bb85d"
      },
      "execution_count": 447,
      "outputs": [
        {
          "output_type": "execute_result",
          "data": {
            "text/plain": [
              "date             0\n",
              "precipitation    0\n",
              "temp_max         0\n",
              "temp_min         0\n",
              "wind             0\n",
              "weather          0\n",
              "dtype: int64"
            ]
          },
          "metadata": {},
          "execution_count": 447
        }
      ]
    },
    {
      "cell_type": "code",
      "source": [
        "df.dtypes"
      ],
      "metadata": {
        "id": "_FG_KPtVWAOU",
        "colab": {
          "base_uri": "https://localhost:8080/"
        },
        "outputId": "4e56b1f5-5fbf-4c49-9205-1b884b7893d8"
      },
      "execution_count": 448,
      "outputs": [
        {
          "output_type": "execute_result",
          "data": {
            "text/plain": [
              "date              object\n",
              "precipitation    float64\n",
              "temp_max         float64\n",
              "temp_min         float64\n",
              "wind             float64\n",
              "weather           object\n",
              "dtype: object"
            ]
          },
          "metadata": {},
          "execution_count": 448
        }
      ]
    },
    {
      "cell_type": "code",
      "source": [
        "df['temp_min'].value_counts()"
      ],
      "metadata": {
        "id": "__srVazlcd08",
        "colab": {
          "base_uri": "https://localhost:8080/"
        },
        "outputId": "f440cc8e-eec2-4bd9-d61b-62ee5207cccd"
      },
      "execution_count": 449,
      "outputs": [
        {
          "output_type": "execute_result",
          "data": {
            "text/plain": [
              " 6.1     66\n",
              " 10.0    64\n",
              " 11.7    60\n",
              " 7.2     60\n",
              " 13.3    58\n",
              " 11.1    56\n",
              " 4.4     55\n",
              " 13.9    54\n",
              " 9.4     53\n",
              " 8.3     52\n",
              " 15.0    51\n",
              " 8.9     51\n",
              " 5.6     50\n",
              " 6.7     47\n",
              " 14.4    46\n",
              " 7.8     46\n",
              " 12.2    45\n",
              " 2.8     45\n",
              " 12.8    45\n",
              " 3.3     44\n",
              " 3.9     44\n",
              " 5.0     41\n",
              " 10.6    37\n",
              " 1.7     30\n",
              " 0.6     28\n",
              " 1.1     27\n",
              " 15.6    27\n",
              " 2.2     24\n",
              " 16.1    23\n",
              " 0.0     16\n",
              " 16.7    15\n",
              " 17.2    14\n",
              " 17.8     9\n",
              "-0.5      9\n",
              "-2.1      8\n",
              "-0.6      7\n",
              "-1.1      7\n",
              "-2.8      7\n",
              "-1.7      6\n",
              " 18.3     6\n",
              "-4.9      4\n",
              "-1.6      3\n",
              "-3.2      3\n",
              "-2.2      3\n",
              "-1.0      2\n",
              "-2.7      2\n",
              "-4.3      2\n",
              "-3.9      2\n",
              "-6.6      1\n",
              "-7.1      1\n",
              "-5.5      1\n",
              "-6.0      1\n",
              "-3.3      1\n",
              "-4.4      1\n",
              "-3.8      1\n",
              "Name: temp_min, dtype: int64"
            ]
          },
          "metadata": {},
          "execution_count": 449
        }
      ]
    },
    {
      "cell_type": "code",
      "source": [
        "df['temp_max'].value_counts()"
      ],
      "metadata": {
        "id": "R4CYApnWb-9H",
        "colab": {
          "base_uri": "https://localhost:8080/"
        },
        "outputId": "c1b892e8-799c-4840-f1f2-35b9ae501aed"
      },
      "execution_count": 450,
      "outputs": [
        {
          "output_type": "execute_result",
          "data": {
            "text/plain": [
              " 11.1    58\n",
              " 14.4    49\n",
              " 10.0    47\n",
              " 12.8    46\n",
              " 12.2    44\n",
              "         ..\n",
              "-0.5      1\n",
              "-1.6      1\n",
              " 35.6     1\n",
              "-1.1      1\n",
              " 35.0     1\n",
              "Name: temp_max, Length: 67, dtype: int64"
            ]
          },
          "metadata": {},
          "execution_count": 450
        }
      ]
    },
    {
      "cell_type": "code",
      "source": [
        "df['wind'].value_counts()"
      ],
      "metadata": {
        "id": "QTqLEZbSc28j",
        "colab": {
          "base_uri": "https://localhost:8080/"
        },
        "outputId": "9f577c58-f178-4a52-ecdc-27c9d961813c"
      },
      "execution_count": 451,
      "outputs": [
        {
          "output_type": "execute_result",
          "data": {
            "text/plain": [
              "2.6    76\n",
              "3.0    65\n",
              "2.2    55\n",
              "2.5    51\n",
              "2.8    47\n",
              "       ..\n",
              "8.2     1\n",
              "0.4     1\n",
              "0.7     1\n",
              "6.9     1\n",
              "7.7     1\n",
              "Name: wind, Length: 79, dtype: int64"
            ]
          },
          "metadata": {},
          "execution_count": 451
        }
      ]
    },
    {
      "cell_type": "code",
      "source": [
        "df['weather'].value_counts()"
      ],
      "metadata": {
        "colab": {
          "base_uri": "https://localhost:8080/"
        },
        "id": "vgqc-5mM8-nJ",
        "outputId": "5d0c7d55-614a-45df-e5c5-27c815069318"
      },
      "execution_count": 452,
      "outputs": [
        {
          "output_type": "execute_result",
          "data": {
            "text/plain": [
              "rain       641\n",
              "sun        640\n",
              "fog        101\n",
              "drizzle     53\n",
              "snow        26\n",
              "Name: weather, dtype: int64"
            ]
          },
          "metadata": {},
          "execution_count": 452
        }
      ]
    },
    {
      "cell_type": "markdown",
      "source": [
        "#data visualization"
      ],
      "metadata": {
        "id": "91SkjFkqiUaL"
      }
    },
    {
      "cell_type": "code",
      "source": [
        "df.hist(bins=60, figsize=(20,10))"
      ],
      "metadata": {
        "id": "FJZGd3KhWkth",
        "colab": {
          "base_uri": "https://localhost:8080/",
          "height": 427
        },
        "outputId": "78b18c9a-8933-45df-b907-15b7dfb9e4d5"
      },
      "execution_count": 453,
      "outputs": [
        {
          "output_type": "execute_result",
          "data": {
            "text/plain": [
              "array([[<matplotlib.axes._subplots.AxesSubplot object at 0x7feff04d9970>,\n",
              "        <matplotlib.axes._subplots.AxesSubplot object at 0x7feff065da30>],\n",
              "       [<matplotlib.axes._subplots.AxesSubplot object at 0x7feff046a280>,\n",
              "        <matplotlib.axes._subplots.AxesSubplot object at 0x7feff06945e0>]],\n",
              "      dtype=object)"
            ]
          },
          "metadata": {},
          "execution_count": 453
        },
        {
          "output_type": "display_data",
          "data": {
            "text/plain": [
              "<Figure size 1440x720 with 4 Axes>"
            ],
            "image/png": "[encoded data removed]"
          },
          "metadata": {
            "needs_background": "light"
          }
        }
      ]
    },
    {
      "cell_type": "code",
      "source": [
        "# Group the data by weather type and count the occurrences of each type\n",
        "weather_counts = df['weather'].value_counts()\n",
        "\n",
        "\n",
        "# Create a horizontal bar chart using Plotly\n",
        "fig = go.Figure(go.Bar(\n",
        "    x=weather_counts.values,\n",
        "    y=weather_counts.index,\n",
        "    orientation='h'\n",
        "))\n",
        "\n",
        "\n",
        "\n",
        "# Set the chart title and axis labels\n",
        "fig.update_layout(\n",
        "    title='Distribution of Weather Types',\n",
        "    xaxis_title='Count',\n",
        "    yaxis_title='Weather Type'\n",
        ")\n",
        "\n",
        "# Show the chart\n",
        "fig.show()"
      ],
      "metadata": {
        "id": "KTy8eAn85_15",
        "colab": {
          "base_uri": "https://localhost:8080/",
          "height": 562
        },
        "outputId": "5aea7530-6ead-4f08-98b8-345b7b86bb5c"
      },
      "execution_count": 454,
      "outputs": [
        {
          "output_type": "display_data",
          "data": {
            "text/html": [
              "<html>\n",
              "<head><meta charset=\"utf-8\" /></head>\n",
              "<body>\n",
              "    <div>            <script src=\"https://cdnjs.cloudflare.com/ajax/libs/mathjax/2.7.5/MathJax.js?config=TeX-AMS-MML_SVG\"></script><script type=\"text/javascript\">if (window.MathJax) {MathJax.Hub.Config({SVG: {font: \"STIX-Web\"}});}</script>                <script type=\"text/javascript\">window.PlotlyConfig = {MathJaxConfig: 'local'};</script>\n",
              "        <script src=\"https://cdn.plot.ly/plotly-2.8.3.min.js\"></script>                <div id=\"225ba04d-d45e-45fe-8be7-c843717d65f1\" class=\"plotly-graph-div\" style=\"height:525px; width:100%;\"></div>            <script type=\"text/javascript\">                                    window.PLOTLYENV=window.PLOTLYENV || {};                                    if (document.getElementById(\"225ba04d-d45e-45fe-8be7-c843717d65f1\")) {                    Plotly.newPlot(                        \"225ba04d-d45e-45fe-8be7-c843717d65f1\",                        [{\"orientation\":\"h\",\"x\":[641,640,101,53,26],\"y\":[\"rain\",\"sun\",\"fog\",\"drizzle\",\"snow\"],\"type\":\"bar\"}],                        {\"template\":{\"data\":{\"bar\":[{\"error_x\":{\"color\":\"#2a3f5f\"},\"error_y\":{\"color\":\"#2a3f5f\"},\"marker\":{\"line\":{\"color\":\"#E5ECF6\",\"width\":0.5},\"pattern\":{\"fillmode\":\"overlay\",\"size\":10,\"solidity\":0.2}},\"type\":\"bar\"}],\"barpolar\":[{\"marker\":{\"line\":{\"color\":\"#E5ECF6\",\"width\":0.5},\"pattern\":{\"fillmode\":\"overlay\",\"size\":10,\"solidity\":0.2}},\"type\":\"barpolar\"}],\"carpet\":[{\"aaxis\":{\"endlinecolor\":\"#2a3f5f\",\"gridcolor\":\"white\",\"linecolor\":\"white\",\"minorgridcolor\":\"white\",\"startlinecolor\":\"#2a3f5f\"},\"baxis\":{\"endlinecolor\":\"#2a3f5f\",\"gridcolor\":\"white\",\"linecolor\":\"white\",\"minorgridcolor\":\"white\",\"startlinecolor\":\"#2a3f5f\"},\"type\":\"carpet\"}],\"choropleth\":[{\"colorbar\":{\"outlinewidth\":0,\"ticks\":\"\"},\"type\":\"choropleth\"}],\"contour\":[{\"colorbar\":{\"outlinewidth\":0,\"ticks\":\"\"},\"colorscale\":[[0.0,\"#0d0887\"],[0.1111111111111111,\"#46039f\"],[0.2222222222222222,\"#7201a8\"],[0.3333333333333333,\"#9c179e\"],[0.4444444444444444,\"#bd3786\"],[0.5555555555555556,\"#d8576b\"],[0.6666666666666666,\"#ed7953\"],[0.7777777777777778,\"#fb9f3a\"],[0.8888888888888888,\"#fdca26\"],[1.0,\"#f0f921\"]],\"type\":\"contour\"}],\"contourcarpet\":[{\"colorbar\":{\"outlinewidth\":0,\"ticks\":\"\"},\"type\":\"contourcarpet\"}],\"heatmap\":[{\"colorbar\":{\"outlinewidth\":0,\"ticks\":\"\"},\"colorscale\":[[0.0,\"#0d0887\"],[0.1111111111111111,\"#46039f\"],[0.2222222222222222,\"#7201a8\"],[0.3333333333333333,\"#9c179e\"],[0.4444444444444444,\"#bd3786\"],[0.5555555555555556,\"#d8576b\"],[0.6666666666666666,\"#ed7953\"],[0.7777777777777778,\"#fb9f3a\"],[0.8888888888888888,\"#fdca26\"],[1.0,\"#f0f921\"]],\"type\":\"heatmap\"}],\"heatmapgl\":[{\"colorbar\":{\"outlinewidth\":0,\"ticks\":\"\"},\"colorscale\":[[0.0,\"#0d0887\"],[0.1111111111111111,\"#46039f\"],[0.2222222222222222,\"#7201a8\"],[0.3333333333333333,\"#9c179e\"],[0.4444444444444444,\"#bd3786\"],[0.5555555555555556,\"#d8576b\"],[0.6666666666666666,\"#ed7953\"],[0.7777777777777778,\"#fb9f3a\"],[0.8888888888888888,\"#fdca26\"],[1.0,\"#f0f921\"]],\"type\":\"heatmapgl\"}],\"histogram\":[{\"marker\":{\"pattern\":{\"fillmode\":\"overlay\",\"size\":10,\"solidity\":0.2}},\"type\":\"histogram\"}],\"histogram2d\":[{\"colorbar\":{\"outlinewidth\":0,\"ticks\":\"\"},\"colorscale\":[[0.0,\"#0d0887\"],[0.1111111111111111,\"#46039f\"],[0.2222222222222222,\"#7201a8\"],[0.3333333333333333,\"#9c179e\"],[0.4444444444444444,\"#bd3786\"],[0.5555555555555556,\"#d8576b\"],[0.6666666666666666,\"#ed7953\"],[0.7777777777777778,\"#fb9f3a\"],[0.8888888888888888,\"#fdca26\"],[1.0,\"#f0f921\"]],\"type\":\"histogram2d\"}],\"histogram2dcontour\":[{\"colorbar\":{\"outlinewidth\":0,\"ticks\":\"\"},\"colorscale\":[[0.0,\"#0d0887\"],[0.1111111111111111,\"#46039f\"],[0.2222222222222222,\"#7201a8\"],[0.3333333333333333,\"#9c179e\"],[0.4444444444444444,\"#bd3786\"],[0.5555555555555556,\"#d8576b\"],[0.6666666666666666,\"#ed7953\"],[0.7777777777777778,\"#fb9f3a\"],[0.8888888888888888,\"#fdca26\"],[1.0,\"#f0f921\"]],\"type\":\"histogram2dcontour\"}],\"mesh3d\":[{\"colorbar\":{\"outlinewidth\":0,\"ticks\":\"\"},\"type\":\"mesh3d\"}],\"parcoords\":[{\"line\":{\"colorbar\":{\"outlinewidth\":0,\"ticks\":\"\"}},\"type\":\"parcoords\"}],\"pie\":[{\"automargin\":true,\"type\":\"pie\"}],\"scatter\":[{\"marker\":{\"colorbar\":{\"outlinewidth\":0,\"ticks\":\"\"}},\"type\":\"scatter\"}],\"scatter3d\":[{\"line\":{\"colorbar\":{\"outlinewidth\":0,\"ticks\":\"\"}},\"marker\":{\"colorbar\":{\"outlinewidth\":0,\"ticks\":\"\"}},\"type\":\"scatter3d\"}],\"scattercarpet\":[{\"marker\":{\"colorbar\":{\"outlinewidth\":0,\"ticks\":\"\"}},\"type\":\"scattercarpet\"}],\"scattergeo\":[{\"marker\":{\"colorbar\":{\"outlinewidth\":0,\"ticks\":\"\"}},\"type\":\"scattergeo\"}],\"scattergl\":[{\"marker\":{\"colorbar\":{\"outlinewidth\":0,\"ticks\":\"\"}},\"type\":\"scattergl\"}],\"scattermapbox\":[{\"marker\":{\"colorbar\":{\"outlinewidth\":0,\"ticks\":\"\"}},\"type\":\"scattermapbox\"}],\"scatterpolar\":[{\"marker\":{\"colorbar\":{\"outlinewidth\":0,\"ticks\":\"\"}},\"type\":\"scatterpolar\"}],\"scatterpolargl\":[{\"marker\":{\"colorbar\":{\"outlinewidth\":0,\"ticks\":\"\"}},\"type\":\"scatterpolargl\"}],\"scatterternary\":[{\"marker\":{\"colorbar\":{\"outlinewidth\":0,\"ticks\":\"\"}},\"type\":\"scatterternary\"}],\"surface\":[{\"colorbar\":{\"outlinewidth\":0,\"ticks\":\"\"},\"colorscale\":[[0.0,\"#0d0887\"],[0.1111111111111111,\"#46039f\"],[0.2222222222222222,\"#7201a8\"],[0.3333333333333333,\"#9c179e\"],[0.4444444444444444,\"#bd3786\"],[0.5555555555555556,\"#d8576b\"],[0.6666666666666666,\"#ed7953\"],[0.7777777777777778,\"#fb9f3a\"],[0.8888888888888888,\"#fdca26\"],[1.0,\"#f0f921\"]],\"type\":\"surface\"}],\"table\":[{\"cells\":{\"fill\":{\"color\":\"#EBF0F8\"},\"line\":{\"color\":\"white\"}},\"header\":{\"fill\":{\"color\":\"#C8D4E3\"},\"line\":{\"color\":\"white\"}},\"type\":\"table\"}]},\"layout\":{\"annotationdefaults\":{\"arrowcolor\":\"#2a3f5f\",\"arrowhead\":0,\"arrowwidth\":1},\"autotypenumbers\":\"strict\",\"coloraxis\":{\"colorbar\":{\"outlinewidth\":0,\"ticks\":\"\"}},\"colorscale\":{\"diverging\":[[0,\"#8e0152\"],[0.1,\"#c51b7d\"],[0.2,\"#de77ae\"],[0.3,\"#f1b6da\"],[0.4,\"#fde0ef\"],[0.5,\"#f7f7f7\"],[0.6,\"#e6f5d0\"],[0.7,\"#b8e186\"],[0.8,\"#7fbc41\"],[0.9,\"#4d9221\"],[1,\"#276419\"]],\"sequential\":[[0.0,\"#0d0887\"],[0.1111111111111111,\"#46039f\"],[0.2222222222222222,\"#7201a8\"],[0.3333333333333333,\"#9c179e\"],[0.4444444444444444,\"#bd3786\"],[0.5555555555555556,\"#d8576b\"],[0.6666666666666666,\"#ed7953\"],[0.7777777777777778,\"#fb9f3a\"],[0.8888888888888888,\"#fdca26\"],[1.0,\"#f0f921\"]],\"sequentialminus\":[[0.0,\"#0d0887\"],[0.1111111111111111,\"#46039f\"],[0.2222222222222222,\"#7201a8\"],[0.3333333333333333,\"#9c179e\"],[0.4444444444444444,\"#bd3786\"],[0.5555555555555556,\"#d8576b\"],[0.6666666666666666,\"#ed7953\"],[0.7777777777777778,\"#fb9f3a\"],[0.8888888888888888,\"#fdca26\"],[1.0,\"#f0f921\"]]},\"colorway\":[\"#636efa\",\"#EF553B\",\"#00cc96\",\"#ab63fa\",\"#FFA15A\",\"#19d3f3\",\"#FF6692\",\"#B6E880\",\"#FF97FF\",\"#FECB52\"],\"font\":{\"color\":\"#2a3f5f\"},\"geo\":{\"bgcolor\":\"white\",\"lakecolor\":\"white\",\"landcolor\":\"#E5ECF6\",\"showlakes\":true,\"showland\":true,\"subunitcolor\":\"white\"},\"hoverlabel\":{\"align\":\"left\"},\"hovermode\":\"closest\",\"mapbox\":{\"style\":\"light\"},\"paper_bgcolor\":\"white\",\"plot_bgcolor\":\"#E5ECF6\",\"polar\":{\"angularaxis\":{\"gridcolor\":\"white\",\"linecolor\":\"white\",\"ticks\":\"\"},\"bgcolor\":\"#E5ECF6\",\"radialaxis\":{\"gridcolor\":\"white\",\"linecolor\":\"white\",\"ticks\":\"\"}},\"scene\":{\"xaxis\":{\"backgroundcolor\":\"#E5ECF6\",\"gridcolor\":\"white\",\"gridwidth\":2,\"linecolor\":\"white\",\"showbackground\":true,\"ticks\":\"\",\"zerolinecolor\":\"white\"},\"yaxis\":{\"backgroundcolor\":\"#E5ECF6\",\"gridcolor\":\"white\",\"gridwidth\":2,\"linecolor\":\"white\",\"showbackground\":true,\"ticks\":\"\",\"zerolinecolor\":\"white\"},\"zaxis\":{\"backgroundcolor\":\"#E5ECF6\",\"gridcolor\":\"white\",\"gridwidth\":2,\"linecolor\":\"white\",\"showbackground\":true,\"ticks\":\"\",\"zerolinecolor\":\"white\"}},\"shapedefaults\":{\"line\":{\"color\":\"#2a3f5f\"}},\"ternary\":{\"aaxis\":{\"gridcolor\":\"white\",\"linecolor\":\"white\",\"ticks\":\"\"},\"baxis\":{\"gridcolor\":\"white\",\"linecolor\":\"white\",\"ticks\":\"\"},\"bgcolor\":\"#E5ECF6\",\"caxis\":{\"gridcolor\":\"white\",\"linecolor\":\"white\",\"ticks\":\"\"}},\"title\":{\"x\":0.05},\"xaxis\":{\"automargin\":true,\"gridcolor\":\"white\",\"linecolor\":\"white\",\"ticks\":\"\",\"title\":{\"standoff\":15},\"zerolinecolor\":\"white\",\"zerolinewidth\":2},\"yaxis\":{\"automargin\":true,\"gridcolor\":\"white\",\"linecolor\":\"white\",\"ticks\":\"\",\"title\":{\"standoff\":15},\"zerolinecolor\":\"white\",\"zerolinewidth\":2}}},\"title\":{\"text\":\"Distribution of Weather Types\"},\"xaxis\":{\"title\":{\"text\":\"Count\"}},\"yaxis\":{\"title\":{\"text\":\"Weather Type\"}}},                        {\"responsive\": true}                    ).then(function(){\n",
              "                            \n",
              "var gd = document.getElementById('225ba04d-d45e-45fe-8be7-c843717d65f1');\n",
              "var x = new MutationObserver(function (mutations, observer) {{\n",
              "        var display = window.getComputedStyle(gd).display;\n",
              "        if (!display || display === 'none') {{\n",
              "            console.log([gd, 'removed!']);\n",
              "            Plotly.purge(gd);\n",
              "            observer.disconnect();\n",
              "        }}\n",
              "}});\n",
              "\n",
              "// Listen for the removal of the full notebook cells\n",
              "var notebookContainer = gd.closest('#notebook-container');\n",
              "if (notebookContainer) {{\n",
              "    x.observe(notebookContainer, {childList: true});\n",
              "}}\n",
              "\n",
              "// Listen for the clearing of the current output cell\n",
              "var outputEl = gd.closest('.output');\n",
              "if (outputEl) {{\n",
              "    x.observe(outputEl, {childList: true});\n",
              "}}\n",
              "\n",
              "                        })                };                            </script>        </div>\n",
              "</body>\n",
              "</html>"
            ]
          },
          "metadata": {}
        }
      ]
    },
    {
      "cell_type": "code",
      "source": [
        "# Create a pie chart using Plotly\n",
        "fig = go.Figure(go.Pie(\n",
        "    labels=weather_counts.index,\n",
        "    values=weather_counts.values\n",
        "))\n",
        "\n",
        "# Set the chart title\n",
        "fig.update_layout(title='Distribution of Weather Types')\n",
        "\n",
        "# Show the chart\n",
        "fig.show()"
      ],
      "metadata": {
        "id": "iDvxCtBk9Le1",
        "colab": {
          "base_uri": "https://localhost:8080/",
          "height": 562
        },
        "outputId": "58dc92d4-0065-4e34-cb56-b65581908d52"
      },
      "execution_count": 455,
      "outputs": [
        {
          "output_type": "display_data",
          "data": {
            "text/html": [
              "<html>\n",
              "<head><meta charset=\"utf-8\" /></head>\n",
              "<body>\n",
              "    <div>            <script src=\"https://cdnjs.cloudflare.com/ajax/libs/mathjax/2.7.5/MathJax.js?config=TeX-AMS-MML_SVG\"></script><script type=\"text/javascript\">if (window.MathJax) {MathJax.Hub.Config({SVG: {font: \"STIX-Web\"}});}</script>                <script type=\"text/javascript\">window.PlotlyConfig = {MathJaxConfig: 'local'};</script>\n",
              "        <script src=\"https://cdn.plot.ly/plotly-2.8.3.min.js\"></script>                <div id=\"47dca186-334c-4251-8bd5-58d365609aa5\" class=\"plotly-graph-div\" style=\"height:525px; width:100%;\"></div>            <script type=\"text/javascript\">                                    window.PLOTLYENV=window.PLOTLYENV || {};                                    if (document.getElementById(\"47dca186-334c-4251-8bd5-58d365609aa5\")) {                    Plotly.newPlot(                        \"47dca186-334c-4251-8bd5-58d365609aa5\",                        [{\"labels\":[\"rain\",\"sun\",\"fog\",\"drizzle\",\"snow\"],\"values\":[641,640,101,53,26],\"type\":\"pie\"}],                        {\"template\":{\"data\":{\"bar\":[{\"error_x\":{\"color\":\"#2a3f5f\"},\"error_y\":{\"color\":\"#2a3f5f\"},\"marker\":{\"line\":{\"color\":\"#E5ECF6\",\"width\":0.5},\"pattern\":{\"fillmode\":\"overlay\",\"size\":10,\"solidity\":0.2}},\"type\":\"bar\"}],\"barpolar\":[{\"marker\":{\"line\":{\"color\":\"#E5ECF6\",\"width\":0.5},\"pattern\":{\"fillmode\":\"overlay\",\"size\":10,\"solidity\":0.2}},\"type\":\"barpolar\"}],\"carpet\":[{\"aaxis\":{\"endlinecolor\":\"#2a3f5f\",\"gridcolor\":\"white\",\"linecolor\":\"white\",\"minorgridcolor\":\"white\",\"startlinecolor\":\"#2a3f5f\"},\"baxis\":{\"endlinecolor\":\"#2a3f5f\",\"gridcolor\":\"white\",\"linecolor\":\"white\",\"minorgridcolor\":\"white\",\"startlinecolor\":\"#2a3f5f\"},\"type\":\"carpet\"}],\"choropleth\":[{\"colorbar\":{\"outlinewidth\":0,\"ticks\":\"\"},\"type\":\"choropleth\"}],\"contour\":[{\"colorbar\":{\"outlinewidth\":0,\"ticks\":\"\"},\"colorscale\":[[0.0,\"#0d0887\"],[0.1111111111111111,\"#46039f\"],[0.2222222222222222,\"#7201a8\"],[0.3333333333333333,\"#9c179e\"],[0.4444444444444444,\"#bd3786\"],[0.5555555555555556,\"#d8576b\"],[0.6666666666666666,\"#ed7953\"],[0.7777777777777778,\"#fb9f3a\"],[0.8888888888888888,\"#fdca26\"],[1.0,\"#f0f921\"]],\"type\":\"contour\"}],\"contourcarpet\":[{\"colorbar\":{\"outlinewidth\":0,\"ticks\":\"\"},\"type\":\"contourcarpet\"}],\"heatmap\":[{\"colorbar\":{\"outlinewidth\":0,\"ticks\":\"\"},\"colorscale\":[[0.0,\"#0d0887\"],[0.1111111111111111,\"#46039f\"],[0.2222222222222222,\"#7201a8\"],[0.3333333333333333,\"#9c179e\"],[0.4444444444444444,\"#bd3786\"],[0.5555555555555556,\"#d8576b\"],[0.6666666666666666,\"#ed7953\"],[0.7777777777777778,\"#fb9f3a\"],[0.8888888888888888,\"#fdca26\"],[1.0,\"#f0f921\"]],\"type\":\"heatmap\"}],\"heatmapgl\":[{\"colorbar\":{\"outlinewidth\":0,\"ticks\":\"\"},\"colorscale\":[[0.0,\"#0d0887\"],[0.1111111111111111,\"#46039f\"],[0.2222222222222222,\"#7201a8\"],[0.3333333333333333,\"#9c179e\"],[0.4444444444444444,\"#bd3786\"],[0.5555555555555556,\"#d8576b\"],[0.6666666666666666,\"#ed7953\"],[0.7777777777777778,\"#fb9f3a\"],[0.8888888888888888,\"#fdca26\"],[1.0,\"#f0f921\"]],\"type\":\"heatmapgl\"}],\"histogram\":[{\"marker\":{\"pattern\":{\"fillmode\":\"overlay\",\"size\":10,\"solidity\":0.2}},\"type\":\"histogram\"}],\"histogram2d\":[{\"colorbar\":{\"outlinewidth\":0,\"ticks\":\"\"},\"colorscale\":[[0.0,\"#0d0887\"],[0.1111111111111111,\"#46039f\"],[0.2222222222222222,\"#7201a8\"],[0.3333333333333333,\"#9c179e\"],[0.4444444444444444,\"#bd3786\"],[0.5555555555555556,\"#d8576b\"],[0.6666666666666666,\"#ed7953\"],[0.7777777777777778,\"#fb9f3a\"],[0.8888888888888888,\"#fdca26\"],[1.0,\"#f0f921\"]],\"type\":\"histogram2d\"}],\"histogram2dcontour\":[{\"colorbar\":{\"outlinewidth\":0,\"ticks\":\"\"},\"colorscale\":[[0.0,\"#0d0887\"],[0.1111111111111111,\"#46039f\"],[0.2222222222222222,\"#7201a8\"],[0.3333333333333333,\"#9c179e\"],[0.4444444444444444,\"#bd3786\"],[0.5555555555555556,\"#d8576b\"],[0.6666666666666666,\"#ed7953\"],[0.7777777777777778,\"#fb9f3a\"],[0.8888888888888888,\"#fdca26\"],[1.0,\"#f0f921\"]],\"type\":\"histogram2dcontour\"}],\"mesh3d\":[{\"colorbar\":{\"outlinewidth\":0,\"ticks\":\"\"},\"type\":\"mesh3d\"}],\"parcoords\":[{\"line\":{\"colorbar\":{\"outlinewidth\":0,\"ticks\":\"\"}},\"type\":\"parcoords\"}],\"pie\":[{\"automargin\":true,\"type\":\"pie\"}],\"scatter\":[{\"marker\":{\"colorbar\":{\"outlinewidth\":0,\"ticks\":\"\"}},\"type\":\"scatter\"}],\"scatter3d\":[{\"line\":{\"colorbar\":{\"outlinewidth\":0,\"ticks\":\"\"}},\"marker\":{\"colorbar\":{\"outlinewidth\":0,\"ticks\":\"\"}},\"type\":\"scatter3d\"}],\"scattercarpet\":[{\"marker\":{\"colorbar\":{\"outlinewidth\":0,\"ticks\":\"\"}},\"type\":\"scattercarpet\"}],\"scattergeo\":[{\"marker\":{\"colorbar\":{\"outlinewidth\":0,\"ticks\":\"\"}},\"type\":\"scattergeo\"}],\"scattergl\":[{\"marker\":{\"colorbar\":{\"outlinewidth\":0,\"ticks\":\"\"}},\"type\":\"scattergl\"}],\"scattermapbox\":[{\"marker\":{\"colorbar\":{\"outlinewidth\":0,\"ticks\":\"\"}},\"type\":\"scattermapbox\"}],\"scatterpolar\":[{\"marker\":{\"colorbar\":{\"outlinewidth\":0,\"ticks\":\"\"}},\"type\":\"scatterpolar\"}],\"scatterpolargl\":[{\"marker\":{\"colorbar\":{\"outlinewidth\":0,\"ticks\":\"\"}},\"type\":\"scatterpolargl\"}],\"scatterternary\":[{\"marker\":{\"colorbar\":{\"outlinewidth\":0,\"ticks\":\"\"}},\"type\":\"scatterternary\"}],\"surface\":[{\"colorbar\":{\"outlinewidth\":0,\"ticks\":\"\"},\"colorscale\":[[0.0,\"#0d0887\"],[0.1111111111111111,\"#46039f\"],[0.2222222222222222,\"#7201a8\"],[0.3333333333333333,\"#9c179e\"],[0.4444444444444444,\"#bd3786\"],[0.5555555555555556,\"#d8576b\"],[0.6666666666666666,\"#ed7953\"],[0.7777777777777778,\"#fb9f3a\"],[0.8888888888888888,\"#fdca26\"],[1.0,\"#f0f921\"]],\"type\":\"surface\"}],\"table\":[{\"cells\":{\"fill\":{\"color\":\"#EBF0F8\"},\"line\":{\"color\":\"white\"}},\"header\":{\"fill\":{\"color\":\"#C8D4E3\"},\"line\":{\"color\":\"white\"}},\"type\":\"table\"}]},\"layout\":{\"annotationdefaults\":{\"arrowcolor\":\"#2a3f5f\",\"arrowhead\":0,\"arrowwidth\":1},\"autotypenumbers\":\"strict\",\"coloraxis\":{\"colorbar\":{\"outlinewidth\":0,\"ticks\":\"\"}},\"colorscale\":{\"diverging\":[[0,\"#8e0152\"],[0.1,\"#c51b7d\"],[0.2,\"#de77ae\"],[0.3,\"#f1b6da\"],[0.4,\"#fde0ef\"],[0.5,\"#f7f7f7\"],[0.6,\"#e6f5d0\"],[0.7,\"#b8e186\"],[0.8,\"#7fbc41\"],[0.9,\"#4d9221\"],[1,\"#276419\"]],\"sequential\":[[0.0,\"#0d0887\"],[0.1111111111111111,\"#46039f\"],[0.2222222222222222,\"#7201a8\"],[0.3333333333333333,\"#9c179e\"],[0.4444444444444444,\"#bd3786\"],[0.5555555555555556,\"#d8576b\"],[0.6666666666666666,\"#ed7953\"],[0.7777777777777778,\"#fb9f3a\"],[0.8888888888888888,\"#fdca26\"],[1.0,\"#f0f921\"]],\"sequentialminus\":[[0.0,\"#0d0887\"],[0.1111111111111111,\"#46039f\"],[0.2222222222222222,\"#7201a8\"],[0.3333333333333333,\"#9c179e\"],[0.4444444444444444,\"#bd3786\"],[0.5555555555555556,\"#d8576b\"],[0.6666666666666666,\"#ed7953\"],[0.7777777777777778,\"#fb9f3a\"],[0.8888888888888888,\"#fdca26\"],[1.0,\"#f0f921\"]]},\"colorway\":[\"#636efa\",\"#EF553B\",\"#00cc96\",\"#ab63fa\",\"#FFA15A\",\"#19d3f3\",\"#FF6692\",\"#B6E880\",\"#FF97FF\",\"#FECB52\"],\"font\":{\"color\":\"#2a3f5f\"},\"geo\":{\"bgcolor\":\"white\",\"lakecolor\":\"white\",\"landcolor\":\"#E5ECF6\",\"showlakes\":true,\"showland\":true,\"subunitcolor\":\"white\"},\"hoverlabel\":{\"align\":\"left\"},\"hovermode\":\"closest\",\"mapbox\":{\"style\":\"light\"},\"paper_bgcolor\":\"white\",\"plot_bgcolor\":\"#E5ECF6\",\"polar\":{\"angularaxis\":{\"gridcolor\":\"white\",\"linecolor\":\"white\",\"ticks\":\"\"},\"bgcolor\":\"#E5ECF6\",\"radialaxis\":{\"gridcolor\":\"white\",\"linecolor\":\"white\",\"ticks\":\"\"}},\"scene\":{\"xaxis\":{\"backgroundcolor\":\"#E5ECF6\",\"gridcolor\":\"white\",\"gridwidth\":2,\"linecolor\":\"white\",\"showbackground\":true,\"ticks\":\"\",\"zerolinecolor\":\"white\"},\"yaxis\":{\"backgroundcolor\":\"#E5ECF6\",\"gridcolor\":\"white\",\"gridwidth\":2,\"linecolor\":\"white\",\"showbackground\":true,\"ticks\":\"\",\"zerolinecolor\":\"white\"},\"zaxis\":{\"backgroundcolor\":\"#E5ECF6\",\"gridcolor\":\"white\",\"gridwidth\":2,\"linecolor\":\"white\",\"showbackground\":true,\"ticks\":\"\",\"zerolinecolor\":\"white\"}},\"shapedefaults\":{\"line\":{\"color\":\"#2a3f5f\"}},\"ternary\":{\"aaxis\":{\"gridcolor\":\"white\",\"linecolor\":\"white\",\"ticks\":\"\"},\"baxis\":{\"gridcolor\":\"white\",\"linecolor\":\"white\",\"ticks\":\"\"},\"bgcolor\":\"#E5ECF6\",\"caxis\":{\"gridcolor\":\"white\",\"linecolor\":\"white\",\"ticks\":\"\"}},\"title\":{\"x\":0.05},\"xaxis\":{\"automargin\":true,\"gridcolor\":\"white\",\"linecolor\":\"white\",\"ticks\":\"\",\"title\":{\"standoff\":15},\"zerolinecolor\":\"white\",\"zerolinewidth\":2},\"yaxis\":{\"automargin\":true,\"gridcolor\":\"white\",\"linecolor\":\"white\",\"ticks\":\"\",\"title\":{\"standoff\":15},\"zerolinecolor\":\"white\",\"zerolinewidth\":2}}},\"title\":{\"text\":\"Distribution of Weather Types\"}},                        {\"responsive\": true}                    ).then(function(){\n",
              "                            \n",
              "var gd = document.getElementById('47dca186-334c-4251-8bd5-58d365609aa5');\n",
              "var x = new MutationObserver(function (mutations, observer) {{\n",
              "        var display = window.getComputedStyle(gd).display;\n",
              "        if (!display || display === 'none') {{\n",
              "            console.log([gd, 'removed!']);\n",
              "            Plotly.purge(gd);\n",
              "            observer.disconnect();\n",
              "        }}\n",
              "}});\n",
              "\n",
              "// Listen for the removal of the full notebook cells\n",
              "var notebookContainer = gd.closest('#notebook-container');\n",
              "if (notebookContainer) {{\n",
              "    x.observe(notebookContainer, {childList: true});\n",
              "}}\n",
              "\n",
              "// Listen for the clearing of the current output cell\n",
              "var outputEl = gd.closest('.output');\n",
              "if (outputEl) {{\n",
              "    x.observe(outputEl, {childList: true});\n",
              "}}\n",
              "\n",
              "                        })                };                            </script>        </div>\n",
              "</body>\n",
              "</html>"
            ]
          },
          "metadata": {}
        }
      ]
    },
    {
      "cell_type": "code",
      "source": [
        "#Sunburst chart\n",
        "\n",
        "# Group the data by weather type and count the occurrences of each type\n",
        "weather_counts = df.groupby('weather').size()\n",
        "\n",
        "# Convert the MultiIndex to a regular index\n",
        "weather_counts.index = weather_counts.index.map('_'.join)\n",
        "\n",
        "# Create a treemap using Plotly\n",
        "fig = px.treemap(\n",
        "    names=weather_counts.index,\n",
        "    parents=['Weather'] * len(weather_counts),\n",
        "    values=weather_counts.values\n",
        ")\n",
        "\n",
        "# Set the chart title\n",
        "fig.update_layout(title='Distribution of Weather Types')\n",
        "\n",
        "# Show the chart\n",
        "fig.show()"
      ],
      "metadata": {
        "colab": {
          "base_uri": "https://localhost:8080/",
          "height": 562
        },
        "id": "GxDoAxP2d6OU",
        "outputId": "adb030c7-9e9c-4775-c056-a1614ee000d8"
      },
      "execution_count": 456,
      "outputs": [
        {
          "output_type": "display_data",
          "data": {
            "text/html": [
              "<html>\n",
              "<head><meta charset=\"utf-8\" /></head>\n",
              "<body>\n",
              "    <div>            <script src=\"https://cdnjs.cloudflare.com/ajax/libs/mathjax/2.7.5/MathJax.js?config=TeX-AMS-MML_SVG\"></script><script type=\"text/javascript\">if (window.MathJax) {MathJax.Hub.Config({SVG: {font: \"STIX-Web\"}});}</script>                <script type=\"text/javascript\">window.PlotlyConfig = {MathJaxConfig: 'local'};</script>\n",
              "        <script src=\"https://cdn.plot.ly/plotly-2.8.3.min.js\"></script>                <div id=\"2d911177-cc17-4148-b3f0-b7631ecf923e\" class=\"plotly-graph-div\" style=\"height:525px; width:100%;\"></div>            <script type=\"text/javascript\">                                    window.PLOTLYENV=window.PLOTLYENV || {};                                    if (document.getElementById(\"2d911177-cc17-4148-b3f0-b7631ecf923e\")) {                    Plotly.newPlot(                        \"2d911177-cc17-4148-b3f0-b7631ecf923e\",                        [{\"domain\":{\"x\":[0.0,1.0],\"y\":[0.0,1.0]},\"hovertemplate\":\"label=%{label}<br>value=%{value}<br>parent=%{parent}<extra></extra>\",\"labels\":[\"d_r_i_z_z_l_e\",\"f_o_g\",\"r_a_i_n\",\"s_n_o_w\",\"s_u_n\"],\"name\":\"\",\"parents\":[\"Weather\",\"Weather\",\"Weather\",\"Weather\",\"Weather\"],\"values\":[53,101,641,26,640],\"type\":\"treemap\"}],                        {\"template\":{\"data\":{\"bar\":[{\"error_x\":{\"color\":\"#2a3f5f\"},\"error_y\":{\"color\":\"#2a3f5f\"},\"marker\":{\"line\":{\"color\":\"#E5ECF6\",\"width\":0.5},\"pattern\":{\"fillmode\":\"overlay\",\"size\":10,\"solidity\":0.2}},\"type\":\"bar\"}],\"barpolar\":[{\"marker\":{\"line\":{\"color\":\"#E5ECF6\",\"width\":0.5},\"pattern\":{\"fillmode\":\"overlay\",\"size\":10,\"solidity\":0.2}},\"type\":\"barpolar\"}],\"carpet\":[{\"aaxis\":{\"endlinecolor\":\"#2a3f5f\",\"gridcolor\":\"white\",\"linecolor\":\"white\",\"minorgridcolor\":\"white\",\"startlinecolor\":\"#2a3f5f\"},\"baxis\":{\"endlinecolor\":\"#2a3f5f\",\"gridcolor\":\"white\",\"linecolor\":\"white\",\"minorgridcolor\":\"white\",\"startlinecolor\":\"#2a3f5f\"},\"type\":\"carpet\"}],\"choropleth\":[{\"colorbar\":{\"outlinewidth\":0,\"ticks\":\"\"},\"type\":\"choropleth\"}],\"contour\":[{\"colorbar\":{\"outlinewidth\":0,\"ticks\":\"\"},\"colorscale\":[[0.0,\"#0d0887\"],[0.1111111111111111,\"#46039f\"],[0.2222222222222222,\"#7201a8\"],[0.3333333333333333,\"#9c179e\"],[0.4444444444444444,\"#bd3786\"],[0.5555555555555556,\"#d8576b\"],[0.6666666666666666,\"#ed7953\"],[0.7777777777777778,\"#fb9f3a\"],[0.8888888888888888,\"#fdca26\"],[1.0,\"#f0f921\"]],\"type\":\"contour\"}],\"contourcarpet\":[{\"colorbar\":{\"outlinewidth\":0,\"ticks\":\"\"},\"type\":\"contourcarpet\"}],\"heatmap\":[{\"colorbar\":{\"outlinewidth\":0,\"ticks\":\"\"},\"colorscale\":[[0.0,\"#0d0887\"],[0.1111111111111111,\"#46039f\"],[0.2222222222222222,\"#7201a8\"],[0.3333333333333333,\"#9c179e\"],[0.4444444444444444,\"#bd3786\"],[0.5555555555555556,\"#d8576b\"],[0.6666666666666666,\"#ed7953\"],[0.7777777777777778,\"#fb9f3a\"],[0.8888888888888888,\"#fdca26\"],[1.0,\"#f0f921\"]],\"type\":\"heatmap\"}],\"heatmapgl\":[{\"colorbar\":{\"outlinewidth\":0,\"ticks\":\"\"},\"colorscale\":[[0.0,\"#0d0887\"],[0.1111111111111111,\"#46039f\"],[0.2222222222222222,\"#7201a8\"],[0.3333333333333333,\"#9c179e\"],[0.4444444444444444,\"#bd3786\"],[0.5555555555555556,\"#d8576b\"],[0.6666666666666666,\"#ed7953\"],[0.7777777777777778,\"#fb9f3a\"],[0.8888888888888888,\"#fdca26\"],[1.0,\"#f0f921\"]],\"type\":\"heatmapgl\"}],\"histogram\":[{\"marker\":{\"pattern\":{\"fillmode\":\"overlay\",\"size\":10,\"solidity\":0.2}},\"type\":\"histogram\"}],\"histogram2d\":[{\"colorbar\":{\"outlinewidth\":0,\"ticks\":\"\"},\"colorscale\":[[0.0,\"#0d0887\"],[0.1111111111111111,\"#46039f\"],[0.2222222222222222,\"#7201a8\"],[0.3333333333333333,\"#9c179e\"],[0.4444444444444444,\"#bd3786\"],[0.5555555555555556,\"#d8576b\"],[0.6666666666666666,\"#ed7953\"],[0.7777777777777778,\"#fb9f3a\"],[0.8888888888888888,\"#fdca26\"],[1.0,\"#f0f921\"]],\"type\":\"histogram2d\"}],\"histogram2dcontour\":[{\"colorbar\":{\"outlinewidth\":0,\"ticks\":\"\"},\"colorscale\":[[0.0,\"#0d0887\"],[0.1111111111111111,\"#46039f\"],[0.2222222222222222,\"#7201a8\"],[0.3333333333333333,\"#9c179e\"],[0.4444444444444444,\"#bd3786\"],[0.5555555555555556,\"#d8576b\"],[0.6666666666666666,\"#ed7953\"],[0.7777777777777778,\"#fb9f3a\"],[0.8888888888888888,\"#fdca26\"],[1.0,\"#f0f921\"]],\"type\":\"histogram2dcontour\"}],\"mesh3d\":[{\"colorbar\":{\"outlinewidth\":0,\"ticks\":\"\"},\"type\":\"mesh3d\"}],\"parcoords\":[{\"line\":{\"colorbar\":{\"outlinewidth\":0,\"ticks\":\"\"}},\"type\":\"parcoords\"}],\"pie\":[{\"automargin\":true,\"type\":\"pie\"}],\"scatter\":[{\"marker\":{\"colorbar\":{\"outlinewidth\":0,\"ticks\":\"\"}},\"type\":\"scatter\"}],\"scatter3d\":[{\"line\":{\"colorbar\":{\"outlinewidth\":0,\"ticks\":\"\"}},\"marker\":{\"colorbar\":{\"outlinewidth\":0,\"ticks\":\"\"}},\"type\":\"scatter3d\"}],\"scattercarpet\":[{\"marker\":{\"colorbar\":{\"outlinewidth\":0,\"ticks\":\"\"}},\"type\":\"scattercarpet\"}],\"scattergeo\":[{\"marker\":{\"colorbar\":{\"outlinewidth\":0,\"ticks\":\"\"}},\"type\":\"scattergeo\"}],\"scattergl\":[{\"marker\":{\"colorbar\":{\"outlinewidth\":0,\"ticks\":\"\"}},\"type\":\"scattergl\"}],\"scattermapbox\":[{\"marker\":{\"colorbar\":{\"outlinewidth\":0,\"ticks\":\"\"}},\"type\":\"scattermapbox\"}],\"scatterpolar\":[{\"marker\":{\"colorbar\":{\"outlinewidth\":0,\"ticks\":\"\"}},\"type\":\"scatterpolar\"}],\"scatterpolargl\":[{\"marker\":{\"colorbar\":{\"outlinewidth\":0,\"ticks\":\"\"}},\"type\":\"scatterpolargl\"}],\"scatterternary\":[{\"marker\":{\"colorbar\":{\"outlinewidth\":0,\"ticks\":\"\"}},\"type\":\"scatterternary\"}],\"surface\":[{\"colorbar\":{\"outlinewidth\":0,\"ticks\":\"\"},\"colorscale\":[[0.0,\"#0d0887\"],[0.1111111111111111,\"#46039f\"],[0.2222222222222222,\"#7201a8\"],[0.3333333333333333,\"#9c179e\"],[0.4444444444444444,\"#bd3786\"],[0.5555555555555556,\"#d8576b\"],[0.6666666666666666,\"#ed7953\"],[0.7777777777777778,\"#fb9f3a\"],[0.8888888888888888,\"#fdca26\"],[1.0,\"#f0f921\"]],\"type\":\"surface\"}],\"table\":[{\"cells\":{\"fill\":{\"color\":\"#EBF0F8\"},\"line\":{\"color\":\"white\"}},\"header\":{\"fill\":{\"color\":\"#C8D4E3\"},\"line\":{\"color\":\"white\"}},\"type\":\"table\"}]},\"layout\":{\"annotationdefaults\":{\"arrowcolor\":\"#2a3f5f\",\"arrowhead\":0,\"arrowwidth\":1},\"autotypenumbers\":\"strict\",\"coloraxis\":{\"colorbar\":{\"outlinewidth\":0,\"ticks\":\"\"}},\"colorscale\":{\"diverging\":[[0,\"#8e0152\"],[0.1,\"#c51b7d\"],[0.2,\"#de77ae\"],[0.3,\"#f1b6da\"],[0.4,\"#fde0ef\"],[0.5,\"#f7f7f7\"],[0.6,\"#e6f5d0\"],[0.7,\"#b8e186\"],[0.8,\"#7fbc41\"],[0.9,\"#4d9221\"],[1,\"#276419\"]],\"sequential\":[[0.0,\"#0d0887\"],[0.1111111111111111,\"#46039f\"],[0.2222222222222222,\"#7201a8\"],[0.3333333333333333,\"#9c179e\"],[0.4444444444444444,\"#bd3786\"],[0.5555555555555556,\"#d8576b\"],[0.6666666666666666,\"#ed7953\"],[0.7777777777777778,\"#fb9f3a\"],[0.8888888888888888,\"#fdca26\"],[1.0,\"#f0f921\"]],\"sequentialminus\":[[0.0,\"#0d0887\"],[0.1111111111111111,\"#46039f\"],[0.2222222222222222,\"#7201a8\"],[0.3333333333333333,\"#9c179e\"],[0.4444444444444444,\"#bd3786\"],[0.5555555555555556,\"#d8576b\"],[0.6666666666666666,\"#ed7953\"],[0.7777777777777778,\"#fb9f3a\"],[0.8888888888888888,\"#fdca26\"],[1.0,\"#f0f921\"]]},\"colorway\":[\"#636efa\",\"#EF553B\",\"#00cc96\",\"#ab63fa\",\"#FFA15A\",\"#19d3f3\",\"#FF6692\",\"#B6E880\",\"#FF97FF\",\"#FECB52\"],\"font\":{\"color\":\"#2a3f5f\"},\"geo\":{\"bgcolor\":\"white\",\"lakecolor\":\"white\",\"landcolor\":\"#E5ECF6\",\"showlakes\":true,\"showland\":true,\"subunitcolor\":\"white\"},\"hoverlabel\":{\"align\":\"left\"},\"hovermode\":\"closest\",\"mapbox\":{\"style\":\"light\"},\"paper_bgcolor\":\"white\",\"plot_bgcolor\":\"#E5ECF6\",\"polar\":{\"angularaxis\":{\"gridcolor\":\"white\",\"linecolor\":\"white\",\"ticks\":\"\"},\"bgcolor\":\"#E5ECF6\",\"radialaxis\":{\"gridcolor\":\"white\",\"linecolor\":\"white\",\"ticks\":\"\"}},\"scene\":{\"xaxis\":{\"backgroundcolor\":\"#E5ECF6\",\"gridcolor\":\"white\",\"gridwidth\":2,\"linecolor\":\"white\",\"showbackground\":true,\"ticks\":\"\",\"zerolinecolor\":\"white\"},\"yaxis\":{\"backgroundcolor\":\"#E5ECF6\",\"gridcolor\":\"white\",\"gridwidth\":2,\"linecolor\":\"white\",\"showbackground\":true,\"ticks\":\"\",\"zerolinecolor\":\"white\"},\"zaxis\":{\"backgroundcolor\":\"#E5ECF6\",\"gridcolor\":\"white\",\"gridwidth\":2,\"linecolor\":\"white\",\"showbackground\":true,\"ticks\":\"\",\"zerolinecolor\":\"white\"}},\"shapedefaults\":{\"line\":{\"color\":\"#2a3f5f\"}},\"ternary\":{\"aaxis\":{\"gridcolor\":\"white\",\"linecolor\":\"white\",\"ticks\":\"\"},\"baxis\":{\"gridcolor\":\"white\",\"linecolor\":\"white\",\"ticks\":\"\"},\"bgcolor\":\"#E5ECF6\",\"caxis\":{\"gridcolor\":\"white\",\"linecolor\":\"white\",\"ticks\":\"\"}},\"title\":{\"x\":0.05},\"xaxis\":{\"automargin\":true,\"gridcolor\":\"white\",\"linecolor\":\"white\",\"ticks\":\"\",\"title\":{\"standoff\":15},\"zerolinecolor\":\"white\",\"zerolinewidth\":2},\"yaxis\":{\"automargin\":true,\"gridcolor\":\"white\",\"linecolor\":\"white\",\"ticks\":\"\",\"title\":{\"standoff\":15},\"zerolinecolor\":\"white\",\"zerolinewidth\":2}}},\"legend\":{\"tracegroupgap\":0},\"margin\":{\"t\":60},\"title\":{\"text\":\"Distribution of Weather Types\"}},                        {\"responsive\": true}                    ).then(function(){\n",
              "                            \n",
              "var gd = document.getElementById('2d911177-cc17-4148-b3f0-b7631ecf923e');\n",
              "var x = new MutationObserver(function (mutations, observer) {{\n",
              "        var display = window.getComputedStyle(gd).display;\n",
              "        if (!display || display === 'none') {{\n",
              "            console.log([gd, 'removed!']);\n",
              "            Plotly.purge(gd);\n",
              "            observer.disconnect();\n",
              "        }}\n",
              "}});\n",
              "\n",
              "// Listen for the removal of the full notebook cells\n",
              "var notebookContainer = gd.closest('#notebook-container');\n",
              "if (notebookContainer) {{\n",
              "    x.observe(notebookContainer, {childList: true});\n",
              "}}\n",
              "\n",
              "// Listen for the clearing of the current output cell\n",
              "var outputEl = gd.closest('.output');\n",
              "if (outputEl) {{\n",
              "    x.observe(outputEl, {childList: true});\n",
              "}}\n",
              "\n",
              "                        })                };                            </script>        </div>\n",
              "</body>\n",
              "</html>"
            ]
          },
          "metadata": {}
        }
      ]
    },
    {
      "cell_type": "code",
      "source": [
        "df['date'] = df['date'].apply(pd.to_datetime)"
      ],
      "metadata": {
        "id": "HNQ6AGObep8m"
      },
      "execution_count": 457,
      "outputs": []
    },
    {
      "cell_type": "code",
      "source": [
        "df.info()"
      ],
      "metadata": {
        "colab": {
          "base_uri": "https://localhost:8080/"
        },
        "id": "IkFApQIfesWz",
        "outputId": "d323fa1d-b464-42cf-b810-68dd641f6ac2"
      },
      "execution_count": 458,
      "outputs": [
        {
          "output_type": "stream",
          "name": "stdout",
          "text": [
            "<class 'pandas.core.frame.DataFrame'>\n",
            "RangeIndex: 1461 entries, 0 to 1460\n",
            "Data columns (total 6 columns):\n",
            " #   Column         Non-Null Count  Dtype         \n",
            "---  ------         --------------  -----         \n",
            " 0   date           1461 non-null   datetime64[ns]\n",
            " 1   precipitation  1461 non-null   float64       \n",
            " 2   temp_max       1461 non-null   float64       \n",
            " 3   temp_min       1461 non-null   float64       \n",
            " 4   wind           1461 non-null   float64       \n",
            " 5   weather        1461 non-null   object        \n",
            "dtypes: datetime64[ns](1), float64(4), object(1)\n",
            "memory usage: 68.6+ KB\n"
          ]
        }
      ]
    },
    {
      "cell_type": "code",
      "source": [
        "df['year']= df['date'].dt.year\n",
        "df['month']= df['date'].dt.month\n",
        "df['day']= df['date'].dt.day"
      ],
      "metadata": {
        "id": "VTCMhO4Ae-bz"
      },
      "execution_count": 459,
      "outputs": []
    },
    {
      "cell_type": "code",
      "source": [
        "df = df.drop(\"date\", axis='columns')"
      ],
      "metadata": {
        "id": "VCEmDErGfGqM"
      },
      "execution_count": 460,
      "outputs": []
    },
    {
      "cell_type": "code",
      "source": [
        "df.head()"
      ],
      "metadata": {
        "colab": {
          "base_uri": "https://localhost:8080/",
          "height": 270
        },
        "id": "oAciSMEqfJr8",
        "outputId": "b2f9f8c2-ab2e-475f-de57-40b8c2180e70"
      },
      "execution_count": 461,
      "outputs": [
        {
          "output_type": "execute_result",
          "data": {
            "text/plain": [
              "   precipitation  temp_max  temp_min  wind  weather  year  month  day\n",
              "0            0.0      12.8       5.0   4.7  drizzle  2012      1    1\n",
              "1           10.9      10.6       2.8   4.5     rain  2012      1    2\n",
              "2            0.8      11.7       7.2   2.3     rain  2012      1    3\n",
              "3           20.3      12.2       5.6   4.7     rain  2012      1    4\n",
              "4            1.3       8.9       2.8   6.1     rain  2012      1    5"
            ],
            "text/html": [
              "\n",
              "  <div id=\"df-048ad8cf-12af-4555-8bcc-28a626f8219d\">\n",
              "    <div class=\"colab-df-container\">\n",
              "      <div>\n",
              "<style scoped>\n",
              "    .dataframe tbody tr th:only-of-type {\n",
              "        vertical-align: middle;\n",
              "    }\n",
              "\n",
              "    .dataframe tbody tr th {\n",
              "        vertical-align: top;\n",
              "    }\n",
              "\n",
              "    .dataframe thead th {\n",
              "        text-align: right;\n",
              "    }\n",
              "</style>\n",
              "<table border=\"1\" class=\"dataframe\">\n",
              "  <thead>\n",
              "    <tr style=\"text-align: right;\">\n",
              "      <th></th>\n",
              "      <th>precipitation</th>\n",
              "      <th>temp_max</th>\n",
              "      <th>temp_min</th>\n",
              "      <th>wind</th>\n",
              "      <th>weather</th>\n",
              "      <th>year</th>\n",
              "      <th>month</th>\n",
              "      <th>day</th>\n",
              "    </tr>\n",
              "  </thead>\n",
              "  <tbody>\n",
              "    <tr>\n",
              "      <th>0</th>\n",
              "      <td>0.0</td>\n",
              "      <td>12.8</td>\n",
              "      <td>5.0</td>\n",
              "      <td>4.7</td>\n",
              "      <td>drizzle</td>\n",
              "      <td>2012</td>\n",
              "      <td>1</td>\n",
              "      <td>1</td>\n",
              "    </tr>\n",
              "    <tr>\n",
              "      <th>1</th>\n",
              "      <td>10.9</td>\n",
              "      <td>10.6</td>\n",
              "      <td>2.8</td>\n",
              "      <td>4.5</td>\n",
              "      <td>rain</td>\n",
              "      <td>2012</td>\n",
              "      <td>1</td>\n",
              "      <td>2</td>\n",
              "    </tr>\n",
              "    <tr>\n",
              "      <th>2</th>\n",
              "      <td>0.8</td>\n",
              "      <td>11.7</td>\n",
              "      <td>7.2</td>\n",
              "      <td>2.3</td>\n",
              "      <td>rain</td>\n",
              "      <td>2012</td>\n",
              "      <td>1</td>\n",
              "      <td>3</td>\n",
              "    </tr>\n",
              "    <tr>\n",
              "      <th>3</th>\n",
              "      <td>20.3</td>\n",
              "      <td>12.2</td>\n",
              "      <td>5.6</td>\n",
              "      <td>4.7</td>\n",
              "      <td>rain</td>\n",
              "      <td>2012</td>\n",
              "      <td>1</td>\n",
              "      <td>4</td>\n",
              "    </tr>\n",
              "    <tr>\n",
              "      <th>4</th>\n",
              "      <td>1.3</td>\n",
              "      <td>8.9</td>\n",
              "      <td>2.8</td>\n",
              "      <td>6.1</td>\n",
              "      <td>rain</td>\n",
              "      <td>2012</td>\n",
              "      <td>1</td>\n",
              "      <td>5</td>\n",
              "    </tr>\n",
              "  </tbody>\n",
              "</table>\n",
              "</div>\n",
              "      <button class=\"colab-df-convert\" onclick=\"convertToInteractive('df-048ad8cf-12af-4555-8bcc-28a626f8219d')\"\n",
              "              title=\"Convert this dataframe to an interactive table.\"\n",
              "              style=\"display:none;\">\n",
              "        \n",
              "  <svg xmlns=\"http://www.w3.org/2000/svg\" height=\"24px\"viewBox=\"0 0 24 24\"\n",
              "       width=\"24px\">\n",
              "    <path d=\"M0 0h24v24H0V0z\" fill=\"none\"/>\n",
              "    <path d=\"M18.56 5.44l.94 2.06.94-2.06 2.06-.94-2.06-.94-.94-2.06-.94 2.06-2.06.94zm-11 1L8.5 8.5l.94-2.06 2.06-.94-2.06-.94L8.5 2.5l-.94 2.06-2.06.94zm10 10l.94 2.06.94-2.06 2.06-.94-2.06-.94-.94-2.06-.94 2.06-2.06.94z\"/><path d=\"M17.41 7.96l-1.37-1.37c-.4-.4-.92-.59-1.43-.59-.52 0-1.04.2-1.43.59L10.3 9.45l-7.72 7.72c-.78.78-.78 2.05 0 2.83L4 21.41c.39.39.9.59 1.41.59.51 0 1.02-.2 1.41-.59l7.78-7.78 2.81-2.81c.8-.78.8-2.07 0-2.86zM5.41 20L4 18.59l7.72-7.72 1.47 1.35L5.41 20z\"/>\n",
              "  </svg>\n",
              "      </button>\n",
              "      \n",
              "  <style>\n",
              "    .colab-df-container {\n",
              "      display:flex;\n",
              "      flex-wrap:wrap;\n",
              "      gap: 12px;\n",
              "    }\n",
              "\n",
              "    .colab-df-convert {\n",
              "      background-color: #E8F0FE;\n",
              "      border: none;\n",
              "      border-radius: 50%;\n",
              "      cursor: pointer;\n",
              "      display: none;\n",
              "      fill: #1967D2;\n",
              "      height: 32px;\n",
              "      padding: 0 0 0 0;\n",
              "      width: 32px;\n",
              "    }\n",
              "\n",
              "    .colab-df-convert:hover {\n",
              "      background-color: #E2EBFA;\n",
              "      box-shadow: 0px 1px 2px rgba(60, 64, 67, 0.3), 0px 1px 3px 1px rgba(60, 64, 67, 0.15);\n",
              "      fill: #174EA6;\n",
              "    }\n",
              "\n",
              "    [theme=dark] .colab-df-convert {\n",
              "      background-color: #3B4455;\n",
              "      fill: #D2E3FC;\n",
              "    }\n",
              "\n",
              "    [theme=dark] .colab-df-convert:hover {\n",
              "      background-color: #434B5C;\n",
              "      box-shadow: 0px 1px 3px 1px rgba(0, 0, 0, 0.15);\n",
              "      filter: drop-shadow(0px 1px 2px rgba(0, 0, 0, 0.3));\n",
              "      fill: #FFFFFF;\n",
              "    }\n",
              "  </style>\n",
              "\n",
              "      <script>\n",
              "        const buttonEl =\n",
              "          document.querySelector('#df-048ad8cf-12af-4555-8bcc-28a626f8219d button.colab-df-convert');\n",
              "        buttonEl.style.display =\n",
              "          google.colab.kernel.accessAllowed ? 'block' : 'none';\n",
              "\n",
              "        async function convertToInteractive(key) {\n",
              "          const element = document.querySelector('#df-048ad8cf-12af-4555-8bcc-28a626f8219d');\n",
              "          const dataTable =\n",
              "            await google.colab.kernel.invokeFunction('convertToInteractive',\n",
              "                                                     [key], {});\n",
              "          if (!dataTable) return;\n",
              "\n",
              "          const docLinkHtml = 'Like what you see? Visit the ' +\n",
              "            '<a target=\"_blank\" href=https://colab.research.google.com/notebooks/data_table.ipynb>data table notebook</a>'\n",
              "            + ' to learn more about interactive tables.';\n",
              "          element.innerHTML = '';\n",
              "          dataTable['output_type'] = 'display_data';\n",
              "          await google.colab.output.renderOutput(dataTable, element);\n",
              "          const docLink = document.createElement('div');\n",
              "          docLink.innerHTML = docLinkHtml;\n",
              "          element.appendChild(docLink);\n",
              "        }\n",
              "      </script>\n",
              "    </div>\n",
              "  </div>\n",
              "  "
            ]
          },
          "metadata": {},
          "execution_count": 461
        }
      ]
    },
    {
      "cell_type": "code",
      "source": [
        "df.info()"
      ],
      "metadata": {
        "colab": {
          "base_uri": "https://localhost:8080/"
        },
        "id": "WkL23vnpfLpg",
        "outputId": "c7cff9c0-d656-4b86-d11c-162f595a81e5"
      },
      "execution_count": 462,
      "outputs": [
        {
          "output_type": "stream",
          "name": "stdout",
          "text": [
            "<class 'pandas.core.frame.DataFrame'>\n",
            "RangeIndex: 1461 entries, 0 to 1460\n",
            "Data columns (total 8 columns):\n",
            " #   Column         Non-Null Count  Dtype  \n",
            "---  ------         --------------  -----  \n",
            " 0   precipitation  1461 non-null   float64\n",
            " 1   temp_max       1461 non-null   float64\n",
            " 2   temp_min       1461 non-null   float64\n",
            " 3   wind           1461 non-null   float64\n",
            " 4   weather        1461 non-null   object \n",
            " 5   year           1461 non-null   int64  \n",
            " 6   month          1461 non-null   int64  \n",
            " 7   day            1461 non-null   int64  \n",
            "dtypes: float64(4), int64(3), object(1)\n",
            "memory usage: 91.4+ KB\n"
          ]
        }
      ]
    },
    {
      "cell_type": "code",
      "source": [
        "#Bar chart of average temperature by month\n",
        "\n",
        "# Calculate the average temperature for each month\n",
        "temp_by_month = df.groupby('month')['temp_max'].mean()\n",
        "\n",
        "# Create a bar chart of average temperature by month\n",
        "fig = px.bar(temp_by_month, x=temp_by_month.index, y=temp_by_month.values)\n",
        "\n",
        "# Set the chart title and axis labels\n",
        "fig.update_layout(\n",
        "    title='Average Temperature by Month',\n",
        "    xaxis_title='Month',\n",
        "    yaxis_title='Average Maximum Temperature (Celsius)',\n",
        ")\n",
        "\n",
        "# Show the chart\n",
        "fig.show()"
      ],
      "metadata": {
        "colab": {
          "base_uri": "https://localhost:8080/",
          "height": 562
        },
        "id": "RDV9U6DpfR7K",
        "outputId": "463651bc-eeb0-415a-e56c-c2fe148648ae"
      },
      "execution_count": 463,
      "outputs": [
        {
          "output_type": "display_data",
          "data": {
            "text/html": [
              "<html>\n",
              "<head><meta charset=\"utf-8\" /></head>\n",
              "<body>\n",
              "    <div>            <script src=\"https://cdnjs.cloudflare.com/ajax/libs/mathjax/2.7.5/MathJax.js?config=TeX-AMS-MML_SVG\"></script><script type=\"text/javascript\">if (window.MathJax) {MathJax.Hub.Config({SVG: {font: \"STIX-Web\"}});}</script>                <script type=\"text/javascript\">window.PlotlyConfig = {MathJaxConfig: 'local'};</script>\n",
              "        <script src=\"https://cdn.plot.ly/plotly-2.8.3.min.js\"></script>                <div id=\"284013c1-0b20-4749-b6b4-8dbaf4db27d2\" class=\"plotly-graph-div\" style=\"height:525px; width:100%;\"></div>            <script type=\"text/javascript\">                                    window.PLOTLYENV=window.PLOTLYENV || {};                                    if (document.getElementById(\"284013c1-0b20-4749-b6b4-8dbaf4db27d2\")) {                    Plotly.newPlot(                        \"284013c1-0b20-4749-b6b4-8dbaf4db27d2\",                        [{\"alignmentgroup\":\"True\",\"hovertemplate\":\"month=%{x}<br>y=%{y}<extra></extra>\",\"legendgroup\":\"\",\"marker\":{\"color\":\"#636efa\",\"pattern\":{\"shape\":\"\"}},\"name\":\"\",\"offsetgroup\":\"\",\"orientation\":\"v\",\"showlegend\":false,\"textposition\":\"auto\",\"x\":[1,2,3,4,5,6,7,8,9,10,11,12],\"xaxis\":\"x\",\"y\":[8.229032258064516,9.860176991150443,12.387096774193548,15.020000000000001,19.29596774193548,22.4,25.998387096774195,26.11209677419355,21.924166666666668,16.38951612903226,11.023333333333333,8.194354838709678],\"yaxis\":\"y\",\"type\":\"bar\"}],                        {\"template\":{\"data\":{\"bar\":[{\"error_x\":{\"color\":\"#2a3f5f\"},\"error_y\":{\"color\":\"#2a3f5f\"},\"marker\":{\"line\":{\"color\":\"#E5ECF6\",\"width\":0.5},\"pattern\":{\"fillmode\":\"overlay\",\"size\":10,\"solidity\":0.2}},\"type\":\"bar\"}],\"barpolar\":[{\"marker\":{\"line\":{\"color\":\"#E5ECF6\",\"width\":0.5},\"pattern\":{\"fillmode\":\"overlay\",\"size\":10,\"solidity\":0.2}},\"type\":\"barpolar\"}],\"carpet\":[{\"aaxis\":{\"endlinecolor\":\"#2a3f5f\",\"gridcolor\":\"white\",\"linecolor\":\"white\",\"minorgridcolor\":\"white\",\"startlinecolor\":\"#2a3f5f\"},\"baxis\":{\"endlinecolor\":\"#2a3f5f\",\"gridcolor\":\"white\",\"linecolor\":\"white\",\"minorgridcolor\":\"white\",\"startlinecolor\":\"#2a3f5f\"},\"type\":\"carpet\"}],\"choropleth\":[{\"colorbar\":{\"outlinewidth\":0,\"ticks\":\"\"},\"type\":\"choropleth\"}],\"contour\":[{\"colorbar\":{\"outlinewidth\":0,\"ticks\":\"\"},\"colorscale\":[[0.0,\"#0d0887\"],[0.1111111111111111,\"#46039f\"],[0.2222222222222222,\"#7201a8\"],[0.3333333333333333,\"#9c179e\"],[0.4444444444444444,\"#bd3786\"],[0.5555555555555556,\"#d8576b\"],[0.6666666666666666,\"#ed7953\"],[0.7777777777777778,\"#fb9f3a\"],[0.8888888888888888,\"#fdca26\"],[1.0,\"#f0f921\"]],\"type\":\"contour\"}],\"contourcarpet\":[{\"colorbar\":{\"outlinewidth\":0,\"ticks\":\"\"},\"type\":\"contourcarpet\"}],\"heatmap\":[{\"colorbar\":{\"outlinewidth\":0,\"ticks\":\"\"},\"colorscale\":[[0.0,\"#0d0887\"],[0.1111111111111111,\"#46039f\"],[0.2222222222222222,\"#7201a8\"],[0.3333333333333333,\"#9c179e\"],[0.4444444444444444,\"#bd3786\"],[0.5555555555555556,\"#d8576b\"],[0.6666666666666666,\"#ed7953\"],[0.7777777777777778,\"#fb9f3a\"],[0.8888888888888888,\"#fdca26\"],[1.0,\"#f0f921\"]],\"type\":\"heatmap\"}],\"heatmapgl\":[{\"colorbar\":{\"outlinewidth\":0,\"ticks\":\"\"},\"colorscale\":[[0.0,\"#0d0887\"],[0.1111111111111111,\"#46039f\"],[0.2222222222222222,\"#7201a8\"],[0.3333333333333333,\"#9c179e\"],[0.4444444444444444,\"#bd3786\"],[0.5555555555555556,\"#d8576b\"],[0.6666666666666666,\"#ed7953\"],[0.7777777777777778,\"#fb9f3a\"],[0.8888888888888888,\"#fdca26\"],[1.0,\"#f0f921\"]],\"type\":\"heatmapgl\"}],\"histogram\":[{\"marker\":{\"pattern\":{\"fillmode\":\"overlay\",\"size\":10,\"solidity\":0.2}},\"type\":\"histogram\"}],\"histogram2d\":[{\"colorbar\":{\"outlinewidth\":0,\"ticks\":\"\"},\"colorscale\":[[0.0,\"#0d0887\"],[0.1111111111111111,\"#46039f\"],[0.2222222222222222,\"#7201a8\"],[0.3333333333333333,\"#9c179e\"],[0.4444444444444444,\"#bd3786\"],[0.5555555555555556,\"#d8576b\"],[0.6666666666666666,\"#ed7953\"],[0.7777777777777778,\"#fb9f3a\"],[0.8888888888888888,\"#fdca26\"],[1.0,\"#f0f921\"]],\"type\":\"histogram2d\"}],\"histogram2dcontour\":[{\"colorbar\":{\"outlinewidth\":0,\"ticks\":\"\"},\"colorscale\":[[0.0,\"#0d0887\"],[0.1111111111111111,\"#46039f\"],[0.2222222222222222,\"#7201a8\"],[0.3333333333333333,\"#9c179e\"],[0.4444444444444444,\"#bd3786\"],[0.5555555555555556,\"#d8576b\"],[0.6666666666666666,\"#ed7953\"],[0.7777777777777778,\"#fb9f3a\"],[0.8888888888888888,\"#fdca26\"],[1.0,\"#f0f921\"]],\"type\":\"histogram2dcontour\"}],\"mesh3d\":[{\"colorbar\":{\"outlinewidth\":0,\"ticks\":\"\"},\"type\":\"mesh3d\"}],\"parcoords\":[{\"line\":{\"colorbar\":{\"outlinewidth\":0,\"ticks\":\"\"}},\"type\":\"parcoords\"}],\"pie\":[{\"automargin\":true,\"type\":\"pie\"}],\"scatter\":[{\"marker\":{\"colorbar\":{\"outlinewidth\":0,\"ticks\":\"\"}},\"type\":\"scatter\"}],\"scatter3d\":[{\"line\":{\"colorbar\":{\"outlinewidth\":0,\"ticks\":\"\"}},\"marker\":{\"colorbar\":{\"outlinewidth\":0,\"ticks\":\"\"}},\"type\":\"scatter3d\"}],\"scattercarpet\":[{\"marker\":{\"colorbar\":{\"outlinewidth\":0,\"ticks\":\"\"}},\"type\":\"scattercarpet\"}],\"scattergeo\":[{\"marker\":{\"colorbar\":{\"outlinewidth\":0,\"ticks\":\"\"}},\"type\":\"scattergeo\"}],\"scattergl\":[{\"marker\":{\"colorbar\":{\"outlinewidth\":0,\"ticks\":\"\"}},\"type\":\"scattergl\"}],\"scattermapbox\":[{\"marker\":{\"colorbar\":{\"outlinewidth\":0,\"ticks\":\"\"}},\"type\":\"scattermapbox\"}],\"scatterpolar\":[{\"marker\":{\"colorbar\":{\"outlinewidth\":0,\"ticks\":\"\"}},\"type\":\"scatterpolar\"}],\"scatterpolargl\":[{\"marker\":{\"colorbar\":{\"outlinewidth\":0,\"ticks\":\"\"}},\"type\":\"scatterpolargl\"}],\"scatterternary\":[{\"marker\":{\"colorbar\":{\"outlinewidth\":0,\"ticks\":\"\"}},\"type\":\"scatterternary\"}],\"surface\":[{\"colorbar\":{\"outlinewidth\":0,\"ticks\":\"\"},\"colorscale\":[[0.0,\"#0d0887\"],[0.1111111111111111,\"#46039f\"],[0.2222222222222222,\"#7201a8\"],[0.3333333333333333,\"#9c179e\"],[0.4444444444444444,\"#bd3786\"],[0.5555555555555556,\"#d8576b\"],[0.6666666666666666,\"#ed7953\"],[0.7777777777777778,\"#fb9f3a\"],[0.8888888888888888,\"#fdca26\"],[1.0,\"#f0f921\"]],\"type\":\"surface\"}],\"table\":[{\"cells\":{\"fill\":{\"color\":\"#EBF0F8\"},\"line\":{\"color\":\"white\"}},\"header\":{\"fill\":{\"color\":\"#C8D4E3\"},\"line\":{\"color\":\"white\"}},\"type\":\"table\"}]},\"layout\":{\"annotationdefaults\":{\"arrowcolor\":\"#2a3f5f\",\"arrowhead\":0,\"arrowwidth\":1},\"autotypenumbers\":\"strict\",\"coloraxis\":{\"colorbar\":{\"outlinewidth\":0,\"ticks\":\"\"}},\"colorscale\":{\"diverging\":[[0,\"#8e0152\"],[0.1,\"#c51b7d\"],[0.2,\"#de77ae\"],[0.3,\"#f1b6da\"],[0.4,\"#fde0ef\"],[0.5,\"#f7f7f7\"],[0.6,\"#e6f5d0\"],[0.7,\"#b8e186\"],[0.8,\"#7fbc41\"],[0.9,\"#4d9221\"],[1,\"#276419\"]],\"sequential\":[[0.0,\"#0d0887\"],[0.1111111111111111,\"#46039f\"],[0.2222222222222222,\"#7201a8\"],[0.3333333333333333,\"#9c179e\"],[0.4444444444444444,\"#bd3786\"],[0.5555555555555556,\"#d8576b\"],[0.6666666666666666,\"#ed7953\"],[0.7777777777777778,\"#fb9f3a\"],[0.8888888888888888,\"#fdca26\"],[1.0,\"#f0f921\"]],\"sequentialminus\":[[0.0,\"#0d0887\"],[0.1111111111111111,\"#46039f\"],[0.2222222222222222,\"#7201a8\"],[0.3333333333333333,\"#9c179e\"],[0.4444444444444444,\"#bd3786\"],[0.5555555555555556,\"#d8576b\"],[0.6666666666666666,\"#ed7953\"],[0.7777777777777778,\"#fb9f3a\"],[0.8888888888888888,\"#fdca26\"],[1.0,\"#f0f921\"]]},\"colorway\":[\"#636efa\",\"#EF553B\",\"#00cc96\",\"#ab63fa\",\"#FFA15A\",\"#19d3f3\",\"#FF6692\",\"#B6E880\",\"#FF97FF\",\"#FECB52\"],\"font\":{\"color\":\"#2a3f5f\"},\"geo\":{\"bgcolor\":\"white\",\"lakecolor\":\"white\",\"landcolor\":\"#E5ECF6\",\"showlakes\":true,\"showland\":true,\"subunitcolor\":\"white\"},\"hoverlabel\":{\"align\":\"left\"},\"hovermode\":\"closest\",\"mapbox\":{\"style\":\"light\"},\"paper_bgcolor\":\"white\",\"plot_bgcolor\":\"#E5ECF6\",\"polar\":{\"angularaxis\":{\"gridcolor\":\"white\",\"linecolor\":\"white\",\"ticks\":\"\"},\"bgcolor\":\"#E5ECF6\",\"radialaxis\":{\"gridcolor\":\"white\",\"linecolor\":\"white\",\"ticks\":\"\"}},\"scene\":{\"xaxis\":{\"backgroundcolor\":\"#E5ECF6\",\"gridcolor\":\"white\",\"gridwidth\":2,\"linecolor\":\"white\",\"showbackground\":true,\"ticks\":\"\",\"zerolinecolor\":\"white\"},\"yaxis\":{\"backgroundcolor\":\"#E5ECF6\",\"gridcolor\":\"white\",\"gridwidth\":2,\"linecolor\":\"white\",\"showbackground\":true,\"ticks\":\"\",\"zerolinecolor\":\"white\"},\"zaxis\":{\"backgroundcolor\":\"#E5ECF6\",\"gridcolor\":\"white\",\"gridwidth\":2,\"linecolor\":\"white\",\"showbackground\":true,\"ticks\":\"\",\"zerolinecolor\":\"white\"}},\"shapedefaults\":{\"line\":{\"color\":\"#2a3f5f\"}},\"ternary\":{\"aaxis\":{\"gridcolor\":\"white\",\"linecolor\":\"white\",\"ticks\":\"\"},\"baxis\":{\"gridcolor\":\"white\",\"linecolor\":\"white\",\"ticks\":\"\"},\"bgcolor\":\"#E5ECF6\",\"caxis\":{\"gridcolor\":\"white\",\"linecolor\":\"white\",\"ticks\":\"\"}},\"title\":{\"x\":0.05},\"xaxis\":{\"automargin\":true,\"gridcolor\":\"white\",\"linecolor\":\"white\",\"ticks\":\"\",\"title\":{\"standoff\":15},\"zerolinecolor\":\"white\",\"zerolinewidth\":2},\"yaxis\":{\"automargin\":true,\"gridcolor\":\"white\",\"linecolor\":\"white\",\"ticks\":\"\",\"title\":{\"standoff\":15},\"zerolinecolor\":\"white\",\"zerolinewidth\":2}}},\"xaxis\":{\"anchor\":\"y\",\"domain\":[0.0,1.0],\"title\":{\"text\":\"Month\"}},\"yaxis\":{\"anchor\":\"x\",\"domain\":[0.0,1.0],\"title\":{\"text\":\"Average Maximum Temperature (Celsius)\"}},\"legend\":{\"tracegroupgap\":0},\"margin\":{\"t\":60},\"barmode\":\"relative\",\"title\":{\"text\":\"Average Temperature by Month\"}},                        {\"responsive\": true}                    ).then(function(){\n",
              "                            \n",
              "var gd = document.getElementById('284013c1-0b20-4749-b6b4-8dbaf4db27d2');\n",
              "var x = new MutationObserver(function (mutations, observer) {{\n",
              "        var display = window.getComputedStyle(gd).display;\n",
              "        if (!display || display === 'none') {{\n",
              "            console.log([gd, 'removed!']);\n",
              "            Plotly.purge(gd);\n",
              "            observer.disconnect();\n",
              "        }}\n",
              "}});\n",
              "\n",
              "// Listen for the removal of the full notebook cells\n",
              "var notebookContainer = gd.closest('#notebook-container');\n",
              "if (notebookContainer) {{\n",
              "    x.observe(notebookContainer, {childList: true});\n",
              "}}\n",
              "\n",
              "// Listen for the clearing of the current output cell\n",
              "var outputEl = gd.closest('.output');\n",
              "if (outputEl) {{\n",
              "    x.observe(outputEl, {childList: true});\n",
              "}}\n",
              "\n",
              "                        })                };                            </script>        </div>\n",
              "</body>\n",
              "</html>"
            ]
          },
          "metadata": {}
        }
      ]
    },
    {
      "cell_type": "code",
      "source": [
        "# Create a scatter plot of temperature vs. precipitation\n",
        "fig = px.scatter(df, x='precipitation', y='temp_max')\n",
        "\n",
        "# Set the chart title and axis labels\n",
        "fig.update_layout(\n",
        "    title='Relationship Between Temperature and Precipitation',\n",
        "    xaxis_title='Precipitation (mm)',\n",
        "    yaxis_title='Maximum Temperature (Celsius)',\n",
        ")\n",
        "\n",
        "# Show the chart\n",
        "fig.show()"
      ],
      "metadata": {
        "colab": {
          "base_uri": "https://localhost:8080/",
          "height": 562
        },
        "id": "yk3-4SWRf5DD",
        "outputId": "eeb30a39-cb7b-4061-fed6-f9cfcf0586af"
      },
      "execution_count": 464,
      "outputs": [
        {
          "output_type": "display_data",
          "data": {
            "text/html": [
              "<html>\n",
              "<head><meta charset=\"utf-8\" /></head>\n",
              "<body>\n",
              "    <div>            <script src=\"https://cdnjs.cloudflare.com/ajax/libs/mathjax/2.7.5/MathJax.js?config=TeX-AMS-MML_SVG\"></script><script type=\"text/javascript\">if (window.MathJax) {MathJax.Hub.Config({SVG: {font: \"STIX-Web\"}});}</script>                <script type=\"text/javascript\">window.PlotlyConfig = {MathJaxConfig: 'local'};</script>\n",
              "        <script src=\"https://cdn.plot.ly/plotly-2.8.3.min.js\"></script>                <div id=\"eb7919cd-a2b9-4b67-9bd4-af128ed29909\" class=\"plotly-graph-div\" style=\"height:525px; width:100%;\"></div>            <script type=\"text/javascript\">                                    window.PLOTLYENV=window.PLOTLYENV || {};                                    if (document.getElementById(\"eb7919cd-a2b9-4b67-9bd4-af128ed29909\")) {                    Plotly.newPlot(                        \"eb7919cd-a2b9-4b67-9bd4-af128ed29909\",                        [{\"hovertemplate\":\"precipitation=%{x}<br>temp_max=%{y}<extra></extra>\",\"legendgroup\":\"\",\"marker\":{\"color\":\"#636efa\",\"symbol\":\"circle\"},\"mode\":\"markers\",\"name\":\"\",\"showlegend\":false,\"x\":[0.0,10.9,0.8,20.3,1.3,2.5,0.0,0.0,4.3,1.0,0.0,0.0,0.0,4.1,5.3,2.5,8.1,19.8,15.2,13.5,3.0,6.1,0.0,8.6,8.1,4.8,0.0,0.0,27.7,3.6,1.8,13.5,0.0,0.0,0.0,0.0,0.0,0.3,2.8,2.5,2.5,0.8,1.0,11.4,2.5,0.0,1.8,17.3,6.4,0.0,3.0,0.8,8.6,0.0,11.4,0.0,1.3,0.0,3.6,0.8,0.0,2.0,0.0,0.0,6.9,0.5,0.0,0.0,3.6,10.4,13.7,19.3,9.4,8.6,23.9,8.4,9.4,3.6,2.0,3.6,1.3,4.1,0.0,0.0,0.0,0.0,4.8,1.3,27.4,5.6,13.2,1.5,0.0,1.5,0.0,4.6,0.3,0.0,0.0,0.0,0.0,2.3,0.5,0.0,0.0,0.0,8.1,1.8,1.8,10.9,6.6,0.0,0.0,0.0,4.3,10.7,3.8,0.8,0.0,4.3,4.3,0.5,0.5,18.5,1.8,0.0,0.0,0.0,0.0,0.0,0.0,0.0,0.0,0.0,0.0,0.0,0.0,0.0,0.0,0.0,6.4,14.0,6.1,0.3,0.0,0.0,0.0,0.0,0.0,0.0,0.3,3.8,6.6,0.3,0.0,1.3,16.0,0.0,16.5,1.5,0.0,0.0,0.0,0.8,0.0,0.0,0.0,0.0,0.0,3.0,1.0,0.0,0.0,15.7,8.6,0.0,0.5,0.0,0.0,0.0,0.3,3.0,0.0,2.0,5.8,0.0,0.0,0.0,0.0,0.0,1.5,0.0,0.0,0.0,0.5,0.0,0.0,0.3,0.0,0.0,0.0,15.2,0.0,1.0,0.0,0.0,0.0,0.0,0.0,0.0,0.0,0.0,0.0,0.0,0.0,0.0,0.0,0.0,0.0,0.0,0.0,0.0,0.0,0.0,0.0,0.0,0.0,0.0,0.0,0.0,0.0,0.0,0.0,0.0,0.0,0.0,0.0,0.0,0.0,0.0,0.0,0.0,0.0,0.0,0.0,0.0,0.0,0.0,0.0,0.0,0.0,0.0,0.3,0.3,0.0,0.0,0.0,0.0,0.0,0.0,0.0,0.0,0.0,0.0,0.0,0.3,0.0,0.0,0.0,0.0,0.0,0.0,0.0,0.0,0.0,0.0,0.0,0.0,0.0,0.0,0.0,0.0,0.0,0.0,0.0,2.0,4.8,16.5,7.9,0.0,0.0,20.8,4.8,0.5,6.4,8.9,0.0,7.1,0.0,1.5,23.1,6.1,10.9,34.5,14.5,9.7,5.6,0.5,8.1,0.8,0.3,0.0,0.0,0.0,0.0,15.2,3.6,5.3,0.8,0.0,5.6,6.1,7.9,54.1,3.8,11.2,0.0,32.0,0.0,0.0,0.0,0.0,2.8,1.5,35.6,4.1,19.6,13.0,14.2,1.5,1.5,1.0,0.0,1.5,0.5,3.0,8.1,2.3,7.9,5.3,22.6,2.0,3.3,13.7,13.2,1.8,3.3,6.6,0.3,13.5,4.6,4.1,0.0,1.5,0.0,0.0,0.0,0.0,4.1,2.5,3.0,2.0,2.3,16.3,38.4,0.3,0.0,0.0,0.0,0.0,0.0,0.0,0.0,0.0,0.0,0.0,0.0,0.0,5.1,5.8,3.0,2.3,1.8,7.9,4.3,3.6,3.0,0.3,0.0,2.3,0.0,3.3,1.0,1.3,0.0,0.3,0.0,0.3,1.0,2.3,1.0,0.0,0.0,0.0,0.0,0.0,1.5,0.5,9.4,0.3,0.0,2.3,0.5,4.6,8.1,4.1,0.8,0.0,0.0,0.0,11.9,7.4,0.0,0.0,0.8,1.3,2.0,2.3,2.8,0.0,4.3,0.0,0.0,11.7,9.9,8.1,0.0,0.0,0.0,0.0,0.0,0.3,2.0,0.0,0.0,0.0,0.0,0.0,0.0,8.4,18.5,12.7,39.1,0.8,0.0,9.4,1.5,9.7,9.4,5.8,0.0,0.3,0.0,5.3,20.6,0.0,3.3,0.0,0.0,0.0,0.0,0.0,0.0,1.0,3.8,0.0,0.0,0.0,0.0,0.0,0.0,0.0,0.0,0.0,0.0,0.0,0.0,6.6,3.3,0.0,1.0,0.0,0.5,0.0,0.0,0.0,13.7,13.7,4.1,0.3,0.0,1.5,9.7,0.5,5.6,0.0,0.0,0.0,1.0,0.0,0.0,0.0,0.0,0.0,0.0,0.0,0.0,0.0,0.3,0.0,0.0,0.0,0.0,0.0,0.3,0.0,3.0,0.3,0.0,7.9,4.8,9.9,2.0,3.6,0.0,0.0,0.0,0.0,0.0,0.0,0.0,0.0,0.0,0.0,0.0,0.0,0.0,0.0,0.0,0.0,0.0,0.0,0.0,0.0,0.0,0.0,0.0,0.0,0.0,0.0,0.0,0.0,0.0,0.0,0.0,0.0,0.0,0.0,0.0,2.0,0.0,0.0,0.0,0.0,0.0,0.0,0.0,2.3,0.0,0.0,0.0,0.8,1.8,0.0,0.0,0.0,0.0,0.0,0.0,0.0,0.0,0.0,0.3,1.0,1.3,5.6,19.3,0.0,0.0,0.0,0.0,2.3,0.3,27.7,21.3,0.0,0.0,0.0,0.0,0.0,0.0,0.0,0.0,3.3,0.3,0.0,0.0,0.0,3.6,0.0,13.5,2.8,0.0,2.0,0.0,1.0,43.4,16.8,18.5,7.9,5.3,0.8,0.0,0.0,4.1,0.5,6.9,0.0,1.0,9.1,1.0,0.0,0.0,0.0,0.0,0.0,0.0,0.0,0.0,0.0,0.0,0.0,0.0,0.0,0.0,1.8,0.0,0.0,0.5,0.3,1.3,12.7,0.5,0.0,2.5,3.8,30.0,0.0,1.8,0.0,0.0,4.1,0.0,1.3,3.0,0.0,5.3,26.2,1.0,0.0,0.0,0.0,0.0,0.0,0.0,0.0,0.0,0.0,0.5,2.3,3.0,4.6,0.0,0.0,0.0,0.0,0.0,0.0,0.0,0.0,0.0,6.9,0.5,0.0,1.3,0.3,0.0,1.3,0.0,5.6,5.6,10.7,1.5,0.0,0.0,0.0,0.3,0.0,0.0,0.3,0.5,0.0,4.1,1.5,0.0,0.0,0.3,12.2,9.7,5.8,4.3,21.3,1.5,0.0,0.0,0.0,0.0,0.0,0.0,0.0,0.0,0.0,0.5,0.0,0.0,0.0,0.0,0.0,8.9,21.6,0.0,2.3,2.0,0.0,0.0,0.0,0.0,0.0,0.0,5.1,0.5,18.3,17.0,4.6,1.8,9.4,11.7,26.4,14.5,15.2,1.0,3.0,2.8,2.5,6.1,13.0,0.3,0.0,0.0,0.0,0.5,19.1,10.7,16.5,46.7,3.0,0.0,32.3,4.3,18.8,0.0,0.0,0.5,6.9,8.1,27.7,0.3,0.0,0.5,0.0,0.0,0.0,0.0,0.0,4.1,3.6,0.3,22.1,14.0,0.0,0.0,0.0,0.0,2.5,0.0,4.6,0.0,0.0,4.6,0.0,0.0,0.0,0.0,0.0,0.0,0.5,10.9,18.5,0.0,13.7,0.0,5.1,14.2,8.9,12.4,0.0,3.3,6.9,0.0,0.0,0.0,0.0,0.0,33.3,16.0,5.1,0.0,0.0,13.7,2.0,0.5,0.0,0.0,0.0,0.0,0.0,0.0,0.0,0.0,0.0,0.0,0.0,0.0,3.8,0.0,5.6,0.0,0.0,0.0,0.0,0.0,0.0,0.0,0.0,0.0,0.0,0.0,0.0,0.0,0.0,0.0,0.0,0.0,1.8,6.4,0.0,0.5,3.6,1.3,0.0,0.8,0.3,0.0,0.0,0.0,0.0,0.0,0.0,1.8,2.3,0.0,0.0,0.0,0.0,0.0,0.0,0.0,0.0,0.0,0.0,0.0,0.0,0.0,0.0,0.0,0.0,0.0,0.0,0.0,0.0,0.0,0.0,0.0,0.3,19.3,0.0,0.0,0.0,0.0,0.0,0.0,0.0,0.0,0.0,0.5,0.0,0.0,0.0,0.0,0.0,0.0,0.0,0.0,0.5,12.7,21.6,0.0,1.0,0.0,0.0,0.0,0.0,0.0,0.0,0.0,0.0,0.0,0.0,0.0,0.0,0.0,0.0,8.4,1.3,0.0,3.0,0.0,0.0,0.0,0.0,0.0,0.0,0.0,0.0,0.0,0.0,0.0,0.0,0.0,0.0,0.5,0.3,0.0,0.0,0.0,0.3,18.3,20.3,4.3,8.9,0.0,0.0,0.8,0.0,0.0,0.0,0.0,0.0,0.0,0.0,0.0,0.0,0.0,0.3,7.4,0.0,7.6,7.1,8.6,0.0,3.3,15.0,0.0,11.7,1.0,32.0,9.4,4.1,6.1,1.5,0.8,12.7,0.5,25.4,17.0,0.0,1.8,10.9,4.1,4.8,4.1,0.0,0.0,5.1,0.0,0.0,0.0,0.0,0.0,0.0,0.0,0.0,0.0,0.0,3.6,15.2,0.5,11.9,1.3,18.3,0.3,3.3,34.3,3.6,0.0,0.0,0.0,0.0,0.8,3.0,7.4,0.0,9.1,9.9,13.0,6.9,0.0,0.0,0.0,0.0,0.0,2.8,13.0,3.0,19.6,0.0,0.0,20.6,5.3,0.0,0.0,3.3,4.1,0.0,0.0,0.0,0.0,1.5,0.0,10.2,8.1,0.0,0.0,0.0,0.3,5.8,1.5,0.0,0.0,0.0,9.7,0.0,26.2,21.3,0.5,0.0,0.0,0.8,5.8,0.5,0.0,0.0,0.8,0.0,0.0,0.0,0.0,1.5,7.4,1.3,8.4,26.2,17.3,23.6,3.6,6.1,0.3,0.0,1.0,0.0,0.3,0.0,0.0,0.0,0.0,4.6,0.8,0.0,0.0,0.0,0.0,4.1,9.4,18.3,0.0,0.0,0.0,0.0,0.0,0.0,0.0,0.0,0.0,0.0,0.8,2.5,0.0,2.0,17.0,55.9,1.0,0.8,0.0,0.0,4.1,3.8,1.0,8.1,7.6,5.1,0.0,1.0,0.0,0.0,1.8,1.0,5.1,0.0,1.5,0.0,0.0,1.0,0.5,0.0,0.0,10.9,0.0,0.0,14.0,3.3,0.0,0.0,0.0,0.0,0.0,0.0,5.6,0.0,3.0,3.3,1.3,0.0,0.3,1.8,0.0,0.0,0.0,0.0,0.0,0.0,6.1,0.0,0.0,0.0,0.0,0.0,0.0,4.3,4.1,0.3,0.0,0.0,0.0,0.0,0.0,0.0,0.0,0.0,0.0,0.0,0.0,0.0,0.0,0.0,0.0,0.0,0.0,4.6,0.5,0.0,0.0,0.0,0.0,0.0,0.0,0.0,0.0,0.0,0.0,0.0,0.0,0.0,0.0,0.0,0.0,0.5,0.0,0.0,0.0,0.0,0.0,0.0,0.0,0.0,0.3,0.0,0.0,0.0,0.0,0.0,0.0,0.0,0.0,0.0,0.0,0.0,0.0,0.0,0.0,0.0,0.0,0.0,0.0,0.0,0.0,0.0,0.0,0.0,0.0,0.0,0.3,0.0,2.0,0.0,0.0,0.0,0.0,0.0,0.0,0.0,0.0,0.0,0.0,0.0,0.0,0.0,0.0,0.0,0.0,7.6,0.0,30.5,0.0,0.0,0.0,0.0,0.0,2.0,0.0,0.0,0.0,0.0,0.0,0.0,0.0,0.5,32.5,10.2,0.0,5.8,0.0,0.0,0.0,0.3,5.3,0.3,0.0,0.0,0.0,0.0,0.0,0.5,0.0,0.0,1.0,1.8,0.0,0.0,4.1,0.0,0.0,0.0,0.0,2.0,0.0,0.0,0.0,0.0,0.0,0.0,0.0,0.0,0.0,0.0,0.0,9.9,0.0,0.3,28.7,0.0,4.6,1.3,0.0,0.0,0.0,0.3,3.8,0.3,0.0,0.0,0.0,0.0,0.0,8.9,6.9,0.0,3.3,1.8,19.3,33.0,26.2,0.3,0.8,0.0,1.3,0.0,12.7,6.6,3.3,1.3,1.5,9.9,33.5,47.2,22.4,2.0,29.5,1.5,2.0,0.0,0.0,0.0,3.0,7.1,0.0,0.0,0.0,0.0,0.0,0.5,12.2,2.5,12.7,2.0,15.7,11.2,27.4,54.1,13.5,9.4,0.3,16.0,1.3,0.0,1.5,3.6,21.8,18.5,0.0,4.3,27.4,4.6,6.1,2.5,5.8,0.0,8.6,1.5,0.0,0.0,0.0],\"xaxis\":\"x\",\"y\":[12.8,10.6,11.7,12.2,8.9,4.4,7.2,10.0,9.4,6.1,6.1,6.1,5.0,4.4,1.1,1.7,3.3,0.0,-1.1,7.2,8.3,6.7,8.3,10.0,8.9,8.9,6.7,6.7,9.4,8.3,9.4,8.9,8.3,14.4,15.6,13.9,16.1,15.6,10.0,11.1,12.8,8.9,8.3,7.2,6.7,7.2,7.2,10.0,6.7,6.7,7.8,10.0,10.0,8.3,6.7,7.2,5.0,6.7,6.7,5.0,6.1,6.7,12.2,10.6,7.8,6.7,8.9,15.6,9.4,7.2,6.7,8.3,5.6,7.8,11.1,8.9,10.0,5.0,7.2,7.8,8.9,10.0,12.2,15.0,13.3,12.8,14.4,10.6,10.0,9.4,10.0,8.9,16.7,11.7,10.6,9.4,11.1,16.1,21.1,20.0,17.8,11.1,13.9,15.0,15.6,16.1,13.3,10.0,13.3,13.9,13.3,20.0,23.3,21.7,13.9,16.7,13.9,13.3,16.1,15.6,12.8,11.7,13.3,11.1,12.2,13.3,17.8,23.9,18.3,13.3,14.4,18.3,24.4,25.6,26.7,24.4,19.4,17.8,15.6,19.4,14.4,16.7,12.8,14.4,17.2,22.2,22.2,17.2,16.7,16.1,18.9,17.8,20.0,18.9,17.2,12.8,13.3,16.1,16.1,15.0,17.2,18.9,23.3,18.3,16.1,17.2,22.2,21.1,18.9,17.2,19.4,24.4,23.9,13.9,15.6,19.4,19.4,18.3,22.8,22.2,21.7,20.0,20.0,18.9,18.3,20.6,24.4,25.0,26.7,28.3,25.0,23.9,27.8,25.6,23.3,25.0,18.9,26.1,21.7,21.1,25.0,19.4,23.9,20.6,18.9,23.3,26.7,25.6,18.9,22.2,22.8,19.4,22.8,23.9,23.3,27.2,33.9,33.9,28.3,21.1,22.2,24.4,25.6,28.3,30.6,30.6,28.9,31.1,34.4,32.8,21.7,23.3,25.6,23.3,22.2,21.1,22.2,26.1,21.1,23.9,22.8,22.8,22.8,22.2,21.7,21.1,22.8,24.4,26.1,28.3,32.2,25.0,18.9,20.0,20.0,22.2,27.8,26.1,22.2,24.4,27.8,27.8,23.9,19.4,16.1,19.4,19.4,21.1,19.4,19.4,22.8,25.0,20.6,21.1,23.3,17.8,18.9,18.9,21.7,23.9,23.9,21.1,16.1,12.2,13.9,13.9,15.6,17.8,17.2,16.1,14.4,17.8,15.0,11.1,11.7,7.8,11.1,11.7,11.7,11.1,14.4,14.4,15.6,15.0,15.6,15.0,15.0,15.6,17.8,15.0,12.8,12.2,10.0,8.9,7.8,8.9,12.8,11.1,11.1,9.4,9.4,12.2,10.0,13.3,11.1,8.3,8.9,9.4,8.9,8.3,9.4,10.0,9.4,12.8,15.0,13.3,8.3,9.4,11.7,8.9,7.2,7.8,6.7,6.7,7.2,7.8,6.7,7.2,6.1,4.4,6.7,8.3,3.9,8.3,7.2,8.3,8.3,7.2,5.6,5.6,6.7,7.8,8.3,5.0,4.4,3.3,5.0,6.1,6.7,10.0,6.7,7.2,10.0,11.7,10.0,3.3,2.8,2.8,2.2,3.3,6.7,6.1,3.9,3.3,1.1,3.3,2.2,3.3,7.2,7.2,10.6,8.3,5.6,6.1,8.3,8.9,9.4,11.7,6.1,8.9,10.6,10.0,10.6,9.4,7.8,8.3,8.9,8.3,11.1,9.4,9.4,13.3,11.1,9.4,7.8,10.6,7.8,6.7,7.8,10.0,8.9,10.6,8.9,10.0,11.7,15.0,13.9,11.1,13.3,9.4,7.2,12.2,11.7,12.8,7.8,10.6,12.8,11.7,11.7,14.4,10.6,8.9,11.7,12.8,11.1,10.0,9.4,10.0,12.2,16.7,16.7,13.3,16.1,18.3,20.0,20.6,17.2,13.9,16.7,14.4,13.9,12.2,8.3,13.3,12.2,15.0,12.2,7.8,10.6,12.8,13.9,13.9,15.0,11.7,13.3,13.9,12.2,16.1,17.8,21.1,21.7,20.6,13.9,15.0,13.9,12.8,18.3,20.6,21.7,25.0,28.9,30.6,20.6,19.4,22.8,26.1,27.2,21.7,18.9,18.3,17.2,21.7,17.2,16.7,18.3,19.4,15.6,11.1,12.2,16.7,17.8,18.3,16.7,17.2,16.1,16.7,19.4,22.8,20.6,22.2,26.1,26.7,26.7,21.7,20.6,20.6,21.7,20.0,20.6,21.1,20.0,25.6,23.9,25.6,23.3,20.0,17.2,20.6,25.6,22.2,21.1,23.3,22.2,21.1,30.6,30.0,33.9,31.7,28.3,26.1,21.7,23.3,26.1,23.9,26.7,30.0,22.2,22.8,19.4,26.1,27.8,27.8,31.1,22.2,26.1,27.8,25.0,23.9,26.1,31.1,31.1,31.1,31.1,25.6,21.1,25.0,25.0,21.7,20.6,17.2,25.0,28.9,30.0,30.6,31.1,28.3,28.3,25.6,25.0,25.6,27.8,27.2,21.1,28.9,25.6,26.1,26.7,25.6,27.8,28.9,25.0,25.0,22.2,24.4,26.7,26.7,23.9,26.1,27.8,27.8,27.8,25.0,22.8,20.0,21.7,23.3,26.7,26.1,26.7,33.9,25.6,18.9,21.7,18.9,21.7,17.8,21.1,25.6,23.3,21.1,17.2,16.1,17.8,16.1,17.2,13.9,16.7,14.4,13.9,14.4,12.8,14.4,17.8,20.0,22.8,16.1,13.9,15.0,14.4,13.9,14.4,15.0,15.6,15.6,12.8,14.4,12.8,10.6,10.6,11.7,14.4,12.8,10.0,12.2,11.7,13.9,14.4,13.3,15.0,14.4,17.8,14.4,12.2,10.6,13.3,12.8,11.1,13.3,11.1,11.1,16.1,15.6,13.9,11.1,10.6,10.0,11.7,12.8,13.3,7.8,7.8,9.4,11.1,11.7,12.2,12.2,14.4,11.7,9.4,11.1,13.3,7.8,5.0,4.4,1.1,1.1,0.0,2.2,1.1,5.6,5.0,5.6,9.4,9.4,11.7,10.0,8.3,7.8,5.0,8.3,8.9,10.6,11.7,8.3,6.7,6.7,8.9,9.4,7.2,8.9,8.3,7.2,10.6,8.9,7.8,8.3,7.8,8.3,10.0,9.4,12.8,14.4,11.1,10.6,11.1,11.1,6.7,5.6,9.4,6.1,10.0,10.0,9.4,10.0,12.8,12.2,8.3,9.4,11.1,11.1,8.3,7.8,7.8,8.9,5.0,2.8,-0.5,-1.6,3.3,5.6,3.9,10.0,12.2,12.2,12.8,11.7,11.1,9.4,8.3,8.9,8.3,10.0,6.7,5.6,7.2,6.7,12.2,13.9,12.8,14.4,7.2,11.1,14.4,13.9,15.6,13.3,15.6,12.8,15.0,12.2,14.4,16.1,13.9,14.4,16.7,10.6,10.0,10.0,11.1,11.1,10.6,11.1,12.8,18.9,13.9,11.1,12.2,11.7,11.7,11.1,15.6,14.4,14.4,13.3,12.8,11.7,13.9,21.1,15.6,14.4,15.0,17.2,16.1,20.6,20.0,14.4,11.1,11.7,14.4,11.7,15.6,17.2,12.2,11.7,13.9,14.4,15.0,11.1,16.1,25.0,27.8,29.4,18.3,15.0,14.4,15.6,16.7,18.3,13.9,13.3,15.6,18.9,24.4,26.7,27.8,26.7,20.0,20.0,20.0,21.1,22.2,20.0,24.4,20.0,18.3,15.0,18.3,20.0,18.9,18.9,20.6,23.3,22.2,23.3,18.3,19.4,22.2,25.0,24.4,23.3,21.1,20.0,23.9,21.7,15.6,17.8,18.3,17.8,17.8,18.9,25.6,20.0,22.2,25.0,25.0,24.4,26.1,21.1,21.1,20.0,20.6,25.6,34.4,27.2,21.7,23.9,24.4,28.9,27.2,30.0,26.7,28.9,31.1,32.2,29.4,27.8,31.1,31.1,26.7,23.9,25.6,19.4,23.9,21.1,18.9,20.6,22.8,26.1,28.3,30.6,30.0,29.4,30.6,28.9,29.4,31.7,32.8,25.0,26.1,25.6,25.6,27.2,30.6,35.6,27.2,23.3,21.1,24.4,25.6,27.8,29.4,27.2,21.7,21.1,23.9,27.8,25.0,28.9,31.1,28.9,23.3,22.8,17.8,21.1,23.3,20.0,20.6,23.9,27.8,32.2,28.3,21.1,21.7,22.2,24.4,24.4,28.3,30.0,30.6,22.2,22.8,19.4,23.9,24.4,26.1,22.2,18.9,18.9,21.7,20.0,20.6,18.9,16.7,19.4,18.3,19.4,22.2,21.7,23.9,25.6,18.9,20.6,17.2,18.3,18.3,17.8,21.1,16.7,16.1,20.6,16.7,19.4,22.2,16.1,16.1,15.6,14.4,14.4,16.7,12.8,15.6,15.0,16.7,15.6,12.8,11.1,13.3,13.9,14.4,15.0,16.7,14.4,12.8,13.3,11.1,7.8,6.7,7.2,7.2,8.3,9.4,10.6,7.2,11.1,11.1,11.1,9.4,12.8,11.7,13.9,15.0,14.4,12.8,4.4,2.8,4.4,5.6,10.0,8.3,12.8,11.7,14.4,14.4,16.1,18.9,14.4,11.1,10.0,12.8,12.2,10.0,8.9,9.4,11.1,12.8,12.8,10.6,12.2,7.2,7.8,5.6,9.4,6.7,6.1,3.3,3.3,5.6,5.6,5.0,10.6,12.2,12.2,7.8,7.8,10.0,7.8,9.4,11.1,9.4,6.1,7.8,11.7,13.3,13.9,10.0,10.0,7.2,9.4,12.2,14.4,17.2,16.1,11.1,12.2,12.2,8.3,7.2,9.4,11.1,10.0,10.6,13.3,14.4,12.2,15.0,13.3,12.8,12.8,16.7,15.6,14.4,12.2,15.0,16.1,12.2,10.6,11.1,12.2,11.7,12.8,11.1,10.0,11.7,10.0,12.2,11.1,11.1,10.6,12.8,13.3,15.0,16.7,17.2,14.4,13.3,14.4,17.8,17.2,13.9,10.6,13.9,13.3,15.6,15.6,13.9,13.3,11.7,11.1,12.8,14.4,20.6,18.3,15.6,15.6,17.8,12.8,12.8,13.3,11.1,12.8,16.7,13.9,14.4,17.2,17.2,13.9,11.7,13.3,11.7,11.7,13.9,17.8,18.9,18.9,21.1,22.8,17.2,15.6,12.2,12.2,13.3,15.6,25.0,15.6,16.1,17.2,18.3,18.3,20.6,17.2,14.4,16.7,20.6,23.9,26.7,19.4,13.9,15.6,12.2,17.8,20.0,15.6,19.4,25.6,21.7,23.3,25.6,16.7,16.1,17.8,15.6,21.7,24.4,27.8,26.1,22.8,25.0,16.1,17.8,20.0,22.8,26.7,29.4,31.1,30.6,28.9,25.6,24.4,20.0,23.9,27.8,30.0,22.8,25.0,24.4,23.9,25.0,25.6,25.0,26.1,25.6,30.6,31.7,33.3,28.3,28.9,30.6,32.2,33.9,33.3,33.3,32.8,29.4,27.2,30.0,28.9,21.1,22.2,26.1,25.6,27.8,26.1,26.1,27.8,33.3,35.0,26.7,23.9,23.9,26.1,22.8,21.1,22.2,23.3,27.8,32.2,34.4,34.4,33.3,30.6,28.3,26.1,23.3,25.0,28.3,25.0,28.3,28.9,30.0,28.3,28.3,18.3,21.7,25.0,27.2,30.0,31.7,22.8,22.2,26.7,27.8,23.9,25.6,28.3,29.4,23.3,22.2,20.0,18.9,19.4,19.4,18.3,18.3,20.6,16.1,21.1,22.8,24.4,25.0,27.2,26.7,20.6,16.7,17.8,20.0,18.3,19.4,21.1,22.8,18.3,18.9,20.6,22.2,15.6,18.3,17.8,21.1,21.7,18.3,21.1,15.6,19.4,22.8,23.3,18.3,16.1,18.9,19.4,21.1,17.8,18.3,16.7,15.0,21.1,20.0,19.4,15.0,17.2,17.8,16.1,16.1,12.8,15.0,19.4,12.2,16.1,13.9,15.0,17.2,15.6,12.2,11.1,10.6,10.0,11.7,15.6,12.2,11.1,10.0,11.1,11.1,11.1,13.3,9.4,8.9,8.9,13.3,8.9,8.9,8.3,8.9,10.0,6.7,6.7,7.2,9.4,9.4,7.2,1.7,5.6,10.0,10.6,15.6,10.6,10.0,12.8,11.1,15.6,12.2,11.7,9.4,8.9,7.8,7.8,6.7,6.1,6.7,8.9,8.3,7.8,5.6,7.8,5.0,5.6,5.0,4.4,4.4,5.0,7.2,5.6,5.6],\"yaxis\":\"y\",\"type\":\"scattergl\"}],                        {\"template\":{\"data\":{\"bar\":[{\"error_x\":{\"color\":\"#2a3f5f\"},\"error_y\":{\"color\":\"#2a3f5f\"},\"marker\":{\"line\":{\"color\":\"#E5ECF6\",\"width\":0.5},\"pattern\":{\"fillmode\":\"overlay\",\"size\":10,\"solidity\":0.2}},\"type\":\"bar\"}],\"barpolar\":[{\"marker\":{\"line\":{\"color\":\"#E5ECF6\",\"width\":0.5},\"pattern\":{\"fillmode\":\"overlay\",\"size\":10,\"solidity\":0.2}},\"type\":\"barpolar\"}],\"carpet\":[{\"aaxis\":{\"endlinecolor\":\"#2a3f5f\",\"gridcolor\":\"white\",\"linecolor\":\"white\",\"minorgridcolor\":\"white\",\"startlinecolor\":\"#2a3f5f\"},\"baxis\":{\"endlinecolor\":\"#2a3f5f\",\"gridcolor\":\"white\",\"linecolor\":\"white\",\"minorgridcolor\":\"white\",\"startlinecolor\":\"#2a3f5f\"},\"type\":\"carpet\"}],\"choropleth\":[{\"colorbar\":{\"outlinewidth\":0,\"ticks\":\"\"},\"type\":\"choropleth\"}],\"contour\":[{\"colorbar\":{\"outlinewidth\":0,\"ticks\":\"\"},\"colorscale\":[[0.0,\"#0d0887\"],[0.1111111111111111,\"#46039f\"],[0.2222222222222222,\"#7201a8\"],[0.3333333333333333,\"#9c179e\"],[0.4444444444444444,\"#bd3786\"],[0.5555555555555556,\"#d8576b\"],[0.6666666666666666,\"#ed7953\"],[0.7777777777777778,\"#fb9f3a\"],[0.8888888888888888,\"#fdca26\"],[1.0,\"#f0f921\"]],\"type\":\"contour\"}],\"contourcarpet\":[{\"colorbar\":{\"outlinewidth\":0,\"ticks\":\"\"},\"type\":\"contourcarpet\"}],\"heatmap\":[{\"colorbar\":{\"outlinewidth\":0,\"ticks\":\"\"},\"colorscale\":[[0.0,\"#0d0887\"],[0.1111111111111111,\"#46039f\"],[0.2222222222222222,\"#7201a8\"],[0.3333333333333333,\"#9c179e\"],[0.4444444444444444,\"#bd3786\"],[0.5555555555555556,\"#d8576b\"],[0.6666666666666666,\"#ed7953\"],[0.7777777777777778,\"#fb9f3a\"],[0.8888888888888888,\"#fdca26\"],[1.0,\"#f0f921\"]],\"type\":\"heatmap\"}],\"heatmapgl\":[{\"colorbar\":{\"outlinewidth\":0,\"ticks\":\"\"},\"colorscale\":[[0.0,\"#0d0887\"],[0.1111111111111111,\"#46039f\"],[0.2222222222222222,\"#7201a8\"],[0.3333333333333333,\"#9c179e\"],[0.4444444444444444,\"#bd3786\"],[0.5555555555555556,\"#d8576b\"],[0.6666666666666666,\"#ed7953\"],[0.7777777777777778,\"#fb9f3a\"],[0.8888888888888888,\"#fdca26\"],[1.0,\"#f0f921\"]],\"type\":\"heatmapgl\"}],\"histogram\":[{\"marker\":{\"pattern\":{\"fillmode\":\"overlay\",\"size\":10,\"solidity\":0.2}},\"type\":\"histogram\"}],\"histogram2d\":[{\"colorbar\":{\"outlinewidth\":0,\"ticks\":\"\"},\"colorscale\":[[0.0,\"#0d0887\"],[0.1111111111111111,\"#46039f\"],[0.2222222222222222,\"#7201a8\"],[0.3333333333333333,\"#9c179e\"],[0.4444444444444444,\"#bd3786\"],[0.5555555555555556,\"#d8576b\"],[0.6666666666666666,\"#ed7953\"],[0.7777777777777778,\"#fb9f3a\"],[0.8888888888888888,\"#fdca26\"],[1.0,\"#f0f921\"]],\"type\":\"histogram2d\"}],\"histogram2dcontour\":[{\"colorbar\":{\"outlinewidth\":0,\"ticks\":\"\"},\"colorscale\":[[0.0,\"#0d0887\"],[0.1111111111111111,\"#46039f\"],[0.2222222222222222,\"#7201a8\"],[0.3333333333333333,\"#9c179e\"],[0.4444444444444444,\"#bd3786\"],[0.5555555555555556,\"#d8576b\"],[0.6666666666666666,\"#ed7953\"],[0.7777777777777778,\"#fb9f3a\"],[0.8888888888888888,\"#fdca26\"],[1.0,\"#f0f921\"]],\"type\":\"histogram2dcontour\"}],\"mesh3d\":[{\"colorbar\":{\"outlinewidth\":0,\"ticks\":\"\"},\"type\":\"mesh3d\"}],\"parcoords\":[{\"line\":{\"colorbar\":{\"outlinewidth\":0,\"ticks\":\"\"}},\"type\":\"parcoords\"}],\"pie\":[{\"automargin\":true,\"type\":\"pie\"}],\"scatter\":[{\"marker\":{\"colorbar\":{\"outlinewidth\":0,\"ticks\":\"\"}},\"type\":\"scatter\"}],\"scatter3d\":[{\"line\":{\"colorbar\":{\"outlinewidth\":0,\"ticks\":\"\"}},\"marker\":{\"colorbar\":{\"outlinewidth\":0,\"ticks\":\"\"}},\"type\":\"scatter3d\"}],\"scattercarpet\":[{\"marker\":{\"colorbar\":{\"outlinewidth\":0,\"ticks\":\"\"}},\"type\":\"scattercarpet\"}],\"scattergeo\":[{\"marker\":{\"colorbar\":{\"outlinewidth\":0,\"ticks\":\"\"}},\"type\":\"scattergeo\"}],\"scattergl\":[{\"marker\":{\"colorbar\":{\"outlinewidth\":0,\"ticks\":\"\"}},\"type\":\"scattergl\"}],\"scattermapbox\":[{\"marker\":{\"colorbar\":{\"outlinewidth\":0,\"ticks\":\"\"}},\"type\":\"scattermapbox\"}],\"scatterpolar\":[{\"marker\":{\"colorbar\":{\"outlinewidth\":0,\"ticks\":\"\"}},\"type\":\"scatterpolar\"}],\"scatterpolargl\":[{\"marker\":{\"colorbar\":{\"outlinewidth\":0,\"ticks\":\"\"}},\"type\":\"scatterpolargl\"}],\"scatterternary\":[{\"marker\":{\"colorbar\":{\"outlinewidth\":0,\"ticks\":\"\"}},\"type\":\"scatterternary\"}],\"surface\":[{\"colorbar\":{\"outlinewidth\":0,\"ticks\":\"\"},\"colorscale\":[[0.0,\"#0d0887\"],[0.1111111111111111,\"#46039f\"],[0.2222222222222222,\"#7201a8\"],[0.3333333333333333,\"#9c179e\"],[0.4444444444444444,\"#bd3786\"],[0.5555555555555556,\"#d8576b\"],[0.6666666666666666,\"#ed7953\"],[0.7777777777777778,\"#fb9f3a\"],[0.8888888888888888,\"#fdca26\"],[1.0,\"#f0f921\"]],\"type\":\"surface\"}],\"table\":[{\"cells\":{\"fill\":{\"color\":\"#EBF0F8\"},\"line\":{\"color\":\"white\"}},\"header\":{\"fill\":{\"color\":\"#C8D4E3\"},\"line\":{\"color\":\"white\"}},\"type\":\"table\"}]},\"layout\":{\"annotationdefaults\":{\"arrowcolor\":\"#2a3f5f\",\"arrowhead\":0,\"arrowwidth\":1},\"autotypenumbers\":\"strict\",\"coloraxis\":{\"colorbar\":{\"outlinewidth\":0,\"ticks\":\"\"}},\"colorscale\":{\"diverging\":[[0,\"#8e0152\"],[0.1,\"#c51b7d\"],[0.2,\"#de77ae\"],[0.3,\"#f1b6da\"],[0.4,\"#fde0ef\"],[0.5,\"#f7f7f7\"],[0.6,\"#e6f5d0\"],[0.7,\"#b8e186\"],[0.8,\"#7fbc41\"],[0.9,\"#4d9221\"],[1,\"#276419\"]],\"sequential\":[[0.0,\"#0d0887\"],[0.1111111111111111,\"#46039f\"],[0.2222222222222222,\"#7201a8\"],[0.3333333333333333,\"#9c179e\"],[0.4444444444444444,\"#bd3786\"],[0.5555555555555556,\"#d8576b\"],[0.6666666666666666,\"#ed7953\"],[0.7777777777777778,\"#fb9f3a\"],[0.8888888888888888,\"#fdca26\"],[1.0,\"#f0f921\"]],\"sequentialminus\":[[0.0,\"#0d0887\"],[0.1111111111111111,\"#46039f\"],[0.2222222222222222,\"#7201a8\"],[0.3333333333333333,\"#9c179e\"],[0.4444444444444444,\"#bd3786\"],[0.5555555555555556,\"#d8576b\"],[0.6666666666666666,\"#ed7953\"],[0.7777777777777778,\"#fb9f3a\"],[0.8888888888888888,\"#fdca26\"],[1.0,\"#f0f921\"]]},\"colorway\":[\"#636efa\",\"#EF553B\",\"#00cc96\",\"#ab63fa\",\"#FFA15A\",\"#19d3f3\",\"#FF6692\",\"#B6E880\",\"#FF97FF\",\"#FECB52\"],\"font\":{\"color\":\"#2a3f5f\"},\"geo\":{\"bgcolor\":\"white\",\"lakecolor\":\"white\",\"landcolor\":\"#E5ECF6\",\"showlakes\":true,\"showland\":true,\"subunitcolor\":\"white\"},\"hoverlabel\":{\"align\":\"left\"},\"hovermode\":\"closest\",\"mapbox\":{\"style\":\"light\"},\"paper_bgcolor\":\"white\",\"plot_bgcolor\":\"#E5ECF6\",\"polar\":{\"angularaxis\":{\"gridcolor\":\"white\",\"linecolor\":\"white\",\"ticks\":\"\"},\"bgcolor\":\"#E5ECF6\",\"radialaxis\":{\"gridcolor\":\"white\",\"linecolor\":\"white\",\"ticks\":\"\"}},\"scene\":{\"xaxis\":{\"backgroundcolor\":\"#E5ECF6\",\"gridcolor\":\"white\",\"gridwidth\":2,\"linecolor\":\"white\",\"showbackground\":true,\"ticks\":\"\",\"zerolinecolor\":\"white\"},\"yaxis\":{\"backgroundcolor\":\"#E5ECF6\",\"gridcolor\":\"white\",\"gridwidth\":2,\"linecolor\":\"white\",\"showbackground\":true,\"ticks\":\"\",\"zerolinecolor\":\"white\"},\"zaxis\":{\"backgroundcolor\":\"#E5ECF6\",\"gridcolor\":\"white\",\"gridwidth\":2,\"linecolor\":\"white\",\"showbackground\":true,\"ticks\":\"\",\"zerolinecolor\":\"white\"}},\"shapedefaults\":{\"line\":{\"color\":\"#2a3f5f\"}},\"ternary\":{\"aaxis\":{\"gridcolor\":\"white\",\"linecolor\":\"white\",\"ticks\":\"\"},\"baxis\":{\"gridcolor\":\"white\",\"linecolor\":\"white\",\"ticks\":\"\"},\"bgcolor\":\"#E5ECF6\",\"caxis\":{\"gridcolor\":\"white\",\"linecolor\":\"white\",\"ticks\":\"\"}},\"title\":{\"x\":0.05},\"xaxis\":{\"automargin\":true,\"gridcolor\":\"white\",\"linecolor\":\"white\",\"ticks\":\"\",\"title\":{\"standoff\":15},\"zerolinecolor\":\"white\",\"zerolinewidth\":2},\"yaxis\":{\"automargin\":true,\"gridcolor\":\"white\",\"linecolor\":\"white\",\"ticks\":\"\",\"title\":{\"standoff\":15},\"zerolinecolor\":\"white\",\"zerolinewidth\":2}}},\"xaxis\":{\"anchor\":\"y\",\"domain\":[0.0,1.0],\"title\":{\"text\":\"Precipitation (mm)\"}},\"yaxis\":{\"anchor\":\"x\",\"domain\":[0.0,1.0],\"title\":{\"text\":\"Maximum Temperature (Celsius)\"}},\"legend\":{\"tracegroupgap\":0},\"margin\":{\"t\":60},\"title\":{\"text\":\"Relationship Between Temperature and Precipitation\"}},                        {\"responsive\": true}                    ).then(function(){\n",
              "                            \n",
              "var gd = document.getElementById('eb7919cd-a2b9-4b67-9bd4-af128ed29909');\n",
              "var x = new MutationObserver(function (mutations, observer) {{\n",
              "        var display = window.getComputedStyle(gd).display;\n",
              "        if (!display || display === 'none') {{\n",
              "            console.log([gd, 'removed!']);\n",
              "            Plotly.purge(gd);\n",
              "            observer.disconnect();\n",
              "        }}\n",
              "}});\n",
              "\n",
              "// Listen for the removal of the full notebook cells\n",
              "var notebookContainer = gd.closest('#notebook-container');\n",
              "if (notebookContainer) {{\n",
              "    x.observe(notebookContainer, {childList: true});\n",
              "}}\n",
              "\n",
              "// Listen for the clearing of the current output cell\n",
              "var outputEl = gd.closest('.output');\n",
              "if (outputEl) {{\n",
              "    x.observe(outputEl, {childList: true});\n",
              "}}\n",
              "\n",
              "                        })                };                            </script>        </div>\n",
              "</body>\n",
              "</html>"
            ]
          },
          "metadata": {}
        }
      ]
    },
    {
      "cell_type": "code",
      "source": [
        "#Histogram of wind speed\n",
        "\n",
        "# Create a histogram of wind speed\n",
        "fig = px.histogram(df, x='wind')\n",
        "\n",
        "# Set the chart title and axis labels\n",
        "fig.update_layout(\n",
        "    title='Distribution of Wind Speed',\n",
        "    xaxis_title='Wind Speed (m/s)',\n",
        "    yaxis_title='Frequency',\n",
        ")\n",
        "\n",
        "# Show the chart\n",
        "fig.show()"
      ],
      "metadata": {
        "colab": {
          "base_uri": "https://localhost:8080/",
          "height": 562
        },
        "id": "ePWcBfvigHjj",
        "outputId": "9930f2f6-deb8-4980-d121-2c6c3f59c6b9"
      },
      "execution_count": 465,
      "outputs": [
        {
          "output_type": "display_data",
          "data": {
            "text/html": [
              "<html>\n",
              "<head><meta charset=\"utf-8\" /></head>\n",
              "<body>\n",
              "    <div>            <script src=\"https://cdnjs.cloudflare.com/ajax/libs/mathjax/2.7.5/MathJax.js?config=TeX-AMS-MML_SVG\"></script><script type=\"text/javascript\">if (window.MathJax) {MathJax.Hub.Config({SVG: {font: \"STIX-Web\"}});}</script>                <script type=\"text/javascript\">window.PlotlyConfig = {MathJaxConfig: 'local'};</script>\n",
              "        <script src=\"https://cdn.plot.ly/plotly-2.8.3.min.js\"></script>                <div id=\"cb999986-cde4-44f3-97fd-7383882dac36\" class=\"plotly-graph-div\" style=\"height:525px; width:100%;\"></div>            <script type=\"text/javascript\">                                    window.PLOTLYENV=window.PLOTLYENV || {};                                    if (document.getElementById(\"cb999986-cde4-44f3-97fd-7383882dac36\")) {                    Plotly.newPlot(                        \"cb999986-cde4-44f3-97fd-7383882dac36\",                        [{\"alignmentgroup\":\"True\",\"bingroup\":\"x\",\"hovertemplate\":\"wind=%{x}<br>count=%{y}<extra></extra>\",\"legendgroup\":\"\",\"marker\":{\"color\":\"#636efa\",\"pattern\":{\"shape\":\"\"}},\"name\":\"\",\"offsetgroup\":\"\",\"orientation\":\"v\",\"showlegend\":false,\"x\":[4.7,4.5,2.3,4.7,6.1,2.2,2.3,2.0,3.4,3.4,5.1,1.9,1.3,5.3,3.2,5.0,5.6,5.0,1.6,2.3,8.2,4.8,3.6,5.1,5.4,4.8,1.4,2.2,4.5,5.1,3.9,2.7,2.6,5.3,4.3,2.9,5.0,5.3,2.7,2.4,3.0,3.4,1.3,1.4,3.1,1.8,2.1,3.4,8.1,4.7,2.9,7.5,5.9,3.9,3.5,6.4,3.4,3.0,4.2,7.0,3.1,5.1,7.0,5.6,6.2,2.7,2.7,2.5,2.8,3.4,5.8,6.2,5.3,4.7,5.8,5.1,3.8,2.7,3.0,6.4,2.5,2.1,2.8,5.2,2.7,4.3,3.8,5.9,4.4,4.7,3.4,6.8,3.1,3.1,2.1,1.8,2.6,4.3,4.1,2.1,3.2,2.6,2.6,4.0,3.0,2.9,5.8,2.0,3.9,2.6,2.7,2.3,2.6,3.5,2.8,2.6,5.2,4.8,2.5,1.6,8.0,6.4,2.5,3.4,4.6,2.3,2.4,2.2,3.0,3.9,3.0,4.3,3.4,4.2,3.8,4.1,3.5,2.9,3.1,1.5,1.3,4.0,4.8,6.3,3.3,3.1,3.6,3.7,3.4,1.8,1.5,2.7,3.7,3.7,2.9,3.1,3.3,3.4,3.5,3.0,4.7,2.9,1.8,3.9,4.3,2.7,1.7,4.1,6.4,3.8,3.0,3.0,2.1,1.9,2.5,2.0,3.1,3.4,1.8,2.5,1.9,2.4,2.3,2.1,6.0,3.8,3.1,2.1,3.8,2.8,2.0,2.3,2.9,2.7,2.2,2.2,3.8,2.5,2.6,2.9,2.2,4.0,2.3,3.9,3.3,4.3,2.6,2.2,2.8,1.7,2.0,3.0,2.8,2.2,2.5,3.9,3.7,1.9,2.5,2.6,3.1,3.8,2.3,2.5,3.0,2.8,2.8,4.7,2.8,1.8,3.0,2.7,1.9,3.0,2.3,3.8,3.3,3.2,3.4,1.8,3.2,2.4,1.9,2.9,2.1,2.0,3.3,3.1,2.6,4.2,3.1,3.0,5.0,3.9,4.2,5.6,3.6,1.5,1.9,2.3,2.2,1.4,1.9,2.5,2.1,1.1,1.4,1.8,1.7,1.7,1.7,1.1,4.3,3.1,3.0,4.1,7.3,6.5,5.7,5.1,1.3,1.9,1.6,1.4,1.3,4.6,3.9,3.4,4.6,5.5,1.6,2.0,5.3,5.7,2.7,2.6,3.0,2.1,1.5,2.5,5.1,3.8,4.9,2.8,2.7,3.0,1.0,3.6,3.8,4.0,3.5,3.4,3.4,2.0,2.2,3.0,3.0,2.5,2.6,2.4,1.6,5.3,4.9,6.0,4.2,5.5,1.5,2.4,1.2,3.6,3.8,1.5,2.9,4.2,4.6,5.5,6.2,4.4,6.2,5.0,5.1,4.6,2.0,2.1,1.8,4.5,2.0,2.8,1.7,5.1,5.5,9.5,5.3,5.8,3.7,1.7,3.5,2.5,2.8,4.2,4.9,3.2,1.7,1.7,1.8,2.0,2.7,3.2,3.0,2.8,3.1,3.0,7.3,6.3,5.1,2.1,1.9,2.0,1.5,1.3,2.3,1.8,1.0,1.3,1.9,2.1,1.1,0.6,3.1,2.6,2.1,4.5,4.5,3.2,3.9,3.9,4.0,2.9,2.0,2.9,2.6,5.1,4.5,4.1,1.3,1.3,2.0,1.4,5.6,4.1,2.2,2.4,5.6,3.4,1.9,3.4,2.1,6.2,8.1,4.6,5.5,7.1,3.8,1.8,3.8,5.4,4.5,2.8,3.9,2.4,4.1,2.5,2.6,1.3,1.6,1.1,5.7,3.7,3.0,4.3,6.4,6.1,5.9,3.4,7.6,4.9,2.2,2.6,2.1,2.8,1.7,1.6,1.3,2.5,4.4,2.9,3.6,2.2,1.6,3.0,5.6,5.0,3.9,3.1,2.4,6.4,3.8,4.6,5.7,2.3,2.4,2.6,3.3,4.0,4.9,5.8,4.1,4.3,2.8,3.0,1.1,2.2,5.9,5.2,4.2,2.4,3.1,4.0,4.9,6.5,5.3,2.0,3.3,1.9,1.3,1.0,2.6,3.9,5.0,2.4,2.3,2.7,3.7,2.9,2.3,1.8,4.8,3.0,1.9,2.7,2.7,2.2,3.1,2.8,4.0,5.3,2.5,2.5,3.1,2.9,3.4,3.1,2.5,3.2,3.1,3.7,3.2,5.7,4.2,2.6,3.7,2.9,3.4,3.0,3.4,3.7,5.0,1.5,1.7,2.1,3.7,2.8,2.3,1.3,2.2,1.7,2.5,2.3,3.0,3.2,2.2,2.6,2.2,2.9,2.8,2.5,2.6,3.0,2.2,3.1,3.0,4.6,4.1,3.7,2.0,1.9,2.0,2.3,2.4,3.0,2.5,2.3,2.9,2.6,3.4,1.4,2.8,1.8,3.9,2.0,2.4,3.4,2.1,1.4,1.9,2.5,2.1,2.9,2.9,1.9,1.8,2.0,1.0,2.2,3.0,3.1,3.0,4.6,4.3,1.9,4.1,2.7,2.6,1.9,1.4,1.3,3.0,2.9,2.6,2.5,2.1,1.7,2.4,2.5,2.6,2.0,1.5,2.1,3.7,2.4,1.7,2.0,1.4,2.2,4.3,2.3,2.5,1.5,3.0,2.5,5.5,4.5,2.6,3.0,2.2,4.3,6.0,7.1,6.3,4.7,2.4,0.9,1.1,1.6,2.6,6.3,3.0,1.6,1.7,1.0,2.2,1.8,1.6,0.9,2.7,1.7,1.2,1.4,2.4,2.5,1.9,0.4,0.6,1.8,2.7,4.4,5.1,2.2,3.9,2.2,1.4,7.9,2.4,1.6,3.1,1.7,7.2,4.1,1.4,4.4,2.6,2.2,3.8,1.1,6.0,4.6,5.4,3.9,5.1,4.3,3.6,4.6,2.6,0.9,0.5,1.0,1.3,0.7,2.1,3.9,8.8,3.5,5.6,1.6,2.6,4.7,3.1,2.2,1.3,1.5,0.8,2.3,2.9,3.7,3.9,1.0,2.7,2.8,2.1,3.7,2.3,4.0,5.9,1.7,0.8,0.5,2.1,1.3,1.1,2.6,1.7,1.2,3.2,2.6,2.7,3.7,2.6,1.6,4.6,6.3,7.0,8.8,8.1,7.1,1.3,2.5,2.7,2.3,2.2,2.5,2.2,1.5,2.6,5.2,1.9,0.8,1.3,1.3,1.6,3.4,6.4,2.6,0.8,2.5,4.3,4.7,6.6,4.5,4.2,4.6,2.4,4.7,3.8,6.4,6.3,6.4,5.1,7.9,5.5,6.2,6.0,6.9,2.9,3.1,2.6,3.2,4.5,2.5,2.3,5.9,4.7,5.7,5.1,3.9,3.9,6.2,4.2,2.7,4.3,2.2,2.3,1.9,2.5,6.1,3.0,3.8,3.2,1.6,5.1,3.0,3.8,1.8,3.3,2.2,4.4,2.4,2.8,3.9,5.1,5.1,3.8,2.8,4.2,3.9,4.7,4.3,2.6,2.5,4.2,2.9,3.6,2.8,4.4,3.1,2.6,4.0,4.6,4.7,3.8,4.7,2.7,2.5,4.2,5.0,5.3,2.3,3.9,5.8,2.6,2.3,3.9,3.0,4.7,3.4,4.2,3.8,2.6,1.7,3.4,5.6,2.1,1.7,2.7,3.8,3.3,3.0,4.1,3.2,3.2,2.2,2.7,1.7,2.5,4.0,2.4,1.4,4.5,2.5,3.4,4.3,4.5,2.2,2.3,2.4,3.2,2.6,2.4,3.2,3.1,2.1,3.6,2.9,2.7,4.0,5.0,3.2,3.6,2.4,3.0,2.7,3.7,3.4,3.6,2.7,2.5,2.5,2.4,4.1,4.5,4.3,3.2,4.4,3.5,3.6,3.1,3.6,2.2,3.0,4.1,3.5,2.3,2.2,2.2,2.2,2.6,2.8,2.3,2.4,3.7,2.8,5.4,2.8,2.2,1.1,3.3,4.7,2.7,3.6,4.1,3.7,2.8,3.4,4.1,3.3,1.7,2.6,2.6,2.7,2.2,2.4,2.9,4.1,3.4,2.6,3.1,2.7,0.6,1.5,2.2,2.8,3.3,2.4,3.6,1.7,2.9,2.0,2.3,2.0,1.8,1.6,2.3,3.4,2.2,1.9,2.5,4.3,2.7,3.1,6.5,2.9,2.1,2.8,2.3,3.9,5.3,5.9,4.2,1.8,1.2,2.8,2.3,3.1,2.8,4.4,3.0,2.1,2.5,2.7,2.5,3.3,3.2,2.0,3.5,2.6,2.1,2.0,1.0,1.2,1.4,2.5,1.0,1.8,1.0,3.8,3.5,2.1,3.1,2.2,4.7,3.3,3.0,1.9,3.2,3.1,4.7,5.0,4.6,3.2,5.4,5.0,2.4,3.9,3.1,3.2,2.0,1.2,2.9,4.8,3.3,2.1,6.7,2.3,0.8,3.0,3.9,7.7,7.6,4.7,4.5,4.2,4.2,1.9,0.9,1.9,2.1,4.7,4.7,5.1,3.8,4.5,3.9,6.6,5.8,5.3,4.4,2.2,5.7,3.6,1.1,3.1,3.6,2.8,4.2,5.1,6.7,6.4,3.7,1.1,3.5,5.9,4.0,1.6,3.1,4.3,5.5,5.2,1.5,3.8,1.8,2.2,1.2,4.9,1.8,4.3,3.6,3.0,1.2,2.3,1.7,4.5,6.4,1.3,1.6,2.6,0.6,0.5,1.1,1.6,2.7,2.8,3.2,4.5,2.8,6.6,2.8,3.0,1.3,1.3,2.6,3.3,1.4,2.2,2.0,1.8,2.9,0.8,1.9,2.6,4.0,1.9,1.7,4.6,4.5,4.6,3.9,2.5,4.0,1.0,2.1,1.7,2.9,4.8,6.6,4.0,2.6,2.2,0.9,4.5,4.2,1.4,1.5,1.0,1.4,4.0,5.1,2.2,4.8,2.1,1.8,1.3,1.4,2.7,1.7,1.8,2.6,3.1,3.2,2.2,3.8,4.2,3.0,2.6,2.5,1.9,1.9,4.7,2.3,2.8,3.9,4.4,2.2,4.0,5.7,3.0,2.9,4.2,3.2,2.4,3.6,1.7,2.4,3.5,3.9,1.7,2.3,4.6,6.5,3.6,3.6,3.3,2.4,3.1,3.6,3.9,3.6,2.6,3.4,2.3,4.1,5.0,3.0,2.7,2.3,4.3,4.7,2.1,3.7,3.7,2.6,5.2,5.1,2.6,3.0,3.0,2.6,2.8,2.5,3.3,2.8,2.0,2.8,3.0,2.1,3.0,2.6,1.8,2.1,3.7,2.6,2.7,2.7,2.1,1.8,2.1,2.5,2.5,2.2,3.4,5.0,3.0,3.9,4.3,2.6,3.2,3.5,2.7,3.0,3.5,2.3,2.6,3.7,3.5,3.0,3.1,3.0,3.2,4.3,3.4,2.4,2.4,2.6,3.0,4.7,3.9,2.1,2.7,3.4,4.3,3.4,2.6,2.9,2.1,3.2,2.4,1.9,3.4,3.7,3.0,2.2,3.1,3.3,3.2,2.8,3.3,3.4,3.3,3.9,2.4,2.8,1.9,3.8,2.4,2.6,1.9,3.4,3.8,3.5,2.6,3.1,2.0,2.3,2.6,3.5,2.9,3.7,3.6,2.2,2.4,4.4,2.7,2.2,5.2,3.7,3.7,3.0,3.0,2.1,4.2,2.6,2.5,1.8,2.3,3.4,1.7,2.1,2.6,5.8,4.7,5.8,5.0,3.8,2.9,2.9,3.5,2.4,1.5,2.4,3.3,3.6,3.1,2.1,3.0,3.4,2.8,1.9,3.8,2.6,4.3,6.8,2.7,2.0,1.8,2.5,2.6,2.7,3.8,5.1,1.9,1.3,1.3,2.9,4.8,3.7,1.6,2.6,2.2,1.1,2.6,4.7,2.6,2.8,3.2,5.0,3.4,1.3,1.3,2.0,2.6,1.8,1.3,2.7,2.6,2.9,3.4,4.6,1.7,2.8,4.7,6.7,7.2,6.0,2.8,1.4,2.2,2.3,2.7,3.0,1.8,1.3,3.9,4.6,5.1,6.5,4.5,4.1,4.0,8.0,3.8,4.2,4.0,4.7,3.1,1.3,4.5,5.7,4.3,3.0,1.0,0.9,1.7,3.5,5.0,5.9,4.7,4.0,5.9,3.4,6.2,6.3,7.5,2.8,5.6,6.1,1.7,2.9,2.3,6.0,5.1,4.1,6.7,4.3,5.0,7.6,4.3,1.5,2.5,2.9,1.3,2.6,3.4,3.5],\"xaxis\":\"x\",\"yaxis\":\"y\",\"type\":\"histogram\"}],                        {\"template\":{\"data\":{\"bar\":[{\"error_x\":{\"color\":\"#2a3f5f\"},\"error_y\":{\"color\":\"#2a3f5f\"},\"marker\":{\"line\":{\"color\":\"#E5ECF6\",\"width\":0.5},\"pattern\":{\"fillmode\":\"overlay\",\"size\":10,\"solidity\":0.2}},\"type\":\"bar\"}],\"barpolar\":[{\"marker\":{\"line\":{\"color\":\"#E5ECF6\",\"width\":0.5},\"pattern\":{\"fillmode\":\"overlay\",\"size\":10,\"solidity\":0.2}},\"type\":\"barpolar\"}],\"carpet\":[{\"aaxis\":{\"endlinecolor\":\"#2a3f5f\",\"gridcolor\":\"white\",\"linecolor\":\"white\",\"minorgridcolor\":\"white\",\"startlinecolor\":\"#2a3f5f\"},\"baxis\":{\"endlinecolor\":\"#2a3f5f\",\"gridcolor\":\"white\",\"linecolor\":\"white\",\"minorgridcolor\":\"white\",\"startlinecolor\":\"#2a3f5f\"},\"type\":\"carpet\"}],\"choropleth\":[{\"colorbar\":{\"outlinewidth\":0,\"ticks\":\"\"},\"type\":\"choropleth\"}],\"contour\":[{\"colorbar\":{\"outlinewidth\":0,\"ticks\":\"\"},\"colorscale\":[[0.0,\"#0d0887\"],[0.1111111111111111,\"#46039f\"],[0.2222222222222222,\"#7201a8\"],[0.3333333333333333,\"#9c179e\"],[0.4444444444444444,\"#bd3786\"],[0.5555555555555556,\"#d8576b\"],[0.6666666666666666,\"#ed7953\"],[0.7777777777777778,\"#fb9f3a\"],[0.8888888888888888,\"#fdca26\"],[1.0,\"#f0f921\"]],\"type\":\"contour\"}],\"contourcarpet\":[{\"colorbar\":{\"outlinewidth\":0,\"ticks\":\"\"},\"type\":\"contourcarpet\"}],\"heatmap\":[{\"colorbar\":{\"outlinewidth\":0,\"ticks\":\"\"},\"colorscale\":[[0.0,\"#0d0887\"],[0.1111111111111111,\"#46039f\"],[0.2222222222222222,\"#7201a8\"],[0.3333333333333333,\"#9c179e\"],[0.4444444444444444,\"#bd3786\"],[0.5555555555555556,\"#d8576b\"],[0.6666666666666666,\"#ed7953\"],[0.7777777777777778,\"#fb9f3a\"],[0.8888888888888888,\"#fdca26\"],[1.0,\"#f0f921\"]],\"type\":\"heatmap\"}],\"heatmapgl\":[{\"colorbar\":{\"outlinewidth\":0,\"ticks\":\"\"},\"colorscale\":[[0.0,\"#0d0887\"],[0.1111111111111111,\"#46039f\"],[0.2222222222222222,\"#7201a8\"],[0.3333333333333333,\"#9c179e\"],[0.4444444444444444,\"#bd3786\"],[0.5555555555555556,\"#d8576b\"],[0.6666666666666666,\"#ed7953\"],[0.7777777777777778,\"#fb9f3a\"],[0.8888888888888888,\"#fdca26\"],[1.0,\"#f0f921\"]],\"type\":\"heatmapgl\"}],\"histogram\":[{\"marker\":{\"pattern\":{\"fillmode\":\"overlay\",\"size\":10,\"solidity\":0.2}},\"type\":\"histogram\"}],\"histogram2d\":[{\"colorbar\":{\"outlinewidth\":0,\"ticks\":\"\"},\"colorscale\":[[0.0,\"#0d0887\"],[0.1111111111111111,\"#46039f\"],[0.2222222222222222,\"#7201a8\"],[0.3333333333333333,\"#9c179e\"],[0.4444444444444444,\"#bd3786\"],[0.5555555555555556,\"#d8576b\"],[0.6666666666666666,\"#ed7953\"],[0.7777777777777778,\"#fb9f3a\"],[0.8888888888888888,\"#fdca26\"],[1.0,\"#f0f921\"]],\"type\":\"histogram2d\"}],\"histogram2dcontour\":[{\"colorbar\":{\"outlinewidth\":0,\"ticks\":\"\"},\"colorscale\":[[0.0,\"#0d0887\"],[0.1111111111111111,\"#46039f\"],[0.2222222222222222,\"#7201a8\"],[0.3333333333333333,\"#9c179e\"],[0.4444444444444444,\"#bd3786\"],[0.5555555555555556,\"#d8576b\"],[0.6666666666666666,\"#ed7953\"],[0.7777777777777778,\"#fb9f3a\"],[0.8888888888888888,\"#fdca26\"],[1.0,\"#f0f921\"]],\"type\":\"histogram2dcontour\"}],\"mesh3d\":[{\"colorbar\":{\"outlinewidth\":0,\"ticks\":\"\"},\"type\":\"mesh3d\"}],\"parcoords\":[{\"line\":{\"colorbar\":{\"outlinewidth\":0,\"ticks\":\"\"}},\"type\":\"parcoords\"}],\"pie\":[{\"automargin\":true,\"type\":\"pie\"}],\"scatter\":[{\"marker\":{\"colorbar\":{\"outlinewidth\":0,\"ticks\":\"\"}},\"type\":\"scatter\"}],\"scatter3d\":[{\"line\":{\"colorbar\":{\"outlinewidth\":0,\"ticks\":\"\"}},\"marker\":{\"colorbar\":{\"outlinewidth\":0,\"ticks\":\"\"}},\"type\":\"scatter3d\"}],\"scattercarpet\":[{\"marker\":{\"colorbar\":{\"outlinewidth\":0,\"ticks\":\"\"}},\"type\":\"scattercarpet\"}],\"scattergeo\":[{\"marker\":{\"colorbar\":{\"outlinewidth\":0,\"ticks\":\"\"}},\"type\":\"scattergeo\"}],\"scattergl\":[{\"marker\":{\"colorbar\":{\"outlinewidth\":0,\"ticks\":\"\"}},\"type\":\"scattergl\"}],\"scattermapbox\":[{\"marker\":{\"colorbar\":{\"outlinewidth\":0,\"ticks\":\"\"}},\"type\":\"scattermapbox\"}],\"scatterpolar\":[{\"marker\":{\"colorbar\":{\"outlinewidth\":0,\"ticks\":\"\"}},\"type\":\"scatterpolar\"}],\"scatterpolargl\":[{\"marker\":{\"colorbar\":{\"outlinewidth\":0,\"ticks\":\"\"}},\"type\":\"scatterpolargl\"}],\"scatterternary\":[{\"marker\":{\"colorbar\":{\"outlinewidth\":0,\"ticks\":\"\"}},\"type\":\"scatterternary\"}],\"surface\":[{\"colorbar\":{\"outlinewidth\":0,\"ticks\":\"\"},\"colorscale\":[[0.0,\"#0d0887\"],[0.1111111111111111,\"#46039f\"],[0.2222222222222222,\"#7201a8\"],[0.3333333333333333,\"#9c179e\"],[0.4444444444444444,\"#bd3786\"],[0.5555555555555556,\"#d8576b\"],[0.6666666666666666,\"#ed7953\"],[0.7777777777777778,\"#fb9f3a\"],[0.8888888888888888,\"#fdca26\"],[1.0,\"#f0f921\"]],\"type\":\"surface\"}],\"table\":[{\"cells\":{\"fill\":{\"color\":\"#EBF0F8\"},\"line\":{\"color\":\"white\"}},\"header\":{\"fill\":{\"color\":\"#C8D4E3\"},\"line\":{\"color\":\"white\"}},\"type\":\"table\"}]},\"layout\":{\"annotationdefaults\":{\"arrowcolor\":\"#2a3f5f\",\"arrowhead\":0,\"arrowwidth\":1},\"autotypenumbers\":\"strict\",\"coloraxis\":{\"colorbar\":{\"outlinewidth\":0,\"ticks\":\"\"}},\"colorscale\":{\"diverging\":[[0,\"#8e0152\"],[0.1,\"#c51b7d\"],[0.2,\"#de77ae\"],[0.3,\"#f1b6da\"],[0.4,\"#fde0ef\"],[0.5,\"#f7f7f7\"],[0.6,\"#e6f5d0\"],[0.7,\"#b8e186\"],[0.8,\"#7fbc41\"],[0.9,\"#4d9221\"],[1,\"#276419\"]],\"sequential\":[[0.0,\"#0d0887\"],[0.1111111111111111,\"#46039f\"],[0.2222222222222222,\"#7201a8\"],[0.3333333333333333,\"#9c179e\"],[0.4444444444444444,\"#bd3786\"],[0.5555555555555556,\"#d8576b\"],[0.6666666666666666,\"#ed7953\"],[0.7777777777777778,\"#fb9f3a\"],[0.8888888888888888,\"#fdca26\"],[1.0,\"#f0f921\"]],\"sequentialminus\":[[0.0,\"#0d0887\"],[0.1111111111111111,\"#46039f\"],[0.2222222222222222,\"#7201a8\"],[0.3333333333333333,\"#9c179e\"],[0.4444444444444444,\"#bd3786\"],[0.5555555555555556,\"#d8576b\"],[0.6666666666666666,\"#ed7953\"],[0.7777777777777778,\"#fb9f3a\"],[0.8888888888888888,\"#fdca26\"],[1.0,\"#f0f921\"]]},\"colorway\":[\"#636efa\",\"#EF553B\",\"#00cc96\",\"#ab63fa\",\"#FFA15A\",\"#19d3f3\",\"#FF6692\",\"#B6E880\",\"#FF97FF\",\"#FECB52\"],\"font\":{\"color\":\"#2a3f5f\"},\"geo\":{\"bgcolor\":\"white\",\"lakecolor\":\"white\",\"landcolor\":\"#E5ECF6\",\"showlakes\":true,\"showland\":true,\"subunitcolor\":\"white\"},\"hoverlabel\":{\"align\":\"left\"},\"hovermode\":\"closest\",\"mapbox\":{\"style\":\"light\"},\"paper_bgcolor\":\"white\",\"plot_bgcolor\":\"#E5ECF6\",\"polar\":{\"angularaxis\":{\"gridcolor\":\"white\",\"linecolor\":\"white\",\"ticks\":\"\"},\"bgcolor\":\"#E5ECF6\",\"radialaxis\":{\"gridcolor\":\"white\",\"linecolor\":\"white\",\"ticks\":\"\"}},\"scene\":{\"xaxis\":{\"backgroundcolor\":\"#E5ECF6\",\"gridcolor\":\"white\",\"gridwidth\":2,\"linecolor\":\"white\",\"showbackground\":true,\"ticks\":\"\",\"zerolinecolor\":\"white\"},\"yaxis\":{\"backgroundcolor\":\"#E5ECF6\",\"gridcolor\":\"white\",\"gridwidth\":2,\"linecolor\":\"white\",\"showbackground\":true,\"ticks\":\"\",\"zerolinecolor\":\"white\"},\"zaxis\":{\"backgroundcolor\":\"#E5ECF6\",\"gridcolor\":\"white\",\"gridwidth\":2,\"linecolor\":\"white\",\"showbackground\":true,\"ticks\":\"\",\"zerolinecolor\":\"white\"}},\"shapedefaults\":{\"line\":{\"color\":\"#2a3f5f\"}},\"ternary\":{\"aaxis\":{\"gridcolor\":\"white\",\"linecolor\":\"white\",\"ticks\":\"\"},\"baxis\":{\"gridcolor\":\"white\",\"linecolor\":\"white\",\"ticks\":\"\"},\"bgcolor\":\"#E5ECF6\",\"caxis\":{\"gridcolor\":\"white\",\"linecolor\":\"white\",\"ticks\":\"\"}},\"title\":{\"x\":0.05},\"xaxis\":{\"automargin\":true,\"gridcolor\":\"white\",\"linecolor\":\"white\",\"ticks\":\"\",\"title\":{\"standoff\":15},\"zerolinecolor\":\"white\",\"zerolinewidth\":2},\"yaxis\":{\"automargin\":true,\"gridcolor\":\"white\",\"linecolor\":\"white\",\"ticks\":\"\",\"title\":{\"standoff\":15},\"zerolinecolor\":\"white\",\"zerolinewidth\":2}}},\"xaxis\":{\"anchor\":\"y\",\"domain\":[0.0,1.0],\"title\":{\"text\":\"Wind Speed (m/s)\"}},\"yaxis\":{\"anchor\":\"x\",\"domain\":[0.0,1.0],\"title\":{\"text\":\"Frequency\"}},\"legend\":{\"tracegroupgap\":0},\"margin\":{\"t\":60},\"barmode\":\"relative\",\"title\":{\"text\":\"Distribution of Wind Speed\"}},                        {\"responsive\": true}                    ).then(function(){\n",
              "                            \n",
              "var gd = document.getElementById('cb999986-cde4-44f3-97fd-7383882dac36');\n",
              "var x = new MutationObserver(function (mutations, observer) {{\n",
              "        var display = window.getComputedStyle(gd).display;\n",
              "        if (!display || display === 'none') {{\n",
              "            console.log([gd, 'removed!']);\n",
              "            Plotly.purge(gd);\n",
              "            observer.disconnect();\n",
              "        }}\n",
              "}});\n",
              "\n",
              "// Listen for the removal of the full notebook cells\n",
              "var notebookContainer = gd.closest('#notebook-container');\n",
              "if (notebookContainer) {{\n",
              "    x.observe(notebookContainer, {childList: true});\n",
              "}}\n",
              "\n",
              "// Listen for the clearing of the current output cell\n",
              "var outputEl = gd.closest('.output');\n",
              "if (outputEl) {{\n",
              "    x.observe(outputEl, {childList: true});\n",
              "}}\n",
              "\n",
              "                        })                };                            </script>        </div>\n",
              "</body>\n",
              "</html>"
            ]
          },
          "metadata": {}
        }
      ]
    },
    {
      "cell_type": "code",
      "source": [
        "#Box plot of temperature by month\n",
        "\n",
        "# Create a box plot of temperature by month\n",
        "fig = px.box(df, x='month', y='temp_max')\n",
        "\n",
        "# Set the chart title and axis labels\n",
        "fig.update_layout(\n",
        "    title='Distribution of Maximum Temperature by Month',\n",
        "    xaxis_title='Month',\n",
        "    yaxis_title='Maximum Temperature (Celsius)',\n",
        ")\n",
        "\n",
        "# Show the chart\n",
        "fig.show()"
      ],
      "metadata": {
        "colab": {
          "base_uri": "https://localhost:8080/",
          "height": 562
        },
        "id": "dh-0JCJCgIur",
        "outputId": "e350fd19-64a2-49ca-c16b-e7e503ad7176"
      },
      "execution_count": 466,
      "outputs": [
        {
          "output_type": "display_data",
          "data": {
            "text/html": [
              "<html>\n",
              "<head><meta charset=\"utf-8\" /></head>\n",
              "<body>\n",
              "    <div>            <script src=\"https://cdnjs.cloudflare.com/ajax/libs/mathjax/2.7.5/MathJax.js?config=TeX-AMS-MML_SVG\"></script><script type=\"text/javascript\">if (window.MathJax) {MathJax.Hub.Config({SVG: {font: \"STIX-Web\"}});}</script>                <script type=\"text/javascript\">window.PlotlyConfig = {MathJaxConfig: 'local'};</script>\n",
              "        <script src=\"https://cdn.plot.ly/plotly-2.8.3.min.js\"></script>                <div id=\"b2869fa6-2d5a-473b-9875-6c467a9451c6\" class=\"plotly-graph-div\" style=\"height:525px; width:100%;\"></div>            <script type=\"text/javascript\">                                    window.PLOTLYENV=window.PLOTLYENV || {};                                    if (document.getElementById(\"b2869fa6-2d5a-473b-9875-6c467a9451c6\")) {                    Plotly.newPlot(                        \"b2869fa6-2d5a-473b-9875-6c467a9451c6\",                        [{\"alignmentgroup\":\"True\",\"hovertemplate\":\"month=%{x}<br>temp_max=%{y}<extra></extra>\",\"legendgroup\":\"\",\"marker\":{\"color\":\"#636efa\"},\"name\":\"\",\"notched\":false,\"offsetgroup\":\"\",\"orientation\":\"v\",\"showlegend\":false,\"x\":[1,1,1,1,1,1,1,1,1,1,1,1,1,1,1,1,1,1,1,1,1,1,1,1,1,1,1,1,1,1,1,2,2,2,2,2,2,2,2,2,2,2,2,2,2,2,2,2,2,2,2,2,2,2,2,2,2,2,2,2,3,3,3,3,3,3,3,3,3,3,3,3,3,3,3,3,3,3,3,3,3,3,3,3,3,3,3,3,3,3,3,4,4,4,4,4,4,4,4,4,4,4,4,4,4,4,4,4,4,4,4,4,4,4,4,4,4,4,4,4,4,5,5,5,5,5,5,5,5,5,5,5,5,5,5,5,5,5,5,5,5,5,5,5,5,5,5,5,5,5,5,5,6,6,6,6,6,6,6,6,6,6,6,6,6,6,6,6,6,6,6,6,6,6,6,6,6,6,6,6,6,6,7,7,7,7,7,7,7,7,7,7,7,7,7,7,7,7,7,7,7,7,7,7,7,7,7,7,7,7,7,7,7,8,8,8,8,8,8,8,8,8,8,8,8,8,8,8,8,8,8,8,8,8,8,8,8,8,8,8,8,8,8,8,9,9,9,9,9,9,9,9,9,9,9,9,9,9,9,9,9,9,9,9,9,9,9,9,9,9,9,9,9,9,10,10,10,10,10,10,10,10,10,10,10,10,10,10,10,10,10,10,10,10,10,10,10,10,10,10,10,10,10,10,10,11,11,11,11,11,11,11,11,11,11,11,11,11,11,11,11,11,11,11,11,11,11,11,11,11,11,11,11,11,11,12,12,12,12,12,12,12,12,12,12,12,12,12,12,12,12,12,12,12,12,12,12,12,12,12,12,12,12,12,12,12,1,1,1,1,1,1,1,1,1,1,1,1,1,1,1,1,1,1,1,1,1,1,1,1,1,1,1,1,1,1,1,2,2,2,2,2,2,2,2,2,2,2,2,2,2,2,2,2,2,2,2,2,2,2,2,2,2,2,2,3,3,3,3,3,3,3,3,3,3,3,3,3,3,3,3,3,3,3,3,3,3,3,3,3,3,3,3,3,3,3,4,4,4,4,4,4,4,4,4,4,4,4,4,4,4,4,4,4,4,4,4,4,4,4,4,4,4,4,4,4,5,5,5,5,5,5,5,5,5,5,5,5,5,5,5,5,5,5,5,5,5,5,5,5,5,5,5,5,5,5,5,6,6,6,6,6,6,6,6,6,6,6,6,6,6,6,6,6,6,6,6,6,6,6,6,6,6,6,6,6,6,7,7,7,7,7,7,7,7,7,7,7,7,7,7,7,7,7,7,7,7,7,7,7,7,7,7,7,7,7,7,7,8,8,8,8,8,8,8,8,8,8,8,8,8,8,8,8,8,8,8,8,8,8,8,8,8,8,8,8,8,8,8,9,9,9,9,9,9,9,9,9,9,9,9,9,9,9,9,9,9,9,9,9,9,9,9,9,9,9,9,9,9,10,10,10,10,10,10,10,10,10,10,10,10,10,10,10,10,10,10,10,10,10,10,10,10,10,10,10,10,10,10,10,11,11,11,11,11,11,11,11,11,11,11,11,11,11,11,11,11,11,11,11,11,11,11,11,11,11,11,11,11,11,12,12,12,12,12,12,12,12,12,12,12,12,12,12,12,12,12,12,12,12,12,12,12,12,12,12,12,12,12,12,12,1,1,1,1,1,1,1,1,1,1,1,1,1,1,1,1,1,1,1,1,1,1,1,1,1,1,1,1,1,1,1,2,2,2,2,2,2,2,2,2,2,2,2,2,2,2,2,2,2,2,2,2,2,2,2,2,2,2,2,3,3,3,3,3,3,3,3,3,3,3,3,3,3,3,3,3,3,3,3,3,3,3,3,3,3,3,3,3,3,3,4,4,4,4,4,4,4,4,4,4,4,4,4,4,4,4,4,4,4,4,4,4,4,4,4,4,4,4,4,4,5,5,5,5,5,5,5,5,5,5,5,5,5,5,5,5,5,5,5,5,5,5,5,5,5,5,5,5,5,5,5,6,6,6,6,6,6,6,6,6,6,6,6,6,6,6,6,6,6,6,6,6,6,6,6,6,6,6,6,6,6,7,7,7,7,7,7,7,7,7,7,7,7,7,7,7,7,7,7,7,7,7,7,7,7,7,7,7,7,7,7,7,8,8,8,8,8,8,8,8,8,8,8,8,8,8,8,8,8,8,8,8,8,8,8,8,8,8,8,8,8,8,8,9,9,9,9,9,9,9,9,9,9,9,9,9,9,9,9,9,9,9,9,9,9,9,9,9,9,9,9,9,9,10,10,10,10,10,10,10,10,10,10,10,10,10,10,10,10,10,10,10,10,10,10,10,10,10,10,10,10,10,10,10,11,11,11,11,11,11,11,11,11,11,11,11,11,11,11,11,11,11,11,11,11,11,11,11,11,11,11,11,11,11,12,12,12,12,12,12,12,12,12,12,12,12,12,12,12,12,12,12,12,12,12,12,12,12,12,12,12,12,12,12,12,1,1,1,1,1,1,1,1,1,1,1,1,1,1,1,1,1,1,1,1,1,1,1,1,1,1,1,1,1,1,1,2,2,2,2,2,2,2,2,2,2,2,2,2,2,2,2,2,2,2,2,2,2,2,2,2,2,2,2,3,3,3,3,3,3,3,3,3,3,3,3,3,3,3,3,3,3,3,3,3,3,3,3,3,3,3,3,3,3,3,4,4,4,4,4,4,4,4,4,4,4,4,4,4,4,4,4,4,4,4,4,4,4,4,4,4,4,4,4,4,5,5,5,5,5,5,5,5,5,5,5,5,5,5,5,5,5,5,5,5,5,5,5,5,5,5,5,5,5,5,5,6,6,6,6,6,6,6,6,6,6,6,6,6,6,6,6,6,6,6,6,6,6,6,6,6,6,6,6,6,6,7,7,7,7,7,7,7,7,7,7,7,7,7,7,7,7,7,7,7,7,7,7,7,7,7,7,7,7,7,7,7,8,8,8,8,8,8,8,8,8,8,8,8,8,8,8,8,8,8,8,8,8,8,8,8,8,8,8,8,8,8,8,9,9,9,9,9,9,9,9,9,9,9,9,9,9,9,9,9,9,9,9,9,9,9,9,9,9,9,9,9,9,10,10,10,10,10,10,10,10,10,10,10,10,10,10,10,10,10,10,10,10,10,10,10,10,10,10,10,10,10,10,10,11,11,11,11,11,11,11,11,11,11,11,11,11,11,11,11,11,11,11,11,11,11,11,11,11,11,11,11,11,11,12,12,12,12,12,12,12,12,12,12,12,12,12,12,12,12,12,12,12,12,12,12,12,12,12,12,12,12,12,12,12],\"x0\":\" \",\"xaxis\":\"x\",\"y\":[12.8,10.6,11.7,12.2,8.9,4.4,7.2,10.0,9.4,6.1,6.1,6.1,5.0,4.4,1.1,1.7,3.3,0.0,-1.1,7.2,8.3,6.7,8.3,10.0,8.9,8.9,6.7,6.7,9.4,8.3,9.4,8.9,8.3,14.4,15.6,13.9,16.1,15.6,10.0,11.1,12.8,8.9,8.3,7.2,6.7,7.2,7.2,10.0,6.7,6.7,7.8,10.0,10.0,8.3,6.7,7.2,5.0,6.7,6.7,5.0,6.1,6.7,12.2,10.6,7.8,6.7,8.9,15.6,9.4,7.2,6.7,8.3,5.6,7.8,11.1,8.9,10.0,5.0,7.2,7.8,8.9,10.0,12.2,15.0,13.3,12.8,14.4,10.6,10.0,9.4,10.0,8.9,16.7,11.7,10.6,9.4,11.1,16.1,21.1,20.0,17.8,11.1,13.9,15.0,15.6,16.1,13.3,10.0,13.3,13.9,13.3,20.0,23.3,21.7,13.9,16.7,13.9,13.3,16.1,15.6,12.8,11.7,13.3,11.1,12.2,13.3,17.8,23.9,18.3,13.3,14.4,18.3,24.4,25.6,26.7,24.4,19.4,17.8,15.6,19.4,14.4,16.7,12.8,14.4,17.2,22.2,22.2,17.2,16.7,16.1,18.9,17.8,20.0,18.9,17.2,12.8,13.3,16.1,16.1,15.0,17.2,18.9,23.3,18.3,16.1,17.2,22.2,21.1,18.9,17.2,19.4,24.4,23.9,13.9,15.6,19.4,19.4,18.3,22.8,22.2,21.7,20.0,20.0,18.9,18.3,20.6,24.4,25.0,26.7,28.3,25.0,23.9,27.8,25.6,23.3,25.0,18.9,26.1,21.7,21.1,25.0,19.4,23.9,20.6,18.9,23.3,26.7,25.6,18.9,22.2,22.8,19.4,22.8,23.9,23.3,27.2,33.9,33.9,28.3,21.1,22.2,24.4,25.6,28.3,30.6,30.6,28.9,31.1,34.4,32.8,21.7,23.3,25.6,23.3,22.2,21.1,22.2,26.1,21.1,23.9,22.8,22.8,22.8,22.2,21.7,21.1,22.8,24.4,26.1,28.3,32.2,25.0,18.9,20.0,20.0,22.2,27.8,26.1,22.2,24.4,27.8,27.8,23.9,19.4,16.1,19.4,19.4,21.1,19.4,19.4,22.8,25.0,20.6,21.1,23.3,17.8,18.9,18.9,21.7,23.9,23.9,21.1,16.1,12.2,13.9,13.9,15.6,17.8,17.2,16.1,14.4,17.8,15.0,11.1,11.7,7.8,11.1,11.7,11.7,11.1,14.4,14.4,15.6,15.0,15.6,15.0,15.0,15.6,17.8,15.0,12.8,12.2,10.0,8.9,7.8,8.9,12.8,11.1,11.1,9.4,9.4,12.2,10.0,13.3,11.1,8.3,8.9,9.4,8.9,8.3,9.4,10.0,9.4,12.8,15.0,13.3,8.3,9.4,11.7,8.9,7.2,7.8,6.7,6.7,7.2,7.8,6.7,7.2,6.1,4.4,6.7,8.3,3.9,8.3,7.2,8.3,8.3,7.2,5.6,5.6,6.7,7.8,8.3,5.0,4.4,3.3,5.0,6.1,6.7,10.0,6.7,7.2,10.0,11.7,10.0,3.3,2.8,2.8,2.2,3.3,6.7,6.1,3.9,3.3,1.1,3.3,2.2,3.3,7.2,7.2,10.6,8.3,5.6,6.1,8.3,8.9,9.4,11.7,6.1,8.9,10.6,10.0,10.6,9.4,7.8,8.3,8.9,8.3,11.1,9.4,9.4,13.3,11.1,9.4,7.8,10.6,7.8,6.7,7.8,10.0,8.9,10.6,8.9,10.0,11.7,15.0,13.9,11.1,13.3,9.4,7.2,12.2,11.7,12.8,7.8,10.6,12.8,11.7,11.7,14.4,10.6,8.9,11.7,12.8,11.1,10.0,9.4,10.0,12.2,16.7,16.7,13.3,16.1,18.3,20.0,20.6,17.2,13.9,16.7,14.4,13.9,12.2,8.3,13.3,12.2,15.0,12.2,7.8,10.6,12.8,13.9,13.9,15.0,11.7,13.3,13.9,12.2,16.1,17.8,21.1,21.7,20.6,13.9,15.0,13.9,12.8,18.3,20.6,21.7,25.0,28.9,30.6,20.6,19.4,22.8,26.1,27.2,21.7,18.9,18.3,17.2,21.7,17.2,16.7,18.3,19.4,15.6,11.1,12.2,16.7,17.8,18.3,16.7,17.2,16.1,16.7,19.4,22.8,20.6,22.2,26.1,26.7,26.7,21.7,20.6,20.6,21.7,20.0,20.6,21.1,20.0,25.6,23.9,25.6,23.3,20.0,17.2,20.6,25.6,22.2,21.1,23.3,22.2,21.1,30.6,30.0,33.9,31.7,28.3,26.1,21.7,23.3,26.1,23.9,26.7,30.0,22.2,22.8,19.4,26.1,27.8,27.8,31.1,22.2,26.1,27.8,25.0,23.9,26.1,31.1,31.1,31.1,31.1,25.6,21.1,25.0,25.0,21.7,20.6,17.2,25.0,28.9,30.0,30.6,31.1,28.3,28.3,25.6,25.0,25.6,27.8,27.2,21.1,28.9,25.6,26.1,26.7,25.6,27.8,28.9,25.0,25.0,22.2,24.4,26.7,26.7,23.9,26.1,27.8,27.8,27.8,25.0,22.8,20.0,21.7,23.3,26.7,26.1,26.7,33.9,25.6,18.9,21.7,18.9,21.7,17.8,21.1,25.6,23.3,21.1,17.2,16.1,17.8,16.1,17.2,13.9,16.7,14.4,13.9,14.4,12.8,14.4,17.8,20.0,22.8,16.1,13.9,15.0,14.4,13.9,14.4,15.0,15.6,15.6,12.8,14.4,12.8,10.6,10.6,11.7,14.4,12.8,10.0,12.2,11.7,13.9,14.4,13.3,15.0,14.4,17.8,14.4,12.2,10.6,13.3,12.8,11.1,13.3,11.1,11.1,16.1,15.6,13.9,11.1,10.6,10.0,11.7,12.8,13.3,7.8,7.8,9.4,11.1,11.7,12.2,12.2,14.4,11.7,9.4,11.1,13.3,7.8,5.0,4.4,1.1,1.1,0.0,2.2,1.1,5.6,5.0,5.6,9.4,9.4,11.7,10.0,8.3,7.8,5.0,8.3,8.9,10.6,11.7,8.3,6.7,6.7,8.9,9.4,7.2,8.9,8.3,7.2,10.6,8.9,7.8,8.3,7.8,8.3,10.0,9.4,12.8,14.4,11.1,10.6,11.1,11.1,6.7,5.6,9.4,6.1,10.0,10.0,9.4,10.0,12.8,12.2,8.3,9.4,11.1,11.1,8.3,7.8,7.8,8.9,5.0,2.8,-0.5,-1.6,3.3,5.6,3.9,10.0,12.2,12.2,12.8,11.7,11.1,9.4,8.3,8.9,8.3,10.0,6.7,5.6,7.2,6.7,12.2,13.9,12.8,14.4,7.2,11.1,14.4,13.9,15.6,13.3,15.6,12.8,15.0,12.2,14.4,16.1,13.9,14.4,16.7,10.6,10.0,10.0,11.1,11.1,10.6,11.1,12.8,18.9,13.9,11.1,12.2,11.7,11.7,11.1,15.6,14.4,14.4,13.3,12.8,11.7,13.9,21.1,15.6,14.4,15.0,17.2,16.1,20.6,20.0,14.4,11.1,11.7,14.4,11.7,15.6,17.2,12.2,11.7,13.9,14.4,15.0,11.1,16.1,25.0,27.8,29.4,18.3,15.0,14.4,15.6,16.7,18.3,13.9,13.3,15.6,18.9,24.4,26.7,27.8,26.7,20.0,20.0,20.0,21.1,22.2,20.0,24.4,20.0,18.3,15.0,18.3,20.0,18.9,18.9,20.6,23.3,22.2,23.3,18.3,19.4,22.2,25.0,24.4,23.3,21.1,20.0,23.9,21.7,15.6,17.8,18.3,17.8,17.8,18.9,25.6,20.0,22.2,25.0,25.0,24.4,26.1,21.1,21.1,20.0,20.6,25.6,34.4,27.2,21.7,23.9,24.4,28.9,27.2,30.0,26.7,28.9,31.1,32.2,29.4,27.8,31.1,31.1,26.7,23.9,25.6,19.4,23.9,21.1,18.9,20.6,22.8,26.1,28.3,30.6,30.0,29.4,30.6,28.9,29.4,31.7,32.8,25.0,26.1,25.6,25.6,27.2,30.6,35.6,27.2,23.3,21.1,24.4,25.6,27.8,29.4,27.2,21.7,21.1,23.9,27.8,25.0,28.9,31.1,28.9,23.3,22.8,17.8,21.1,23.3,20.0,20.6,23.9,27.8,32.2,28.3,21.1,21.7,22.2,24.4,24.4,28.3,30.0,30.6,22.2,22.8,19.4,23.9,24.4,26.1,22.2,18.9,18.9,21.7,20.0,20.6,18.9,16.7,19.4,18.3,19.4,22.2,21.7,23.9,25.6,18.9,20.6,17.2,18.3,18.3,17.8,21.1,16.7,16.1,20.6,16.7,19.4,22.2,16.1,16.1,15.6,14.4,14.4,16.7,12.8,15.6,15.0,16.7,15.6,12.8,11.1,13.3,13.9,14.4,15.0,16.7,14.4,12.8,13.3,11.1,7.8,6.7,7.2,7.2,8.3,9.4,10.6,7.2,11.1,11.1,11.1,9.4,12.8,11.7,13.9,15.0,14.4,12.8,4.4,2.8,4.4,5.6,10.0,8.3,12.8,11.7,14.4,14.4,16.1,18.9,14.4,11.1,10.0,12.8,12.2,10.0,8.9,9.4,11.1,12.8,12.8,10.6,12.2,7.2,7.8,5.6,9.4,6.7,6.1,3.3,3.3,5.6,5.6,5.0,10.6,12.2,12.2,7.8,7.8,10.0,7.8,9.4,11.1,9.4,6.1,7.8,11.7,13.3,13.9,10.0,10.0,7.2,9.4,12.2,14.4,17.2,16.1,11.1,12.2,12.2,8.3,7.2,9.4,11.1,10.0,10.6,13.3,14.4,12.2,15.0,13.3,12.8,12.8,16.7,15.6,14.4,12.2,15.0,16.1,12.2,10.6,11.1,12.2,11.7,12.8,11.1,10.0,11.7,10.0,12.2,11.1,11.1,10.6,12.8,13.3,15.0,16.7,17.2,14.4,13.3,14.4,17.8,17.2,13.9,10.6,13.9,13.3,15.6,15.6,13.9,13.3,11.7,11.1,12.8,14.4,20.6,18.3,15.6,15.6,17.8,12.8,12.8,13.3,11.1,12.8,16.7,13.9,14.4,17.2,17.2,13.9,11.7,13.3,11.7,11.7,13.9,17.8,18.9,18.9,21.1,22.8,17.2,15.6,12.2,12.2,13.3,15.6,25.0,15.6,16.1,17.2,18.3,18.3,20.6,17.2,14.4,16.7,20.6,23.9,26.7,19.4,13.9,15.6,12.2,17.8,20.0,15.6,19.4,25.6,21.7,23.3,25.6,16.7,16.1,17.8,15.6,21.7,24.4,27.8,26.1,22.8,25.0,16.1,17.8,20.0,22.8,26.7,29.4,31.1,30.6,28.9,25.6,24.4,20.0,23.9,27.8,30.0,22.8,25.0,24.4,23.9,25.0,25.6,25.0,26.1,25.6,30.6,31.7,33.3,28.3,28.9,30.6,32.2,33.9,33.3,33.3,32.8,29.4,27.2,30.0,28.9,21.1,22.2,26.1,25.6,27.8,26.1,26.1,27.8,33.3,35.0,26.7,23.9,23.9,26.1,22.8,21.1,22.2,23.3,27.8,32.2,34.4,34.4,33.3,30.6,28.3,26.1,23.3,25.0,28.3,25.0,28.3,28.9,30.0,28.3,28.3,18.3,21.7,25.0,27.2,30.0,31.7,22.8,22.2,26.7,27.8,23.9,25.6,28.3,29.4,23.3,22.2,20.0,18.9,19.4,19.4,18.3,18.3,20.6,16.1,21.1,22.8,24.4,25.0,27.2,26.7,20.6,16.7,17.8,20.0,18.3,19.4,21.1,22.8,18.3,18.9,20.6,22.2,15.6,18.3,17.8,21.1,21.7,18.3,21.1,15.6,19.4,22.8,23.3,18.3,16.1,18.9,19.4,21.1,17.8,18.3,16.7,15.0,21.1,20.0,19.4,15.0,17.2,17.8,16.1,16.1,12.8,15.0,19.4,12.2,16.1,13.9,15.0,17.2,15.6,12.2,11.1,10.6,10.0,11.7,15.6,12.2,11.1,10.0,11.1,11.1,11.1,13.3,9.4,8.9,8.9,13.3,8.9,8.9,8.3,8.9,10.0,6.7,6.7,7.2,9.4,9.4,7.2,1.7,5.6,10.0,10.6,15.6,10.6,10.0,12.8,11.1,15.6,12.2,11.7,9.4,8.9,7.8,7.8,6.7,6.1,6.7,8.9,8.3,7.8,5.6,7.8,5.0,5.6,5.0,4.4,4.4,5.0,7.2,5.6,5.6],\"y0\":\" \",\"yaxis\":\"y\",\"type\":\"box\"}],                        {\"template\":{\"data\":{\"bar\":[{\"error_x\":{\"color\":\"#2a3f5f\"},\"error_y\":{\"color\":\"#2a3f5f\"},\"marker\":{\"line\":{\"color\":\"#E5ECF6\",\"width\":0.5},\"pattern\":{\"fillmode\":\"overlay\",\"size\":10,\"solidity\":0.2}},\"type\":\"bar\"}],\"barpolar\":[{\"marker\":{\"line\":{\"color\":\"#E5ECF6\",\"width\":0.5},\"pattern\":{\"fillmode\":\"overlay\",\"size\":10,\"solidity\":0.2}},\"type\":\"barpolar\"}],\"carpet\":[{\"aaxis\":{\"endlinecolor\":\"#2a3f5f\",\"gridcolor\":\"white\",\"linecolor\":\"white\",\"minorgridcolor\":\"white\",\"startlinecolor\":\"#2a3f5f\"},\"baxis\":{\"endlinecolor\":\"#2a3f5f\",\"gridcolor\":\"white\",\"linecolor\":\"white\",\"minorgridcolor\":\"white\",\"startlinecolor\":\"#2a3f5f\"},\"type\":\"carpet\"}],\"choropleth\":[{\"colorbar\":{\"outlinewidth\":0,\"ticks\":\"\"},\"type\":\"choropleth\"}],\"contour\":[{\"colorbar\":{\"outlinewidth\":0,\"ticks\":\"\"},\"colorscale\":[[0.0,\"#0d0887\"],[0.1111111111111111,\"#46039f\"],[0.2222222222222222,\"#7201a8\"],[0.3333333333333333,\"#9c179e\"],[0.4444444444444444,\"#bd3786\"],[0.5555555555555556,\"#d8576b\"],[0.6666666666666666,\"#ed7953\"],[0.7777777777777778,\"#fb9f3a\"],[0.8888888888888888,\"#fdca26\"],[1.0,\"#f0f921\"]],\"type\":\"contour\"}],\"contourcarpet\":[{\"colorbar\":{\"outlinewidth\":0,\"ticks\":\"\"},\"type\":\"contourcarpet\"}],\"heatmap\":[{\"colorbar\":{\"outlinewidth\":0,\"ticks\":\"\"},\"colorscale\":[[0.0,\"#0d0887\"],[0.1111111111111111,\"#46039f\"],[0.2222222222222222,\"#7201a8\"],[0.3333333333333333,\"#9c179e\"],[0.4444444444444444,\"#bd3786\"],[0.5555555555555556,\"#d8576b\"],[0.6666666666666666,\"#ed7953\"],[0.7777777777777778,\"#fb9f3a\"],[0.8888888888888888,\"#fdca26\"],[1.0,\"#f0f921\"]],\"type\":\"heatmap\"}],\"heatmapgl\":[{\"colorbar\":{\"outlinewidth\":0,\"ticks\":\"\"},\"colorscale\":[[0.0,\"#0d0887\"],[0.1111111111111111,\"#46039f\"],[0.2222222222222222,\"#7201a8\"],[0.3333333333333333,\"#9c179e\"],[0.4444444444444444,\"#bd3786\"],[0.5555555555555556,\"#d8576b\"],[0.6666666666666666,\"#ed7953\"],[0.7777777777777778,\"#fb9f3a\"],[0.8888888888888888,\"#fdca26\"],[1.0,\"#f0f921\"]],\"type\":\"heatmapgl\"}],\"histogram\":[{\"marker\":{\"pattern\":{\"fillmode\":\"overlay\",\"size\":10,\"solidity\":0.2}},\"type\":\"histogram\"}],\"histogram2d\":[{\"colorbar\":{\"outlinewidth\":0,\"ticks\":\"\"},\"colorscale\":[[0.0,\"#0d0887\"],[0.1111111111111111,\"#46039f\"],[0.2222222222222222,\"#7201a8\"],[0.3333333333333333,\"#9c179e\"],[0.4444444444444444,\"#bd3786\"],[0.5555555555555556,\"#d8576b\"],[0.6666666666666666,\"#ed7953\"],[0.7777777777777778,\"#fb9f3a\"],[0.8888888888888888,\"#fdca26\"],[1.0,\"#f0f921\"]],\"type\":\"histogram2d\"}],\"histogram2dcontour\":[{\"colorbar\":{\"outlinewidth\":0,\"ticks\":\"\"},\"colorscale\":[[0.0,\"#0d0887\"],[0.1111111111111111,\"#46039f\"],[0.2222222222222222,\"#7201a8\"],[0.3333333333333333,\"#9c179e\"],[0.4444444444444444,\"#bd3786\"],[0.5555555555555556,\"#d8576b\"],[0.6666666666666666,\"#ed7953\"],[0.7777777777777778,\"#fb9f3a\"],[0.8888888888888888,\"#fdca26\"],[1.0,\"#f0f921\"]],\"type\":\"histogram2dcontour\"}],\"mesh3d\":[{\"colorbar\":{\"outlinewidth\":0,\"ticks\":\"\"},\"type\":\"mesh3d\"}],\"parcoords\":[{\"line\":{\"colorbar\":{\"outlinewidth\":0,\"ticks\":\"\"}},\"type\":\"parcoords\"}],\"pie\":[{\"automargin\":true,\"type\":\"pie\"}],\"scatter\":[{\"marker\":{\"colorbar\":{\"outlinewidth\":0,\"ticks\":\"\"}},\"type\":\"scatter\"}],\"scatter3d\":[{\"line\":{\"colorbar\":{\"outlinewidth\":0,\"ticks\":\"\"}},\"marker\":{\"colorbar\":{\"outlinewidth\":0,\"ticks\":\"\"}},\"type\":\"scatter3d\"}],\"scattercarpet\":[{\"marker\":{\"colorbar\":{\"outlinewidth\":0,\"ticks\":\"\"}},\"type\":\"scattercarpet\"}],\"scattergeo\":[{\"marker\":{\"colorbar\":{\"outlinewidth\":0,\"ticks\":\"\"}},\"type\":\"scattergeo\"}],\"scattergl\":[{\"marker\":{\"colorbar\":{\"outlinewidth\":0,\"ticks\":\"\"}},\"type\":\"scattergl\"}],\"scattermapbox\":[{\"marker\":{\"colorbar\":{\"outlinewidth\":0,\"ticks\":\"\"}},\"type\":\"scattermapbox\"}],\"scatterpolar\":[{\"marker\":{\"colorbar\":{\"outlinewidth\":0,\"ticks\":\"\"}},\"type\":\"scatterpolar\"}],\"scatterpolargl\":[{\"marker\":{\"colorbar\":{\"outlinewidth\":0,\"ticks\":\"\"}},\"type\":\"scatterpolargl\"}],\"scatterternary\":[{\"marker\":{\"colorbar\":{\"outlinewidth\":0,\"ticks\":\"\"}},\"type\":\"scatterternary\"}],\"surface\":[{\"colorbar\":{\"outlinewidth\":0,\"ticks\":\"\"},\"colorscale\":[[0.0,\"#0d0887\"],[0.1111111111111111,\"#46039f\"],[0.2222222222222222,\"#7201a8\"],[0.3333333333333333,\"#9c179e\"],[0.4444444444444444,\"#bd3786\"],[0.5555555555555556,\"#d8576b\"],[0.6666666666666666,\"#ed7953\"],[0.7777777777777778,\"#fb9f3a\"],[0.8888888888888888,\"#fdca26\"],[1.0,\"#f0f921\"]],\"type\":\"surface\"}],\"table\":[{\"cells\":{\"fill\":{\"color\":\"#EBF0F8\"},\"line\":{\"color\":\"white\"}},\"header\":{\"fill\":{\"color\":\"#C8D4E3\"},\"line\":{\"color\":\"white\"}},\"type\":\"table\"}]},\"layout\":{\"annotationdefaults\":{\"arrowcolor\":\"#2a3f5f\",\"arrowhead\":0,\"arrowwidth\":1},\"autotypenumbers\":\"strict\",\"coloraxis\":{\"colorbar\":{\"outlinewidth\":0,\"ticks\":\"\"}},\"colorscale\":{\"diverging\":[[0,\"#8e0152\"],[0.1,\"#c51b7d\"],[0.2,\"#de77ae\"],[0.3,\"#f1b6da\"],[0.4,\"#fde0ef\"],[0.5,\"#f7f7f7\"],[0.6,\"#e6f5d0\"],[0.7,\"#b8e186\"],[0.8,\"#7fbc41\"],[0.9,\"#4d9221\"],[1,\"#276419\"]],\"sequential\":[[0.0,\"#0d0887\"],[0.1111111111111111,\"#46039f\"],[0.2222222222222222,\"#7201a8\"],[0.3333333333333333,\"#9c179e\"],[0.4444444444444444,\"#bd3786\"],[0.5555555555555556,\"#d8576b\"],[0.6666666666666666,\"#ed7953\"],[0.7777777777777778,\"#fb9f3a\"],[0.8888888888888888,\"#fdca26\"],[1.0,\"#f0f921\"]],\"sequentialminus\":[[0.0,\"#0d0887\"],[0.1111111111111111,\"#46039f\"],[0.2222222222222222,\"#7201a8\"],[0.3333333333333333,\"#9c179e\"],[0.4444444444444444,\"#bd3786\"],[0.5555555555555556,\"#d8576b\"],[0.6666666666666666,\"#ed7953\"],[0.7777777777777778,\"#fb9f3a\"],[0.8888888888888888,\"#fdca26\"],[1.0,\"#f0f921\"]]},\"colorway\":[\"#636efa\",\"#EF553B\",\"#00cc96\",\"#ab63fa\",\"#FFA15A\",\"#19d3f3\",\"#FF6692\",\"#B6E880\",\"#FF97FF\",\"#FECB52\"],\"font\":{\"color\":\"#2a3f5f\"},\"geo\":{\"bgcolor\":\"white\",\"lakecolor\":\"white\",\"landcolor\":\"#E5ECF6\",\"showlakes\":true,\"showland\":true,\"subunitcolor\":\"white\"},\"hoverlabel\":{\"align\":\"left\"},\"hovermode\":\"closest\",\"mapbox\":{\"style\":\"light\"},\"paper_bgcolor\":\"white\",\"plot_bgcolor\":\"#E5ECF6\",\"polar\":{\"angularaxis\":{\"gridcolor\":\"white\",\"linecolor\":\"white\",\"ticks\":\"\"},\"bgcolor\":\"#E5ECF6\",\"radialaxis\":{\"gridcolor\":\"white\",\"linecolor\":\"white\",\"ticks\":\"\"}},\"scene\":{\"xaxis\":{\"backgroundcolor\":\"#E5ECF6\",\"gridcolor\":\"white\",\"gridwidth\":2,\"linecolor\":\"white\",\"showbackground\":true,\"ticks\":\"\",\"zerolinecolor\":\"white\"},\"yaxis\":{\"backgroundcolor\":\"#E5ECF6\",\"gridcolor\":\"white\",\"gridwidth\":2,\"linecolor\":\"white\",\"showbackground\":true,\"ticks\":\"\",\"zerolinecolor\":\"white\"},\"zaxis\":{\"backgroundcolor\":\"#E5ECF6\",\"gridcolor\":\"white\",\"gridwidth\":2,\"linecolor\":\"white\",\"showbackground\":true,\"ticks\":\"\",\"zerolinecolor\":\"white\"}},\"shapedefaults\":{\"line\":{\"color\":\"#2a3f5f\"}},\"ternary\":{\"aaxis\":{\"gridcolor\":\"white\",\"linecolor\":\"white\",\"ticks\":\"\"},\"baxis\":{\"gridcolor\":\"white\",\"linecolor\":\"white\",\"ticks\":\"\"},\"bgcolor\":\"#E5ECF6\",\"caxis\":{\"gridcolor\":\"white\",\"linecolor\":\"white\",\"ticks\":\"\"}},\"title\":{\"x\":0.05},\"xaxis\":{\"automargin\":true,\"gridcolor\":\"white\",\"linecolor\":\"white\",\"ticks\":\"\",\"title\":{\"standoff\":15},\"zerolinecolor\":\"white\",\"zerolinewidth\":2},\"yaxis\":{\"automargin\":true,\"gridcolor\":\"white\",\"linecolor\":\"white\",\"ticks\":\"\",\"title\":{\"standoff\":15},\"zerolinecolor\":\"white\",\"zerolinewidth\":2}}},\"xaxis\":{\"anchor\":\"y\",\"domain\":[0.0,1.0],\"title\":{\"text\":\"Month\"}},\"yaxis\":{\"anchor\":\"x\",\"domain\":[0.0,1.0],\"title\":{\"text\":\"Maximum Temperature (Celsius)\"}},\"legend\":{\"tracegroupgap\":0},\"margin\":{\"t\":60},\"boxmode\":\"group\",\"title\":{\"text\":\"Distribution of Maximum Temperature by Month\"}},                        {\"responsive\": true}                    ).then(function(){\n",
              "                            \n",
              "var gd = document.getElementById('b2869fa6-2d5a-473b-9875-6c467a9451c6');\n",
              "var x = new MutationObserver(function (mutations, observer) {{\n",
              "        var display = window.getComputedStyle(gd).display;\n",
              "        if (!display || display === 'none') {{\n",
              "            console.log([gd, 'removed!']);\n",
              "            Plotly.purge(gd);\n",
              "            observer.disconnect();\n",
              "        }}\n",
              "}});\n",
              "\n",
              "// Listen for the removal of the full notebook cells\n",
              "var notebookContainer = gd.closest('#notebook-container');\n",
              "if (notebookContainer) {{\n",
              "    x.observe(notebookContainer, {childList: true});\n",
              "}}\n",
              "\n",
              "// Listen for the clearing of the current output cell\n",
              "var outputEl = gd.closest('.output');\n",
              "if (outputEl) {{\n",
              "    x.observe(outputEl, {childList: true});\n",
              "}}\n",
              "\n",
              "                        })                };                            </script>        </div>\n",
              "</body>\n",
              "</html>"
            ]
          },
          "metadata": {}
        }
      ]
    },
    {
      "cell_type": "code",
      "source": [
        "# Heatmap of average temperature by year and month\n",
        "\n",
        "# Calculate the average temperature by year and month\n",
        "df_avg_temp = df.groupby(['year', 'month'], as_index=False).agg({'temp_max': 'mean'})\n",
        "\n",
        "# Pivot the data to create a matrix of average temperatures\n",
        "temp_matrix = df_avg_temp.pivot(index='month', columns='year', values='temp_max')\n",
        "\n",
        "# Create a heatmap of average temperature by year and month\n",
        "fig = px.imshow(temp_matrix, \n",
        "                x=temp_matrix.columns, \n",
        "                y=temp_matrix.index, \n",
        "                color_continuous_scale='RdBu_r', \n",
        "                title='Average Temperature by Year and Month')\n",
        "\n",
        "# Set the axis labels and colorbar title\n",
        "fig.update_layout(\n",
        "    xaxis_title='Year',\n",
        "    yaxis_title='Month',\n",
        "    coloraxis_colorbar_title='Temperature (°C)'\n",
        ")\n",
        "\n",
        "# Show the chart\n",
        "fig.show()"
      ],
      "metadata": {
        "colab": {
          "base_uri": "https://localhost:8080/",
          "height": 562
        },
        "id": "6njFfTRYgTx6",
        "outputId": "40357370-8f43-43f9-993a-7f655c40529d"
      },
      "execution_count": 467,
      "outputs": [
        {
          "output_type": "display_data",
          "data": {
            "text/html": [
              "<html>\n",
              "<head><meta charset=\"utf-8\" /></head>\n",
              "<body>\n",
              "    <div>            <script src=\"https://cdnjs.cloudflare.com/ajax/libs/mathjax/2.7.5/MathJax.js?config=TeX-AMS-MML_SVG\"></script><script type=\"text/javascript\">if (window.MathJax) {MathJax.Hub.Config({SVG: {font: \"STIX-Web\"}});}</script>                <script type=\"text/javascript\">window.PlotlyConfig = {MathJaxConfig: 'local'};</script>\n",
              "        <script src=\"https://cdn.plot.ly/plotly-2.8.3.min.js\"></script>                <div id=\"d0c42d78-f090-4707-a686-db98f7c51adb\" class=\"plotly-graph-div\" style=\"height:525px; width:100%;\"></div>            <script type=\"text/javascript\">                                    window.PLOTLYENV=window.PLOTLYENV || {};                                    if (document.getElementById(\"d0c42d78-f090-4707-a686-db98f7c51adb\")) {                    Plotly.newPlot(                        \"d0c42d78-f090-4707-a686-db98f7c51adb\",                        [{\"coloraxis\":\"coloraxis\",\"name\":\"0\",\"x\":[2012,2013,2014,2015],\"y\":[1,2,3,4,5,6,7,8,9,10,11,12],\"z\":[[7.05483870967742,6.106451612903226,9.600000000000001,10.154838709677419],[9.275862068965518,9.467857142857143,8.2,12.517857142857142],[9.55483870967742,12.709677419354838,12.906451612903227,14.37741935483871],[14.873333333333333,14.243333333333334,15.46,15.503333333333334],[17.661290322580644,19.625806451612902,19.870967741935484,20.0258064516129],[18.69333333333333,23.253333333333334,21.59,26.063333333333333],[22.906451612903226,26.093548387096774,26.9,28.093548387096774],[25.858064516129033,26.11935483870968,26.383870967741935,26.08709677419355],[22.88,21.36,23.163333333333334,20.293333333333333],[15.829032258064515,14.229032258064517,17.961290322580645,17.538709677419355],[11.326666666666666,12.053333333333335,11.03,9.683333333333334],[7.235483870967743,7.02258064516129,10.138709677419355,8.380645161290323]],\"type\":\"heatmap\",\"xaxis\":\"x\",\"yaxis\":\"y\",\"hovertemplate\":\"year: %{x}<br>month: %{y}<br>color: %{z}<extra></extra>\"}],                        {\"template\":{\"data\":{\"bar\":[{\"error_x\":{\"color\":\"#2a3f5f\"},\"error_y\":{\"color\":\"#2a3f5f\"},\"marker\":{\"line\":{\"color\":\"#E5ECF6\",\"width\":0.5},\"pattern\":{\"fillmode\":\"overlay\",\"size\":10,\"solidity\":0.2}},\"type\":\"bar\"}],\"barpolar\":[{\"marker\":{\"line\":{\"color\":\"#E5ECF6\",\"width\":0.5},\"pattern\":{\"fillmode\":\"overlay\",\"size\":10,\"solidity\":0.2}},\"type\":\"barpolar\"}],\"carpet\":[{\"aaxis\":{\"endlinecolor\":\"#2a3f5f\",\"gridcolor\":\"white\",\"linecolor\":\"white\",\"minorgridcolor\":\"white\",\"startlinecolor\":\"#2a3f5f\"},\"baxis\":{\"endlinecolor\":\"#2a3f5f\",\"gridcolor\":\"white\",\"linecolor\":\"white\",\"minorgridcolor\":\"white\",\"startlinecolor\":\"#2a3f5f\"},\"type\":\"carpet\"}],\"choropleth\":[{\"colorbar\":{\"outlinewidth\":0,\"ticks\":\"\"},\"type\":\"choropleth\"}],\"contour\":[{\"colorbar\":{\"outlinewidth\":0,\"ticks\":\"\"},\"colorscale\":[[0.0,\"#0d0887\"],[0.1111111111111111,\"#46039f\"],[0.2222222222222222,\"#7201a8\"],[0.3333333333333333,\"#9c179e\"],[0.4444444444444444,\"#bd3786\"],[0.5555555555555556,\"#d8576b\"],[0.6666666666666666,\"#ed7953\"],[0.7777777777777778,\"#fb9f3a\"],[0.8888888888888888,\"#fdca26\"],[1.0,\"#f0f921\"]],\"type\":\"contour\"}],\"contourcarpet\":[{\"colorbar\":{\"outlinewidth\":0,\"ticks\":\"\"},\"type\":\"contourcarpet\"}],\"heatmap\":[{\"colorbar\":{\"outlinewidth\":0,\"ticks\":\"\"},\"colorscale\":[[0.0,\"#0d0887\"],[0.1111111111111111,\"#46039f\"],[0.2222222222222222,\"#7201a8\"],[0.3333333333333333,\"#9c179e\"],[0.4444444444444444,\"#bd3786\"],[0.5555555555555556,\"#d8576b\"],[0.6666666666666666,\"#ed7953\"],[0.7777777777777778,\"#fb9f3a\"],[0.8888888888888888,\"#fdca26\"],[1.0,\"#f0f921\"]],\"type\":\"heatmap\"}],\"heatmapgl\":[{\"colorbar\":{\"outlinewidth\":0,\"ticks\":\"\"},\"colorscale\":[[0.0,\"#0d0887\"],[0.1111111111111111,\"#46039f\"],[0.2222222222222222,\"#7201a8\"],[0.3333333333333333,\"#9c179e\"],[0.4444444444444444,\"#bd3786\"],[0.5555555555555556,\"#d8576b\"],[0.6666666666666666,\"#ed7953\"],[0.7777777777777778,\"#fb9f3a\"],[0.8888888888888888,\"#fdca26\"],[1.0,\"#f0f921\"]],\"type\":\"heatmapgl\"}],\"histogram\":[{\"marker\":{\"pattern\":{\"fillmode\":\"overlay\",\"size\":10,\"solidity\":0.2}},\"type\":\"histogram\"}],\"histogram2d\":[{\"colorbar\":{\"outlinewidth\":0,\"ticks\":\"\"},\"colorscale\":[[0.0,\"#0d0887\"],[0.1111111111111111,\"#46039f\"],[0.2222222222222222,\"#7201a8\"],[0.3333333333333333,\"#9c179e\"],[0.4444444444444444,\"#bd3786\"],[0.5555555555555556,\"#d8576b\"],[0.6666666666666666,\"#ed7953\"],[0.7777777777777778,\"#fb9f3a\"],[0.8888888888888888,\"#fdca26\"],[1.0,\"#f0f921\"]],\"type\":\"histogram2d\"}],\"histogram2dcontour\":[{\"colorbar\":{\"outlinewidth\":0,\"ticks\":\"\"},\"colorscale\":[[0.0,\"#0d0887\"],[0.1111111111111111,\"#46039f\"],[0.2222222222222222,\"#7201a8\"],[0.3333333333333333,\"#9c179e\"],[0.4444444444444444,\"#bd3786\"],[0.5555555555555556,\"#d8576b\"],[0.6666666666666666,\"#ed7953\"],[0.7777777777777778,\"#fb9f3a\"],[0.8888888888888888,\"#fdca26\"],[1.0,\"#f0f921\"]],\"type\":\"histogram2dcontour\"}],\"mesh3d\":[{\"colorbar\":{\"outlinewidth\":0,\"ticks\":\"\"},\"type\":\"mesh3d\"}],\"parcoords\":[{\"line\":{\"colorbar\":{\"outlinewidth\":0,\"ticks\":\"\"}},\"type\":\"parcoords\"}],\"pie\":[{\"automargin\":true,\"type\":\"pie\"}],\"scatter\":[{\"marker\":{\"colorbar\":{\"outlinewidth\":0,\"ticks\":\"\"}},\"type\":\"scatter\"}],\"scatter3d\":[{\"line\":{\"colorbar\":{\"outlinewidth\":0,\"ticks\":\"\"}},\"marker\":{\"colorbar\":{\"outlinewidth\":0,\"ticks\":\"\"}},\"type\":\"scatter3d\"}],\"scattercarpet\":[{\"marker\":{\"colorbar\":{\"outlinewidth\":0,\"ticks\":\"\"}},\"type\":\"scattercarpet\"}],\"scattergeo\":[{\"marker\":{\"colorbar\":{\"outlinewidth\":0,\"ticks\":\"\"}},\"type\":\"scattergeo\"}],\"scattergl\":[{\"marker\":{\"colorbar\":{\"outlinewidth\":0,\"ticks\":\"\"}},\"type\":\"scattergl\"}],\"scattermapbox\":[{\"marker\":{\"colorbar\":{\"outlinewidth\":0,\"ticks\":\"\"}},\"type\":\"scattermapbox\"}],\"scatterpolar\":[{\"marker\":{\"colorbar\":{\"outlinewidth\":0,\"ticks\":\"\"}},\"type\":\"scatterpolar\"}],\"scatterpolargl\":[{\"marker\":{\"colorbar\":{\"outlinewidth\":0,\"ticks\":\"\"}},\"type\":\"scatterpolargl\"}],\"scatterternary\":[{\"marker\":{\"colorbar\":{\"outlinewidth\":0,\"ticks\":\"\"}},\"type\":\"scatterternary\"}],\"surface\":[{\"colorbar\":{\"outlinewidth\":0,\"ticks\":\"\"},\"colorscale\":[[0.0,\"#0d0887\"],[0.1111111111111111,\"#46039f\"],[0.2222222222222222,\"#7201a8\"],[0.3333333333333333,\"#9c179e\"],[0.4444444444444444,\"#bd3786\"],[0.5555555555555556,\"#d8576b\"],[0.6666666666666666,\"#ed7953\"],[0.7777777777777778,\"#fb9f3a\"],[0.8888888888888888,\"#fdca26\"],[1.0,\"#f0f921\"]],\"type\":\"surface\"}],\"table\":[{\"cells\":{\"fill\":{\"color\":\"#EBF0F8\"},\"line\":{\"color\":\"white\"}},\"header\":{\"fill\":{\"color\":\"#C8D4E3\"},\"line\":{\"color\":\"white\"}},\"type\":\"table\"}]},\"layout\":{\"annotationdefaults\":{\"arrowcolor\":\"#2a3f5f\",\"arrowhead\":0,\"arrowwidth\":1},\"autotypenumbers\":\"strict\",\"coloraxis\":{\"colorbar\":{\"outlinewidth\":0,\"ticks\":\"\"}},\"colorscale\":{\"diverging\":[[0,\"#8e0152\"],[0.1,\"#c51b7d\"],[0.2,\"#de77ae\"],[0.3,\"#f1b6da\"],[0.4,\"#fde0ef\"],[0.5,\"#f7f7f7\"],[0.6,\"#e6f5d0\"],[0.7,\"#b8e186\"],[0.8,\"#7fbc41\"],[0.9,\"#4d9221\"],[1,\"#276419\"]],\"sequential\":[[0.0,\"#0d0887\"],[0.1111111111111111,\"#46039f\"],[0.2222222222222222,\"#7201a8\"],[0.3333333333333333,\"#9c179e\"],[0.4444444444444444,\"#bd3786\"],[0.5555555555555556,\"#d8576b\"],[0.6666666666666666,\"#ed7953\"],[0.7777777777777778,\"#fb9f3a\"],[0.8888888888888888,\"#fdca26\"],[1.0,\"#f0f921\"]],\"sequentialminus\":[[0.0,\"#0d0887\"],[0.1111111111111111,\"#46039f\"],[0.2222222222222222,\"#7201a8\"],[0.3333333333333333,\"#9c179e\"],[0.4444444444444444,\"#bd3786\"],[0.5555555555555556,\"#d8576b\"],[0.6666666666666666,\"#ed7953\"],[0.7777777777777778,\"#fb9f3a\"],[0.8888888888888888,\"#fdca26\"],[1.0,\"#f0f921\"]]},\"colorway\":[\"#636efa\",\"#EF553B\",\"#00cc96\",\"#ab63fa\",\"#FFA15A\",\"#19d3f3\",\"#FF6692\",\"#B6E880\",\"#FF97FF\",\"#FECB52\"],\"font\":{\"color\":\"#2a3f5f\"},\"geo\":{\"bgcolor\":\"white\",\"lakecolor\":\"white\",\"landcolor\":\"#E5ECF6\",\"showlakes\":true,\"showland\":true,\"subunitcolor\":\"white\"},\"hoverlabel\":{\"align\":\"left\"},\"hovermode\":\"closest\",\"mapbox\":{\"style\":\"light\"},\"paper_bgcolor\":\"white\",\"plot_bgcolor\":\"#E5ECF6\",\"polar\":{\"angularaxis\":{\"gridcolor\":\"white\",\"linecolor\":\"white\",\"ticks\":\"\"},\"bgcolor\":\"#E5ECF6\",\"radialaxis\":{\"gridcolor\":\"white\",\"linecolor\":\"white\",\"ticks\":\"\"}},\"scene\":{\"xaxis\":{\"backgroundcolor\":\"#E5ECF6\",\"gridcolor\":\"white\",\"gridwidth\":2,\"linecolor\":\"white\",\"showbackground\":true,\"ticks\":\"\",\"zerolinecolor\":\"white\"},\"yaxis\":{\"backgroundcolor\":\"#E5ECF6\",\"gridcolor\":\"white\",\"gridwidth\":2,\"linecolor\":\"white\",\"showbackground\":true,\"ticks\":\"\",\"zerolinecolor\":\"white\"},\"zaxis\":{\"backgroundcolor\":\"#E5ECF6\",\"gridcolor\":\"white\",\"gridwidth\":2,\"linecolor\":\"white\",\"showbackground\":true,\"ticks\":\"\",\"zerolinecolor\":\"white\"}},\"shapedefaults\":{\"line\":{\"color\":\"#2a3f5f\"}},\"ternary\":{\"aaxis\":{\"gridcolor\":\"white\",\"linecolor\":\"white\",\"ticks\":\"\"},\"baxis\":{\"gridcolor\":\"white\",\"linecolor\":\"white\",\"ticks\":\"\"},\"bgcolor\":\"#E5ECF6\",\"caxis\":{\"gridcolor\":\"white\",\"linecolor\":\"white\",\"ticks\":\"\"}},\"title\":{\"x\":0.05},\"xaxis\":{\"automargin\":true,\"gridcolor\":\"white\",\"linecolor\":\"white\",\"ticks\":\"\",\"title\":{\"standoff\":15},\"zerolinecolor\":\"white\",\"zerolinewidth\":2},\"yaxis\":{\"automargin\":true,\"gridcolor\":\"white\",\"linecolor\":\"white\",\"ticks\":\"\",\"title\":{\"standoff\":15},\"zerolinecolor\":\"white\",\"zerolinewidth\":2}}},\"xaxis\":{\"anchor\":\"y\",\"domain\":[0.0,1.0],\"scaleanchor\":\"y\",\"constrain\":\"domain\",\"title\":{\"text\":\"Year\"}},\"yaxis\":{\"anchor\":\"x\",\"domain\":[0.0,1.0],\"autorange\":\"reversed\",\"constrain\":\"domain\",\"title\":{\"text\":\"Month\"}},\"coloraxis\":{\"colorscale\":[[0.0,\"rgb(5,48,97)\"],[0.1,\"rgb(33,102,172)\"],[0.2,\"rgb(67,147,195)\"],[0.3,\"rgb(146,197,222)\"],[0.4,\"rgb(209,229,240)\"],[0.5,\"rgb(247,247,247)\"],[0.6,\"rgb(253,219,199)\"],[0.7,\"rgb(244,165,130)\"],[0.8,\"rgb(214,96,77)\"],[0.9,\"rgb(178,24,43)\"],[1.0,\"rgb(103,0,31)\"]],\"colorbar\":{\"title\":{\"text\":\"Temperature (\\u00b0C)\"}}},\"title\":{\"text\":\"Average Temperature by Year and Month\"}},                        {\"responsive\": true}                    ).then(function(){\n",
              "                            \n",
              "var gd = document.getElementById('d0c42d78-f090-4707-a686-db98f7c51adb');\n",
              "var x = new MutationObserver(function (mutations, observer) {{\n",
              "        var display = window.getComputedStyle(gd).display;\n",
              "        if (!display || display === 'none') {{\n",
              "            console.log([gd, 'removed!']);\n",
              "            Plotly.purge(gd);\n",
              "            observer.disconnect();\n",
              "        }}\n",
              "}});\n",
              "\n",
              "// Listen for the removal of the full notebook cells\n",
              "var notebookContainer = gd.closest('#notebook-container');\n",
              "if (notebookContainer) {{\n",
              "    x.observe(notebookContainer, {childList: true});\n",
              "}}\n",
              "\n",
              "// Listen for the clearing of the current output cell\n",
              "var outputEl = gd.closest('.output');\n",
              "if (outputEl) {{\n",
              "    x.observe(outputEl, {childList: true});\n",
              "}}\n",
              "\n",
              "                        })                };                            </script>        </div>\n",
              "</body>\n",
              "</html>"
            ]
          },
          "metadata": {}
        }
      ]
    },
    {
      "cell_type": "code",
      "source": [
        "# Calculate the correlation matrix\n",
        "corr_matrix = df.corr()\n",
        "\n",
        "# Create a heatmap of the correlation matrix\n",
        "fig = px.imshow(corr_matrix, \n",
        "                x=corr_matrix.columns, \n",
        "                y=corr_matrix.columns, \n",
        "                color_continuous_scale='RdBu_r', \n",
        "                title='Correlation between Features')\n",
        "\n",
        "# Set the axis labels and colorbar title\n",
        "fig.update_layout(\n",
        "    xaxis_title='Features',\n",
        "    yaxis_title='Features',\n",
        "    coloraxis_colorbar_title='Correlation Coefficient'\n",
        ")\n",
        "\n",
        "# Show the chart\n",
        "fig.show()\n",
        "\n",
        "\n",
        "\n",
        "\n"
      ],
      "metadata": {
        "colab": {
          "base_uri": "https://localhost:8080/",
          "height": 562
        },
        "id": "0IBB1zh9gVFi",
        "outputId": "a65ee5ff-9766-430b-cfe0-1ae51ede4d29"
      },
      "execution_count": 468,
      "outputs": [
        {
          "output_type": "display_data",
          "data": {
            "text/html": [
              "<html>\n",
              "<head><meta charset=\"utf-8\" /></head>\n",
              "<body>\n",
              "    <div>            <script src=\"https://cdnjs.cloudflare.com/ajax/libs/mathjax/2.7.5/MathJax.js?config=TeX-AMS-MML_SVG\"></script><script type=\"text/javascript\">if (window.MathJax) {MathJax.Hub.Config({SVG: {font: \"STIX-Web\"}});}</script>                <script type=\"text/javascript\">window.PlotlyConfig = {MathJaxConfig: 'local'};</script>\n",
              "        <script src=\"https://cdn.plot.ly/plotly-2.8.3.min.js\"></script>                <div id=\"507fa836-57ef-4619-8c30-67b13110660b\" class=\"plotly-graph-div\" style=\"height:525px; width:100%;\"></div>            <script type=\"text/javascript\">                                    window.PLOTLYENV=window.PLOTLYENV || {};                                    if (document.getElementById(\"507fa836-57ef-4619-8c30-67b13110660b\")) {                    Plotly.newPlot(                        \"507fa836-57ef-4619-8c30-67b13110660b\",                        [{\"coloraxis\":\"coloraxis\",\"name\":\"0\",\"x\":[\"precipitation\",\"temp_max\",\"temp_min\",\"wind\",\"year\",\"month\",\"day\"],\"y\":[\"precipitation\",\"temp_max\",\"temp_min\",\"wind\",\"year\",\"month\",\"day\"],\"z\":[[1.0,-0.22855481643297076,-0.07268403986408038,0.32804508993529125,0.007033653049372755,0.02778892065166511,0.021648979733646205],[-0.22855481643297076,1.0,0.8756866637108158,-0.16485663487495453,0.11249910991730401,0.15419826561223715,-0.040376250425236154],[-0.07268403986408038,0.8756866637108158,1.0,-0.07418522537325267,0.1146542837333857,0.2166889520166416,-0.008082079704218766],[0.32804508993529125,-0.16485663487495453,-0.07418522537325267,1.0,-0.027417361056312876,-0.048125399827254396,-0.03369921410255534],[0.007033653049372755,0.11249910991730401,0.1146542837333857,-0.027417361056312876,1.0,0.001204013480792814,-0.0013844042677968321],[0.02778892065166511,0.15419826561223715,0.2166889520166416,-0.048125399827254396,0.001204013480792814,1.0,0.010522322386160873],[0.021648979733646205,-0.040376250425236154,-0.008082079704218766,-0.03369921410255534,-0.0013844042677968321,0.010522322386160873,1.0]],\"type\":\"heatmap\",\"xaxis\":\"x\",\"yaxis\":\"y\",\"hovertemplate\":\"x: %{x}<br>y: %{y}<br>color: %{z}<extra></extra>\"}],                        {\"template\":{\"data\":{\"bar\":[{\"error_x\":{\"color\":\"#2a3f5f\"},\"error_y\":{\"color\":\"#2a3f5f\"},\"marker\":{\"line\":{\"color\":\"#E5ECF6\",\"width\":0.5},\"pattern\":{\"fillmode\":\"overlay\",\"size\":10,\"solidity\":0.2}},\"type\":\"bar\"}],\"barpolar\":[{\"marker\":{\"line\":{\"color\":\"#E5ECF6\",\"width\":0.5},\"pattern\":{\"fillmode\":\"overlay\",\"size\":10,\"solidity\":0.2}},\"type\":\"barpolar\"}],\"carpet\":[{\"aaxis\":{\"endlinecolor\":\"#2a3f5f\",\"gridcolor\":\"white\",\"linecolor\":\"white\",\"minorgridcolor\":\"white\",\"startlinecolor\":\"#2a3f5f\"},\"baxis\":{\"endlinecolor\":\"#2a3f5f\",\"gridcolor\":\"white\",\"linecolor\":\"white\",\"minorgridcolor\":\"white\",\"startlinecolor\":\"#2a3f5f\"},\"type\":\"carpet\"}],\"choropleth\":[{\"colorbar\":{\"outlinewidth\":0,\"ticks\":\"\"},\"type\":\"choropleth\"}],\"contour\":[{\"colorbar\":{\"outlinewidth\":0,\"ticks\":\"\"},\"colorscale\":[[0.0,\"#0d0887\"],[0.1111111111111111,\"#46039f\"],[0.2222222222222222,\"#7201a8\"],[0.3333333333333333,\"#9c179e\"],[0.4444444444444444,\"#bd3786\"],[0.5555555555555556,\"#d8576b\"],[0.6666666666666666,\"#ed7953\"],[0.7777777777777778,\"#fb9f3a\"],[0.8888888888888888,\"#fdca26\"],[1.0,\"#f0f921\"]],\"type\":\"contour\"}],\"contourcarpet\":[{\"colorbar\":{\"outlinewidth\":0,\"ticks\":\"\"},\"type\":\"contourcarpet\"}],\"heatmap\":[{\"colorbar\":{\"outlinewidth\":0,\"ticks\":\"\"},\"colorscale\":[[0.0,\"#0d0887\"],[0.1111111111111111,\"#46039f\"],[0.2222222222222222,\"#7201a8\"],[0.3333333333333333,\"#9c179e\"],[0.4444444444444444,\"#bd3786\"],[0.5555555555555556,\"#d8576b\"],[0.6666666666666666,\"#ed7953\"],[0.7777777777777778,\"#fb9f3a\"],[0.8888888888888888,\"#fdca26\"],[1.0,\"#f0f921\"]],\"type\":\"heatmap\"}],\"heatmapgl\":[{\"colorbar\":{\"outlinewidth\":0,\"ticks\":\"\"},\"colorscale\":[[0.0,\"#0d0887\"],[0.1111111111111111,\"#46039f\"],[0.2222222222222222,\"#7201a8\"],[0.3333333333333333,\"#9c179e\"],[0.4444444444444444,\"#bd3786\"],[0.5555555555555556,\"#d8576b\"],[0.6666666666666666,\"#ed7953\"],[0.7777777777777778,\"#fb9f3a\"],[0.8888888888888888,\"#fdca26\"],[1.0,\"#f0f921\"]],\"type\":\"heatmapgl\"}],\"histogram\":[{\"marker\":{\"pattern\":{\"fillmode\":\"overlay\",\"size\":10,\"solidity\":0.2}},\"type\":\"histogram\"}],\"histogram2d\":[{\"colorbar\":{\"outlinewidth\":0,\"ticks\":\"\"},\"colorscale\":[[0.0,\"#0d0887\"],[0.1111111111111111,\"#46039f\"],[0.2222222222222222,\"#7201a8\"],[0.3333333333333333,\"#9c179e\"],[0.4444444444444444,\"#bd3786\"],[0.5555555555555556,\"#d8576b\"],[0.6666666666666666,\"#ed7953\"],[0.7777777777777778,\"#fb9f3a\"],[0.8888888888888888,\"#fdca26\"],[1.0,\"#f0f921\"]],\"type\":\"histogram2d\"}],\"histogram2dcontour\":[{\"colorbar\":{\"outlinewidth\":0,\"ticks\":\"\"},\"colorscale\":[[0.0,\"#0d0887\"],[0.1111111111111111,\"#46039f\"],[0.2222222222222222,\"#7201a8\"],[0.3333333333333333,\"#9c179e\"],[0.4444444444444444,\"#bd3786\"],[0.5555555555555556,\"#d8576b\"],[0.6666666666666666,\"#ed7953\"],[0.7777777777777778,\"#fb9f3a\"],[0.8888888888888888,\"#fdca26\"],[1.0,\"#f0f921\"]],\"type\":\"histogram2dcontour\"}],\"mesh3d\":[{\"colorbar\":{\"outlinewidth\":0,\"ticks\":\"\"},\"type\":\"mesh3d\"}],\"parcoords\":[{\"line\":{\"colorbar\":{\"outlinewidth\":0,\"ticks\":\"\"}},\"type\":\"parcoords\"}],\"pie\":[{\"automargin\":true,\"type\":\"pie\"}],\"scatter\":[{\"marker\":{\"colorbar\":{\"outlinewidth\":0,\"ticks\":\"\"}},\"type\":\"scatter\"}],\"scatter3d\":[{\"line\":{\"colorbar\":{\"outlinewidth\":0,\"ticks\":\"\"}},\"marker\":{\"colorbar\":{\"outlinewidth\":0,\"ticks\":\"\"}},\"type\":\"scatter3d\"}],\"scattercarpet\":[{\"marker\":{\"colorbar\":{\"outlinewidth\":0,\"ticks\":\"\"}},\"type\":\"scattercarpet\"}],\"scattergeo\":[{\"marker\":{\"colorbar\":{\"outlinewidth\":0,\"ticks\":\"\"}},\"type\":\"scattergeo\"}],\"scattergl\":[{\"marker\":{\"colorbar\":{\"outlinewidth\":0,\"ticks\":\"\"}},\"type\":\"scattergl\"}],\"scattermapbox\":[{\"marker\":{\"colorbar\":{\"outlinewidth\":0,\"ticks\":\"\"}},\"type\":\"scattermapbox\"}],\"scatterpolar\":[{\"marker\":{\"colorbar\":{\"outlinewidth\":0,\"ticks\":\"\"}},\"type\":\"scatterpolar\"}],\"scatterpolargl\":[{\"marker\":{\"colorbar\":{\"outlinewidth\":0,\"ticks\":\"\"}},\"type\":\"scatterpolargl\"}],\"scatterternary\":[{\"marker\":{\"colorbar\":{\"outlinewidth\":0,\"ticks\":\"\"}},\"type\":\"scatterternary\"}],\"surface\":[{\"colorbar\":{\"outlinewidth\":0,\"ticks\":\"\"},\"colorscale\":[[0.0,\"#0d0887\"],[0.1111111111111111,\"#46039f\"],[0.2222222222222222,\"#7201a8\"],[0.3333333333333333,\"#9c179e\"],[0.4444444444444444,\"#bd3786\"],[0.5555555555555556,\"#d8576b\"],[0.6666666666666666,\"#ed7953\"],[0.7777777777777778,\"#fb9f3a\"],[0.8888888888888888,\"#fdca26\"],[1.0,\"#f0f921\"]],\"type\":\"surface\"}],\"table\":[{\"cells\":{\"fill\":{\"color\":\"#EBF0F8\"},\"line\":{\"color\":\"white\"}},\"header\":{\"fill\":{\"color\":\"#C8D4E3\"},\"line\":{\"color\":\"white\"}},\"type\":\"table\"}]},\"layout\":{\"annotationdefaults\":{\"arrowcolor\":\"#2a3f5f\",\"arrowhead\":0,\"arrowwidth\":1},\"autotypenumbers\":\"strict\",\"coloraxis\":{\"colorbar\":{\"outlinewidth\":0,\"ticks\":\"\"}},\"colorscale\":{\"diverging\":[[0,\"#8e0152\"],[0.1,\"#c51b7d\"],[0.2,\"#de77ae\"],[0.3,\"#f1b6da\"],[0.4,\"#fde0ef\"],[0.5,\"#f7f7f7\"],[0.6,\"#e6f5d0\"],[0.7,\"#b8e186\"],[0.8,\"#7fbc41\"],[0.9,\"#4d9221\"],[1,\"#276419\"]],\"sequential\":[[0.0,\"#0d0887\"],[0.1111111111111111,\"#46039f\"],[0.2222222222222222,\"#7201a8\"],[0.3333333333333333,\"#9c179e\"],[0.4444444444444444,\"#bd3786\"],[0.5555555555555556,\"#d8576b\"],[0.6666666666666666,\"#ed7953\"],[0.7777777777777778,\"#fb9f3a\"],[0.8888888888888888,\"#fdca26\"],[1.0,\"#f0f921\"]],\"sequentialminus\":[[0.0,\"#0d0887\"],[0.1111111111111111,\"#46039f\"],[0.2222222222222222,\"#7201a8\"],[0.3333333333333333,\"#9c179e\"],[0.4444444444444444,\"#bd3786\"],[0.5555555555555556,\"#d8576b\"],[0.6666666666666666,\"#ed7953\"],[0.7777777777777778,\"#fb9f3a\"],[0.8888888888888888,\"#fdca26\"],[1.0,\"#f0f921\"]]},\"colorway\":[\"#636efa\",\"#EF553B\",\"#00cc96\",\"#ab63fa\",\"#FFA15A\",\"#19d3f3\",\"#FF6692\",\"#B6E880\",\"#FF97FF\",\"#FECB52\"],\"font\":{\"color\":\"#2a3f5f\"},\"geo\":{\"bgcolor\":\"white\",\"lakecolor\":\"white\",\"landcolor\":\"#E5ECF6\",\"showlakes\":true,\"showland\":true,\"subunitcolor\":\"white\"},\"hoverlabel\":{\"align\":\"left\"},\"hovermode\":\"closest\",\"mapbox\":{\"style\":\"light\"},\"paper_bgcolor\":\"white\",\"plot_bgcolor\":\"#E5ECF6\",\"polar\":{\"angularaxis\":{\"gridcolor\":\"white\",\"linecolor\":\"white\",\"ticks\":\"\"},\"bgcolor\":\"#E5ECF6\",\"radialaxis\":{\"gridcolor\":\"white\",\"linecolor\":\"white\",\"ticks\":\"\"}},\"scene\":{\"xaxis\":{\"backgroundcolor\":\"#E5ECF6\",\"gridcolor\":\"white\",\"gridwidth\":2,\"linecolor\":\"white\",\"showbackground\":true,\"ticks\":\"\",\"zerolinecolor\":\"white\"},\"yaxis\":{\"backgroundcolor\":\"#E5ECF6\",\"gridcolor\":\"white\",\"gridwidth\":2,\"linecolor\":\"white\",\"showbackground\":true,\"ticks\":\"\",\"zerolinecolor\":\"white\"},\"zaxis\":{\"backgroundcolor\":\"#E5ECF6\",\"gridcolor\":\"white\",\"gridwidth\":2,\"linecolor\":\"white\",\"showbackground\":true,\"ticks\":\"\",\"zerolinecolor\":\"white\"}},\"shapedefaults\":{\"line\":{\"color\":\"#2a3f5f\"}},\"ternary\":{\"aaxis\":{\"gridcolor\":\"white\",\"linecolor\":\"white\",\"ticks\":\"\"},\"baxis\":{\"gridcolor\":\"white\",\"linecolor\":\"white\",\"ticks\":\"\"},\"bgcolor\":\"#E5ECF6\",\"caxis\":{\"gridcolor\":\"white\",\"linecolor\":\"white\",\"ticks\":\"\"}},\"title\":{\"x\":0.05},\"xaxis\":{\"automargin\":true,\"gridcolor\":\"white\",\"linecolor\":\"white\",\"ticks\":\"\",\"title\":{\"standoff\":15},\"zerolinecolor\":\"white\",\"zerolinewidth\":2},\"yaxis\":{\"automargin\":true,\"gridcolor\":\"white\",\"linecolor\":\"white\",\"ticks\":\"\",\"title\":{\"standoff\":15},\"zerolinecolor\":\"white\",\"zerolinewidth\":2}}},\"xaxis\":{\"anchor\":\"y\",\"domain\":[0.0,1.0],\"scaleanchor\":\"y\",\"constrain\":\"domain\",\"title\":{\"text\":\"Features\"}},\"yaxis\":{\"anchor\":\"x\",\"domain\":[0.0,1.0],\"autorange\":\"reversed\",\"constrain\":\"domain\",\"title\":{\"text\":\"Features\"}},\"coloraxis\":{\"colorscale\":[[0.0,\"rgb(5,48,97)\"],[0.1,\"rgb(33,102,172)\"],[0.2,\"rgb(67,147,195)\"],[0.3,\"rgb(146,197,222)\"],[0.4,\"rgb(209,229,240)\"],[0.5,\"rgb(247,247,247)\"],[0.6,\"rgb(253,219,199)\"],[0.7,\"rgb(244,165,130)\"],[0.8,\"rgb(214,96,77)\"],[0.9,\"rgb(178,24,43)\"],[1.0,\"rgb(103,0,31)\"]],\"colorbar\":{\"title\":{\"text\":\"Correlation Coefficient\"}}},\"title\":{\"text\":\"Correlation between Features\"}},                        {\"responsive\": true}                    ).then(function(){\n",
              "                            \n",
              "var gd = document.getElementById('507fa836-57ef-4619-8c30-67b13110660b');\n",
              "var x = new MutationObserver(function (mutations, observer) {{\n",
              "        var display = window.getComputedStyle(gd).display;\n",
              "        if (!display || display === 'none') {{\n",
              "            console.log([gd, 'removed!']);\n",
              "            Plotly.purge(gd);\n",
              "            observer.disconnect();\n",
              "        }}\n",
              "}});\n",
              "\n",
              "// Listen for the removal of the full notebook cells\n",
              "var notebookContainer = gd.closest('#notebook-container');\n",
              "if (notebookContainer) {{\n",
              "    x.observe(notebookContainer, {childList: true});\n",
              "}}\n",
              "\n",
              "// Listen for the clearing of the current output cell\n",
              "var outputEl = gd.closest('.output');\n",
              "if (outputEl) {{\n",
              "    x.observe(outputEl, {childList: true});\n",
              "}}\n",
              "\n",
              "                        })                };                            </script>        </div>\n",
              "</body>\n",
              "</html>"
            ]
          },
          "metadata": {}
        }
      ]
    },
    {
      "cell_type": "code",
      "source": [
        "# Scatter Plot Matrix\n",
        "\n",
        "# Create scatter plot matrix\n",
        "fig = px.scatter_matrix(df, dimensions=[\"precipitation\", \"temp_max\", \"temp_min\", \"wind\"], color=\"month\")\n",
        "fig.show()"
      ],
      "metadata": {
        "colab": {
          "base_uri": "https://localhost:8080/",
          "height": 562
        },
        "id": "JpDhIj-ZgZdl",
        "outputId": "82d27612-dd4b-466e-89af-867f06a93566"
      },
      "execution_count": 469,
      "outputs": [
        {
          "output_type": "display_data",
          "data": {
            "text/html": [
              "<html>\n",
              "<head><meta charset=\"utf-8\" /></head>\n",
              "<body>\n",
              "    <div>            <script src=\"https://cdnjs.cloudflare.com/ajax/libs/mathjax/2.7.5/MathJax.js?config=TeX-AMS-MML_SVG\"></script><script type=\"text/javascript\">if (window.MathJax) {MathJax.Hub.Config({SVG: {font: \"STIX-Web\"}});}</script>                <script type=\"text/javascript\">window.PlotlyConfig = {MathJaxConfig: 'local'};</script>\n",
              "        <script src=\"https://cdn.plot.ly/plotly-2.8.3.min.js\"></script>                <div id=\"de12e55d-c2c1-4e03-8b20-e024f4f1651b\" class=\"plotly-graph-div\" style=\"height:525px; width:100%;\"></div>            <script type=\"text/javascript\">                                    window.PLOTLYENV=window.PLOTLYENV || {};                                    if (document.getElementById(\"de12e55d-c2c1-4e03-8b20-e024f4f1651b\")) {                    Plotly.newPlot(                        \"de12e55d-c2c1-4e03-8b20-e024f4f1651b\",                        [{\"dimensions\":[{\"axis\":{\"matches\":true},\"label\":\"precipitation\",\"values\":[0.0,10.9,0.8,20.3,1.3,2.5,0.0,0.0,4.3,1.0,0.0,0.0,0.0,4.1,5.3,2.5,8.1,19.8,15.2,13.5,3.0,6.1,0.0,8.6,8.1,4.8,0.0,0.0,27.7,3.6,1.8,13.5,0.0,0.0,0.0,0.0,0.0,0.3,2.8,2.5,2.5,0.8,1.0,11.4,2.5,0.0,1.8,17.3,6.4,0.0,3.0,0.8,8.6,0.0,11.4,0.0,1.3,0.0,3.6,0.8,0.0,2.0,0.0,0.0,6.9,0.5,0.0,0.0,3.6,10.4,13.7,19.3,9.4,8.6,23.9,8.4,9.4,3.6,2.0,3.6,1.3,4.1,0.0,0.0,0.0,0.0,4.8,1.3,27.4,5.6,13.2,1.5,0.0,1.5,0.0,4.6,0.3,0.0,0.0,0.0,0.0,2.3,0.5,0.0,0.0,0.0,8.1,1.8,1.8,10.9,6.6,0.0,0.0,0.0,4.3,10.7,3.8,0.8,0.0,4.3,4.3,0.5,0.5,18.5,1.8,0.0,0.0,0.0,0.0,0.0,0.0,0.0,0.0,0.0,0.0,0.0,0.0,0.0,0.0,0.0,6.4,14.0,6.1,0.3,0.0,0.0,0.0,0.0,0.0,0.0,0.3,3.8,6.6,0.3,0.0,1.3,16.0,0.0,16.5,1.5,0.0,0.0,0.0,0.8,0.0,0.0,0.0,0.0,0.0,3.0,1.0,0.0,0.0,15.7,8.6,0.0,0.5,0.0,0.0,0.0,0.3,3.0,0.0,2.0,5.8,0.0,0.0,0.0,0.0,0.0,1.5,0.0,0.0,0.0,0.5,0.0,0.0,0.3,0.0,0.0,0.0,15.2,0.0,1.0,0.0,0.0,0.0,0.0,0.0,0.0,0.0,0.0,0.0,0.0,0.0,0.0,0.0,0.0,0.0,0.0,0.0,0.0,0.0,0.0,0.0,0.0,0.0,0.0,0.0,0.0,0.0,0.0,0.0,0.0,0.0,0.0,0.0,0.0,0.0,0.0,0.0,0.0,0.0,0.0,0.0,0.0,0.0,0.0,0.0,0.0,0.0,0.0,0.3,0.3,0.0,0.0,0.0,0.0,0.0,0.0,0.0,0.0,0.0,0.0,0.0,0.3,0.0,0.0,0.0,0.0,0.0,0.0,0.0,0.0,0.0,0.0,0.0,0.0,0.0,0.0,0.0,0.0,0.0,0.0,0.0,2.0,4.8,16.5,7.9,0.0,0.0,20.8,4.8,0.5,6.4,8.9,0.0,7.1,0.0,1.5,23.1,6.1,10.9,34.5,14.5,9.7,5.6,0.5,8.1,0.8,0.3,0.0,0.0,0.0,0.0,15.2,3.6,5.3,0.8,0.0,5.6,6.1,7.9,54.1,3.8,11.2,0.0,32.0,0.0,0.0,0.0,0.0,2.8,1.5,35.6,4.1,19.6,13.0,14.2,1.5,1.5,1.0,0.0,1.5,0.5,3.0,8.1,2.3,7.9,5.3,22.6,2.0,3.3,13.7,13.2,1.8,3.3,6.6,0.3,13.5,4.6,4.1,0.0,1.5,0.0,0.0,0.0,0.0,4.1,2.5,3.0,2.0,2.3,16.3,38.4,0.3,0.0,0.0,0.0,0.0,0.0,0.0,0.0,0.0,0.0,0.0,0.0,0.0,5.1,5.8,3.0,2.3,1.8,7.9,4.3,3.6,3.0,0.3,0.0,2.3,0.0,3.3,1.0,1.3,0.0,0.3,0.0,0.3,1.0,2.3,1.0,0.0,0.0,0.0,0.0,0.0,1.5,0.5,9.4,0.3,0.0,2.3,0.5,4.6,8.1,4.1,0.8,0.0,0.0,0.0,11.9,7.4,0.0,0.0,0.8,1.3,2.0,2.3,2.8,0.0,4.3,0.0,0.0,11.7,9.9,8.1,0.0,0.0,0.0,0.0,0.0,0.3,2.0,0.0,0.0,0.0,0.0,0.0,0.0,8.4,18.5,12.7,39.1,0.8,0.0,9.4,1.5,9.7,9.4,5.8,0.0,0.3,0.0,5.3,20.6,0.0,3.3,0.0,0.0,0.0,0.0,0.0,0.0,1.0,3.8,0.0,0.0,0.0,0.0,0.0,0.0,0.0,0.0,0.0,0.0,0.0,0.0,6.6,3.3,0.0,1.0,0.0,0.5,0.0,0.0,0.0,13.7,13.7,4.1,0.3,0.0,1.5,9.7,0.5,5.6,0.0,0.0,0.0,1.0,0.0,0.0,0.0,0.0,0.0,0.0,0.0,0.0,0.0,0.3,0.0,0.0,0.0,0.0,0.0,0.3,0.0,3.0,0.3,0.0,7.9,4.8,9.9,2.0,3.6,0.0,0.0,0.0,0.0,0.0,0.0,0.0,0.0,0.0,0.0,0.0,0.0,0.0,0.0,0.0,0.0,0.0,0.0,0.0,0.0,0.0,0.0,0.0,0.0,0.0,0.0,0.0,0.0,0.0,0.0,0.0,0.0,0.0,0.0,0.0,2.0,0.0,0.0,0.0,0.0,0.0,0.0,0.0,2.3,0.0,0.0,0.0,0.8,1.8,0.0,0.0,0.0,0.0,0.0,0.0,0.0,0.0,0.0,0.3,1.0,1.3,5.6,19.3,0.0,0.0,0.0,0.0,2.3,0.3,27.7,21.3,0.0,0.0,0.0,0.0,0.0,0.0,0.0,0.0,3.3,0.3,0.0,0.0,0.0,3.6,0.0,13.5,2.8,0.0,2.0,0.0,1.0,43.4,16.8,18.5,7.9,5.3,0.8,0.0,0.0,4.1,0.5,6.9,0.0,1.0,9.1,1.0,0.0,0.0,0.0,0.0,0.0,0.0,0.0,0.0,0.0,0.0,0.0,0.0,0.0,0.0,1.8,0.0,0.0,0.5,0.3,1.3,12.7,0.5,0.0,2.5,3.8,30.0,0.0,1.8,0.0,0.0,4.1,0.0,1.3,3.0,0.0,5.3,26.2,1.0,0.0,0.0,0.0,0.0,0.0,0.0,0.0,0.0,0.0,0.5,2.3,3.0,4.6,0.0,0.0,0.0,0.0,0.0,0.0,0.0,0.0,0.0,6.9,0.5,0.0,1.3,0.3,0.0,1.3,0.0,5.6,5.6,10.7,1.5,0.0,0.0,0.0,0.3,0.0,0.0,0.3,0.5,0.0,4.1,1.5,0.0,0.0,0.3,12.2,9.7,5.8,4.3,21.3,1.5,0.0,0.0,0.0,0.0,0.0,0.0,0.0,0.0,0.0,0.5,0.0,0.0,0.0,0.0,0.0,8.9,21.6,0.0,2.3,2.0,0.0,0.0,0.0,0.0,0.0,0.0,5.1,0.5,18.3,17.0,4.6,1.8,9.4,11.7,26.4,14.5,15.2,1.0,3.0,2.8,2.5,6.1,13.0,0.3,0.0,0.0,0.0,0.5,19.1,10.7,16.5,46.7,3.0,0.0,32.3,4.3,18.8,0.0,0.0,0.5,6.9,8.1,27.7,0.3,0.0,0.5,0.0,0.0,0.0,0.0,0.0,4.1,3.6,0.3,22.1,14.0,0.0,0.0,0.0,0.0,2.5,0.0,4.6,0.0,0.0,4.6,0.0,0.0,0.0,0.0,0.0,0.0,0.5,10.9,18.5,0.0,13.7,0.0,5.1,14.2,8.9,12.4,0.0,3.3,6.9,0.0,0.0,0.0,0.0,0.0,33.3,16.0,5.1,0.0,0.0,13.7,2.0,0.5,0.0,0.0,0.0,0.0,0.0,0.0,0.0,0.0,0.0,0.0,0.0,0.0,3.8,0.0,5.6,0.0,0.0,0.0,0.0,0.0,0.0,0.0,0.0,0.0,0.0,0.0,0.0,0.0,0.0,0.0,0.0,0.0,1.8,6.4,0.0,0.5,3.6,1.3,0.0,0.8,0.3,0.0,0.0,0.0,0.0,0.0,0.0,1.8,2.3,0.0,0.0,0.0,0.0,0.0,0.0,0.0,0.0,0.0,0.0,0.0,0.0,0.0,0.0,0.0,0.0,0.0,0.0,0.0,0.0,0.0,0.0,0.0,0.3,19.3,0.0,0.0,0.0,0.0,0.0,0.0,0.0,0.0,0.0,0.5,0.0,0.0,0.0,0.0,0.0,0.0,0.0,0.0,0.5,12.7,21.6,0.0,1.0,0.0,0.0,0.0,0.0,0.0,0.0,0.0,0.0,0.0,0.0,0.0,0.0,0.0,0.0,8.4,1.3,0.0,3.0,0.0,0.0,0.0,0.0,0.0,0.0,0.0,0.0,0.0,0.0,0.0,0.0,0.0,0.0,0.5,0.3,0.0,0.0,0.0,0.3,18.3,20.3,4.3,8.9,0.0,0.0,0.8,0.0,0.0,0.0,0.0,0.0,0.0,0.0,0.0,0.0,0.0,0.3,7.4,0.0,7.6,7.1,8.6,0.0,3.3,15.0,0.0,11.7,1.0,32.0,9.4,4.1,6.1,1.5,0.8,12.7,0.5,25.4,17.0,0.0,1.8,10.9,4.1,4.8,4.1,0.0,0.0,5.1,0.0,0.0,0.0,0.0,0.0,0.0,0.0,0.0,0.0,0.0,3.6,15.2,0.5,11.9,1.3,18.3,0.3,3.3,34.3,3.6,0.0,0.0,0.0,0.0,0.8,3.0,7.4,0.0,9.1,9.9,13.0,6.9,0.0,0.0,0.0,0.0,0.0,2.8,13.0,3.0,19.6,0.0,0.0,20.6,5.3,0.0,0.0,3.3,4.1,0.0,0.0,0.0,0.0,1.5,0.0,10.2,8.1,0.0,0.0,0.0,0.3,5.8,1.5,0.0,0.0,0.0,9.7,0.0,26.2,21.3,0.5,0.0,0.0,0.8,5.8,0.5,0.0,0.0,0.8,0.0,0.0,0.0,0.0,1.5,7.4,1.3,8.4,26.2,17.3,23.6,3.6,6.1,0.3,0.0,1.0,0.0,0.3,0.0,0.0,0.0,0.0,4.6,0.8,0.0,0.0,0.0,0.0,4.1,9.4,18.3,0.0,0.0,0.0,0.0,0.0,0.0,0.0,0.0,0.0,0.0,0.8,2.5,0.0,2.0,17.0,55.9,1.0,0.8,0.0,0.0,4.1,3.8,1.0,8.1,7.6,5.1,0.0,1.0,0.0,0.0,1.8,1.0,5.1,0.0,1.5,0.0,0.0,1.0,0.5,0.0,0.0,10.9,0.0,0.0,14.0,3.3,0.0,0.0,0.0,0.0,0.0,0.0,5.6,0.0,3.0,3.3,1.3,0.0,0.3,1.8,0.0,0.0,0.0,0.0,0.0,0.0,6.1,0.0,0.0,0.0,0.0,0.0,0.0,4.3,4.1,0.3,0.0,0.0,0.0,0.0,0.0,0.0,0.0,0.0,0.0,0.0,0.0,0.0,0.0,0.0,0.0,0.0,0.0,4.6,0.5,0.0,0.0,0.0,0.0,0.0,0.0,0.0,0.0,0.0,0.0,0.0,0.0,0.0,0.0,0.0,0.0,0.5,0.0,0.0,0.0,0.0,0.0,0.0,0.0,0.0,0.3,0.0,0.0,0.0,0.0,0.0,0.0,0.0,0.0,0.0,0.0,0.0,0.0,0.0,0.0,0.0,0.0,0.0,0.0,0.0,0.0,0.0,0.0,0.0,0.0,0.0,0.3,0.0,2.0,0.0,0.0,0.0,0.0,0.0,0.0,0.0,0.0,0.0,0.0,0.0,0.0,0.0,0.0,0.0,0.0,7.6,0.0,30.5,0.0,0.0,0.0,0.0,0.0,2.0,0.0,0.0,0.0,0.0,0.0,0.0,0.0,0.5,32.5,10.2,0.0,5.8,0.0,0.0,0.0,0.3,5.3,0.3,0.0,0.0,0.0,0.0,0.0,0.5,0.0,0.0,1.0,1.8,0.0,0.0,4.1,0.0,0.0,0.0,0.0,2.0,0.0,0.0,0.0,0.0,0.0,0.0,0.0,0.0,0.0,0.0,0.0,9.9,0.0,0.3,28.7,0.0,4.6,1.3,0.0,0.0,0.0,0.3,3.8,0.3,0.0,0.0,0.0,0.0,0.0,8.9,6.9,0.0,3.3,1.8,19.3,33.0,26.2,0.3,0.8,0.0,1.3,0.0,12.7,6.6,3.3,1.3,1.5,9.9,33.5,47.2,22.4,2.0,29.5,1.5,2.0,0.0,0.0,0.0,3.0,7.1,0.0,0.0,0.0,0.0,0.0,0.5,12.2,2.5,12.7,2.0,15.7,11.2,27.4,54.1,13.5,9.4,0.3,16.0,1.3,0.0,1.5,3.6,21.8,18.5,0.0,4.3,27.4,4.6,6.1,2.5,5.8,0.0,8.6,1.5,0.0,0.0,0.0]},{\"axis\":{\"matches\":true},\"label\":\"temp_max\",\"values\":[12.8,10.6,11.7,12.2,8.9,4.4,7.2,10.0,9.4,6.1,6.1,6.1,5.0,4.4,1.1,1.7,3.3,0.0,-1.1,7.2,8.3,6.7,8.3,10.0,8.9,8.9,6.7,6.7,9.4,8.3,9.4,8.9,8.3,14.4,15.6,13.9,16.1,15.6,10.0,11.1,12.8,8.9,8.3,7.2,6.7,7.2,7.2,10.0,6.7,6.7,7.8,10.0,10.0,8.3,6.7,7.2,5.0,6.7,6.7,5.0,6.1,6.7,12.2,10.6,7.8,6.7,8.9,15.6,9.4,7.2,6.7,8.3,5.6,7.8,11.1,8.9,10.0,5.0,7.2,7.8,8.9,10.0,12.2,15.0,13.3,12.8,14.4,10.6,10.0,9.4,10.0,8.9,16.7,11.7,10.6,9.4,11.1,16.1,21.1,20.0,17.8,11.1,13.9,15.0,15.6,16.1,13.3,10.0,13.3,13.9,13.3,20.0,23.3,21.7,13.9,16.7,13.9,13.3,16.1,15.6,12.8,11.7,13.3,11.1,12.2,13.3,17.8,23.9,18.3,13.3,14.4,18.3,24.4,25.6,26.7,24.4,19.4,17.8,15.6,19.4,14.4,16.7,12.8,14.4,17.2,22.2,22.2,17.2,16.7,16.1,18.9,17.8,20.0,18.9,17.2,12.8,13.3,16.1,16.1,15.0,17.2,18.9,23.3,18.3,16.1,17.2,22.2,21.1,18.9,17.2,19.4,24.4,23.9,13.9,15.6,19.4,19.4,18.3,22.8,22.2,21.7,20.0,20.0,18.9,18.3,20.6,24.4,25.0,26.7,28.3,25.0,23.9,27.8,25.6,23.3,25.0,18.9,26.1,21.7,21.1,25.0,19.4,23.9,20.6,18.9,23.3,26.7,25.6,18.9,22.2,22.8,19.4,22.8,23.9,23.3,27.2,33.9,33.9,28.3,21.1,22.2,24.4,25.6,28.3,30.6,30.6,28.9,31.1,34.4,32.8,21.7,23.3,25.6,23.3,22.2,21.1,22.2,26.1,21.1,23.9,22.8,22.8,22.8,22.2,21.7,21.1,22.8,24.4,26.1,28.3,32.2,25.0,18.9,20.0,20.0,22.2,27.8,26.1,22.2,24.4,27.8,27.8,23.9,19.4,16.1,19.4,19.4,21.1,19.4,19.4,22.8,25.0,20.6,21.1,23.3,17.8,18.9,18.9,21.7,23.9,23.9,21.1,16.1,12.2,13.9,13.9,15.6,17.8,17.2,16.1,14.4,17.8,15.0,11.1,11.7,7.8,11.1,11.7,11.7,11.1,14.4,14.4,15.6,15.0,15.6,15.0,15.0,15.6,17.8,15.0,12.8,12.2,10.0,8.9,7.8,8.9,12.8,11.1,11.1,9.4,9.4,12.2,10.0,13.3,11.1,8.3,8.9,9.4,8.9,8.3,9.4,10.0,9.4,12.8,15.0,13.3,8.3,9.4,11.7,8.9,7.2,7.8,6.7,6.7,7.2,7.8,6.7,7.2,6.1,4.4,6.7,8.3,3.9,8.3,7.2,8.3,8.3,7.2,5.6,5.6,6.7,7.8,8.3,5.0,4.4,3.3,5.0,6.1,6.7,10.0,6.7,7.2,10.0,11.7,10.0,3.3,2.8,2.8,2.2,3.3,6.7,6.1,3.9,3.3,1.1,3.3,2.2,3.3,7.2,7.2,10.6,8.3,5.6,6.1,8.3,8.9,9.4,11.7,6.1,8.9,10.6,10.0,10.6,9.4,7.8,8.3,8.9,8.3,11.1,9.4,9.4,13.3,11.1,9.4,7.8,10.6,7.8,6.7,7.8,10.0,8.9,10.6,8.9,10.0,11.7,15.0,13.9,11.1,13.3,9.4,7.2,12.2,11.7,12.8,7.8,10.6,12.8,11.7,11.7,14.4,10.6,8.9,11.7,12.8,11.1,10.0,9.4,10.0,12.2,16.7,16.7,13.3,16.1,18.3,20.0,20.6,17.2,13.9,16.7,14.4,13.9,12.2,8.3,13.3,12.2,15.0,12.2,7.8,10.6,12.8,13.9,13.9,15.0,11.7,13.3,13.9,12.2,16.1,17.8,21.1,21.7,20.6,13.9,15.0,13.9,12.8,18.3,20.6,21.7,25.0,28.9,30.6,20.6,19.4,22.8,26.1,27.2,21.7,18.9,18.3,17.2,21.7,17.2,16.7,18.3,19.4,15.6,11.1,12.2,16.7,17.8,18.3,16.7,17.2,16.1,16.7,19.4,22.8,20.6,22.2,26.1,26.7,26.7,21.7,20.6,20.6,21.7,20.0,20.6,21.1,20.0,25.6,23.9,25.6,23.3,20.0,17.2,20.6,25.6,22.2,21.1,23.3,22.2,21.1,30.6,30.0,33.9,31.7,28.3,26.1,21.7,23.3,26.1,23.9,26.7,30.0,22.2,22.8,19.4,26.1,27.8,27.8,31.1,22.2,26.1,27.8,25.0,23.9,26.1,31.1,31.1,31.1,31.1,25.6,21.1,25.0,25.0,21.7,20.6,17.2,25.0,28.9,30.0,30.6,31.1,28.3,28.3,25.6,25.0,25.6,27.8,27.2,21.1,28.9,25.6,26.1,26.7,25.6,27.8,28.9,25.0,25.0,22.2,24.4,26.7,26.7,23.9,26.1,27.8,27.8,27.8,25.0,22.8,20.0,21.7,23.3,26.7,26.1,26.7,33.9,25.6,18.9,21.7,18.9,21.7,17.8,21.1,25.6,23.3,21.1,17.2,16.1,17.8,16.1,17.2,13.9,16.7,14.4,13.9,14.4,12.8,14.4,17.8,20.0,22.8,16.1,13.9,15.0,14.4,13.9,14.4,15.0,15.6,15.6,12.8,14.4,12.8,10.6,10.6,11.7,14.4,12.8,10.0,12.2,11.7,13.9,14.4,13.3,15.0,14.4,17.8,14.4,12.2,10.6,13.3,12.8,11.1,13.3,11.1,11.1,16.1,15.6,13.9,11.1,10.6,10.0,11.7,12.8,13.3,7.8,7.8,9.4,11.1,11.7,12.2,12.2,14.4,11.7,9.4,11.1,13.3,7.8,5.0,4.4,1.1,1.1,0.0,2.2,1.1,5.6,5.0,5.6,9.4,9.4,11.7,10.0,8.3,7.8,5.0,8.3,8.9,10.6,11.7,8.3,6.7,6.7,8.9,9.4,7.2,8.9,8.3,7.2,10.6,8.9,7.8,8.3,7.8,8.3,10.0,9.4,12.8,14.4,11.1,10.6,11.1,11.1,6.7,5.6,9.4,6.1,10.0,10.0,9.4,10.0,12.8,12.2,8.3,9.4,11.1,11.1,8.3,7.8,7.8,8.9,5.0,2.8,-0.5,-1.6,3.3,5.6,3.9,10.0,12.2,12.2,12.8,11.7,11.1,9.4,8.3,8.9,8.3,10.0,6.7,5.6,7.2,6.7,12.2,13.9,12.8,14.4,7.2,11.1,14.4,13.9,15.6,13.3,15.6,12.8,15.0,12.2,14.4,16.1,13.9,14.4,16.7,10.6,10.0,10.0,11.1,11.1,10.6,11.1,12.8,18.9,13.9,11.1,12.2,11.7,11.7,11.1,15.6,14.4,14.4,13.3,12.8,11.7,13.9,21.1,15.6,14.4,15.0,17.2,16.1,20.6,20.0,14.4,11.1,11.7,14.4,11.7,15.6,17.2,12.2,11.7,13.9,14.4,15.0,11.1,16.1,25.0,27.8,29.4,18.3,15.0,14.4,15.6,16.7,18.3,13.9,13.3,15.6,18.9,24.4,26.7,27.8,26.7,20.0,20.0,20.0,21.1,22.2,20.0,24.4,20.0,18.3,15.0,18.3,20.0,18.9,18.9,20.6,23.3,22.2,23.3,18.3,19.4,22.2,25.0,24.4,23.3,21.1,20.0,23.9,21.7,15.6,17.8,18.3,17.8,17.8,18.9,25.6,20.0,22.2,25.0,25.0,24.4,26.1,21.1,21.1,20.0,20.6,25.6,34.4,27.2,21.7,23.9,24.4,28.9,27.2,30.0,26.7,28.9,31.1,32.2,29.4,27.8,31.1,31.1,26.7,23.9,25.6,19.4,23.9,21.1,18.9,20.6,22.8,26.1,28.3,30.6,30.0,29.4,30.6,28.9,29.4,31.7,32.8,25.0,26.1,25.6,25.6,27.2,30.6,35.6,27.2,23.3,21.1,24.4,25.6,27.8,29.4,27.2,21.7,21.1,23.9,27.8,25.0,28.9,31.1,28.9,23.3,22.8,17.8,21.1,23.3,20.0,20.6,23.9,27.8,32.2,28.3,21.1,21.7,22.2,24.4,24.4,28.3,30.0,30.6,22.2,22.8,19.4,23.9,24.4,26.1,22.2,18.9,18.9,21.7,20.0,20.6,18.9,16.7,19.4,18.3,19.4,22.2,21.7,23.9,25.6,18.9,20.6,17.2,18.3,18.3,17.8,21.1,16.7,16.1,20.6,16.7,19.4,22.2,16.1,16.1,15.6,14.4,14.4,16.7,12.8,15.6,15.0,16.7,15.6,12.8,11.1,13.3,13.9,14.4,15.0,16.7,14.4,12.8,13.3,11.1,7.8,6.7,7.2,7.2,8.3,9.4,10.6,7.2,11.1,11.1,11.1,9.4,12.8,11.7,13.9,15.0,14.4,12.8,4.4,2.8,4.4,5.6,10.0,8.3,12.8,11.7,14.4,14.4,16.1,18.9,14.4,11.1,10.0,12.8,12.2,10.0,8.9,9.4,11.1,12.8,12.8,10.6,12.2,7.2,7.8,5.6,9.4,6.7,6.1,3.3,3.3,5.6,5.6,5.0,10.6,12.2,12.2,7.8,7.8,10.0,7.8,9.4,11.1,9.4,6.1,7.8,11.7,13.3,13.9,10.0,10.0,7.2,9.4,12.2,14.4,17.2,16.1,11.1,12.2,12.2,8.3,7.2,9.4,11.1,10.0,10.6,13.3,14.4,12.2,15.0,13.3,12.8,12.8,16.7,15.6,14.4,12.2,15.0,16.1,12.2,10.6,11.1,12.2,11.7,12.8,11.1,10.0,11.7,10.0,12.2,11.1,11.1,10.6,12.8,13.3,15.0,16.7,17.2,14.4,13.3,14.4,17.8,17.2,13.9,10.6,13.9,13.3,15.6,15.6,13.9,13.3,11.7,11.1,12.8,14.4,20.6,18.3,15.6,15.6,17.8,12.8,12.8,13.3,11.1,12.8,16.7,13.9,14.4,17.2,17.2,13.9,11.7,13.3,11.7,11.7,13.9,17.8,18.9,18.9,21.1,22.8,17.2,15.6,12.2,12.2,13.3,15.6,25.0,15.6,16.1,17.2,18.3,18.3,20.6,17.2,14.4,16.7,20.6,23.9,26.7,19.4,13.9,15.6,12.2,17.8,20.0,15.6,19.4,25.6,21.7,23.3,25.6,16.7,16.1,17.8,15.6,21.7,24.4,27.8,26.1,22.8,25.0,16.1,17.8,20.0,22.8,26.7,29.4,31.1,30.6,28.9,25.6,24.4,20.0,23.9,27.8,30.0,22.8,25.0,24.4,23.9,25.0,25.6,25.0,26.1,25.6,30.6,31.7,33.3,28.3,28.9,30.6,32.2,33.9,33.3,33.3,32.8,29.4,27.2,30.0,28.9,21.1,22.2,26.1,25.6,27.8,26.1,26.1,27.8,33.3,35.0,26.7,23.9,23.9,26.1,22.8,21.1,22.2,23.3,27.8,32.2,34.4,34.4,33.3,30.6,28.3,26.1,23.3,25.0,28.3,25.0,28.3,28.9,30.0,28.3,28.3,18.3,21.7,25.0,27.2,30.0,31.7,22.8,22.2,26.7,27.8,23.9,25.6,28.3,29.4,23.3,22.2,20.0,18.9,19.4,19.4,18.3,18.3,20.6,16.1,21.1,22.8,24.4,25.0,27.2,26.7,20.6,16.7,17.8,20.0,18.3,19.4,21.1,22.8,18.3,18.9,20.6,22.2,15.6,18.3,17.8,21.1,21.7,18.3,21.1,15.6,19.4,22.8,23.3,18.3,16.1,18.9,19.4,21.1,17.8,18.3,16.7,15.0,21.1,20.0,19.4,15.0,17.2,17.8,16.1,16.1,12.8,15.0,19.4,12.2,16.1,13.9,15.0,17.2,15.6,12.2,11.1,10.6,10.0,11.7,15.6,12.2,11.1,10.0,11.1,11.1,11.1,13.3,9.4,8.9,8.9,13.3,8.9,8.9,8.3,8.9,10.0,6.7,6.7,7.2,9.4,9.4,7.2,1.7,5.6,10.0,10.6,15.6,10.6,10.0,12.8,11.1,15.6,12.2,11.7,9.4,8.9,7.8,7.8,6.7,6.1,6.7,8.9,8.3,7.8,5.6,7.8,5.0,5.6,5.0,4.4,4.4,5.0,7.2,5.6,5.6]},{\"axis\":{\"matches\":true},\"label\":\"temp_min\",\"values\":[5.0,2.8,7.2,5.6,2.8,2.2,2.8,2.8,5.0,0.6,-1.1,-1.7,-2.8,0.6,-3.3,-2.8,0.0,-2.8,-2.8,-1.1,3.3,2.2,1.1,2.2,4.4,1.1,-2.2,0.6,3.9,6.1,6.1,3.3,1.7,2.2,5.0,1.7,1.7,7.8,5.0,7.8,6.7,5.6,5.0,4.4,1.1,0.6,3.3,4.4,3.9,2.2,1.7,7.8,2.8,2.8,4.4,2.8,-1.1,-2.2,-0.6,1.1,1.1,3.9,6.7,6.7,1.1,0.0,-1.7,0.6,5.0,6.1,2.8,0.6,0.6,1.1,5.6,3.9,0.6,-0.6,-1.1,2.2,1.1,1.7,0.6,3.3,2.2,6.1,6.7,7.2,6.1,5.0,2.8,4.4,4.4,3.3,2.8,2.8,3.3,1.7,7.2,6.1,8.9,7.2,5.6,3.9,3.3,7.2,6.7,4.4,7.2,5.0,6.7,4.4,8.3,8.9,10.0,8.9,6.7,6.1,8.3,8.9,7.2,6.1,5.6,7.2,6.1,5.0,5.0,6.1,9.4,6.7,3.9,4.4,6.7,9.4,12.8,9.4,9.4,6.7,7.8,7.2,11.7,10.0,8.9,8.9,8.9,8.9,8.9,11.7,10.0,7.8,11.1,12.2,12.8,10.6,9.4,8.9,8.3,6.1,8.9,8.3,8.3,10.0,10.0,12.8,11.1,10.0,9.4,15.0,11.7,10.0,10.0,10.0,11.7,11.7,9.4,9.4,11.1,10.6,8.9,11.7,15.0,13.3,12.2,11.7,10.6,9.4,10.6,11.1,12.8,14.4,12.8,11.1,13.3,13.3,13.9,15.0,13.3,13.3,15.0,14.4,14.4,13.9,13.9,12.2,11.1,12.2,12.8,12.8,13.9,13.3,15.0,13.3,13.9,13.3,12.2,12.8,16.7,17.8,15.6,15.0,15.0,14.4,12.2,13.3,15.0,15.0,13.9,16.7,18.3,16.1,14.4,15.0,15.0,13.3,13.3,13.9,10.0,11.7,12.2,13.3,12.2,13.3,12.8,10.6,10.6,10.0,12.8,11.1,11.7,14.4,13.3,13.3,13.9,11.7,8.9,10.0,11.7,11.1,11.1,9.4,11.7,11.7,11.7,10.0,12.8,11.7,10.0,10.0,11.1,9.4,10.0,12.2,12.2,7.8,8.9,10.0,7.8,8.3,8.9,7.8,7.8,7.8,8.9,8.3,7.2,8.9,12.2,13.3,11.1,8.3,6.1,6.7,9.4,6.1,4.4,3.3,5.6,6.1,6.7,7.2,9.4,10.0,10.0,12.2,11.1,10.6,10.6,11.1,12.8,7.8,6.7,3.9,1.1,1.1,-0.6,1.1,6.1,7.8,5.0,2.8,2.2,6.1,6.1,8.3,7.2,3.9,2.8,6.1,3.9,1.1,1.7,1.7,2.2,7.8,7.8,8.3,7.2,7.2,7.2,4.4,6.1,3.3,3.3,2.8,5.6,5.6,4.4,3.3,1.1,0.6,3.3,1.7,0.6,1.7,0.6,-1.7,3.9,3.3,2.8,2.8,3.3,3.3,3.9,3.3,0.0,-1.1,-2.8,-1.1,-1.7,2.2,4.4,2.8,4.4,5.6,1.7,-0.6,-2.8,-3.9,-4.4,-2.2,-0.6,-3.9,-2.8,-1.1,-0.6,-0.6,-1.7,-1.7,2.2,1.1,2.8,3.9,3.9,3.3,5.0,6.7,7.2,5.0,2.8,2.8,6.7,6.7,6.1,3.3,2.2,4.4,1.7,4.4,7.2,7.2,5.6,5.0,3.9,4.4,3.9,1.7,1.1,3.9,3.9,3.9,5.0,3.3,3.9,4.4,6.7,11.1,5.0,2.2,0.0,6.1,5.0,5.0,2.2,1.1,3.9,6.1,10.0,9.4,9.4,8.9,4.4,3.9,3.9,1.7,4.4,2.2,0.6,1.1,0.6,4.4,6.1,7.2,8.3,7.8,5.6,6.7,8.3,8.9,7.8,10.0,10.0,7.2,5.0,6.1,6.1,8.9,6.7,4.4,3.3,4.4,4.4,3.3,3.9,6.7,9.4,8.3,6.7,5.0,3.9,6.1,6.7,8.3,10.6,9.4,6.7,4.4,3.3,6.7,9.4,11.1,11.7,12.2,11.1,11.1,10.0,9.4,12.2,13.9,9.4,7.8,8.9,12.2,11.7,11.1,10.6,9.4,8.3,7.2,6.7,8.9,10.0,10.6,11.1,11.7,9.4,9.4,11.1,12.2,12.2,11.1,12.2,14.4,12.2,13.3,12.8,11.1,11.7,10.0,11.7,11.7,12.2,10.0,12.8,13.9,13.3,12.8,12.8,12.2,11.7,15.0,13.9,14.4,15.0,16.7,16.1,18.3,17.2,18.3,15.6,16.7,13.9,13.9,13.3,13.9,13.3,15.0,13.9,12.2,13.3,11.1,12.8,14.4,18.3,15.0,13.9,13.3,13.3,12.8,13.3,13.9,14.4,12.8,14.4,12.8,12.2,13.3,13.3,13.3,13.3,15.0,15.6,15.0,15.0,13.9,13.9,14.4,14.4,15.0,14.4,16.1,15.0,15.0,17.2,16.1,17.2,15.6,15.6,16.1,15.0,15.0,16.1,16.7,16.1,16.1,17.2,15.6,18.3,16.1,13.9,15.6,17.2,16.7,16.1,15.6,16.1,17.2,14.4,13.9,15.0,16.1,15.0,15.6,15.6,14.4,15.0,13.9,13.3,10.0,13.3,13.3,13.3,11.1,10.0,9.4,7.2,10.6,11.7,11.1,10.0,8.9,9.4,8.9,5.6,8.3,7.8,11.7,7.8,5.6,8.3,10.6,8.9,6.7,3.9,5.0,8.9,8.9,7.2,7.8,7.8,8.3,7.2,6.1,6.1,7.8,8.3,8.3,7.2,3.3,5.6,10.6,11.7,8.3,4.4,3.9,7.2,7.8,10.0,7.2,5.0,8.3,6.1,8.9,10.6,6.1,7.2,5.0,7.2,9.4,4.4,1.7,-0.5,0.0,1.1,0.6,2.2,2.8,5.6,3.3,5.0,7.2,7.8,1.7,-0.5,-2.1,-4.9,-4.3,-7.1,-6.6,-4.9,0.6,-1.6,-0.5,5.6,6.1,8.3,4.4,4.4,2.2,0.0,0.6,5.6,8.3,6.1,2.8,1.7,0.6,0.0,3.3,1.7,4.4,5.0,3.3,6.1,2.8,0.6,-0.5,-0.5,5.0,7.2,5.6,8.3,7.2,5.6,10.0,7.2,5.6,4.4,2.8,0.6,3.3,2.8,1.7,5.6,2.8,1.1,1.1,0.6,1.7,6.1,7.2,6.1,5.6,2.8,1.1,0.0,-2.1,-5.5,-6.0,-4.9,-0.5,0.0,2.2,5.6,7.2,7.8,6.1,5.0,3.9,4.4,5.0,3.9,5.6,3.9,2.8,3.9,3.3,3.9,5.6,4.4,4.4,4.4,2.8,8.9,7.8,10.6,10.0,8.9,6.7,9.4,6.1,4.4,3.3,5.0,8.3,4.4,4.4,2.8,3.3,3.3,1.7,2.8,1.1,4.4,2.8,6.7,5.6,6.7,7.2,7.2,5.0,2.2,6.7,5.6,6.1,6.1,7.8,8.3,9.4,8.3,6.7,6.7,5.0,7.8,5.6,5.6,7.8,8.9,7.2,5.6,5.6,5.6,7.8,5.0,6.1,6.1,5.6,5.6,6.1,4.4,9.4,9.4,11.1,10.6,8.9,8.9,9.4,8.3,7.2,9.4,7.2,7.2,8.3,9.4,12.8,13.3,12.8,11.7,11.7,10.6,10.0,10.0,10.6,11.7,12.8,11.1,10.6,11.1,10.0,10.0,11.1,8.9,10.0,10.6,11.1,11.1,10.0,10.0,10.6,13.3,12.2,13.3,12.2,11.1,12.2,11.1,11.7,10.0,8.9,10.0,11.1,11.7,10.0,10.6,11.1,13.3,14.4,13.9,14.4,13.9,13.3,12.8,12.8,15.6,14.4,13.9,13.9,13.3,15.0,17.8,15.6,13.9,12.8,15.0,16.7,15.0,15.0,13.9,14.4,13.9,11.7,15.0,14.4,13.3,13.3,13.3,12.8,12.2,13.3,15.0,15.0,15.6,14.4,17.8,15.0,15.6,14.4,16.1,13.9,15.0,13.3,13.3,15.6,13.9,17.8,17.2,15.0,17.2,16.7,15.6,15.0,15.6,15.6,13.9,11.1,13.3,13.9,13.3,14.4,15.6,16.1,14.4,15.0,15.0,13.9,12.8,13.9,12.8,11.1,13.9,15.0,13.3,13.3,13.3,12.2,12.8,12.8,10.0,11.7,12.2,13.9,14.4,15.0,16.1,14.4,12.8,15.0,14.4,14.4,14.4,13.9,11.7,12.2,11.1,12.2,11.1,10.0,8.9,12.2,11.7,13.3,13.9,12.8,11.1,10.0,11.7,11.7,10.0,11.7,11.7,11.1,11.7,13.9,12.8,12.2,11.7,11.7,8.3,8.9,8.3,7.8,6.7,9.4,11.7,11.1,8.3,7.2,7.2,11.1,10.6,10.6,10.6,7.2,3.9,7.8,5.6,1.1,0.0,0.6,-2.1,-1.6,-2.1,-2.1,-0.5,2.2,5.6,8.3,6.7,5.6,4.4,9.4,12.2,11.7,3.3,-4.3,-4.9,-3.2,-3.2,0.0,3.9,6.7,7.8,6.1,8.9,10.6,10.0,8.3,7.2,3.9,1.7,6.7,8.3,6.1,6.7,7.2,6.7,10.0,6.1,5.0,3.9,2.8,1.7,4.4,2.8,0.6,-2.1,-2.7,-3.2,0.0,1.7,3.3,9.4,6.1,5.6,1.7,3.3,6.1,7.2,4.4,2.8,0.6,1.1,5.6,3.3,7.2,6.1,3.3,-0.5,6.1,8.3,11.1,7.2,6.1,8.3,5.0,3.3,1.1,3.3,4.4,5.0,5.6,4.4,8.3,10.0,9.4,8.3,8.3,8.3,5.6,9.4,6.7,6.7,3.9,5.6,4.4,4.4,8.3,7.2,5.6,3.3,0.6,2.2,6.7,7.8,6.7,3.3,1.1,4.4,0.0,-0.5,2.8,3.3,3.9,3.9,4.4,5.0,8.9,9.4,7.8,9.4,6.1,6.1,4.4,7.2,8.3,8.9,8.3,6.1,5.6,6.1,7.2,10.0,8.9,9.4,8.9,10.6,6.1,5.6,5.6,5.0,3.9,2.8,6.7,6.7,6.1,6.1,7.8,5.6,5.6,3.9,2.8,3.3,3.9,6.1,8.3,8.3,7.8,6.7,5.0,6.7,6.1,5.6,4.4,10.6,8.9,7.2,7.8,8.9,7.8,7.8,7.2,7.2,7.2,6.1,8.3,9.4,11.1,10.0,10.6,10.0,9.4,9.4,11.1,10.6,12.2,11.7,10.6,11.7,11.7,11.7,11.1,11.1,11.7,11.7,12.2,12.8,10.0,11.7,11.7,12.8,11.7,11.7,12.8,13.3,15.6,14.4,14.4,11.1,11.1,11.7,9.4,11.7,16.1,11.1,11.1,13.9,13.3,12.8,13.9,12.8,11.7,16.1,15.6,17.8,17.2,18.3,17.2,15.0,17.2,17.8,17.8,15.0,16.7,15.6,13.9,14.4,14.4,16.7,16.7,16.7,16.1,16.1,14.4,15.0,13.9,17.8,17.2,16.7,15.0,13.9,14.4,13.3,14.4,13.9,12.2,13.9,14.4,17.2,17.8,15.6,16.1,17.2,14.4,12.2,15.0,15.6,15.6,15.0,16.1,16.7,16.7,15.6,15.0,13.9,14.4,13.9,15.0,16.1,14.4,14.4,12.2,13.9,12.2,12.2,13.9,14.4,15.6,13.3,12.8,16.1,13.9,11.1,10.6,10.0,8.9,11.7,13.3,13.3,13.9,14.4,15.0,14.4,12.8,10.6,10.0,10.0,12.8,12.8,14.4,12.2,9.4,7.8,8.3,11.1,12.8,10.0,7.2,9.4,8.9,10.0,9.4,10.0,11.1,10.0,9.4,10.0,13.9,13.3,12.2,13.3,10.6,10.6,9.4,10.0,9.4,8.9,11.7,12.8,12.2,10.6,8.3,8.9,7.2,8.9,8.9,10.0,7.8,11.1,12.2,11.7,11.7,8.9,7.2,5.0,3.3,7.8,8.3,9.4,7.8,5.0,3.9,6.1,5.0,9.4,6.1,2.2,1.7,6.7,3.3,2.8,0.6,0.6,1.7,0.0,2.8,0.0,-1.0,-1.6,-2.7,-2.1,-3.8,3.9,4.4,7.8,6.1,6.1,7.2,8.3,10.0,7.8,6.1,4.4,5.6,6.1,1.7,1.1,2.8,3.9,4.4,2.8,4.4,2.8,2.8,2.8,2.2,2.2,0.0,1.7,1.7,0.6,-1.0,-2.1]},{\"axis\":{\"matches\":true},\"label\":\"wind\",\"values\":[4.7,4.5,2.3,4.7,6.1,2.2,2.3,2.0,3.4,3.4,5.1,1.9,1.3,5.3,3.2,5.0,5.6,5.0,1.6,2.3,8.2,4.8,3.6,5.1,5.4,4.8,1.4,2.2,4.5,5.1,3.9,2.7,2.6,5.3,4.3,2.9,5.0,5.3,2.7,2.4,3.0,3.4,1.3,1.4,3.1,1.8,2.1,3.4,8.1,4.7,2.9,7.5,5.9,3.9,3.5,6.4,3.4,3.0,4.2,7.0,3.1,5.1,7.0,5.6,6.2,2.7,2.7,2.5,2.8,3.4,5.8,6.2,5.3,4.7,5.8,5.1,3.8,2.7,3.0,6.4,2.5,2.1,2.8,5.2,2.7,4.3,3.8,5.9,4.4,4.7,3.4,6.8,3.1,3.1,2.1,1.8,2.6,4.3,4.1,2.1,3.2,2.6,2.6,4.0,3.0,2.9,5.8,2.0,3.9,2.6,2.7,2.3,2.6,3.5,2.8,2.6,5.2,4.8,2.5,1.6,8.0,6.4,2.5,3.4,4.6,2.3,2.4,2.2,3.0,3.9,3.0,4.3,3.4,4.2,3.8,4.1,3.5,2.9,3.1,1.5,1.3,4.0,4.8,6.3,3.3,3.1,3.6,3.7,3.4,1.8,1.5,2.7,3.7,3.7,2.9,3.1,3.3,3.4,3.5,3.0,4.7,2.9,1.8,3.9,4.3,2.7,1.7,4.1,6.4,3.8,3.0,3.0,2.1,1.9,2.5,2.0,3.1,3.4,1.8,2.5,1.9,2.4,2.3,2.1,6.0,3.8,3.1,2.1,3.8,2.8,2.0,2.3,2.9,2.7,2.2,2.2,3.8,2.5,2.6,2.9,2.2,4.0,2.3,3.9,3.3,4.3,2.6,2.2,2.8,1.7,2.0,3.0,2.8,2.2,2.5,3.9,3.7,1.9,2.5,2.6,3.1,3.8,2.3,2.5,3.0,2.8,2.8,4.7,2.8,1.8,3.0,2.7,1.9,3.0,2.3,3.8,3.3,3.2,3.4,1.8,3.2,2.4,1.9,2.9,2.1,2.0,3.3,3.1,2.6,4.2,3.1,3.0,5.0,3.9,4.2,5.6,3.6,1.5,1.9,2.3,2.2,1.4,1.9,2.5,2.1,1.1,1.4,1.8,1.7,1.7,1.7,1.1,4.3,3.1,3.0,4.1,7.3,6.5,5.7,5.1,1.3,1.9,1.6,1.4,1.3,4.6,3.9,3.4,4.6,5.5,1.6,2.0,5.3,5.7,2.7,2.6,3.0,2.1,1.5,2.5,5.1,3.8,4.9,2.8,2.7,3.0,1.0,3.6,3.8,4.0,3.5,3.4,3.4,2.0,2.2,3.0,3.0,2.5,2.6,2.4,1.6,5.3,4.9,6.0,4.2,5.5,1.5,2.4,1.2,3.6,3.8,1.5,2.9,4.2,4.6,5.5,6.2,4.4,6.2,5.0,5.1,4.6,2.0,2.1,1.8,4.5,2.0,2.8,1.7,5.1,5.5,9.5,5.3,5.8,3.7,1.7,3.5,2.5,2.8,4.2,4.9,3.2,1.7,1.7,1.8,2.0,2.7,3.2,3.0,2.8,3.1,3.0,7.3,6.3,5.1,2.1,1.9,2.0,1.5,1.3,2.3,1.8,1.0,1.3,1.9,2.1,1.1,0.6,3.1,2.6,2.1,4.5,4.5,3.2,3.9,3.9,4.0,2.9,2.0,2.9,2.6,5.1,4.5,4.1,1.3,1.3,2.0,1.4,5.6,4.1,2.2,2.4,5.6,3.4,1.9,3.4,2.1,6.2,8.1,4.6,5.5,7.1,3.8,1.8,3.8,5.4,4.5,2.8,3.9,2.4,4.1,2.5,2.6,1.3,1.6,1.1,5.7,3.7,3.0,4.3,6.4,6.1,5.9,3.4,7.6,4.9,2.2,2.6,2.1,2.8,1.7,1.6,1.3,2.5,4.4,2.9,3.6,2.2,1.6,3.0,5.6,5.0,3.9,3.1,2.4,6.4,3.8,4.6,5.7,2.3,2.4,2.6,3.3,4.0,4.9,5.8,4.1,4.3,2.8,3.0,1.1,2.2,5.9,5.2,4.2,2.4,3.1,4.0,4.9,6.5,5.3,2.0,3.3,1.9,1.3,1.0,2.6,3.9,5.0,2.4,2.3,2.7,3.7,2.9,2.3,1.8,4.8,3.0,1.9,2.7,2.7,2.2,3.1,2.8,4.0,5.3,2.5,2.5,3.1,2.9,3.4,3.1,2.5,3.2,3.1,3.7,3.2,5.7,4.2,2.6,3.7,2.9,3.4,3.0,3.4,3.7,5.0,1.5,1.7,2.1,3.7,2.8,2.3,1.3,2.2,1.7,2.5,2.3,3.0,3.2,2.2,2.6,2.2,2.9,2.8,2.5,2.6,3.0,2.2,3.1,3.0,4.6,4.1,3.7,2.0,1.9,2.0,2.3,2.4,3.0,2.5,2.3,2.9,2.6,3.4,1.4,2.8,1.8,3.9,2.0,2.4,3.4,2.1,1.4,1.9,2.5,2.1,2.9,2.9,1.9,1.8,2.0,1.0,2.2,3.0,3.1,3.0,4.6,4.3,1.9,4.1,2.7,2.6,1.9,1.4,1.3,3.0,2.9,2.6,2.5,2.1,1.7,2.4,2.5,2.6,2.0,1.5,2.1,3.7,2.4,1.7,2.0,1.4,2.2,4.3,2.3,2.5,1.5,3.0,2.5,5.5,4.5,2.6,3.0,2.2,4.3,6.0,7.1,6.3,4.7,2.4,0.9,1.1,1.6,2.6,6.3,3.0,1.6,1.7,1.0,2.2,1.8,1.6,0.9,2.7,1.7,1.2,1.4,2.4,2.5,1.9,0.4,0.6,1.8,2.7,4.4,5.1,2.2,3.9,2.2,1.4,7.9,2.4,1.6,3.1,1.7,7.2,4.1,1.4,4.4,2.6,2.2,3.8,1.1,6.0,4.6,5.4,3.9,5.1,4.3,3.6,4.6,2.6,0.9,0.5,1.0,1.3,0.7,2.1,3.9,8.8,3.5,5.6,1.6,2.6,4.7,3.1,2.2,1.3,1.5,0.8,2.3,2.9,3.7,3.9,1.0,2.7,2.8,2.1,3.7,2.3,4.0,5.9,1.7,0.8,0.5,2.1,1.3,1.1,2.6,1.7,1.2,3.2,2.6,2.7,3.7,2.6,1.6,4.6,6.3,7.0,8.8,8.1,7.1,1.3,2.5,2.7,2.3,2.2,2.5,2.2,1.5,2.6,5.2,1.9,0.8,1.3,1.3,1.6,3.4,6.4,2.6,0.8,2.5,4.3,4.7,6.6,4.5,4.2,4.6,2.4,4.7,3.8,6.4,6.3,6.4,5.1,7.9,5.5,6.2,6.0,6.9,2.9,3.1,2.6,3.2,4.5,2.5,2.3,5.9,4.7,5.7,5.1,3.9,3.9,6.2,4.2,2.7,4.3,2.2,2.3,1.9,2.5,6.1,3.0,3.8,3.2,1.6,5.1,3.0,3.8,1.8,3.3,2.2,4.4,2.4,2.8,3.9,5.1,5.1,3.8,2.8,4.2,3.9,4.7,4.3,2.6,2.5,4.2,2.9,3.6,2.8,4.4,3.1,2.6,4.0,4.6,4.7,3.8,4.7,2.7,2.5,4.2,5.0,5.3,2.3,3.9,5.8,2.6,2.3,3.9,3.0,4.7,3.4,4.2,3.8,2.6,1.7,3.4,5.6,2.1,1.7,2.7,3.8,3.3,3.0,4.1,3.2,3.2,2.2,2.7,1.7,2.5,4.0,2.4,1.4,4.5,2.5,3.4,4.3,4.5,2.2,2.3,2.4,3.2,2.6,2.4,3.2,3.1,2.1,3.6,2.9,2.7,4.0,5.0,3.2,3.6,2.4,3.0,2.7,3.7,3.4,3.6,2.7,2.5,2.5,2.4,4.1,4.5,4.3,3.2,4.4,3.5,3.6,3.1,3.6,2.2,3.0,4.1,3.5,2.3,2.2,2.2,2.2,2.6,2.8,2.3,2.4,3.7,2.8,5.4,2.8,2.2,1.1,3.3,4.7,2.7,3.6,4.1,3.7,2.8,3.4,4.1,3.3,1.7,2.6,2.6,2.7,2.2,2.4,2.9,4.1,3.4,2.6,3.1,2.7,0.6,1.5,2.2,2.8,3.3,2.4,3.6,1.7,2.9,2.0,2.3,2.0,1.8,1.6,2.3,3.4,2.2,1.9,2.5,4.3,2.7,3.1,6.5,2.9,2.1,2.8,2.3,3.9,5.3,5.9,4.2,1.8,1.2,2.8,2.3,3.1,2.8,4.4,3.0,2.1,2.5,2.7,2.5,3.3,3.2,2.0,3.5,2.6,2.1,2.0,1.0,1.2,1.4,2.5,1.0,1.8,1.0,3.8,3.5,2.1,3.1,2.2,4.7,3.3,3.0,1.9,3.2,3.1,4.7,5.0,4.6,3.2,5.4,5.0,2.4,3.9,3.1,3.2,2.0,1.2,2.9,4.8,3.3,2.1,6.7,2.3,0.8,3.0,3.9,7.7,7.6,4.7,4.5,4.2,4.2,1.9,0.9,1.9,2.1,4.7,4.7,5.1,3.8,4.5,3.9,6.6,5.8,5.3,4.4,2.2,5.7,3.6,1.1,3.1,3.6,2.8,4.2,5.1,6.7,6.4,3.7,1.1,3.5,5.9,4.0,1.6,3.1,4.3,5.5,5.2,1.5,3.8,1.8,2.2,1.2,4.9,1.8,4.3,3.6,3.0,1.2,2.3,1.7,4.5,6.4,1.3,1.6,2.6,0.6,0.5,1.1,1.6,2.7,2.8,3.2,4.5,2.8,6.6,2.8,3.0,1.3,1.3,2.6,3.3,1.4,2.2,2.0,1.8,2.9,0.8,1.9,2.6,4.0,1.9,1.7,4.6,4.5,4.6,3.9,2.5,4.0,1.0,2.1,1.7,2.9,4.8,6.6,4.0,2.6,2.2,0.9,4.5,4.2,1.4,1.5,1.0,1.4,4.0,5.1,2.2,4.8,2.1,1.8,1.3,1.4,2.7,1.7,1.8,2.6,3.1,3.2,2.2,3.8,4.2,3.0,2.6,2.5,1.9,1.9,4.7,2.3,2.8,3.9,4.4,2.2,4.0,5.7,3.0,2.9,4.2,3.2,2.4,3.6,1.7,2.4,3.5,3.9,1.7,2.3,4.6,6.5,3.6,3.6,3.3,2.4,3.1,3.6,3.9,3.6,2.6,3.4,2.3,4.1,5.0,3.0,2.7,2.3,4.3,4.7,2.1,3.7,3.7,2.6,5.2,5.1,2.6,3.0,3.0,2.6,2.8,2.5,3.3,2.8,2.0,2.8,3.0,2.1,3.0,2.6,1.8,2.1,3.7,2.6,2.7,2.7,2.1,1.8,2.1,2.5,2.5,2.2,3.4,5.0,3.0,3.9,4.3,2.6,3.2,3.5,2.7,3.0,3.5,2.3,2.6,3.7,3.5,3.0,3.1,3.0,3.2,4.3,3.4,2.4,2.4,2.6,3.0,4.7,3.9,2.1,2.7,3.4,4.3,3.4,2.6,2.9,2.1,3.2,2.4,1.9,3.4,3.7,3.0,2.2,3.1,3.3,3.2,2.8,3.3,3.4,3.3,3.9,2.4,2.8,1.9,3.8,2.4,2.6,1.9,3.4,3.8,3.5,2.6,3.1,2.0,2.3,2.6,3.5,2.9,3.7,3.6,2.2,2.4,4.4,2.7,2.2,5.2,3.7,3.7,3.0,3.0,2.1,4.2,2.6,2.5,1.8,2.3,3.4,1.7,2.1,2.6,5.8,4.7,5.8,5.0,3.8,2.9,2.9,3.5,2.4,1.5,2.4,3.3,3.6,3.1,2.1,3.0,3.4,2.8,1.9,3.8,2.6,4.3,6.8,2.7,2.0,1.8,2.5,2.6,2.7,3.8,5.1,1.9,1.3,1.3,2.9,4.8,3.7,1.6,2.6,2.2,1.1,2.6,4.7,2.6,2.8,3.2,5.0,3.4,1.3,1.3,2.0,2.6,1.8,1.3,2.7,2.6,2.9,3.4,4.6,1.7,2.8,4.7,6.7,7.2,6.0,2.8,1.4,2.2,2.3,2.7,3.0,1.8,1.3,3.9,4.6,5.1,6.5,4.5,4.1,4.0,8.0,3.8,4.2,4.0,4.7,3.1,1.3,4.5,5.7,4.3,3.0,1.0,0.9,1.7,3.5,5.0,5.9,4.7,4.0,5.9,3.4,6.2,6.3,7.5,2.8,5.6,6.1,1.7,2.9,2.3,6.0,5.1,4.1,6.7,4.3,5.0,7.6,4.3,1.5,2.5,2.9,1.3,2.6,3.4,3.5]}],\"hovertemplate\":\"%{xaxis.title.text}=%{x}<br>%{yaxis.title.text}=%{y}<br>month=%{marker.color}<extra></extra>\",\"legendgroup\":\"\",\"marker\":{\"color\":[1,1,1,1,1,1,1,1,1,1,1,1,1,1,1,1,1,1,1,1,1,1,1,1,1,1,1,1,1,1,1,2,2,2,2,2,2,2,2,2,2,2,2,2,2,2,2,2,2,2,2,2,2,2,2,2,2,2,2,2,3,3,3,3,3,3,3,3,3,3,3,3,3,3,3,3,3,3,3,3,3,3,3,3,3,3,3,3,3,3,3,4,4,4,4,4,4,4,4,4,4,4,4,4,4,4,4,4,4,4,4,4,4,4,4,4,4,4,4,4,4,5,5,5,5,5,5,5,5,5,5,5,5,5,5,5,5,5,5,5,5,5,5,5,5,5,5,5,5,5,5,5,6,6,6,6,6,6,6,6,6,6,6,6,6,6,6,6,6,6,6,6,6,6,6,6,6,6,6,6,6,6,7,7,7,7,7,7,7,7,7,7,7,7,7,7,7,7,7,7,7,7,7,7,7,7,7,7,7,7,7,7,7,8,8,8,8,8,8,8,8,8,8,8,8,8,8,8,8,8,8,8,8,8,8,8,8,8,8,8,8,8,8,8,9,9,9,9,9,9,9,9,9,9,9,9,9,9,9,9,9,9,9,9,9,9,9,9,9,9,9,9,9,9,10,10,10,10,10,10,10,10,10,10,10,10,10,10,10,10,10,10,10,10,10,10,10,10,10,10,10,10,10,10,10,11,11,11,11,11,11,11,11,11,11,11,11,11,11,11,11,11,11,11,11,11,11,11,11,11,11,11,11,11,11,12,12,12,12,12,12,12,12,12,12,12,12,12,12,12,12,12,12,12,12,12,12,12,12,12,12,12,12,12,12,12,1,1,1,1,1,1,1,1,1,1,1,1,1,1,1,1,1,1,1,1,1,1,1,1,1,1,1,1,1,1,1,2,2,2,2,2,2,2,2,2,2,2,2,2,2,2,2,2,2,2,2,2,2,2,2,2,2,2,2,3,3,3,3,3,3,3,3,3,3,3,3,3,3,3,3,3,3,3,3,3,3,3,3,3,3,3,3,3,3,3,4,4,4,4,4,4,4,4,4,4,4,4,4,4,4,4,4,4,4,4,4,4,4,4,4,4,4,4,4,4,5,5,5,5,5,5,5,5,5,5,5,5,5,5,5,5,5,5,5,5,5,5,5,5,5,5,5,5,5,5,5,6,6,6,6,6,6,6,6,6,6,6,6,6,6,6,6,6,6,6,6,6,6,6,6,6,6,6,6,6,6,7,7,7,7,7,7,7,7,7,7,7,7,7,7,7,7,7,7,7,7,7,7,7,7,7,7,7,7,7,7,7,8,8,8,8,8,8,8,8,8,8,8,8,8,8,8,8,8,8,8,8,8,8,8,8,8,8,8,8,8,8,8,9,9,9,9,9,9,9,9,9,9,9,9,9,9,9,9,9,9,9,9,9,9,9,9,9,9,9,9,9,9,10,10,10,10,10,10,10,10,10,10,10,10,10,10,10,10,10,10,10,10,10,10,10,10,10,10,10,10,10,10,10,11,11,11,11,11,11,11,11,11,11,11,11,11,11,11,11,11,11,11,11,11,11,11,11,11,11,11,11,11,11,12,12,12,12,12,12,12,12,12,12,12,12,12,12,12,12,12,12,12,12,12,12,12,12,12,12,12,12,12,12,12,1,1,1,1,1,1,1,1,1,1,1,1,1,1,1,1,1,1,1,1,1,1,1,1,1,1,1,1,1,1,1,2,2,2,2,2,2,2,2,2,2,2,2,2,2,2,2,2,2,2,2,2,2,2,2,2,2,2,2,3,3,3,3,3,3,3,3,3,3,3,3,3,3,3,3,3,3,3,3,3,3,3,3,3,3,3,3,3,3,3,4,4,4,4,4,4,4,4,4,4,4,4,4,4,4,4,4,4,4,4,4,4,4,4,4,4,4,4,4,4,5,5,5,5,5,5,5,5,5,5,5,5,5,5,5,5,5,5,5,5,5,5,5,5,5,5,5,5,5,5,5,6,6,6,6,6,6,6,6,6,6,6,6,6,6,6,6,6,6,6,6,6,6,6,6,6,6,6,6,6,6,7,7,7,7,7,7,7,7,7,7,7,7,7,7,7,7,7,7,7,7,7,7,7,7,7,7,7,7,7,7,7,8,8,8,8,8,8,8,8,8,8,8,8,8,8,8,8,8,8,8,8,8,8,8,8,8,8,8,8,8,8,8,9,9,9,9,9,9,9,9,9,9,9,9,9,9,9,9,9,9,9,9,9,9,9,9,9,9,9,9,9,9,10,10,10,10,10,10,10,10,10,10,10,10,10,10,10,10,10,10,10,10,10,10,10,10,10,10,10,10,10,10,10,11,11,11,11,11,11,11,11,11,11,11,11,11,11,11,11,11,11,11,11,11,11,11,11,11,11,11,11,11,11,12,12,12,12,12,12,12,12,12,12,12,12,12,12,12,12,12,12,12,12,12,12,12,12,12,12,12,12,12,12,12,1,1,1,1,1,1,1,1,1,1,1,1,1,1,1,1,1,1,1,1,1,1,1,1,1,1,1,1,1,1,1,2,2,2,2,2,2,2,2,2,2,2,2,2,2,2,2,2,2,2,2,2,2,2,2,2,2,2,2,3,3,3,3,3,3,3,3,3,3,3,3,3,3,3,3,3,3,3,3,3,3,3,3,3,3,3,3,3,3,3,4,4,4,4,4,4,4,4,4,4,4,4,4,4,4,4,4,4,4,4,4,4,4,4,4,4,4,4,4,4,5,5,5,5,5,5,5,5,5,5,5,5,5,5,5,5,5,5,5,5,5,5,5,5,5,5,5,5,5,5,5,6,6,6,6,6,6,6,6,6,6,6,6,6,6,6,6,6,6,6,6,6,6,6,6,6,6,6,6,6,6,7,7,7,7,7,7,7,7,7,7,7,7,7,7,7,7,7,7,7,7,7,7,7,7,7,7,7,7,7,7,7,8,8,8,8,8,8,8,8,8,8,8,8,8,8,8,8,8,8,8,8,8,8,8,8,8,8,8,8,8,8,8,9,9,9,9,9,9,9,9,9,9,9,9,9,9,9,9,9,9,9,9,9,9,9,9,9,9,9,9,9,9,10,10,10,10,10,10,10,10,10,10,10,10,10,10,10,10,10,10,10,10,10,10,10,10,10,10,10,10,10,10,10,11,11,11,11,11,11,11,11,11,11,11,11,11,11,11,11,11,11,11,11,11,11,11,11,11,11,11,11,11,11,12,12,12,12,12,12,12,12,12,12,12,12,12,12,12,12,12,12,12,12,12,12,12,12,12,12,12,12,12,12,12],\"coloraxis\":\"coloraxis\",\"symbol\":\"circle\"},\"name\":\"\",\"showlegend\":false,\"type\":\"splom\"}],                        {\"template\":{\"data\":{\"bar\":[{\"error_x\":{\"color\":\"#2a3f5f\"},\"error_y\":{\"color\":\"#2a3f5f\"},\"marker\":{\"line\":{\"color\":\"#E5ECF6\",\"width\":0.5},\"pattern\":{\"fillmode\":\"overlay\",\"size\":10,\"solidity\":0.2}},\"type\":\"bar\"}],\"barpolar\":[{\"marker\":{\"line\":{\"color\":\"#E5ECF6\",\"width\":0.5},\"pattern\":{\"fillmode\":\"overlay\",\"size\":10,\"solidity\":0.2}},\"type\":\"barpolar\"}],\"carpet\":[{\"aaxis\":{\"endlinecolor\":\"#2a3f5f\",\"gridcolor\":\"white\",\"linecolor\":\"white\",\"minorgridcolor\":\"white\",\"startlinecolor\":\"#2a3f5f\"},\"baxis\":{\"endlinecolor\":\"#2a3f5f\",\"gridcolor\":\"white\",\"linecolor\":\"white\",\"minorgridcolor\":\"white\",\"startlinecolor\":\"#2a3f5f\"},\"type\":\"carpet\"}],\"choropleth\":[{\"colorbar\":{\"outlinewidth\":0,\"ticks\":\"\"},\"type\":\"choropleth\"}],\"contour\":[{\"colorbar\":{\"outlinewidth\":0,\"ticks\":\"\"},\"colorscale\":[[0.0,\"#0d0887\"],[0.1111111111111111,\"#46039f\"],[0.2222222222222222,\"#7201a8\"],[0.3333333333333333,\"#9c179e\"],[0.4444444444444444,\"#bd3786\"],[0.5555555555555556,\"#d8576b\"],[0.6666666666666666,\"#ed7953\"],[0.7777777777777778,\"#fb9f3a\"],[0.8888888888888888,\"#fdca26\"],[1.0,\"#f0f921\"]],\"type\":\"contour\"}],\"contourcarpet\":[{\"colorbar\":{\"outlinewidth\":0,\"ticks\":\"\"},\"type\":\"contourcarpet\"}],\"heatmap\":[{\"colorbar\":{\"outlinewidth\":0,\"ticks\":\"\"},\"colorscale\":[[0.0,\"#0d0887\"],[0.1111111111111111,\"#46039f\"],[0.2222222222222222,\"#7201a8\"],[0.3333333333333333,\"#9c179e\"],[0.4444444444444444,\"#bd3786\"],[0.5555555555555556,\"#d8576b\"],[0.6666666666666666,\"#ed7953\"],[0.7777777777777778,\"#fb9f3a\"],[0.8888888888888888,\"#fdca26\"],[1.0,\"#f0f921\"]],\"type\":\"heatmap\"}],\"heatmapgl\":[{\"colorbar\":{\"outlinewidth\":0,\"ticks\":\"\"},\"colorscale\":[[0.0,\"#0d0887\"],[0.1111111111111111,\"#46039f\"],[0.2222222222222222,\"#7201a8\"],[0.3333333333333333,\"#9c179e\"],[0.4444444444444444,\"#bd3786\"],[0.5555555555555556,\"#d8576b\"],[0.6666666666666666,\"#ed7953\"],[0.7777777777777778,\"#fb9f3a\"],[0.8888888888888888,\"#fdca26\"],[1.0,\"#f0f921\"]],\"type\":\"heatmapgl\"}],\"histogram\":[{\"marker\":{\"pattern\":{\"fillmode\":\"overlay\",\"size\":10,\"solidity\":0.2}},\"type\":\"histogram\"}],\"histogram2d\":[{\"colorbar\":{\"outlinewidth\":0,\"ticks\":\"\"},\"colorscale\":[[0.0,\"#0d0887\"],[0.1111111111111111,\"#46039f\"],[0.2222222222222222,\"#7201a8\"],[0.3333333333333333,\"#9c179e\"],[0.4444444444444444,\"#bd3786\"],[0.5555555555555556,\"#d8576b\"],[0.6666666666666666,\"#ed7953\"],[0.7777777777777778,\"#fb9f3a\"],[0.8888888888888888,\"#fdca26\"],[1.0,\"#f0f921\"]],\"type\":\"histogram2d\"}],\"histogram2dcontour\":[{\"colorbar\":{\"outlinewidth\":0,\"ticks\":\"\"},\"colorscale\":[[0.0,\"#0d0887\"],[0.1111111111111111,\"#46039f\"],[0.2222222222222222,\"#7201a8\"],[0.3333333333333333,\"#9c179e\"],[0.4444444444444444,\"#bd3786\"],[0.5555555555555556,\"#d8576b\"],[0.6666666666666666,\"#ed7953\"],[0.7777777777777778,\"#fb9f3a\"],[0.8888888888888888,\"#fdca26\"],[1.0,\"#f0f921\"]],\"type\":\"histogram2dcontour\"}],\"mesh3d\":[{\"colorbar\":{\"outlinewidth\":0,\"ticks\":\"\"},\"type\":\"mesh3d\"}],\"parcoords\":[{\"line\":{\"colorbar\":{\"outlinewidth\":0,\"ticks\":\"\"}},\"type\":\"parcoords\"}],\"pie\":[{\"automargin\":true,\"type\":\"pie\"}],\"scatter\":[{\"marker\":{\"colorbar\":{\"outlinewidth\":0,\"ticks\":\"\"}},\"type\":\"scatter\"}],\"scatter3d\":[{\"line\":{\"colorbar\":{\"outlinewidth\":0,\"ticks\":\"\"}},\"marker\":{\"colorbar\":{\"outlinewidth\":0,\"ticks\":\"\"}},\"type\":\"scatter3d\"}],\"scattercarpet\":[{\"marker\":{\"colorbar\":{\"outlinewidth\":0,\"ticks\":\"\"}},\"type\":\"scattercarpet\"}],\"scattergeo\":[{\"marker\":{\"colorbar\":{\"outlinewidth\":0,\"ticks\":\"\"}},\"type\":\"scattergeo\"}],\"scattergl\":[{\"marker\":{\"colorbar\":{\"outlinewidth\":0,\"ticks\":\"\"}},\"type\":\"scattergl\"}],\"scattermapbox\":[{\"marker\":{\"colorbar\":{\"outlinewidth\":0,\"ticks\":\"\"}},\"type\":\"scattermapbox\"}],\"scatterpolar\":[{\"marker\":{\"colorbar\":{\"outlinewidth\":0,\"ticks\":\"\"}},\"type\":\"scatterpolar\"}],\"scatterpolargl\":[{\"marker\":{\"colorbar\":{\"outlinewidth\":0,\"ticks\":\"\"}},\"type\":\"scatterpolargl\"}],\"scatterternary\":[{\"marker\":{\"colorbar\":{\"outlinewidth\":0,\"ticks\":\"\"}},\"type\":\"scatterternary\"}],\"surface\":[{\"colorbar\":{\"outlinewidth\":0,\"ticks\":\"\"},\"colorscale\":[[0.0,\"#0d0887\"],[0.1111111111111111,\"#46039f\"],[0.2222222222222222,\"#7201a8\"],[0.3333333333333333,\"#9c179e\"],[0.4444444444444444,\"#bd3786\"],[0.5555555555555556,\"#d8576b\"],[0.6666666666666666,\"#ed7953\"],[0.7777777777777778,\"#fb9f3a\"],[0.8888888888888888,\"#fdca26\"],[1.0,\"#f0f921\"]],\"type\":\"surface\"}],\"table\":[{\"cells\":{\"fill\":{\"color\":\"#EBF0F8\"},\"line\":{\"color\":\"white\"}},\"header\":{\"fill\":{\"color\":\"#C8D4E3\"},\"line\":{\"color\":\"white\"}},\"type\":\"table\"}]},\"layout\":{\"annotationdefaults\":{\"arrowcolor\":\"#2a3f5f\",\"arrowhead\":0,\"arrowwidth\":1},\"autotypenumbers\":\"strict\",\"coloraxis\":{\"colorbar\":{\"outlinewidth\":0,\"ticks\":\"\"}},\"colorscale\":{\"diverging\":[[0,\"#8e0152\"],[0.1,\"#c51b7d\"],[0.2,\"#de77ae\"],[0.3,\"#f1b6da\"],[0.4,\"#fde0ef\"],[0.5,\"#f7f7f7\"],[0.6,\"#e6f5d0\"],[0.7,\"#b8e186\"],[0.8,\"#7fbc41\"],[0.9,\"#4d9221\"],[1,\"#276419\"]],\"sequential\":[[0.0,\"#0d0887\"],[0.1111111111111111,\"#46039f\"],[0.2222222222222222,\"#7201a8\"],[0.3333333333333333,\"#9c179e\"],[0.4444444444444444,\"#bd3786\"],[0.5555555555555556,\"#d8576b\"],[0.6666666666666666,\"#ed7953\"],[0.7777777777777778,\"#fb9f3a\"],[0.8888888888888888,\"#fdca26\"],[1.0,\"#f0f921\"]],\"sequentialminus\":[[0.0,\"#0d0887\"],[0.1111111111111111,\"#46039f\"],[0.2222222222222222,\"#7201a8\"],[0.3333333333333333,\"#9c179e\"],[0.4444444444444444,\"#bd3786\"],[0.5555555555555556,\"#d8576b\"],[0.6666666666666666,\"#ed7953\"],[0.7777777777777778,\"#fb9f3a\"],[0.8888888888888888,\"#fdca26\"],[1.0,\"#f0f921\"]]},\"colorway\":[\"#636efa\",\"#EF553B\",\"#00cc96\",\"#ab63fa\",\"#FFA15A\",\"#19d3f3\",\"#FF6692\",\"#B6E880\",\"#FF97FF\",\"#FECB52\"],\"font\":{\"color\":\"#2a3f5f\"},\"geo\":{\"bgcolor\":\"white\",\"lakecolor\":\"white\",\"landcolor\":\"#E5ECF6\",\"showlakes\":true,\"showland\":true,\"subunitcolor\":\"white\"},\"hoverlabel\":{\"align\":\"left\"},\"hovermode\":\"closest\",\"mapbox\":{\"style\":\"light\"},\"paper_bgcolor\":\"white\",\"plot_bgcolor\":\"#E5ECF6\",\"polar\":{\"angularaxis\":{\"gridcolor\":\"white\",\"linecolor\":\"white\",\"ticks\":\"\"},\"bgcolor\":\"#E5ECF6\",\"radialaxis\":{\"gridcolor\":\"white\",\"linecolor\":\"white\",\"ticks\":\"\"}},\"scene\":{\"xaxis\":{\"backgroundcolor\":\"#E5ECF6\",\"gridcolor\":\"white\",\"gridwidth\":2,\"linecolor\":\"white\",\"showbackground\":true,\"ticks\":\"\",\"zerolinecolor\":\"white\"},\"yaxis\":{\"backgroundcolor\":\"#E5ECF6\",\"gridcolor\":\"white\",\"gridwidth\":2,\"linecolor\":\"white\",\"showbackground\":true,\"ticks\":\"\",\"zerolinecolor\":\"white\"},\"zaxis\":{\"backgroundcolor\":\"#E5ECF6\",\"gridcolor\":\"white\",\"gridwidth\":2,\"linecolor\":\"white\",\"showbackground\":true,\"ticks\":\"\",\"zerolinecolor\":\"white\"}},\"shapedefaults\":{\"line\":{\"color\":\"#2a3f5f\"}},\"ternary\":{\"aaxis\":{\"gridcolor\":\"white\",\"linecolor\":\"white\",\"ticks\":\"\"},\"baxis\":{\"gridcolor\":\"white\",\"linecolor\":\"white\",\"ticks\":\"\"},\"bgcolor\":\"#E5ECF6\",\"caxis\":{\"gridcolor\":\"white\",\"linecolor\":\"white\",\"ticks\":\"\"}},\"title\":{\"x\":0.05},\"xaxis\":{\"automargin\":true,\"gridcolor\":\"white\",\"linecolor\":\"white\",\"ticks\":\"\",\"title\":{\"standoff\":15},\"zerolinecolor\":\"white\",\"zerolinewidth\":2},\"yaxis\":{\"automargin\":true,\"gridcolor\":\"white\",\"linecolor\":\"white\",\"ticks\":\"\",\"title\":{\"standoff\":15},\"zerolinecolor\":\"white\",\"zerolinewidth\":2}}},\"coloraxis\":{\"colorbar\":{\"title\":{\"text\":\"month\"}},\"colorscale\":[[0.0,\"#0d0887\"],[0.1111111111111111,\"#46039f\"],[0.2222222222222222,\"#7201a8\"],[0.3333333333333333,\"#9c179e\"],[0.4444444444444444,\"#bd3786\"],[0.5555555555555556,\"#d8576b\"],[0.6666666666666666,\"#ed7953\"],[0.7777777777777778,\"#fb9f3a\"],[0.8888888888888888,\"#fdca26\"],[1.0,\"#f0f921\"]]},\"legend\":{\"tracegroupgap\":0},\"margin\":{\"t\":60},\"dragmode\":\"select\"},                        {\"responsive\": true}                    ).then(function(){\n",
              "                            \n",
              "var gd = document.getElementById('de12e55d-c2c1-4e03-8b20-e024f4f1651b');\n",
              "var x = new MutationObserver(function (mutations, observer) {{\n",
              "        var display = window.getComputedStyle(gd).display;\n",
              "        if (!display || display === 'none') {{\n",
              "            console.log([gd, 'removed!']);\n",
              "            Plotly.purge(gd);\n",
              "            observer.disconnect();\n",
              "        }}\n",
              "}});\n",
              "\n",
              "// Listen for the removal of the full notebook cells\n",
              "var notebookContainer = gd.closest('#notebook-container');\n",
              "if (notebookContainer) {{\n",
              "    x.observe(notebookContainer, {childList: true});\n",
              "}}\n",
              "\n",
              "// Listen for the clearing of the current output cell\n",
              "var outputEl = gd.closest('.output');\n",
              "if (outputEl) {{\n",
              "    x.observe(outputEl, {childList: true});\n",
              "}}\n",
              "\n",
              "                        })                };                            </script>        </div>\n",
              "</body>\n",
              "</html>"
            ]
          },
          "metadata": {}
        }
      ]
    },
    {
      "cell_type": "code",
      "source": [
        "# Scatter plot matrix of temperature, precipitation, and wind\n",
        "\n",
        "# Create a scatter plot matrix of temperature, precipitation, and wind\n",
        "fig = px.scatter_matrix(\n",
        "    df, \n",
        "    dimensions=['temp_max', 'precipitation', 'wind'],\n",
        "    title='Relationships Between Temperature, Precipitation, and Wind'\n",
        ")\n",
        "\n",
        "# Show the chart\n",
        "fig.show()"
      ],
      "metadata": {
        "colab": {
          "base_uri": "https://localhost:8080/",
          "height": 562
        },
        "id": "nabKVHbagoJG",
        "outputId": "210a4db0-696d-4ea6-a24a-39b8ecf990e6"
      },
      "execution_count": 470,
      "outputs": [
        {
          "output_type": "display_data",
          "data": {
            "text/html": [
              "<html>\n",
              "<head><meta charset=\"utf-8\" /></head>\n",
              "<body>\n",
              "    <div>            <script src=\"https://cdnjs.cloudflare.com/ajax/libs/mathjax/2.7.5/MathJax.js?config=TeX-AMS-MML_SVG\"></script><script type=\"text/javascript\">if (window.MathJax) {MathJax.Hub.Config({SVG: {font: \"STIX-Web\"}});}</script>                <script type=\"text/javascript\">window.PlotlyConfig = {MathJaxConfig: 'local'};</script>\n",
              "        <script src=\"https://cdn.plot.ly/plotly-2.8.3.min.js\"></script>                <div id=\"42e7de21-66f6-4fd1-841b-cf8991190d39\" class=\"plotly-graph-div\" style=\"height:525px; width:100%;\"></div>            <script type=\"text/javascript\">                                    window.PLOTLYENV=window.PLOTLYENV || {};                                    if (document.getElementById(\"42e7de21-66f6-4fd1-841b-cf8991190d39\")) {                    Plotly.newPlot(                        \"42e7de21-66f6-4fd1-841b-cf8991190d39\",                        [{\"dimensions\":[{\"axis\":{\"matches\":true},\"label\":\"temp_max\",\"values\":[12.8,10.6,11.7,12.2,8.9,4.4,7.2,10.0,9.4,6.1,6.1,6.1,5.0,4.4,1.1,1.7,3.3,0.0,-1.1,7.2,8.3,6.7,8.3,10.0,8.9,8.9,6.7,6.7,9.4,8.3,9.4,8.9,8.3,14.4,15.6,13.9,16.1,15.6,10.0,11.1,12.8,8.9,8.3,7.2,6.7,7.2,7.2,10.0,6.7,6.7,7.8,10.0,10.0,8.3,6.7,7.2,5.0,6.7,6.7,5.0,6.1,6.7,12.2,10.6,7.8,6.7,8.9,15.6,9.4,7.2,6.7,8.3,5.6,7.8,11.1,8.9,10.0,5.0,7.2,7.8,8.9,10.0,12.2,15.0,13.3,12.8,14.4,10.6,10.0,9.4,10.0,8.9,16.7,11.7,10.6,9.4,11.1,16.1,21.1,20.0,17.8,11.1,13.9,15.0,15.6,16.1,13.3,10.0,13.3,13.9,13.3,20.0,23.3,21.7,13.9,16.7,13.9,13.3,16.1,15.6,12.8,11.7,13.3,11.1,12.2,13.3,17.8,23.9,18.3,13.3,14.4,18.3,24.4,25.6,26.7,24.4,19.4,17.8,15.6,19.4,14.4,16.7,12.8,14.4,17.2,22.2,22.2,17.2,16.7,16.1,18.9,17.8,20.0,18.9,17.2,12.8,13.3,16.1,16.1,15.0,17.2,18.9,23.3,18.3,16.1,17.2,22.2,21.1,18.9,17.2,19.4,24.4,23.9,13.9,15.6,19.4,19.4,18.3,22.8,22.2,21.7,20.0,20.0,18.9,18.3,20.6,24.4,25.0,26.7,28.3,25.0,23.9,27.8,25.6,23.3,25.0,18.9,26.1,21.7,21.1,25.0,19.4,23.9,20.6,18.9,23.3,26.7,25.6,18.9,22.2,22.8,19.4,22.8,23.9,23.3,27.2,33.9,33.9,28.3,21.1,22.2,24.4,25.6,28.3,30.6,30.6,28.9,31.1,34.4,32.8,21.7,23.3,25.6,23.3,22.2,21.1,22.2,26.1,21.1,23.9,22.8,22.8,22.8,22.2,21.7,21.1,22.8,24.4,26.1,28.3,32.2,25.0,18.9,20.0,20.0,22.2,27.8,26.1,22.2,24.4,27.8,27.8,23.9,19.4,16.1,19.4,19.4,21.1,19.4,19.4,22.8,25.0,20.6,21.1,23.3,17.8,18.9,18.9,21.7,23.9,23.9,21.1,16.1,12.2,13.9,13.9,15.6,17.8,17.2,16.1,14.4,17.8,15.0,11.1,11.7,7.8,11.1,11.7,11.7,11.1,14.4,14.4,15.6,15.0,15.6,15.0,15.0,15.6,17.8,15.0,12.8,12.2,10.0,8.9,7.8,8.9,12.8,11.1,11.1,9.4,9.4,12.2,10.0,13.3,11.1,8.3,8.9,9.4,8.9,8.3,9.4,10.0,9.4,12.8,15.0,13.3,8.3,9.4,11.7,8.9,7.2,7.8,6.7,6.7,7.2,7.8,6.7,7.2,6.1,4.4,6.7,8.3,3.9,8.3,7.2,8.3,8.3,7.2,5.6,5.6,6.7,7.8,8.3,5.0,4.4,3.3,5.0,6.1,6.7,10.0,6.7,7.2,10.0,11.7,10.0,3.3,2.8,2.8,2.2,3.3,6.7,6.1,3.9,3.3,1.1,3.3,2.2,3.3,7.2,7.2,10.6,8.3,5.6,6.1,8.3,8.9,9.4,11.7,6.1,8.9,10.6,10.0,10.6,9.4,7.8,8.3,8.9,8.3,11.1,9.4,9.4,13.3,11.1,9.4,7.8,10.6,7.8,6.7,7.8,10.0,8.9,10.6,8.9,10.0,11.7,15.0,13.9,11.1,13.3,9.4,7.2,12.2,11.7,12.8,7.8,10.6,12.8,11.7,11.7,14.4,10.6,8.9,11.7,12.8,11.1,10.0,9.4,10.0,12.2,16.7,16.7,13.3,16.1,18.3,20.0,20.6,17.2,13.9,16.7,14.4,13.9,12.2,8.3,13.3,12.2,15.0,12.2,7.8,10.6,12.8,13.9,13.9,15.0,11.7,13.3,13.9,12.2,16.1,17.8,21.1,21.7,20.6,13.9,15.0,13.9,12.8,18.3,20.6,21.7,25.0,28.9,30.6,20.6,19.4,22.8,26.1,27.2,21.7,18.9,18.3,17.2,21.7,17.2,16.7,18.3,19.4,15.6,11.1,12.2,16.7,17.8,18.3,16.7,17.2,16.1,16.7,19.4,22.8,20.6,22.2,26.1,26.7,26.7,21.7,20.6,20.6,21.7,20.0,20.6,21.1,20.0,25.6,23.9,25.6,23.3,20.0,17.2,20.6,25.6,22.2,21.1,23.3,22.2,21.1,30.6,30.0,33.9,31.7,28.3,26.1,21.7,23.3,26.1,23.9,26.7,30.0,22.2,22.8,19.4,26.1,27.8,27.8,31.1,22.2,26.1,27.8,25.0,23.9,26.1,31.1,31.1,31.1,31.1,25.6,21.1,25.0,25.0,21.7,20.6,17.2,25.0,28.9,30.0,30.6,31.1,28.3,28.3,25.6,25.0,25.6,27.8,27.2,21.1,28.9,25.6,26.1,26.7,25.6,27.8,28.9,25.0,25.0,22.2,24.4,26.7,26.7,23.9,26.1,27.8,27.8,27.8,25.0,22.8,20.0,21.7,23.3,26.7,26.1,26.7,33.9,25.6,18.9,21.7,18.9,21.7,17.8,21.1,25.6,23.3,21.1,17.2,16.1,17.8,16.1,17.2,13.9,16.7,14.4,13.9,14.4,12.8,14.4,17.8,20.0,22.8,16.1,13.9,15.0,14.4,13.9,14.4,15.0,15.6,15.6,12.8,14.4,12.8,10.6,10.6,11.7,14.4,12.8,10.0,12.2,11.7,13.9,14.4,13.3,15.0,14.4,17.8,14.4,12.2,10.6,13.3,12.8,11.1,13.3,11.1,11.1,16.1,15.6,13.9,11.1,10.6,10.0,11.7,12.8,13.3,7.8,7.8,9.4,11.1,11.7,12.2,12.2,14.4,11.7,9.4,11.1,13.3,7.8,5.0,4.4,1.1,1.1,0.0,2.2,1.1,5.6,5.0,5.6,9.4,9.4,11.7,10.0,8.3,7.8,5.0,8.3,8.9,10.6,11.7,8.3,6.7,6.7,8.9,9.4,7.2,8.9,8.3,7.2,10.6,8.9,7.8,8.3,7.8,8.3,10.0,9.4,12.8,14.4,11.1,10.6,11.1,11.1,6.7,5.6,9.4,6.1,10.0,10.0,9.4,10.0,12.8,12.2,8.3,9.4,11.1,11.1,8.3,7.8,7.8,8.9,5.0,2.8,-0.5,-1.6,3.3,5.6,3.9,10.0,12.2,12.2,12.8,11.7,11.1,9.4,8.3,8.9,8.3,10.0,6.7,5.6,7.2,6.7,12.2,13.9,12.8,14.4,7.2,11.1,14.4,13.9,15.6,13.3,15.6,12.8,15.0,12.2,14.4,16.1,13.9,14.4,16.7,10.6,10.0,10.0,11.1,11.1,10.6,11.1,12.8,18.9,13.9,11.1,12.2,11.7,11.7,11.1,15.6,14.4,14.4,13.3,12.8,11.7,13.9,21.1,15.6,14.4,15.0,17.2,16.1,20.6,20.0,14.4,11.1,11.7,14.4,11.7,15.6,17.2,12.2,11.7,13.9,14.4,15.0,11.1,16.1,25.0,27.8,29.4,18.3,15.0,14.4,15.6,16.7,18.3,13.9,13.3,15.6,18.9,24.4,26.7,27.8,26.7,20.0,20.0,20.0,21.1,22.2,20.0,24.4,20.0,18.3,15.0,18.3,20.0,18.9,18.9,20.6,23.3,22.2,23.3,18.3,19.4,22.2,25.0,24.4,23.3,21.1,20.0,23.9,21.7,15.6,17.8,18.3,17.8,17.8,18.9,25.6,20.0,22.2,25.0,25.0,24.4,26.1,21.1,21.1,20.0,20.6,25.6,34.4,27.2,21.7,23.9,24.4,28.9,27.2,30.0,26.7,28.9,31.1,32.2,29.4,27.8,31.1,31.1,26.7,23.9,25.6,19.4,23.9,21.1,18.9,20.6,22.8,26.1,28.3,30.6,30.0,29.4,30.6,28.9,29.4,31.7,32.8,25.0,26.1,25.6,25.6,27.2,30.6,35.6,27.2,23.3,21.1,24.4,25.6,27.8,29.4,27.2,21.7,21.1,23.9,27.8,25.0,28.9,31.1,28.9,23.3,22.8,17.8,21.1,23.3,20.0,20.6,23.9,27.8,32.2,28.3,21.1,21.7,22.2,24.4,24.4,28.3,30.0,30.6,22.2,22.8,19.4,23.9,24.4,26.1,22.2,18.9,18.9,21.7,20.0,20.6,18.9,16.7,19.4,18.3,19.4,22.2,21.7,23.9,25.6,18.9,20.6,17.2,18.3,18.3,17.8,21.1,16.7,16.1,20.6,16.7,19.4,22.2,16.1,16.1,15.6,14.4,14.4,16.7,12.8,15.6,15.0,16.7,15.6,12.8,11.1,13.3,13.9,14.4,15.0,16.7,14.4,12.8,13.3,11.1,7.8,6.7,7.2,7.2,8.3,9.4,10.6,7.2,11.1,11.1,11.1,9.4,12.8,11.7,13.9,15.0,14.4,12.8,4.4,2.8,4.4,5.6,10.0,8.3,12.8,11.7,14.4,14.4,16.1,18.9,14.4,11.1,10.0,12.8,12.2,10.0,8.9,9.4,11.1,12.8,12.8,10.6,12.2,7.2,7.8,5.6,9.4,6.7,6.1,3.3,3.3,5.6,5.6,5.0,10.6,12.2,12.2,7.8,7.8,10.0,7.8,9.4,11.1,9.4,6.1,7.8,11.7,13.3,13.9,10.0,10.0,7.2,9.4,12.2,14.4,17.2,16.1,11.1,12.2,12.2,8.3,7.2,9.4,11.1,10.0,10.6,13.3,14.4,12.2,15.0,13.3,12.8,12.8,16.7,15.6,14.4,12.2,15.0,16.1,12.2,10.6,11.1,12.2,11.7,12.8,11.1,10.0,11.7,10.0,12.2,11.1,11.1,10.6,12.8,13.3,15.0,16.7,17.2,14.4,13.3,14.4,17.8,17.2,13.9,10.6,13.9,13.3,15.6,15.6,13.9,13.3,11.7,11.1,12.8,14.4,20.6,18.3,15.6,15.6,17.8,12.8,12.8,13.3,11.1,12.8,16.7,13.9,14.4,17.2,17.2,13.9,11.7,13.3,11.7,11.7,13.9,17.8,18.9,18.9,21.1,22.8,17.2,15.6,12.2,12.2,13.3,15.6,25.0,15.6,16.1,17.2,18.3,18.3,20.6,17.2,14.4,16.7,20.6,23.9,26.7,19.4,13.9,15.6,12.2,17.8,20.0,15.6,19.4,25.6,21.7,23.3,25.6,16.7,16.1,17.8,15.6,21.7,24.4,27.8,26.1,22.8,25.0,16.1,17.8,20.0,22.8,26.7,29.4,31.1,30.6,28.9,25.6,24.4,20.0,23.9,27.8,30.0,22.8,25.0,24.4,23.9,25.0,25.6,25.0,26.1,25.6,30.6,31.7,33.3,28.3,28.9,30.6,32.2,33.9,33.3,33.3,32.8,29.4,27.2,30.0,28.9,21.1,22.2,26.1,25.6,27.8,26.1,26.1,27.8,33.3,35.0,26.7,23.9,23.9,26.1,22.8,21.1,22.2,23.3,27.8,32.2,34.4,34.4,33.3,30.6,28.3,26.1,23.3,25.0,28.3,25.0,28.3,28.9,30.0,28.3,28.3,18.3,21.7,25.0,27.2,30.0,31.7,22.8,22.2,26.7,27.8,23.9,25.6,28.3,29.4,23.3,22.2,20.0,18.9,19.4,19.4,18.3,18.3,20.6,16.1,21.1,22.8,24.4,25.0,27.2,26.7,20.6,16.7,17.8,20.0,18.3,19.4,21.1,22.8,18.3,18.9,20.6,22.2,15.6,18.3,17.8,21.1,21.7,18.3,21.1,15.6,19.4,22.8,23.3,18.3,16.1,18.9,19.4,21.1,17.8,18.3,16.7,15.0,21.1,20.0,19.4,15.0,17.2,17.8,16.1,16.1,12.8,15.0,19.4,12.2,16.1,13.9,15.0,17.2,15.6,12.2,11.1,10.6,10.0,11.7,15.6,12.2,11.1,10.0,11.1,11.1,11.1,13.3,9.4,8.9,8.9,13.3,8.9,8.9,8.3,8.9,10.0,6.7,6.7,7.2,9.4,9.4,7.2,1.7,5.6,10.0,10.6,15.6,10.6,10.0,12.8,11.1,15.6,12.2,11.7,9.4,8.9,7.8,7.8,6.7,6.1,6.7,8.9,8.3,7.8,5.6,7.8,5.0,5.6,5.0,4.4,4.4,5.0,7.2,5.6,5.6]},{\"axis\":{\"matches\":true},\"label\":\"precipitation\",\"values\":[0.0,10.9,0.8,20.3,1.3,2.5,0.0,0.0,4.3,1.0,0.0,0.0,0.0,4.1,5.3,2.5,8.1,19.8,15.2,13.5,3.0,6.1,0.0,8.6,8.1,4.8,0.0,0.0,27.7,3.6,1.8,13.5,0.0,0.0,0.0,0.0,0.0,0.3,2.8,2.5,2.5,0.8,1.0,11.4,2.5,0.0,1.8,17.3,6.4,0.0,3.0,0.8,8.6,0.0,11.4,0.0,1.3,0.0,3.6,0.8,0.0,2.0,0.0,0.0,6.9,0.5,0.0,0.0,3.6,10.4,13.7,19.3,9.4,8.6,23.9,8.4,9.4,3.6,2.0,3.6,1.3,4.1,0.0,0.0,0.0,0.0,4.8,1.3,27.4,5.6,13.2,1.5,0.0,1.5,0.0,4.6,0.3,0.0,0.0,0.0,0.0,2.3,0.5,0.0,0.0,0.0,8.1,1.8,1.8,10.9,6.6,0.0,0.0,0.0,4.3,10.7,3.8,0.8,0.0,4.3,4.3,0.5,0.5,18.5,1.8,0.0,0.0,0.0,0.0,0.0,0.0,0.0,0.0,0.0,0.0,0.0,0.0,0.0,0.0,0.0,6.4,14.0,6.1,0.3,0.0,0.0,0.0,0.0,0.0,0.0,0.3,3.8,6.6,0.3,0.0,1.3,16.0,0.0,16.5,1.5,0.0,0.0,0.0,0.8,0.0,0.0,0.0,0.0,0.0,3.0,1.0,0.0,0.0,15.7,8.6,0.0,0.5,0.0,0.0,0.0,0.3,3.0,0.0,2.0,5.8,0.0,0.0,0.0,0.0,0.0,1.5,0.0,0.0,0.0,0.5,0.0,0.0,0.3,0.0,0.0,0.0,15.2,0.0,1.0,0.0,0.0,0.0,0.0,0.0,0.0,0.0,0.0,0.0,0.0,0.0,0.0,0.0,0.0,0.0,0.0,0.0,0.0,0.0,0.0,0.0,0.0,0.0,0.0,0.0,0.0,0.0,0.0,0.0,0.0,0.0,0.0,0.0,0.0,0.0,0.0,0.0,0.0,0.0,0.0,0.0,0.0,0.0,0.0,0.0,0.0,0.0,0.0,0.3,0.3,0.0,0.0,0.0,0.0,0.0,0.0,0.0,0.0,0.0,0.0,0.0,0.3,0.0,0.0,0.0,0.0,0.0,0.0,0.0,0.0,0.0,0.0,0.0,0.0,0.0,0.0,0.0,0.0,0.0,0.0,0.0,2.0,4.8,16.5,7.9,0.0,0.0,20.8,4.8,0.5,6.4,8.9,0.0,7.1,0.0,1.5,23.1,6.1,10.9,34.5,14.5,9.7,5.6,0.5,8.1,0.8,0.3,0.0,0.0,0.0,0.0,15.2,3.6,5.3,0.8,0.0,5.6,6.1,7.9,54.1,3.8,11.2,0.0,32.0,0.0,0.0,0.0,0.0,2.8,1.5,35.6,4.1,19.6,13.0,14.2,1.5,1.5,1.0,0.0,1.5,0.5,3.0,8.1,2.3,7.9,5.3,22.6,2.0,3.3,13.7,13.2,1.8,3.3,6.6,0.3,13.5,4.6,4.1,0.0,1.5,0.0,0.0,0.0,0.0,4.1,2.5,3.0,2.0,2.3,16.3,38.4,0.3,0.0,0.0,0.0,0.0,0.0,0.0,0.0,0.0,0.0,0.0,0.0,0.0,5.1,5.8,3.0,2.3,1.8,7.9,4.3,3.6,3.0,0.3,0.0,2.3,0.0,3.3,1.0,1.3,0.0,0.3,0.0,0.3,1.0,2.3,1.0,0.0,0.0,0.0,0.0,0.0,1.5,0.5,9.4,0.3,0.0,2.3,0.5,4.6,8.1,4.1,0.8,0.0,0.0,0.0,11.9,7.4,0.0,0.0,0.8,1.3,2.0,2.3,2.8,0.0,4.3,0.0,0.0,11.7,9.9,8.1,0.0,0.0,0.0,0.0,0.0,0.3,2.0,0.0,0.0,0.0,0.0,0.0,0.0,8.4,18.5,12.7,39.1,0.8,0.0,9.4,1.5,9.7,9.4,5.8,0.0,0.3,0.0,5.3,20.6,0.0,3.3,0.0,0.0,0.0,0.0,0.0,0.0,1.0,3.8,0.0,0.0,0.0,0.0,0.0,0.0,0.0,0.0,0.0,0.0,0.0,0.0,6.6,3.3,0.0,1.0,0.0,0.5,0.0,0.0,0.0,13.7,13.7,4.1,0.3,0.0,1.5,9.7,0.5,5.6,0.0,0.0,0.0,1.0,0.0,0.0,0.0,0.0,0.0,0.0,0.0,0.0,0.0,0.3,0.0,0.0,0.0,0.0,0.0,0.3,0.0,3.0,0.3,0.0,7.9,4.8,9.9,2.0,3.6,0.0,0.0,0.0,0.0,0.0,0.0,0.0,0.0,0.0,0.0,0.0,0.0,0.0,0.0,0.0,0.0,0.0,0.0,0.0,0.0,0.0,0.0,0.0,0.0,0.0,0.0,0.0,0.0,0.0,0.0,0.0,0.0,0.0,0.0,0.0,2.0,0.0,0.0,0.0,0.0,0.0,0.0,0.0,2.3,0.0,0.0,0.0,0.8,1.8,0.0,0.0,0.0,0.0,0.0,0.0,0.0,0.0,0.0,0.3,1.0,1.3,5.6,19.3,0.0,0.0,0.0,0.0,2.3,0.3,27.7,21.3,0.0,0.0,0.0,0.0,0.0,0.0,0.0,0.0,3.3,0.3,0.0,0.0,0.0,3.6,0.0,13.5,2.8,0.0,2.0,0.0,1.0,43.4,16.8,18.5,7.9,5.3,0.8,0.0,0.0,4.1,0.5,6.9,0.0,1.0,9.1,1.0,0.0,0.0,0.0,0.0,0.0,0.0,0.0,0.0,0.0,0.0,0.0,0.0,0.0,0.0,1.8,0.0,0.0,0.5,0.3,1.3,12.7,0.5,0.0,2.5,3.8,30.0,0.0,1.8,0.0,0.0,4.1,0.0,1.3,3.0,0.0,5.3,26.2,1.0,0.0,0.0,0.0,0.0,0.0,0.0,0.0,0.0,0.0,0.5,2.3,3.0,4.6,0.0,0.0,0.0,0.0,0.0,0.0,0.0,0.0,0.0,6.9,0.5,0.0,1.3,0.3,0.0,1.3,0.0,5.6,5.6,10.7,1.5,0.0,0.0,0.0,0.3,0.0,0.0,0.3,0.5,0.0,4.1,1.5,0.0,0.0,0.3,12.2,9.7,5.8,4.3,21.3,1.5,0.0,0.0,0.0,0.0,0.0,0.0,0.0,0.0,0.0,0.5,0.0,0.0,0.0,0.0,0.0,8.9,21.6,0.0,2.3,2.0,0.0,0.0,0.0,0.0,0.0,0.0,5.1,0.5,18.3,17.0,4.6,1.8,9.4,11.7,26.4,14.5,15.2,1.0,3.0,2.8,2.5,6.1,13.0,0.3,0.0,0.0,0.0,0.5,19.1,10.7,16.5,46.7,3.0,0.0,32.3,4.3,18.8,0.0,0.0,0.5,6.9,8.1,27.7,0.3,0.0,0.5,0.0,0.0,0.0,0.0,0.0,4.1,3.6,0.3,22.1,14.0,0.0,0.0,0.0,0.0,2.5,0.0,4.6,0.0,0.0,4.6,0.0,0.0,0.0,0.0,0.0,0.0,0.5,10.9,18.5,0.0,13.7,0.0,5.1,14.2,8.9,12.4,0.0,3.3,6.9,0.0,0.0,0.0,0.0,0.0,33.3,16.0,5.1,0.0,0.0,13.7,2.0,0.5,0.0,0.0,0.0,0.0,0.0,0.0,0.0,0.0,0.0,0.0,0.0,0.0,3.8,0.0,5.6,0.0,0.0,0.0,0.0,0.0,0.0,0.0,0.0,0.0,0.0,0.0,0.0,0.0,0.0,0.0,0.0,0.0,1.8,6.4,0.0,0.5,3.6,1.3,0.0,0.8,0.3,0.0,0.0,0.0,0.0,0.0,0.0,1.8,2.3,0.0,0.0,0.0,0.0,0.0,0.0,0.0,0.0,0.0,0.0,0.0,0.0,0.0,0.0,0.0,0.0,0.0,0.0,0.0,0.0,0.0,0.0,0.0,0.3,19.3,0.0,0.0,0.0,0.0,0.0,0.0,0.0,0.0,0.0,0.5,0.0,0.0,0.0,0.0,0.0,0.0,0.0,0.0,0.5,12.7,21.6,0.0,1.0,0.0,0.0,0.0,0.0,0.0,0.0,0.0,0.0,0.0,0.0,0.0,0.0,0.0,0.0,8.4,1.3,0.0,3.0,0.0,0.0,0.0,0.0,0.0,0.0,0.0,0.0,0.0,0.0,0.0,0.0,0.0,0.0,0.5,0.3,0.0,0.0,0.0,0.3,18.3,20.3,4.3,8.9,0.0,0.0,0.8,0.0,0.0,0.0,0.0,0.0,0.0,0.0,0.0,0.0,0.0,0.3,7.4,0.0,7.6,7.1,8.6,0.0,3.3,15.0,0.0,11.7,1.0,32.0,9.4,4.1,6.1,1.5,0.8,12.7,0.5,25.4,17.0,0.0,1.8,10.9,4.1,4.8,4.1,0.0,0.0,5.1,0.0,0.0,0.0,0.0,0.0,0.0,0.0,0.0,0.0,0.0,3.6,15.2,0.5,11.9,1.3,18.3,0.3,3.3,34.3,3.6,0.0,0.0,0.0,0.0,0.8,3.0,7.4,0.0,9.1,9.9,13.0,6.9,0.0,0.0,0.0,0.0,0.0,2.8,13.0,3.0,19.6,0.0,0.0,20.6,5.3,0.0,0.0,3.3,4.1,0.0,0.0,0.0,0.0,1.5,0.0,10.2,8.1,0.0,0.0,0.0,0.3,5.8,1.5,0.0,0.0,0.0,9.7,0.0,26.2,21.3,0.5,0.0,0.0,0.8,5.8,0.5,0.0,0.0,0.8,0.0,0.0,0.0,0.0,1.5,7.4,1.3,8.4,26.2,17.3,23.6,3.6,6.1,0.3,0.0,1.0,0.0,0.3,0.0,0.0,0.0,0.0,4.6,0.8,0.0,0.0,0.0,0.0,4.1,9.4,18.3,0.0,0.0,0.0,0.0,0.0,0.0,0.0,0.0,0.0,0.0,0.8,2.5,0.0,2.0,17.0,55.9,1.0,0.8,0.0,0.0,4.1,3.8,1.0,8.1,7.6,5.1,0.0,1.0,0.0,0.0,1.8,1.0,5.1,0.0,1.5,0.0,0.0,1.0,0.5,0.0,0.0,10.9,0.0,0.0,14.0,3.3,0.0,0.0,0.0,0.0,0.0,0.0,5.6,0.0,3.0,3.3,1.3,0.0,0.3,1.8,0.0,0.0,0.0,0.0,0.0,0.0,6.1,0.0,0.0,0.0,0.0,0.0,0.0,4.3,4.1,0.3,0.0,0.0,0.0,0.0,0.0,0.0,0.0,0.0,0.0,0.0,0.0,0.0,0.0,0.0,0.0,0.0,0.0,4.6,0.5,0.0,0.0,0.0,0.0,0.0,0.0,0.0,0.0,0.0,0.0,0.0,0.0,0.0,0.0,0.0,0.0,0.5,0.0,0.0,0.0,0.0,0.0,0.0,0.0,0.0,0.3,0.0,0.0,0.0,0.0,0.0,0.0,0.0,0.0,0.0,0.0,0.0,0.0,0.0,0.0,0.0,0.0,0.0,0.0,0.0,0.0,0.0,0.0,0.0,0.0,0.0,0.3,0.0,2.0,0.0,0.0,0.0,0.0,0.0,0.0,0.0,0.0,0.0,0.0,0.0,0.0,0.0,0.0,0.0,0.0,7.6,0.0,30.5,0.0,0.0,0.0,0.0,0.0,2.0,0.0,0.0,0.0,0.0,0.0,0.0,0.0,0.5,32.5,10.2,0.0,5.8,0.0,0.0,0.0,0.3,5.3,0.3,0.0,0.0,0.0,0.0,0.0,0.5,0.0,0.0,1.0,1.8,0.0,0.0,4.1,0.0,0.0,0.0,0.0,2.0,0.0,0.0,0.0,0.0,0.0,0.0,0.0,0.0,0.0,0.0,0.0,9.9,0.0,0.3,28.7,0.0,4.6,1.3,0.0,0.0,0.0,0.3,3.8,0.3,0.0,0.0,0.0,0.0,0.0,8.9,6.9,0.0,3.3,1.8,19.3,33.0,26.2,0.3,0.8,0.0,1.3,0.0,12.7,6.6,3.3,1.3,1.5,9.9,33.5,47.2,22.4,2.0,29.5,1.5,2.0,0.0,0.0,0.0,3.0,7.1,0.0,0.0,0.0,0.0,0.0,0.5,12.2,2.5,12.7,2.0,15.7,11.2,27.4,54.1,13.5,9.4,0.3,16.0,1.3,0.0,1.5,3.6,21.8,18.5,0.0,4.3,27.4,4.6,6.1,2.5,5.8,0.0,8.6,1.5,0.0,0.0,0.0]},{\"axis\":{\"matches\":true},\"label\":\"wind\",\"values\":[4.7,4.5,2.3,4.7,6.1,2.2,2.3,2.0,3.4,3.4,5.1,1.9,1.3,5.3,3.2,5.0,5.6,5.0,1.6,2.3,8.2,4.8,3.6,5.1,5.4,4.8,1.4,2.2,4.5,5.1,3.9,2.7,2.6,5.3,4.3,2.9,5.0,5.3,2.7,2.4,3.0,3.4,1.3,1.4,3.1,1.8,2.1,3.4,8.1,4.7,2.9,7.5,5.9,3.9,3.5,6.4,3.4,3.0,4.2,7.0,3.1,5.1,7.0,5.6,6.2,2.7,2.7,2.5,2.8,3.4,5.8,6.2,5.3,4.7,5.8,5.1,3.8,2.7,3.0,6.4,2.5,2.1,2.8,5.2,2.7,4.3,3.8,5.9,4.4,4.7,3.4,6.8,3.1,3.1,2.1,1.8,2.6,4.3,4.1,2.1,3.2,2.6,2.6,4.0,3.0,2.9,5.8,2.0,3.9,2.6,2.7,2.3,2.6,3.5,2.8,2.6,5.2,4.8,2.5,1.6,8.0,6.4,2.5,3.4,4.6,2.3,2.4,2.2,3.0,3.9,3.0,4.3,3.4,4.2,3.8,4.1,3.5,2.9,3.1,1.5,1.3,4.0,4.8,6.3,3.3,3.1,3.6,3.7,3.4,1.8,1.5,2.7,3.7,3.7,2.9,3.1,3.3,3.4,3.5,3.0,4.7,2.9,1.8,3.9,4.3,2.7,1.7,4.1,6.4,3.8,3.0,3.0,2.1,1.9,2.5,2.0,3.1,3.4,1.8,2.5,1.9,2.4,2.3,2.1,6.0,3.8,3.1,2.1,3.8,2.8,2.0,2.3,2.9,2.7,2.2,2.2,3.8,2.5,2.6,2.9,2.2,4.0,2.3,3.9,3.3,4.3,2.6,2.2,2.8,1.7,2.0,3.0,2.8,2.2,2.5,3.9,3.7,1.9,2.5,2.6,3.1,3.8,2.3,2.5,3.0,2.8,2.8,4.7,2.8,1.8,3.0,2.7,1.9,3.0,2.3,3.8,3.3,3.2,3.4,1.8,3.2,2.4,1.9,2.9,2.1,2.0,3.3,3.1,2.6,4.2,3.1,3.0,5.0,3.9,4.2,5.6,3.6,1.5,1.9,2.3,2.2,1.4,1.9,2.5,2.1,1.1,1.4,1.8,1.7,1.7,1.7,1.1,4.3,3.1,3.0,4.1,7.3,6.5,5.7,5.1,1.3,1.9,1.6,1.4,1.3,4.6,3.9,3.4,4.6,5.5,1.6,2.0,5.3,5.7,2.7,2.6,3.0,2.1,1.5,2.5,5.1,3.8,4.9,2.8,2.7,3.0,1.0,3.6,3.8,4.0,3.5,3.4,3.4,2.0,2.2,3.0,3.0,2.5,2.6,2.4,1.6,5.3,4.9,6.0,4.2,5.5,1.5,2.4,1.2,3.6,3.8,1.5,2.9,4.2,4.6,5.5,6.2,4.4,6.2,5.0,5.1,4.6,2.0,2.1,1.8,4.5,2.0,2.8,1.7,5.1,5.5,9.5,5.3,5.8,3.7,1.7,3.5,2.5,2.8,4.2,4.9,3.2,1.7,1.7,1.8,2.0,2.7,3.2,3.0,2.8,3.1,3.0,7.3,6.3,5.1,2.1,1.9,2.0,1.5,1.3,2.3,1.8,1.0,1.3,1.9,2.1,1.1,0.6,3.1,2.6,2.1,4.5,4.5,3.2,3.9,3.9,4.0,2.9,2.0,2.9,2.6,5.1,4.5,4.1,1.3,1.3,2.0,1.4,5.6,4.1,2.2,2.4,5.6,3.4,1.9,3.4,2.1,6.2,8.1,4.6,5.5,7.1,3.8,1.8,3.8,5.4,4.5,2.8,3.9,2.4,4.1,2.5,2.6,1.3,1.6,1.1,5.7,3.7,3.0,4.3,6.4,6.1,5.9,3.4,7.6,4.9,2.2,2.6,2.1,2.8,1.7,1.6,1.3,2.5,4.4,2.9,3.6,2.2,1.6,3.0,5.6,5.0,3.9,3.1,2.4,6.4,3.8,4.6,5.7,2.3,2.4,2.6,3.3,4.0,4.9,5.8,4.1,4.3,2.8,3.0,1.1,2.2,5.9,5.2,4.2,2.4,3.1,4.0,4.9,6.5,5.3,2.0,3.3,1.9,1.3,1.0,2.6,3.9,5.0,2.4,2.3,2.7,3.7,2.9,2.3,1.8,4.8,3.0,1.9,2.7,2.7,2.2,3.1,2.8,4.0,5.3,2.5,2.5,3.1,2.9,3.4,3.1,2.5,3.2,3.1,3.7,3.2,5.7,4.2,2.6,3.7,2.9,3.4,3.0,3.4,3.7,5.0,1.5,1.7,2.1,3.7,2.8,2.3,1.3,2.2,1.7,2.5,2.3,3.0,3.2,2.2,2.6,2.2,2.9,2.8,2.5,2.6,3.0,2.2,3.1,3.0,4.6,4.1,3.7,2.0,1.9,2.0,2.3,2.4,3.0,2.5,2.3,2.9,2.6,3.4,1.4,2.8,1.8,3.9,2.0,2.4,3.4,2.1,1.4,1.9,2.5,2.1,2.9,2.9,1.9,1.8,2.0,1.0,2.2,3.0,3.1,3.0,4.6,4.3,1.9,4.1,2.7,2.6,1.9,1.4,1.3,3.0,2.9,2.6,2.5,2.1,1.7,2.4,2.5,2.6,2.0,1.5,2.1,3.7,2.4,1.7,2.0,1.4,2.2,4.3,2.3,2.5,1.5,3.0,2.5,5.5,4.5,2.6,3.0,2.2,4.3,6.0,7.1,6.3,4.7,2.4,0.9,1.1,1.6,2.6,6.3,3.0,1.6,1.7,1.0,2.2,1.8,1.6,0.9,2.7,1.7,1.2,1.4,2.4,2.5,1.9,0.4,0.6,1.8,2.7,4.4,5.1,2.2,3.9,2.2,1.4,7.9,2.4,1.6,3.1,1.7,7.2,4.1,1.4,4.4,2.6,2.2,3.8,1.1,6.0,4.6,5.4,3.9,5.1,4.3,3.6,4.6,2.6,0.9,0.5,1.0,1.3,0.7,2.1,3.9,8.8,3.5,5.6,1.6,2.6,4.7,3.1,2.2,1.3,1.5,0.8,2.3,2.9,3.7,3.9,1.0,2.7,2.8,2.1,3.7,2.3,4.0,5.9,1.7,0.8,0.5,2.1,1.3,1.1,2.6,1.7,1.2,3.2,2.6,2.7,3.7,2.6,1.6,4.6,6.3,7.0,8.8,8.1,7.1,1.3,2.5,2.7,2.3,2.2,2.5,2.2,1.5,2.6,5.2,1.9,0.8,1.3,1.3,1.6,3.4,6.4,2.6,0.8,2.5,4.3,4.7,6.6,4.5,4.2,4.6,2.4,4.7,3.8,6.4,6.3,6.4,5.1,7.9,5.5,6.2,6.0,6.9,2.9,3.1,2.6,3.2,4.5,2.5,2.3,5.9,4.7,5.7,5.1,3.9,3.9,6.2,4.2,2.7,4.3,2.2,2.3,1.9,2.5,6.1,3.0,3.8,3.2,1.6,5.1,3.0,3.8,1.8,3.3,2.2,4.4,2.4,2.8,3.9,5.1,5.1,3.8,2.8,4.2,3.9,4.7,4.3,2.6,2.5,4.2,2.9,3.6,2.8,4.4,3.1,2.6,4.0,4.6,4.7,3.8,4.7,2.7,2.5,4.2,5.0,5.3,2.3,3.9,5.8,2.6,2.3,3.9,3.0,4.7,3.4,4.2,3.8,2.6,1.7,3.4,5.6,2.1,1.7,2.7,3.8,3.3,3.0,4.1,3.2,3.2,2.2,2.7,1.7,2.5,4.0,2.4,1.4,4.5,2.5,3.4,4.3,4.5,2.2,2.3,2.4,3.2,2.6,2.4,3.2,3.1,2.1,3.6,2.9,2.7,4.0,5.0,3.2,3.6,2.4,3.0,2.7,3.7,3.4,3.6,2.7,2.5,2.5,2.4,4.1,4.5,4.3,3.2,4.4,3.5,3.6,3.1,3.6,2.2,3.0,4.1,3.5,2.3,2.2,2.2,2.2,2.6,2.8,2.3,2.4,3.7,2.8,5.4,2.8,2.2,1.1,3.3,4.7,2.7,3.6,4.1,3.7,2.8,3.4,4.1,3.3,1.7,2.6,2.6,2.7,2.2,2.4,2.9,4.1,3.4,2.6,3.1,2.7,0.6,1.5,2.2,2.8,3.3,2.4,3.6,1.7,2.9,2.0,2.3,2.0,1.8,1.6,2.3,3.4,2.2,1.9,2.5,4.3,2.7,3.1,6.5,2.9,2.1,2.8,2.3,3.9,5.3,5.9,4.2,1.8,1.2,2.8,2.3,3.1,2.8,4.4,3.0,2.1,2.5,2.7,2.5,3.3,3.2,2.0,3.5,2.6,2.1,2.0,1.0,1.2,1.4,2.5,1.0,1.8,1.0,3.8,3.5,2.1,3.1,2.2,4.7,3.3,3.0,1.9,3.2,3.1,4.7,5.0,4.6,3.2,5.4,5.0,2.4,3.9,3.1,3.2,2.0,1.2,2.9,4.8,3.3,2.1,6.7,2.3,0.8,3.0,3.9,7.7,7.6,4.7,4.5,4.2,4.2,1.9,0.9,1.9,2.1,4.7,4.7,5.1,3.8,4.5,3.9,6.6,5.8,5.3,4.4,2.2,5.7,3.6,1.1,3.1,3.6,2.8,4.2,5.1,6.7,6.4,3.7,1.1,3.5,5.9,4.0,1.6,3.1,4.3,5.5,5.2,1.5,3.8,1.8,2.2,1.2,4.9,1.8,4.3,3.6,3.0,1.2,2.3,1.7,4.5,6.4,1.3,1.6,2.6,0.6,0.5,1.1,1.6,2.7,2.8,3.2,4.5,2.8,6.6,2.8,3.0,1.3,1.3,2.6,3.3,1.4,2.2,2.0,1.8,2.9,0.8,1.9,2.6,4.0,1.9,1.7,4.6,4.5,4.6,3.9,2.5,4.0,1.0,2.1,1.7,2.9,4.8,6.6,4.0,2.6,2.2,0.9,4.5,4.2,1.4,1.5,1.0,1.4,4.0,5.1,2.2,4.8,2.1,1.8,1.3,1.4,2.7,1.7,1.8,2.6,3.1,3.2,2.2,3.8,4.2,3.0,2.6,2.5,1.9,1.9,4.7,2.3,2.8,3.9,4.4,2.2,4.0,5.7,3.0,2.9,4.2,3.2,2.4,3.6,1.7,2.4,3.5,3.9,1.7,2.3,4.6,6.5,3.6,3.6,3.3,2.4,3.1,3.6,3.9,3.6,2.6,3.4,2.3,4.1,5.0,3.0,2.7,2.3,4.3,4.7,2.1,3.7,3.7,2.6,5.2,5.1,2.6,3.0,3.0,2.6,2.8,2.5,3.3,2.8,2.0,2.8,3.0,2.1,3.0,2.6,1.8,2.1,3.7,2.6,2.7,2.7,2.1,1.8,2.1,2.5,2.5,2.2,3.4,5.0,3.0,3.9,4.3,2.6,3.2,3.5,2.7,3.0,3.5,2.3,2.6,3.7,3.5,3.0,3.1,3.0,3.2,4.3,3.4,2.4,2.4,2.6,3.0,4.7,3.9,2.1,2.7,3.4,4.3,3.4,2.6,2.9,2.1,3.2,2.4,1.9,3.4,3.7,3.0,2.2,3.1,3.3,3.2,2.8,3.3,3.4,3.3,3.9,2.4,2.8,1.9,3.8,2.4,2.6,1.9,3.4,3.8,3.5,2.6,3.1,2.0,2.3,2.6,3.5,2.9,3.7,3.6,2.2,2.4,4.4,2.7,2.2,5.2,3.7,3.7,3.0,3.0,2.1,4.2,2.6,2.5,1.8,2.3,3.4,1.7,2.1,2.6,5.8,4.7,5.8,5.0,3.8,2.9,2.9,3.5,2.4,1.5,2.4,3.3,3.6,3.1,2.1,3.0,3.4,2.8,1.9,3.8,2.6,4.3,6.8,2.7,2.0,1.8,2.5,2.6,2.7,3.8,5.1,1.9,1.3,1.3,2.9,4.8,3.7,1.6,2.6,2.2,1.1,2.6,4.7,2.6,2.8,3.2,5.0,3.4,1.3,1.3,2.0,2.6,1.8,1.3,2.7,2.6,2.9,3.4,4.6,1.7,2.8,4.7,6.7,7.2,6.0,2.8,1.4,2.2,2.3,2.7,3.0,1.8,1.3,3.9,4.6,5.1,6.5,4.5,4.1,4.0,8.0,3.8,4.2,4.0,4.7,3.1,1.3,4.5,5.7,4.3,3.0,1.0,0.9,1.7,3.5,5.0,5.9,4.7,4.0,5.9,3.4,6.2,6.3,7.5,2.8,5.6,6.1,1.7,2.9,2.3,6.0,5.1,4.1,6.7,4.3,5.0,7.6,4.3,1.5,2.5,2.9,1.3,2.6,3.4,3.5]}],\"hovertemplate\":\"%{xaxis.title.text}=%{x}<br>%{yaxis.title.text}=%{y}<extra></extra>\",\"legendgroup\":\"\",\"marker\":{\"color\":\"#636efa\",\"symbol\":\"circle\"},\"name\":\"\",\"showlegend\":false,\"type\":\"splom\"}],                        {\"template\":{\"data\":{\"bar\":[{\"error_x\":{\"color\":\"#2a3f5f\"},\"error_y\":{\"color\":\"#2a3f5f\"},\"marker\":{\"line\":{\"color\":\"#E5ECF6\",\"width\":0.5},\"pattern\":{\"fillmode\":\"overlay\",\"size\":10,\"solidity\":0.2}},\"type\":\"bar\"}],\"barpolar\":[{\"marker\":{\"line\":{\"color\":\"#E5ECF6\",\"width\":0.5},\"pattern\":{\"fillmode\":\"overlay\",\"size\":10,\"solidity\":0.2}},\"type\":\"barpolar\"}],\"carpet\":[{\"aaxis\":{\"endlinecolor\":\"#2a3f5f\",\"gridcolor\":\"white\",\"linecolor\":\"white\",\"minorgridcolor\":\"white\",\"startlinecolor\":\"#2a3f5f\"},\"baxis\":{\"endlinecolor\":\"#2a3f5f\",\"gridcolor\":\"white\",\"linecolor\":\"white\",\"minorgridcolor\":\"white\",\"startlinecolor\":\"#2a3f5f\"},\"type\":\"carpet\"}],\"choropleth\":[{\"colorbar\":{\"outlinewidth\":0,\"ticks\":\"\"},\"type\":\"choropleth\"}],\"contour\":[{\"colorbar\":{\"outlinewidth\":0,\"ticks\":\"\"},\"colorscale\":[[0.0,\"#0d0887\"],[0.1111111111111111,\"#46039f\"],[0.2222222222222222,\"#7201a8\"],[0.3333333333333333,\"#9c179e\"],[0.4444444444444444,\"#bd3786\"],[0.5555555555555556,\"#d8576b\"],[0.6666666666666666,\"#ed7953\"],[0.7777777777777778,\"#fb9f3a\"],[0.8888888888888888,\"#fdca26\"],[1.0,\"#f0f921\"]],\"type\":\"contour\"}],\"contourcarpet\":[{\"colorbar\":{\"outlinewidth\":0,\"ticks\":\"\"},\"type\":\"contourcarpet\"}],\"heatmap\":[{\"colorbar\":{\"outlinewidth\":0,\"ticks\":\"\"},\"colorscale\":[[0.0,\"#0d0887\"],[0.1111111111111111,\"#46039f\"],[0.2222222222222222,\"#7201a8\"],[0.3333333333333333,\"#9c179e\"],[0.4444444444444444,\"#bd3786\"],[0.5555555555555556,\"#d8576b\"],[0.6666666666666666,\"#ed7953\"],[0.7777777777777778,\"#fb9f3a\"],[0.8888888888888888,\"#fdca26\"],[1.0,\"#f0f921\"]],\"type\":\"heatmap\"}],\"heatmapgl\":[{\"colorbar\":{\"outlinewidth\":0,\"ticks\":\"\"},\"colorscale\":[[0.0,\"#0d0887\"],[0.1111111111111111,\"#46039f\"],[0.2222222222222222,\"#7201a8\"],[0.3333333333333333,\"#9c179e\"],[0.4444444444444444,\"#bd3786\"],[0.5555555555555556,\"#d8576b\"],[0.6666666666666666,\"#ed7953\"],[0.7777777777777778,\"#fb9f3a\"],[0.8888888888888888,\"#fdca26\"],[1.0,\"#f0f921\"]],\"type\":\"heatmapgl\"}],\"histogram\":[{\"marker\":{\"pattern\":{\"fillmode\":\"overlay\",\"size\":10,\"solidity\":0.2}},\"type\":\"histogram\"}],\"histogram2d\":[{\"colorbar\":{\"outlinewidth\":0,\"ticks\":\"\"},\"colorscale\":[[0.0,\"#0d0887\"],[0.1111111111111111,\"#46039f\"],[0.2222222222222222,\"#7201a8\"],[0.3333333333333333,\"#9c179e\"],[0.4444444444444444,\"#bd3786\"],[0.5555555555555556,\"#d8576b\"],[0.6666666666666666,\"#ed7953\"],[0.7777777777777778,\"#fb9f3a\"],[0.8888888888888888,\"#fdca26\"],[1.0,\"#f0f921\"]],\"type\":\"histogram2d\"}],\"histogram2dcontour\":[{\"colorbar\":{\"outlinewidth\":0,\"ticks\":\"\"},\"colorscale\":[[0.0,\"#0d0887\"],[0.1111111111111111,\"#46039f\"],[0.2222222222222222,\"#7201a8\"],[0.3333333333333333,\"#9c179e\"],[0.4444444444444444,\"#bd3786\"],[0.5555555555555556,\"#d8576b\"],[0.6666666666666666,\"#ed7953\"],[0.7777777777777778,\"#fb9f3a\"],[0.8888888888888888,\"#fdca26\"],[1.0,\"#f0f921\"]],\"type\":\"histogram2dcontour\"}],\"mesh3d\":[{\"colorbar\":{\"outlinewidth\":0,\"ticks\":\"\"},\"type\":\"mesh3d\"}],\"parcoords\":[{\"line\":{\"colorbar\":{\"outlinewidth\":0,\"ticks\":\"\"}},\"type\":\"parcoords\"}],\"pie\":[{\"automargin\":true,\"type\":\"pie\"}],\"scatter\":[{\"marker\":{\"colorbar\":{\"outlinewidth\":0,\"ticks\":\"\"}},\"type\":\"scatter\"}],\"scatter3d\":[{\"line\":{\"colorbar\":{\"outlinewidth\":0,\"ticks\":\"\"}},\"marker\":{\"colorbar\":{\"outlinewidth\":0,\"ticks\":\"\"}},\"type\":\"scatter3d\"}],\"scattercarpet\":[{\"marker\":{\"colorbar\":{\"outlinewidth\":0,\"ticks\":\"\"}},\"type\":\"scattercarpet\"}],\"scattergeo\":[{\"marker\":{\"colorbar\":{\"outlinewidth\":0,\"ticks\":\"\"}},\"type\":\"scattergeo\"}],\"scattergl\":[{\"marker\":{\"colorbar\":{\"outlinewidth\":0,\"ticks\":\"\"}},\"type\":\"scattergl\"}],\"scattermapbox\":[{\"marker\":{\"colorbar\":{\"outlinewidth\":0,\"ticks\":\"\"}},\"type\":\"scattermapbox\"}],\"scatterpolar\":[{\"marker\":{\"colorbar\":{\"outlinewidth\":0,\"ticks\":\"\"}},\"type\":\"scatterpolar\"}],\"scatterpolargl\":[{\"marker\":{\"colorbar\":{\"outlinewidth\":0,\"ticks\":\"\"}},\"type\":\"scatterpolargl\"}],\"scatterternary\":[{\"marker\":{\"colorbar\":{\"outlinewidth\":0,\"ticks\":\"\"}},\"type\":\"scatterternary\"}],\"surface\":[{\"colorbar\":{\"outlinewidth\":0,\"ticks\":\"\"},\"colorscale\":[[0.0,\"#0d0887\"],[0.1111111111111111,\"#46039f\"],[0.2222222222222222,\"#7201a8\"],[0.3333333333333333,\"#9c179e\"],[0.4444444444444444,\"#bd3786\"],[0.5555555555555556,\"#d8576b\"],[0.6666666666666666,\"#ed7953\"],[0.7777777777777778,\"#fb9f3a\"],[0.8888888888888888,\"#fdca26\"],[1.0,\"#f0f921\"]],\"type\":\"surface\"}],\"table\":[{\"cells\":{\"fill\":{\"color\":\"#EBF0F8\"},\"line\":{\"color\":\"white\"}},\"header\":{\"fill\":{\"color\":\"#C8D4E3\"},\"line\":{\"color\":\"white\"}},\"type\":\"table\"}]},\"layout\":{\"annotationdefaults\":{\"arrowcolor\":\"#2a3f5f\",\"arrowhead\":0,\"arrowwidth\":1},\"autotypenumbers\":\"strict\",\"coloraxis\":{\"colorbar\":{\"outlinewidth\":0,\"ticks\":\"\"}},\"colorscale\":{\"diverging\":[[0,\"#8e0152\"],[0.1,\"#c51b7d\"],[0.2,\"#de77ae\"],[0.3,\"#f1b6da\"],[0.4,\"#fde0ef\"],[0.5,\"#f7f7f7\"],[0.6,\"#e6f5d0\"],[0.7,\"#b8e186\"],[0.8,\"#7fbc41\"],[0.9,\"#4d9221\"],[1,\"#276419\"]],\"sequential\":[[0.0,\"#0d0887\"],[0.1111111111111111,\"#46039f\"],[0.2222222222222222,\"#7201a8\"],[0.3333333333333333,\"#9c179e\"],[0.4444444444444444,\"#bd3786\"],[0.5555555555555556,\"#d8576b\"],[0.6666666666666666,\"#ed7953\"],[0.7777777777777778,\"#fb9f3a\"],[0.8888888888888888,\"#fdca26\"],[1.0,\"#f0f921\"]],\"sequentialminus\":[[0.0,\"#0d0887\"],[0.1111111111111111,\"#46039f\"],[0.2222222222222222,\"#7201a8\"],[0.3333333333333333,\"#9c179e\"],[0.4444444444444444,\"#bd3786\"],[0.5555555555555556,\"#d8576b\"],[0.6666666666666666,\"#ed7953\"],[0.7777777777777778,\"#fb9f3a\"],[0.8888888888888888,\"#fdca26\"],[1.0,\"#f0f921\"]]},\"colorway\":[\"#636efa\",\"#EF553B\",\"#00cc96\",\"#ab63fa\",\"#FFA15A\",\"#19d3f3\",\"#FF6692\",\"#B6E880\",\"#FF97FF\",\"#FECB52\"],\"font\":{\"color\":\"#2a3f5f\"},\"geo\":{\"bgcolor\":\"white\",\"lakecolor\":\"white\",\"landcolor\":\"#E5ECF6\",\"showlakes\":true,\"showland\":true,\"subunitcolor\":\"white\"},\"hoverlabel\":{\"align\":\"left\"},\"hovermode\":\"closest\",\"mapbox\":{\"style\":\"light\"},\"paper_bgcolor\":\"white\",\"plot_bgcolor\":\"#E5ECF6\",\"polar\":{\"angularaxis\":{\"gridcolor\":\"white\",\"linecolor\":\"white\",\"ticks\":\"\"},\"bgcolor\":\"#E5ECF6\",\"radialaxis\":{\"gridcolor\":\"white\",\"linecolor\":\"white\",\"ticks\":\"\"}},\"scene\":{\"xaxis\":{\"backgroundcolor\":\"#E5ECF6\",\"gridcolor\":\"white\",\"gridwidth\":2,\"linecolor\":\"white\",\"showbackground\":true,\"ticks\":\"\",\"zerolinecolor\":\"white\"},\"yaxis\":{\"backgroundcolor\":\"#E5ECF6\",\"gridcolor\":\"white\",\"gridwidth\":2,\"linecolor\":\"white\",\"showbackground\":true,\"ticks\":\"\",\"zerolinecolor\":\"white\"},\"zaxis\":{\"backgroundcolor\":\"#E5ECF6\",\"gridcolor\":\"white\",\"gridwidth\":2,\"linecolor\":\"white\",\"showbackground\":true,\"ticks\":\"\",\"zerolinecolor\":\"white\"}},\"shapedefaults\":{\"line\":{\"color\":\"#2a3f5f\"}},\"ternary\":{\"aaxis\":{\"gridcolor\":\"white\",\"linecolor\":\"white\",\"ticks\":\"\"},\"baxis\":{\"gridcolor\":\"white\",\"linecolor\":\"white\",\"ticks\":\"\"},\"bgcolor\":\"#E5ECF6\",\"caxis\":{\"gridcolor\":\"white\",\"linecolor\":\"white\",\"ticks\":\"\"}},\"title\":{\"x\":0.05},\"xaxis\":{\"automargin\":true,\"gridcolor\":\"white\",\"linecolor\":\"white\",\"ticks\":\"\",\"title\":{\"standoff\":15},\"zerolinecolor\":\"white\",\"zerolinewidth\":2},\"yaxis\":{\"automargin\":true,\"gridcolor\":\"white\",\"linecolor\":\"white\",\"ticks\":\"\",\"title\":{\"standoff\":15},\"zerolinecolor\":\"white\",\"zerolinewidth\":2}}},\"legend\":{\"tracegroupgap\":0},\"title\":{\"text\":\"Relationships Between Temperature, Precipitation, and Wind\"},\"dragmode\":\"select\"},                        {\"responsive\": true}                    ).then(function(){\n",
              "                            \n",
              "var gd = document.getElementById('42e7de21-66f6-4fd1-841b-cf8991190d39');\n",
              "var x = new MutationObserver(function (mutations, observer) {{\n",
              "        var display = window.getComputedStyle(gd).display;\n",
              "        if (!display || display === 'none') {{\n",
              "            console.log([gd, 'removed!']);\n",
              "            Plotly.purge(gd);\n",
              "            observer.disconnect();\n",
              "        }}\n",
              "}});\n",
              "\n",
              "// Listen for the removal of the full notebook cells\n",
              "var notebookContainer = gd.closest('#notebook-container');\n",
              "if (notebookContainer) {{\n",
              "    x.observe(notebookContainer, {childList: true});\n",
              "}}\n",
              "\n",
              "// Listen for the clearing of the current output cell\n",
              "var outputEl = gd.closest('.output');\n",
              "if (outputEl) {{\n",
              "    x.observe(outputEl, {childList: true});\n",
              "}}\n",
              "\n",
              "                        })                };                            </script>        </div>\n",
              "</body>\n",
              "</html>"
            ]
          },
          "metadata": {}
        }
      ]
    },
    {
      "cell_type": "markdown",
      "source": [
        "3D scatter plot of temperature, precipitation, and wind\n"
      ],
      "metadata": {
        "id": "kTCKTX_UhHIF"
      }
    },
    {
      "cell_type": "code",
      "source": [
        "# 3D scatter plot of temperature, precipitation, and wind\n",
        "\n",
        "# Create a 3D scatter plot of temperature, precipitation, and wind\n",
        "fig = go.Figure(data=[go.Scatter3d(\n",
        "    x=df['temp_max'],\n",
        "    y=df['precipitation'],\n",
        "    z=df['wind'],\n",
        "    mode='markers',\n",
        "    marker=dict(\n",
        "        size=5,\n",
        "        color=df['wind'],\n",
        "        colorscale='Viridis',\n",
        "        opacity=0.8\n",
        "    )\n",
        ")])\n",
        "\n",
        "# Set the axis labels and title\n",
        "fig.update_layout(\n",
        "    scene=dict(\n",
        "        xaxis_title='Maximum Temperature (Celsius)',\n",
        "        yaxis_title='Precipitation (mm)',\n",
        "        zaxis_title='Wind Speed (km/h)'\n",
        "    ),\n",
        "    title='Relationships Between Temperature, Precipitation, and Wind'\n",
        ")\n",
        "\n",
        "# Show the chart\n",
        "fig.show()"
      ],
      "metadata": {
        "colab": {
          "base_uri": "https://localhost:8080/",
          "height": 562
        },
        "id": "6rfLDGkvhJB-",
        "outputId": "e861607b-a2c4-4845-a164-1c9c4550e2f2"
      },
      "execution_count": 471,
      "outputs": [
        {
          "output_type": "display_data",
          "data": {
            "text/html": [
              "<html>\n",
              "<head><meta charset=\"utf-8\" /></head>\n",
              "<body>\n",
              "    <div>            <script src=\"https://cdnjs.cloudflare.com/ajax/libs/mathjax/2.7.5/MathJax.js?config=TeX-AMS-MML_SVG\"></script><script type=\"text/javascript\">if (window.MathJax) {MathJax.Hub.Config({SVG: {font: \"STIX-Web\"}});}</script>                <script type=\"text/javascript\">window.PlotlyConfig = {MathJaxConfig: 'local'};</script>\n",
              "        <script src=\"https://cdn.plot.ly/plotly-2.8.3.min.js\"></script>                <div id=\"dcde275a-e5ae-435a-bad3-c60a5d09e7fd\" class=\"plotly-graph-div\" style=\"height:525px; width:100%;\"></div>            <script type=\"text/javascript\">                                    window.PLOTLYENV=window.PLOTLYENV || {};                                    if (document.getElementById(\"dcde275a-e5ae-435a-bad3-c60a5d09e7fd\")) {                    Plotly.newPlot(                        \"dcde275a-e5ae-435a-bad3-c60a5d09e7fd\",                        [{\"marker\":{\"color\":[4.7,4.5,2.3,4.7,6.1,2.2,2.3,2.0,3.4,3.4,5.1,1.9,1.3,5.3,3.2,5.0,5.6,5.0,1.6,2.3,8.2,4.8,3.6,5.1,5.4,4.8,1.4,2.2,4.5,5.1,3.9,2.7,2.6,5.3,4.3,2.9,5.0,5.3,2.7,2.4,3.0,3.4,1.3,1.4,3.1,1.8,2.1,3.4,8.1,4.7,2.9,7.5,5.9,3.9,3.5,6.4,3.4,3.0,4.2,7.0,3.1,5.1,7.0,5.6,6.2,2.7,2.7,2.5,2.8,3.4,5.8,6.2,5.3,4.7,5.8,5.1,3.8,2.7,3.0,6.4,2.5,2.1,2.8,5.2,2.7,4.3,3.8,5.9,4.4,4.7,3.4,6.8,3.1,3.1,2.1,1.8,2.6,4.3,4.1,2.1,3.2,2.6,2.6,4.0,3.0,2.9,5.8,2.0,3.9,2.6,2.7,2.3,2.6,3.5,2.8,2.6,5.2,4.8,2.5,1.6,8.0,6.4,2.5,3.4,4.6,2.3,2.4,2.2,3.0,3.9,3.0,4.3,3.4,4.2,3.8,4.1,3.5,2.9,3.1,1.5,1.3,4.0,4.8,6.3,3.3,3.1,3.6,3.7,3.4,1.8,1.5,2.7,3.7,3.7,2.9,3.1,3.3,3.4,3.5,3.0,4.7,2.9,1.8,3.9,4.3,2.7,1.7,4.1,6.4,3.8,3.0,3.0,2.1,1.9,2.5,2.0,3.1,3.4,1.8,2.5,1.9,2.4,2.3,2.1,6.0,3.8,3.1,2.1,3.8,2.8,2.0,2.3,2.9,2.7,2.2,2.2,3.8,2.5,2.6,2.9,2.2,4.0,2.3,3.9,3.3,4.3,2.6,2.2,2.8,1.7,2.0,3.0,2.8,2.2,2.5,3.9,3.7,1.9,2.5,2.6,3.1,3.8,2.3,2.5,3.0,2.8,2.8,4.7,2.8,1.8,3.0,2.7,1.9,3.0,2.3,3.8,3.3,3.2,3.4,1.8,3.2,2.4,1.9,2.9,2.1,2.0,3.3,3.1,2.6,4.2,3.1,3.0,5.0,3.9,4.2,5.6,3.6,1.5,1.9,2.3,2.2,1.4,1.9,2.5,2.1,1.1,1.4,1.8,1.7,1.7,1.7,1.1,4.3,3.1,3.0,4.1,7.3,6.5,5.7,5.1,1.3,1.9,1.6,1.4,1.3,4.6,3.9,3.4,4.6,5.5,1.6,2.0,5.3,5.7,2.7,2.6,3.0,2.1,1.5,2.5,5.1,3.8,4.9,2.8,2.7,3.0,1.0,3.6,3.8,4.0,3.5,3.4,3.4,2.0,2.2,3.0,3.0,2.5,2.6,2.4,1.6,5.3,4.9,6.0,4.2,5.5,1.5,2.4,1.2,3.6,3.8,1.5,2.9,4.2,4.6,5.5,6.2,4.4,6.2,5.0,5.1,4.6,2.0,2.1,1.8,4.5,2.0,2.8,1.7,5.1,5.5,9.5,5.3,5.8,3.7,1.7,3.5,2.5,2.8,4.2,4.9,3.2,1.7,1.7,1.8,2.0,2.7,3.2,3.0,2.8,3.1,3.0,7.3,6.3,5.1,2.1,1.9,2.0,1.5,1.3,2.3,1.8,1.0,1.3,1.9,2.1,1.1,0.6,3.1,2.6,2.1,4.5,4.5,3.2,3.9,3.9,4.0,2.9,2.0,2.9,2.6,5.1,4.5,4.1,1.3,1.3,2.0,1.4,5.6,4.1,2.2,2.4,5.6,3.4,1.9,3.4,2.1,6.2,8.1,4.6,5.5,7.1,3.8,1.8,3.8,5.4,4.5,2.8,3.9,2.4,4.1,2.5,2.6,1.3,1.6,1.1,5.7,3.7,3.0,4.3,6.4,6.1,5.9,3.4,7.6,4.9,2.2,2.6,2.1,2.8,1.7,1.6,1.3,2.5,4.4,2.9,3.6,2.2,1.6,3.0,5.6,5.0,3.9,3.1,2.4,6.4,3.8,4.6,5.7,2.3,2.4,2.6,3.3,4.0,4.9,5.8,4.1,4.3,2.8,3.0,1.1,2.2,5.9,5.2,4.2,2.4,3.1,4.0,4.9,6.5,5.3,2.0,3.3,1.9,1.3,1.0,2.6,3.9,5.0,2.4,2.3,2.7,3.7,2.9,2.3,1.8,4.8,3.0,1.9,2.7,2.7,2.2,3.1,2.8,4.0,5.3,2.5,2.5,3.1,2.9,3.4,3.1,2.5,3.2,3.1,3.7,3.2,5.7,4.2,2.6,3.7,2.9,3.4,3.0,3.4,3.7,5.0,1.5,1.7,2.1,3.7,2.8,2.3,1.3,2.2,1.7,2.5,2.3,3.0,3.2,2.2,2.6,2.2,2.9,2.8,2.5,2.6,3.0,2.2,3.1,3.0,4.6,4.1,3.7,2.0,1.9,2.0,2.3,2.4,3.0,2.5,2.3,2.9,2.6,3.4,1.4,2.8,1.8,3.9,2.0,2.4,3.4,2.1,1.4,1.9,2.5,2.1,2.9,2.9,1.9,1.8,2.0,1.0,2.2,3.0,3.1,3.0,4.6,4.3,1.9,4.1,2.7,2.6,1.9,1.4,1.3,3.0,2.9,2.6,2.5,2.1,1.7,2.4,2.5,2.6,2.0,1.5,2.1,3.7,2.4,1.7,2.0,1.4,2.2,4.3,2.3,2.5,1.5,3.0,2.5,5.5,4.5,2.6,3.0,2.2,4.3,6.0,7.1,6.3,4.7,2.4,0.9,1.1,1.6,2.6,6.3,3.0,1.6,1.7,1.0,2.2,1.8,1.6,0.9,2.7,1.7,1.2,1.4,2.4,2.5,1.9,0.4,0.6,1.8,2.7,4.4,5.1,2.2,3.9,2.2,1.4,7.9,2.4,1.6,3.1,1.7,7.2,4.1,1.4,4.4,2.6,2.2,3.8,1.1,6.0,4.6,5.4,3.9,5.1,4.3,3.6,4.6,2.6,0.9,0.5,1.0,1.3,0.7,2.1,3.9,8.8,3.5,5.6,1.6,2.6,4.7,3.1,2.2,1.3,1.5,0.8,2.3,2.9,3.7,3.9,1.0,2.7,2.8,2.1,3.7,2.3,4.0,5.9,1.7,0.8,0.5,2.1,1.3,1.1,2.6,1.7,1.2,3.2,2.6,2.7,3.7,2.6,1.6,4.6,6.3,7.0,8.8,8.1,7.1,1.3,2.5,2.7,2.3,2.2,2.5,2.2,1.5,2.6,5.2,1.9,0.8,1.3,1.3,1.6,3.4,6.4,2.6,0.8,2.5,4.3,4.7,6.6,4.5,4.2,4.6,2.4,4.7,3.8,6.4,6.3,6.4,5.1,7.9,5.5,6.2,6.0,6.9,2.9,3.1,2.6,3.2,4.5,2.5,2.3,5.9,4.7,5.7,5.1,3.9,3.9,6.2,4.2,2.7,4.3,2.2,2.3,1.9,2.5,6.1,3.0,3.8,3.2,1.6,5.1,3.0,3.8,1.8,3.3,2.2,4.4,2.4,2.8,3.9,5.1,5.1,3.8,2.8,4.2,3.9,4.7,4.3,2.6,2.5,4.2,2.9,3.6,2.8,4.4,3.1,2.6,4.0,4.6,4.7,3.8,4.7,2.7,2.5,4.2,5.0,5.3,2.3,3.9,5.8,2.6,2.3,3.9,3.0,4.7,3.4,4.2,3.8,2.6,1.7,3.4,5.6,2.1,1.7,2.7,3.8,3.3,3.0,4.1,3.2,3.2,2.2,2.7,1.7,2.5,4.0,2.4,1.4,4.5,2.5,3.4,4.3,4.5,2.2,2.3,2.4,3.2,2.6,2.4,3.2,3.1,2.1,3.6,2.9,2.7,4.0,5.0,3.2,3.6,2.4,3.0,2.7,3.7,3.4,3.6,2.7,2.5,2.5,2.4,4.1,4.5,4.3,3.2,4.4,3.5,3.6,3.1,3.6,2.2,3.0,4.1,3.5,2.3,2.2,2.2,2.2,2.6,2.8,2.3,2.4,3.7,2.8,5.4,2.8,2.2,1.1,3.3,4.7,2.7,3.6,4.1,3.7,2.8,3.4,4.1,3.3,1.7,2.6,2.6,2.7,2.2,2.4,2.9,4.1,3.4,2.6,3.1,2.7,0.6,1.5,2.2,2.8,3.3,2.4,3.6,1.7,2.9,2.0,2.3,2.0,1.8,1.6,2.3,3.4,2.2,1.9,2.5,4.3,2.7,3.1,6.5,2.9,2.1,2.8,2.3,3.9,5.3,5.9,4.2,1.8,1.2,2.8,2.3,3.1,2.8,4.4,3.0,2.1,2.5,2.7,2.5,3.3,3.2,2.0,3.5,2.6,2.1,2.0,1.0,1.2,1.4,2.5,1.0,1.8,1.0,3.8,3.5,2.1,3.1,2.2,4.7,3.3,3.0,1.9,3.2,3.1,4.7,5.0,4.6,3.2,5.4,5.0,2.4,3.9,3.1,3.2,2.0,1.2,2.9,4.8,3.3,2.1,6.7,2.3,0.8,3.0,3.9,7.7,7.6,4.7,4.5,4.2,4.2,1.9,0.9,1.9,2.1,4.7,4.7,5.1,3.8,4.5,3.9,6.6,5.8,5.3,4.4,2.2,5.7,3.6,1.1,3.1,3.6,2.8,4.2,5.1,6.7,6.4,3.7,1.1,3.5,5.9,4.0,1.6,3.1,4.3,5.5,5.2,1.5,3.8,1.8,2.2,1.2,4.9,1.8,4.3,3.6,3.0,1.2,2.3,1.7,4.5,6.4,1.3,1.6,2.6,0.6,0.5,1.1,1.6,2.7,2.8,3.2,4.5,2.8,6.6,2.8,3.0,1.3,1.3,2.6,3.3,1.4,2.2,2.0,1.8,2.9,0.8,1.9,2.6,4.0,1.9,1.7,4.6,4.5,4.6,3.9,2.5,4.0,1.0,2.1,1.7,2.9,4.8,6.6,4.0,2.6,2.2,0.9,4.5,4.2,1.4,1.5,1.0,1.4,4.0,5.1,2.2,4.8,2.1,1.8,1.3,1.4,2.7,1.7,1.8,2.6,3.1,3.2,2.2,3.8,4.2,3.0,2.6,2.5,1.9,1.9,4.7,2.3,2.8,3.9,4.4,2.2,4.0,5.7,3.0,2.9,4.2,3.2,2.4,3.6,1.7,2.4,3.5,3.9,1.7,2.3,4.6,6.5,3.6,3.6,3.3,2.4,3.1,3.6,3.9,3.6,2.6,3.4,2.3,4.1,5.0,3.0,2.7,2.3,4.3,4.7,2.1,3.7,3.7,2.6,5.2,5.1,2.6,3.0,3.0,2.6,2.8,2.5,3.3,2.8,2.0,2.8,3.0,2.1,3.0,2.6,1.8,2.1,3.7,2.6,2.7,2.7,2.1,1.8,2.1,2.5,2.5,2.2,3.4,5.0,3.0,3.9,4.3,2.6,3.2,3.5,2.7,3.0,3.5,2.3,2.6,3.7,3.5,3.0,3.1,3.0,3.2,4.3,3.4,2.4,2.4,2.6,3.0,4.7,3.9,2.1,2.7,3.4,4.3,3.4,2.6,2.9,2.1,3.2,2.4,1.9,3.4,3.7,3.0,2.2,3.1,3.3,3.2,2.8,3.3,3.4,3.3,3.9,2.4,2.8,1.9,3.8,2.4,2.6,1.9,3.4,3.8,3.5,2.6,3.1,2.0,2.3,2.6,3.5,2.9,3.7,3.6,2.2,2.4,4.4,2.7,2.2,5.2,3.7,3.7,3.0,3.0,2.1,4.2,2.6,2.5,1.8,2.3,3.4,1.7,2.1,2.6,5.8,4.7,5.8,5.0,3.8,2.9,2.9,3.5,2.4,1.5,2.4,3.3,3.6,3.1,2.1,3.0,3.4,2.8,1.9,3.8,2.6,4.3,6.8,2.7,2.0,1.8,2.5,2.6,2.7,3.8,5.1,1.9,1.3,1.3,2.9,4.8,3.7,1.6,2.6,2.2,1.1,2.6,4.7,2.6,2.8,3.2,5.0,3.4,1.3,1.3,2.0,2.6,1.8,1.3,2.7,2.6,2.9,3.4,4.6,1.7,2.8,4.7,6.7,7.2,6.0,2.8,1.4,2.2,2.3,2.7,3.0,1.8,1.3,3.9,4.6,5.1,6.5,4.5,4.1,4.0,8.0,3.8,4.2,4.0,4.7,3.1,1.3,4.5,5.7,4.3,3.0,1.0,0.9,1.7,3.5,5.0,5.9,4.7,4.0,5.9,3.4,6.2,6.3,7.5,2.8,5.6,6.1,1.7,2.9,2.3,6.0,5.1,4.1,6.7,4.3,5.0,7.6,4.3,1.5,2.5,2.9,1.3,2.6,3.4,3.5],\"colorscale\":[[0.0,\"#440154\"],[0.1111111111111111,\"#482878\"],[0.2222222222222222,\"#3e4989\"],[0.3333333333333333,\"#31688e\"],[0.4444444444444444,\"#26828e\"],[0.5555555555555556,\"#1f9e89\"],[0.6666666666666666,\"#35b779\"],[0.7777777777777778,\"#6ece58\"],[0.8888888888888888,\"#b5de2b\"],[1.0,\"#fde725\"]],\"opacity\":0.8,\"size\":5},\"mode\":\"markers\",\"x\":[12.8,10.6,11.7,12.2,8.9,4.4,7.2,10.0,9.4,6.1,6.1,6.1,5.0,4.4,1.1,1.7,3.3,0.0,-1.1,7.2,8.3,6.7,8.3,10.0,8.9,8.9,6.7,6.7,9.4,8.3,9.4,8.9,8.3,14.4,15.6,13.9,16.1,15.6,10.0,11.1,12.8,8.9,8.3,7.2,6.7,7.2,7.2,10.0,6.7,6.7,7.8,10.0,10.0,8.3,6.7,7.2,5.0,6.7,6.7,5.0,6.1,6.7,12.2,10.6,7.8,6.7,8.9,15.6,9.4,7.2,6.7,8.3,5.6,7.8,11.1,8.9,10.0,5.0,7.2,7.8,8.9,10.0,12.2,15.0,13.3,12.8,14.4,10.6,10.0,9.4,10.0,8.9,16.7,11.7,10.6,9.4,11.1,16.1,21.1,20.0,17.8,11.1,13.9,15.0,15.6,16.1,13.3,10.0,13.3,13.9,13.3,20.0,23.3,21.7,13.9,16.7,13.9,13.3,16.1,15.6,12.8,11.7,13.3,11.1,12.2,13.3,17.8,23.9,18.3,13.3,14.4,18.3,24.4,25.6,26.7,24.4,19.4,17.8,15.6,19.4,14.4,16.7,12.8,14.4,17.2,22.2,22.2,17.2,16.7,16.1,18.9,17.8,20.0,18.9,17.2,12.8,13.3,16.1,16.1,15.0,17.2,18.9,23.3,18.3,16.1,17.2,22.2,21.1,18.9,17.2,19.4,24.4,23.9,13.9,15.6,19.4,19.4,18.3,22.8,22.2,21.7,20.0,20.0,18.9,18.3,20.6,24.4,25.0,26.7,28.3,25.0,23.9,27.8,25.6,23.3,25.0,18.9,26.1,21.7,21.1,25.0,19.4,23.9,20.6,18.9,23.3,26.7,25.6,18.9,22.2,22.8,19.4,22.8,23.9,23.3,27.2,33.9,33.9,28.3,21.1,22.2,24.4,25.6,28.3,30.6,30.6,28.9,31.1,34.4,32.8,21.7,23.3,25.6,23.3,22.2,21.1,22.2,26.1,21.1,23.9,22.8,22.8,22.8,22.2,21.7,21.1,22.8,24.4,26.1,28.3,32.2,25.0,18.9,20.0,20.0,22.2,27.8,26.1,22.2,24.4,27.8,27.8,23.9,19.4,16.1,19.4,19.4,21.1,19.4,19.4,22.8,25.0,20.6,21.1,23.3,17.8,18.9,18.9,21.7,23.9,23.9,21.1,16.1,12.2,13.9,13.9,15.6,17.8,17.2,16.1,14.4,17.8,15.0,11.1,11.7,7.8,11.1,11.7,11.7,11.1,14.4,14.4,15.6,15.0,15.6,15.0,15.0,15.6,17.8,15.0,12.8,12.2,10.0,8.9,7.8,8.9,12.8,11.1,11.1,9.4,9.4,12.2,10.0,13.3,11.1,8.3,8.9,9.4,8.9,8.3,9.4,10.0,9.4,12.8,15.0,13.3,8.3,9.4,11.7,8.9,7.2,7.8,6.7,6.7,7.2,7.8,6.7,7.2,6.1,4.4,6.7,8.3,3.9,8.3,7.2,8.3,8.3,7.2,5.6,5.6,6.7,7.8,8.3,5.0,4.4,3.3,5.0,6.1,6.7,10.0,6.7,7.2,10.0,11.7,10.0,3.3,2.8,2.8,2.2,3.3,6.7,6.1,3.9,3.3,1.1,3.3,2.2,3.3,7.2,7.2,10.6,8.3,5.6,6.1,8.3,8.9,9.4,11.7,6.1,8.9,10.6,10.0,10.6,9.4,7.8,8.3,8.9,8.3,11.1,9.4,9.4,13.3,11.1,9.4,7.8,10.6,7.8,6.7,7.8,10.0,8.9,10.6,8.9,10.0,11.7,15.0,13.9,11.1,13.3,9.4,7.2,12.2,11.7,12.8,7.8,10.6,12.8,11.7,11.7,14.4,10.6,8.9,11.7,12.8,11.1,10.0,9.4,10.0,12.2,16.7,16.7,13.3,16.1,18.3,20.0,20.6,17.2,13.9,16.7,14.4,13.9,12.2,8.3,13.3,12.2,15.0,12.2,7.8,10.6,12.8,13.9,13.9,15.0,11.7,13.3,13.9,12.2,16.1,17.8,21.1,21.7,20.6,13.9,15.0,13.9,12.8,18.3,20.6,21.7,25.0,28.9,30.6,20.6,19.4,22.8,26.1,27.2,21.7,18.9,18.3,17.2,21.7,17.2,16.7,18.3,19.4,15.6,11.1,12.2,16.7,17.8,18.3,16.7,17.2,16.1,16.7,19.4,22.8,20.6,22.2,26.1,26.7,26.7,21.7,20.6,20.6,21.7,20.0,20.6,21.1,20.0,25.6,23.9,25.6,23.3,20.0,17.2,20.6,25.6,22.2,21.1,23.3,22.2,21.1,30.6,30.0,33.9,31.7,28.3,26.1,21.7,23.3,26.1,23.9,26.7,30.0,22.2,22.8,19.4,26.1,27.8,27.8,31.1,22.2,26.1,27.8,25.0,23.9,26.1,31.1,31.1,31.1,31.1,25.6,21.1,25.0,25.0,21.7,20.6,17.2,25.0,28.9,30.0,30.6,31.1,28.3,28.3,25.6,25.0,25.6,27.8,27.2,21.1,28.9,25.6,26.1,26.7,25.6,27.8,28.9,25.0,25.0,22.2,24.4,26.7,26.7,23.9,26.1,27.8,27.8,27.8,25.0,22.8,20.0,21.7,23.3,26.7,26.1,26.7,33.9,25.6,18.9,21.7,18.9,21.7,17.8,21.1,25.6,23.3,21.1,17.2,16.1,17.8,16.1,17.2,13.9,16.7,14.4,13.9,14.4,12.8,14.4,17.8,20.0,22.8,16.1,13.9,15.0,14.4,13.9,14.4,15.0,15.6,15.6,12.8,14.4,12.8,10.6,10.6,11.7,14.4,12.8,10.0,12.2,11.7,13.9,14.4,13.3,15.0,14.4,17.8,14.4,12.2,10.6,13.3,12.8,11.1,13.3,11.1,11.1,16.1,15.6,13.9,11.1,10.6,10.0,11.7,12.8,13.3,7.8,7.8,9.4,11.1,11.7,12.2,12.2,14.4,11.7,9.4,11.1,13.3,7.8,5.0,4.4,1.1,1.1,0.0,2.2,1.1,5.6,5.0,5.6,9.4,9.4,11.7,10.0,8.3,7.8,5.0,8.3,8.9,10.6,11.7,8.3,6.7,6.7,8.9,9.4,7.2,8.9,8.3,7.2,10.6,8.9,7.8,8.3,7.8,8.3,10.0,9.4,12.8,14.4,11.1,10.6,11.1,11.1,6.7,5.6,9.4,6.1,10.0,10.0,9.4,10.0,12.8,12.2,8.3,9.4,11.1,11.1,8.3,7.8,7.8,8.9,5.0,2.8,-0.5,-1.6,3.3,5.6,3.9,10.0,12.2,12.2,12.8,11.7,11.1,9.4,8.3,8.9,8.3,10.0,6.7,5.6,7.2,6.7,12.2,13.9,12.8,14.4,7.2,11.1,14.4,13.9,15.6,13.3,15.6,12.8,15.0,12.2,14.4,16.1,13.9,14.4,16.7,10.6,10.0,10.0,11.1,11.1,10.6,11.1,12.8,18.9,13.9,11.1,12.2,11.7,11.7,11.1,15.6,14.4,14.4,13.3,12.8,11.7,13.9,21.1,15.6,14.4,15.0,17.2,16.1,20.6,20.0,14.4,11.1,11.7,14.4,11.7,15.6,17.2,12.2,11.7,13.9,14.4,15.0,11.1,16.1,25.0,27.8,29.4,18.3,15.0,14.4,15.6,16.7,18.3,13.9,13.3,15.6,18.9,24.4,26.7,27.8,26.7,20.0,20.0,20.0,21.1,22.2,20.0,24.4,20.0,18.3,15.0,18.3,20.0,18.9,18.9,20.6,23.3,22.2,23.3,18.3,19.4,22.2,25.0,24.4,23.3,21.1,20.0,23.9,21.7,15.6,17.8,18.3,17.8,17.8,18.9,25.6,20.0,22.2,25.0,25.0,24.4,26.1,21.1,21.1,20.0,20.6,25.6,34.4,27.2,21.7,23.9,24.4,28.9,27.2,30.0,26.7,28.9,31.1,32.2,29.4,27.8,31.1,31.1,26.7,23.9,25.6,19.4,23.9,21.1,18.9,20.6,22.8,26.1,28.3,30.6,30.0,29.4,30.6,28.9,29.4,31.7,32.8,25.0,26.1,25.6,25.6,27.2,30.6,35.6,27.2,23.3,21.1,24.4,25.6,27.8,29.4,27.2,21.7,21.1,23.9,27.8,25.0,28.9,31.1,28.9,23.3,22.8,17.8,21.1,23.3,20.0,20.6,23.9,27.8,32.2,28.3,21.1,21.7,22.2,24.4,24.4,28.3,30.0,30.6,22.2,22.8,19.4,23.9,24.4,26.1,22.2,18.9,18.9,21.7,20.0,20.6,18.9,16.7,19.4,18.3,19.4,22.2,21.7,23.9,25.6,18.9,20.6,17.2,18.3,18.3,17.8,21.1,16.7,16.1,20.6,16.7,19.4,22.2,16.1,16.1,15.6,14.4,14.4,16.7,12.8,15.6,15.0,16.7,15.6,12.8,11.1,13.3,13.9,14.4,15.0,16.7,14.4,12.8,13.3,11.1,7.8,6.7,7.2,7.2,8.3,9.4,10.6,7.2,11.1,11.1,11.1,9.4,12.8,11.7,13.9,15.0,14.4,12.8,4.4,2.8,4.4,5.6,10.0,8.3,12.8,11.7,14.4,14.4,16.1,18.9,14.4,11.1,10.0,12.8,12.2,10.0,8.9,9.4,11.1,12.8,12.8,10.6,12.2,7.2,7.8,5.6,9.4,6.7,6.1,3.3,3.3,5.6,5.6,5.0,10.6,12.2,12.2,7.8,7.8,10.0,7.8,9.4,11.1,9.4,6.1,7.8,11.7,13.3,13.9,10.0,10.0,7.2,9.4,12.2,14.4,17.2,16.1,11.1,12.2,12.2,8.3,7.2,9.4,11.1,10.0,10.6,13.3,14.4,12.2,15.0,13.3,12.8,12.8,16.7,15.6,14.4,12.2,15.0,16.1,12.2,10.6,11.1,12.2,11.7,12.8,11.1,10.0,11.7,10.0,12.2,11.1,11.1,10.6,12.8,13.3,15.0,16.7,17.2,14.4,13.3,14.4,17.8,17.2,13.9,10.6,13.9,13.3,15.6,15.6,13.9,13.3,11.7,11.1,12.8,14.4,20.6,18.3,15.6,15.6,17.8,12.8,12.8,13.3,11.1,12.8,16.7,13.9,14.4,17.2,17.2,13.9,11.7,13.3,11.7,11.7,13.9,17.8,18.9,18.9,21.1,22.8,17.2,15.6,12.2,12.2,13.3,15.6,25.0,15.6,16.1,17.2,18.3,18.3,20.6,17.2,14.4,16.7,20.6,23.9,26.7,19.4,13.9,15.6,12.2,17.8,20.0,15.6,19.4,25.6,21.7,23.3,25.6,16.7,16.1,17.8,15.6,21.7,24.4,27.8,26.1,22.8,25.0,16.1,17.8,20.0,22.8,26.7,29.4,31.1,30.6,28.9,25.6,24.4,20.0,23.9,27.8,30.0,22.8,25.0,24.4,23.9,25.0,25.6,25.0,26.1,25.6,30.6,31.7,33.3,28.3,28.9,30.6,32.2,33.9,33.3,33.3,32.8,29.4,27.2,30.0,28.9,21.1,22.2,26.1,25.6,27.8,26.1,26.1,27.8,33.3,35.0,26.7,23.9,23.9,26.1,22.8,21.1,22.2,23.3,27.8,32.2,34.4,34.4,33.3,30.6,28.3,26.1,23.3,25.0,28.3,25.0,28.3,28.9,30.0,28.3,28.3,18.3,21.7,25.0,27.2,30.0,31.7,22.8,22.2,26.7,27.8,23.9,25.6,28.3,29.4,23.3,22.2,20.0,18.9,19.4,19.4,18.3,18.3,20.6,16.1,21.1,22.8,24.4,25.0,27.2,26.7,20.6,16.7,17.8,20.0,18.3,19.4,21.1,22.8,18.3,18.9,20.6,22.2,15.6,18.3,17.8,21.1,21.7,18.3,21.1,15.6,19.4,22.8,23.3,18.3,16.1,18.9,19.4,21.1,17.8,18.3,16.7,15.0,21.1,20.0,19.4,15.0,17.2,17.8,16.1,16.1,12.8,15.0,19.4,12.2,16.1,13.9,15.0,17.2,15.6,12.2,11.1,10.6,10.0,11.7,15.6,12.2,11.1,10.0,11.1,11.1,11.1,13.3,9.4,8.9,8.9,13.3,8.9,8.9,8.3,8.9,10.0,6.7,6.7,7.2,9.4,9.4,7.2,1.7,5.6,10.0,10.6,15.6,10.6,10.0,12.8,11.1,15.6,12.2,11.7,9.4,8.9,7.8,7.8,6.7,6.1,6.7,8.9,8.3,7.8,5.6,7.8,5.0,5.6,5.0,4.4,4.4,5.0,7.2,5.6,5.6],\"y\":[0.0,10.9,0.8,20.3,1.3,2.5,0.0,0.0,4.3,1.0,0.0,0.0,0.0,4.1,5.3,2.5,8.1,19.8,15.2,13.5,3.0,6.1,0.0,8.6,8.1,4.8,0.0,0.0,27.7,3.6,1.8,13.5,0.0,0.0,0.0,0.0,0.0,0.3,2.8,2.5,2.5,0.8,1.0,11.4,2.5,0.0,1.8,17.3,6.4,0.0,3.0,0.8,8.6,0.0,11.4,0.0,1.3,0.0,3.6,0.8,0.0,2.0,0.0,0.0,6.9,0.5,0.0,0.0,3.6,10.4,13.7,19.3,9.4,8.6,23.9,8.4,9.4,3.6,2.0,3.6,1.3,4.1,0.0,0.0,0.0,0.0,4.8,1.3,27.4,5.6,13.2,1.5,0.0,1.5,0.0,4.6,0.3,0.0,0.0,0.0,0.0,2.3,0.5,0.0,0.0,0.0,8.1,1.8,1.8,10.9,6.6,0.0,0.0,0.0,4.3,10.7,3.8,0.8,0.0,4.3,4.3,0.5,0.5,18.5,1.8,0.0,0.0,0.0,0.0,0.0,0.0,0.0,0.0,0.0,0.0,0.0,0.0,0.0,0.0,0.0,6.4,14.0,6.1,0.3,0.0,0.0,0.0,0.0,0.0,0.0,0.3,3.8,6.6,0.3,0.0,1.3,16.0,0.0,16.5,1.5,0.0,0.0,0.0,0.8,0.0,0.0,0.0,0.0,0.0,3.0,1.0,0.0,0.0,15.7,8.6,0.0,0.5,0.0,0.0,0.0,0.3,3.0,0.0,2.0,5.8,0.0,0.0,0.0,0.0,0.0,1.5,0.0,0.0,0.0,0.5,0.0,0.0,0.3,0.0,0.0,0.0,15.2,0.0,1.0,0.0,0.0,0.0,0.0,0.0,0.0,0.0,0.0,0.0,0.0,0.0,0.0,0.0,0.0,0.0,0.0,0.0,0.0,0.0,0.0,0.0,0.0,0.0,0.0,0.0,0.0,0.0,0.0,0.0,0.0,0.0,0.0,0.0,0.0,0.0,0.0,0.0,0.0,0.0,0.0,0.0,0.0,0.0,0.0,0.0,0.0,0.0,0.0,0.3,0.3,0.0,0.0,0.0,0.0,0.0,0.0,0.0,0.0,0.0,0.0,0.0,0.3,0.0,0.0,0.0,0.0,0.0,0.0,0.0,0.0,0.0,0.0,0.0,0.0,0.0,0.0,0.0,0.0,0.0,0.0,0.0,2.0,4.8,16.5,7.9,0.0,0.0,20.8,4.8,0.5,6.4,8.9,0.0,7.1,0.0,1.5,23.1,6.1,10.9,34.5,14.5,9.7,5.6,0.5,8.1,0.8,0.3,0.0,0.0,0.0,0.0,15.2,3.6,5.3,0.8,0.0,5.6,6.1,7.9,54.1,3.8,11.2,0.0,32.0,0.0,0.0,0.0,0.0,2.8,1.5,35.6,4.1,19.6,13.0,14.2,1.5,1.5,1.0,0.0,1.5,0.5,3.0,8.1,2.3,7.9,5.3,22.6,2.0,3.3,13.7,13.2,1.8,3.3,6.6,0.3,13.5,4.6,4.1,0.0,1.5,0.0,0.0,0.0,0.0,4.1,2.5,3.0,2.0,2.3,16.3,38.4,0.3,0.0,0.0,0.0,0.0,0.0,0.0,0.0,0.0,0.0,0.0,0.0,0.0,5.1,5.8,3.0,2.3,1.8,7.9,4.3,3.6,3.0,0.3,0.0,2.3,0.0,3.3,1.0,1.3,0.0,0.3,0.0,0.3,1.0,2.3,1.0,0.0,0.0,0.0,0.0,0.0,1.5,0.5,9.4,0.3,0.0,2.3,0.5,4.6,8.1,4.1,0.8,0.0,0.0,0.0,11.9,7.4,0.0,0.0,0.8,1.3,2.0,2.3,2.8,0.0,4.3,0.0,0.0,11.7,9.9,8.1,0.0,0.0,0.0,0.0,0.0,0.3,2.0,0.0,0.0,0.0,0.0,0.0,0.0,8.4,18.5,12.7,39.1,0.8,0.0,9.4,1.5,9.7,9.4,5.8,0.0,0.3,0.0,5.3,20.6,0.0,3.3,0.0,0.0,0.0,0.0,0.0,0.0,1.0,3.8,0.0,0.0,0.0,0.0,0.0,0.0,0.0,0.0,0.0,0.0,0.0,0.0,6.6,3.3,0.0,1.0,0.0,0.5,0.0,0.0,0.0,13.7,13.7,4.1,0.3,0.0,1.5,9.7,0.5,5.6,0.0,0.0,0.0,1.0,0.0,0.0,0.0,0.0,0.0,0.0,0.0,0.0,0.0,0.3,0.0,0.0,0.0,0.0,0.0,0.3,0.0,3.0,0.3,0.0,7.9,4.8,9.9,2.0,3.6,0.0,0.0,0.0,0.0,0.0,0.0,0.0,0.0,0.0,0.0,0.0,0.0,0.0,0.0,0.0,0.0,0.0,0.0,0.0,0.0,0.0,0.0,0.0,0.0,0.0,0.0,0.0,0.0,0.0,0.0,0.0,0.0,0.0,0.0,0.0,2.0,0.0,0.0,0.0,0.0,0.0,0.0,0.0,2.3,0.0,0.0,0.0,0.8,1.8,0.0,0.0,0.0,0.0,0.0,0.0,0.0,0.0,0.0,0.3,1.0,1.3,5.6,19.3,0.0,0.0,0.0,0.0,2.3,0.3,27.7,21.3,0.0,0.0,0.0,0.0,0.0,0.0,0.0,0.0,3.3,0.3,0.0,0.0,0.0,3.6,0.0,13.5,2.8,0.0,2.0,0.0,1.0,43.4,16.8,18.5,7.9,5.3,0.8,0.0,0.0,4.1,0.5,6.9,0.0,1.0,9.1,1.0,0.0,0.0,0.0,0.0,0.0,0.0,0.0,0.0,0.0,0.0,0.0,0.0,0.0,0.0,1.8,0.0,0.0,0.5,0.3,1.3,12.7,0.5,0.0,2.5,3.8,30.0,0.0,1.8,0.0,0.0,4.1,0.0,1.3,3.0,0.0,5.3,26.2,1.0,0.0,0.0,0.0,0.0,0.0,0.0,0.0,0.0,0.0,0.5,2.3,3.0,4.6,0.0,0.0,0.0,0.0,0.0,0.0,0.0,0.0,0.0,6.9,0.5,0.0,1.3,0.3,0.0,1.3,0.0,5.6,5.6,10.7,1.5,0.0,0.0,0.0,0.3,0.0,0.0,0.3,0.5,0.0,4.1,1.5,0.0,0.0,0.3,12.2,9.7,5.8,4.3,21.3,1.5,0.0,0.0,0.0,0.0,0.0,0.0,0.0,0.0,0.0,0.5,0.0,0.0,0.0,0.0,0.0,8.9,21.6,0.0,2.3,2.0,0.0,0.0,0.0,0.0,0.0,0.0,5.1,0.5,18.3,17.0,4.6,1.8,9.4,11.7,26.4,14.5,15.2,1.0,3.0,2.8,2.5,6.1,13.0,0.3,0.0,0.0,0.0,0.5,19.1,10.7,16.5,46.7,3.0,0.0,32.3,4.3,18.8,0.0,0.0,0.5,6.9,8.1,27.7,0.3,0.0,0.5,0.0,0.0,0.0,0.0,0.0,4.1,3.6,0.3,22.1,14.0,0.0,0.0,0.0,0.0,2.5,0.0,4.6,0.0,0.0,4.6,0.0,0.0,0.0,0.0,0.0,0.0,0.5,10.9,18.5,0.0,13.7,0.0,5.1,14.2,8.9,12.4,0.0,3.3,6.9,0.0,0.0,0.0,0.0,0.0,33.3,16.0,5.1,0.0,0.0,13.7,2.0,0.5,0.0,0.0,0.0,0.0,0.0,0.0,0.0,0.0,0.0,0.0,0.0,0.0,3.8,0.0,5.6,0.0,0.0,0.0,0.0,0.0,0.0,0.0,0.0,0.0,0.0,0.0,0.0,0.0,0.0,0.0,0.0,0.0,1.8,6.4,0.0,0.5,3.6,1.3,0.0,0.8,0.3,0.0,0.0,0.0,0.0,0.0,0.0,1.8,2.3,0.0,0.0,0.0,0.0,0.0,0.0,0.0,0.0,0.0,0.0,0.0,0.0,0.0,0.0,0.0,0.0,0.0,0.0,0.0,0.0,0.0,0.0,0.0,0.3,19.3,0.0,0.0,0.0,0.0,0.0,0.0,0.0,0.0,0.0,0.5,0.0,0.0,0.0,0.0,0.0,0.0,0.0,0.0,0.5,12.7,21.6,0.0,1.0,0.0,0.0,0.0,0.0,0.0,0.0,0.0,0.0,0.0,0.0,0.0,0.0,0.0,0.0,8.4,1.3,0.0,3.0,0.0,0.0,0.0,0.0,0.0,0.0,0.0,0.0,0.0,0.0,0.0,0.0,0.0,0.0,0.5,0.3,0.0,0.0,0.0,0.3,18.3,20.3,4.3,8.9,0.0,0.0,0.8,0.0,0.0,0.0,0.0,0.0,0.0,0.0,0.0,0.0,0.0,0.3,7.4,0.0,7.6,7.1,8.6,0.0,3.3,15.0,0.0,11.7,1.0,32.0,9.4,4.1,6.1,1.5,0.8,12.7,0.5,25.4,17.0,0.0,1.8,10.9,4.1,4.8,4.1,0.0,0.0,5.1,0.0,0.0,0.0,0.0,0.0,0.0,0.0,0.0,0.0,0.0,3.6,15.2,0.5,11.9,1.3,18.3,0.3,3.3,34.3,3.6,0.0,0.0,0.0,0.0,0.8,3.0,7.4,0.0,9.1,9.9,13.0,6.9,0.0,0.0,0.0,0.0,0.0,2.8,13.0,3.0,19.6,0.0,0.0,20.6,5.3,0.0,0.0,3.3,4.1,0.0,0.0,0.0,0.0,1.5,0.0,10.2,8.1,0.0,0.0,0.0,0.3,5.8,1.5,0.0,0.0,0.0,9.7,0.0,26.2,21.3,0.5,0.0,0.0,0.8,5.8,0.5,0.0,0.0,0.8,0.0,0.0,0.0,0.0,1.5,7.4,1.3,8.4,26.2,17.3,23.6,3.6,6.1,0.3,0.0,1.0,0.0,0.3,0.0,0.0,0.0,0.0,4.6,0.8,0.0,0.0,0.0,0.0,4.1,9.4,18.3,0.0,0.0,0.0,0.0,0.0,0.0,0.0,0.0,0.0,0.0,0.8,2.5,0.0,2.0,17.0,55.9,1.0,0.8,0.0,0.0,4.1,3.8,1.0,8.1,7.6,5.1,0.0,1.0,0.0,0.0,1.8,1.0,5.1,0.0,1.5,0.0,0.0,1.0,0.5,0.0,0.0,10.9,0.0,0.0,14.0,3.3,0.0,0.0,0.0,0.0,0.0,0.0,5.6,0.0,3.0,3.3,1.3,0.0,0.3,1.8,0.0,0.0,0.0,0.0,0.0,0.0,6.1,0.0,0.0,0.0,0.0,0.0,0.0,4.3,4.1,0.3,0.0,0.0,0.0,0.0,0.0,0.0,0.0,0.0,0.0,0.0,0.0,0.0,0.0,0.0,0.0,0.0,0.0,4.6,0.5,0.0,0.0,0.0,0.0,0.0,0.0,0.0,0.0,0.0,0.0,0.0,0.0,0.0,0.0,0.0,0.0,0.5,0.0,0.0,0.0,0.0,0.0,0.0,0.0,0.0,0.3,0.0,0.0,0.0,0.0,0.0,0.0,0.0,0.0,0.0,0.0,0.0,0.0,0.0,0.0,0.0,0.0,0.0,0.0,0.0,0.0,0.0,0.0,0.0,0.0,0.0,0.3,0.0,2.0,0.0,0.0,0.0,0.0,0.0,0.0,0.0,0.0,0.0,0.0,0.0,0.0,0.0,0.0,0.0,0.0,7.6,0.0,30.5,0.0,0.0,0.0,0.0,0.0,2.0,0.0,0.0,0.0,0.0,0.0,0.0,0.0,0.5,32.5,10.2,0.0,5.8,0.0,0.0,0.0,0.3,5.3,0.3,0.0,0.0,0.0,0.0,0.0,0.5,0.0,0.0,1.0,1.8,0.0,0.0,4.1,0.0,0.0,0.0,0.0,2.0,0.0,0.0,0.0,0.0,0.0,0.0,0.0,0.0,0.0,0.0,0.0,9.9,0.0,0.3,28.7,0.0,4.6,1.3,0.0,0.0,0.0,0.3,3.8,0.3,0.0,0.0,0.0,0.0,0.0,8.9,6.9,0.0,3.3,1.8,19.3,33.0,26.2,0.3,0.8,0.0,1.3,0.0,12.7,6.6,3.3,1.3,1.5,9.9,33.5,47.2,22.4,2.0,29.5,1.5,2.0,0.0,0.0,0.0,3.0,7.1,0.0,0.0,0.0,0.0,0.0,0.5,12.2,2.5,12.7,2.0,15.7,11.2,27.4,54.1,13.5,9.4,0.3,16.0,1.3,0.0,1.5,3.6,21.8,18.5,0.0,4.3,27.4,4.6,6.1,2.5,5.8,0.0,8.6,1.5,0.0,0.0,0.0],\"z\":[4.7,4.5,2.3,4.7,6.1,2.2,2.3,2.0,3.4,3.4,5.1,1.9,1.3,5.3,3.2,5.0,5.6,5.0,1.6,2.3,8.2,4.8,3.6,5.1,5.4,4.8,1.4,2.2,4.5,5.1,3.9,2.7,2.6,5.3,4.3,2.9,5.0,5.3,2.7,2.4,3.0,3.4,1.3,1.4,3.1,1.8,2.1,3.4,8.1,4.7,2.9,7.5,5.9,3.9,3.5,6.4,3.4,3.0,4.2,7.0,3.1,5.1,7.0,5.6,6.2,2.7,2.7,2.5,2.8,3.4,5.8,6.2,5.3,4.7,5.8,5.1,3.8,2.7,3.0,6.4,2.5,2.1,2.8,5.2,2.7,4.3,3.8,5.9,4.4,4.7,3.4,6.8,3.1,3.1,2.1,1.8,2.6,4.3,4.1,2.1,3.2,2.6,2.6,4.0,3.0,2.9,5.8,2.0,3.9,2.6,2.7,2.3,2.6,3.5,2.8,2.6,5.2,4.8,2.5,1.6,8.0,6.4,2.5,3.4,4.6,2.3,2.4,2.2,3.0,3.9,3.0,4.3,3.4,4.2,3.8,4.1,3.5,2.9,3.1,1.5,1.3,4.0,4.8,6.3,3.3,3.1,3.6,3.7,3.4,1.8,1.5,2.7,3.7,3.7,2.9,3.1,3.3,3.4,3.5,3.0,4.7,2.9,1.8,3.9,4.3,2.7,1.7,4.1,6.4,3.8,3.0,3.0,2.1,1.9,2.5,2.0,3.1,3.4,1.8,2.5,1.9,2.4,2.3,2.1,6.0,3.8,3.1,2.1,3.8,2.8,2.0,2.3,2.9,2.7,2.2,2.2,3.8,2.5,2.6,2.9,2.2,4.0,2.3,3.9,3.3,4.3,2.6,2.2,2.8,1.7,2.0,3.0,2.8,2.2,2.5,3.9,3.7,1.9,2.5,2.6,3.1,3.8,2.3,2.5,3.0,2.8,2.8,4.7,2.8,1.8,3.0,2.7,1.9,3.0,2.3,3.8,3.3,3.2,3.4,1.8,3.2,2.4,1.9,2.9,2.1,2.0,3.3,3.1,2.6,4.2,3.1,3.0,5.0,3.9,4.2,5.6,3.6,1.5,1.9,2.3,2.2,1.4,1.9,2.5,2.1,1.1,1.4,1.8,1.7,1.7,1.7,1.1,4.3,3.1,3.0,4.1,7.3,6.5,5.7,5.1,1.3,1.9,1.6,1.4,1.3,4.6,3.9,3.4,4.6,5.5,1.6,2.0,5.3,5.7,2.7,2.6,3.0,2.1,1.5,2.5,5.1,3.8,4.9,2.8,2.7,3.0,1.0,3.6,3.8,4.0,3.5,3.4,3.4,2.0,2.2,3.0,3.0,2.5,2.6,2.4,1.6,5.3,4.9,6.0,4.2,5.5,1.5,2.4,1.2,3.6,3.8,1.5,2.9,4.2,4.6,5.5,6.2,4.4,6.2,5.0,5.1,4.6,2.0,2.1,1.8,4.5,2.0,2.8,1.7,5.1,5.5,9.5,5.3,5.8,3.7,1.7,3.5,2.5,2.8,4.2,4.9,3.2,1.7,1.7,1.8,2.0,2.7,3.2,3.0,2.8,3.1,3.0,7.3,6.3,5.1,2.1,1.9,2.0,1.5,1.3,2.3,1.8,1.0,1.3,1.9,2.1,1.1,0.6,3.1,2.6,2.1,4.5,4.5,3.2,3.9,3.9,4.0,2.9,2.0,2.9,2.6,5.1,4.5,4.1,1.3,1.3,2.0,1.4,5.6,4.1,2.2,2.4,5.6,3.4,1.9,3.4,2.1,6.2,8.1,4.6,5.5,7.1,3.8,1.8,3.8,5.4,4.5,2.8,3.9,2.4,4.1,2.5,2.6,1.3,1.6,1.1,5.7,3.7,3.0,4.3,6.4,6.1,5.9,3.4,7.6,4.9,2.2,2.6,2.1,2.8,1.7,1.6,1.3,2.5,4.4,2.9,3.6,2.2,1.6,3.0,5.6,5.0,3.9,3.1,2.4,6.4,3.8,4.6,5.7,2.3,2.4,2.6,3.3,4.0,4.9,5.8,4.1,4.3,2.8,3.0,1.1,2.2,5.9,5.2,4.2,2.4,3.1,4.0,4.9,6.5,5.3,2.0,3.3,1.9,1.3,1.0,2.6,3.9,5.0,2.4,2.3,2.7,3.7,2.9,2.3,1.8,4.8,3.0,1.9,2.7,2.7,2.2,3.1,2.8,4.0,5.3,2.5,2.5,3.1,2.9,3.4,3.1,2.5,3.2,3.1,3.7,3.2,5.7,4.2,2.6,3.7,2.9,3.4,3.0,3.4,3.7,5.0,1.5,1.7,2.1,3.7,2.8,2.3,1.3,2.2,1.7,2.5,2.3,3.0,3.2,2.2,2.6,2.2,2.9,2.8,2.5,2.6,3.0,2.2,3.1,3.0,4.6,4.1,3.7,2.0,1.9,2.0,2.3,2.4,3.0,2.5,2.3,2.9,2.6,3.4,1.4,2.8,1.8,3.9,2.0,2.4,3.4,2.1,1.4,1.9,2.5,2.1,2.9,2.9,1.9,1.8,2.0,1.0,2.2,3.0,3.1,3.0,4.6,4.3,1.9,4.1,2.7,2.6,1.9,1.4,1.3,3.0,2.9,2.6,2.5,2.1,1.7,2.4,2.5,2.6,2.0,1.5,2.1,3.7,2.4,1.7,2.0,1.4,2.2,4.3,2.3,2.5,1.5,3.0,2.5,5.5,4.5,2.6,3.0,2.2,4.3,6.0,7.1,6.3,4.7,2.4,0.9,1.1,1.6,2.6,6.3,3.0,1.6,1.7,1.0,2.2,1.8,1.6,0.9,2.7,1.7,1.2,1.4,2.4,2.5,1.9,0.4,0.6,1.8,2.7,4.4,5.1,2.2,3.9,2.2,1.4,7.9,2.4,1.6,3.1,1.7,7.2,4.1,1.4,4.4,2.6,2.2,3.8,1.1,6.0,4.6,5.4,3.9,5.1,4.3,3.6,4.6,2.6,0.9,0.5,1.0,1.3,0.7,2.1,3.9,8.8,3.5,5.6,1.6,2.6,4.7,3.1,2.2,1.3,1.5,0.8,2.3,2.9,3.7,3.9,1.0,2.7,2.8,2.1,3.7,2.3,4.0,5.9,1.7,0.8,0.5,2.1,1.3,1.1,2.6,1.7,1.2,3.2,2.6,2.7,3.7,2.6,1.6,4.6,6.3,7.0,8.8,8.1,7.1,1.3,2.5,2.7,2.3,2.2,2.5,2.2,1.5,2.6,5.2,1.9,0.8,1.3,1.3,1.6,3.4,6.4,2.6,0.8,2.5,4.3,4.7,6.6,4.5,4.2,4.6,2.4,4.7,3.8,6.4,6.3,6.4,5.1,7.9,5.5,6.2,6.0,6.9,2.9,3.1,2.6,3.2,4.5,2.5,2.3,5.9,4.7,5.7,5.1,3.9,3.9,6.2,4.2,2.7,4.3,2.2,2.3,1.9,2.5,6.1,3.0,3.8,3.2,1.6,5.1,3.0,3.8,1.8,3.3,2.2,4.4,2.4,2.8,3.9,5.1,5.1,3.8,2.8,4.2,3.9,4.7,4.3,2.6,2.5,4.2,2.9,3.6,2.8,4.4,3.1,2.6,4.0,4.6,4.7,3.8,4.7,2.7,2.5,4.2,5.0,5.3,2.3,3.9,5.8,2.6,2.3,3.9,3.0,4.7,3.4,4.2,3.8,2.6,1.7,3.4,5.6,2.1,1.7,2.7,3.8,3.3,3.0,4.1,3.2,3.2,2.2,2.7,1.7,2.5,4.0,2.4,1.4,4.5,2.5,3.4,4.3,4.5,2.2,2.3,2.4,3.2,2.6,2.4,3.2,3.1,2.1,3.6,2.9,2.7,4.0,5.0,3.2,3.6,2.4,3.0,2.7,3.7,3.4,3.6,2.7,2.5,2.5,2.4,4.1,4.5,4.3,3.2,4.4,3.5,3.6,3.1,3.6,2.2,3.0,4.1,3.5,2.3,2.2,2.2,2.2,2.6,2.8,2.3,2.4,3.7,2.8,5.4,2.8,2.2,1.1,3.3,4.7,2.7,3.6,4.1,3.7,2.8,3.4,4.1,3.3,1.7,2.6,2.6,2.7,2.2,2.4,2.9,4.1,3.4,2.6,3.1,2.7,0.6,1.5,2.2,2.8,3.3,2.4,3.6,1.7,2.9,2.0,2.3,2.0,1.8,1.6,2.3,3.4,2.2,1.9,2.5,4.3,2.7,3.1,6.5,2.9,2.1,2.8,2.3,3.9,5.3,5.9,4.2,1.8,1.2,2.8,2.3,3.1,2.8,4.4,3.0,2.1,2.5,2.7,2.5,3.3,3.2,2.0,3.5,2.6,2.1,2.0,1.0,1.2,1.4,2.5,1.0,1.8,1.0,3.8,3.5,2.1,3.1,2.2,4.7,3.3,3.0,1.9,3.2,3.1,4.7,5.0,4.6,3.2,5.4,5.0,2.4,3.9,3.1,3.2,2.0,1.2,2.9,4.8,3.3,2.1,6.7,2.3,0.8,3.0,3.9,7.7,7.6,4.7,4.5,4.2,4.2,1.9,0.9,1.9,2.1,4.7,4.7,5.1,3.8,4.5,3.9,6.6,5.8,5.3,4.4,2.2,5.7,3.6,1.1,3.1,3.6,2.8,4.2,5.1,6.7,6.4,3.7,1.1,3.5,5.9,4.0,1.6,3.1,4.3,5.5,5.2,1.5,3.8,1.8,2.2,1.2,4.9,1.8,4.3,3.6,3.0,1.2,2.3,1.7,4.5,6.4,1.3,1.6,2.6,0.6,0.5,1.1,1.6,2.7,2.8,3.2,4.5,2.8,6.6,2.8,3.0,1.3,1.3,2.6,3.3,1.4,2.2,2.0,1.8,2.9,0.8,1.9,2.6,4.0,1.9,1.7,4.6,4.5,4.6,3.9,2.5,4.0,1.0,2.1,1.7,2.9,4.8,6.6,4.0,2.6,2.2,0.9,4.5,4.2,1.4,1.5,1.0,1.4,4.0,5.1,2.2,4.8,2.1,1.8,1.3,1.4,2.7,1.7,1.8,2.6,3.1,3.2,2.2,3.8,4.2,3.0,2.6,2.5,1.9,1.9,4.7,2.3,2.8,3.9,4.4,2.2,4.0,5.7,3.0,2.9,4.2,3.2,2.4,3.6,1.7,2.4,3.5,3.9,1.7,2.3,4.6,6.5,3.6,3.6,3.3,2.4,3.1,3.6,3.9,3.6,2.6,3.4,2.3,4.1,5.0,3.0,2.7,2.3,4.3,4.7,2.1,3.7,3.7,2.6,5.2,5.1,2.6,3.0,3.0,2.6,2.8,2.5,3.3,2.8,2.0,2.8,3.0,2.1,3.0,2.6,1.8,2.1,3.7,2.6,2.7,2.7,2.1,1.8,2.1,2.5,2.5,2.2,3.4,5.0,3.0,3.9,4.3,2.6,3.2,3.5,2.7,3.0,3.5,2.3,2.6,3.7,3.5,3.0,3.1,3.0,3.2,4.3,3.4,2.4,2.4,2.6,3.0,4.7,3.9,2.1,2.7,3.4,4.3,3.4,2.6,2.9,2.1,3.2,2.4,1.9,3.4,3.7,3.0,2.2,3.1,3.3,3.2,2.8,3.3,3.4,3.3,3.9,2.4,2.8,1.9,3.8,2.4,2.6,1.9,3.4,3.8,3.5,2.6,3.1,2.0,2.3,2.6,3.5,2.9,3.7,3.6,2.2,2.4,4.4,2.7,2.2,5.2,3.7,3.7,3.0,3.0,2.1,4.2,2.6,2.5,1.8,2.3,3.4,1.7,2.1,2.6,5.8,4.7,5.8,5.0,3.8,2.9,2.9,3.5,2.4,1.5,2.4,3.3,3.6,3.1,2.1,3.0,3.4,2.8,1.9,3.8,2.6,4.3,6.8,2.7,2.0,1.8,2.5,2.6,2.7,3.8,5.1,1.9,1.3,1.3,2.9,4.8,3.7,1.6,2.6,2.2,1.1,2.6,4.7,2.6,2.8,3.2,5.0,3.4,1.3,1.3,2.0,2.6,1.8,1.3,2.7,2.6,2.9,3.4,4.6,1.7,2.8,4.7,6.7,7.2,6.0,2.8,1.4,2.2,2.3,2.7,3.0,1.8,1.3,3.9,4.6,5.1,6.5,4.5,4.1,4.0,8.0,3.8,4.2,4.0,4.7,3.1,1.3,4.5,5.7,4.3,3.0,1.0,0.9,1.7,3.5,5.0,5.9,4.7,4.0,5.9,3.4,6.2,6.3,7.5,2.8,5.6,6.1,1.7,2.9,2.3,6.0,5.1,4.1,6.7,4.3,5.0,7.6,4.3,1.5,2.5,2.9,1.3,2.6,3.4,3.5],\"type\":\"scatter3d\"}],                        {\"template\":{\"data\":{\"bar\":[{\"error_x\":{\"color\":\"#2a3f5f\"},\"error_y\":{\"color\":\"#2a3f5f\"},\"marker\":{\"line\":{\"color\":\"#E5ECF6\",\"width\":0.5},\"pattern\":{\"fillmode\":\"overlay\",\"size\":10,\"solidity\":0.2}},\"type\":\"bar\"}],\"barpolar\":[{\"marker\":{\"line\":{\"color\":\"#E5ECF6\",\"width\":0.5},\"pattern\":{\"fillmode\":\"overlay\",\"size\":10,\"solidity\":0.2}},\"type\":\"barpolar\"}],\"carpet\":[{\"aaxis\":{\"endlinecolor\":\"#2a3f5f\",\"gridcolor\":\"white\",\"linecolor\":\"white\",\"minorgridcolor\":\"white\",\"startlinecolor\":\"#2a3f5f\"},\"baxis\":{\"endlinecolor\":\"#2a3f5f\",\"gridcolor\":\"white\",\"linecolor\":\"white\",\"minorgridcolor\":\"white\",\"startlinecolor\":\"#2a3f5f\"},\"type\":\"carpet\"}],\"choropleth\":[{\"colorbar\":{\"outlinewidth\":0,\"ticks\":\"\"},\"type\":\"choropleth\"}],\"contour\":[{\"colorbar\":{\"outlinewidth\":0,\"ticks\":\"\"},\"colorscale\":[[0.0,\"#0d0887\"],[0.1111111111111111,\"#46039f\"],[0.2222222222222222,\"#7201a8\"],[0.3333333333333333,\"#9c179e\"],[0.4444444444444444,\"#bd3786\"],[0.5555555555555556,\"#d8576b\"],[0.6666666666666666,\"#ed7953\"],[0.7777777777777778,\"#fb9f3a\"],[0.8888888888888888,\"#fdca26\"],[1.0,\"#f0f921\"]],\"type\":\"contour\"}],\"contourcarpet\":[{\"colorbar\":{\"outlinewidth\":0,\"ticks\":\"\"},\"type\":\"contourcarpet\"}],\"heatmap\":[{\"colorbar\":{\"outlinewidth\":0,\"ticks\":\"\"},\"colorscale\":[[0.0,\"#0d0887\"],[0.1111111111111111,\"#46039f\"],[0.2222222222222222,\"#7201a8\"],[0.3333333333333333,\"#9c179e\"],[0.4444444444444444,\"#bd3786\"],[0.5555555555555556,\"#d8576b\"],[0.6666666666666666,\"#ed7953\"],[0.7777777777777778,\"#fb9f3a\"],[0.8888888888888888,\"#fdca26\"],[1.0,\"#f0f921\"]],\"type\":\"heatmap\"}],\"heatmapgl\":[{\"colorbar\":{\"outlinewidth\":0,\"ticks\":\"\"},\"colorscale\":[[0.0,\"#0d0887\"],[0.1111111111111111,\"#46039f\"],[0.2222222222222222,\"#7201a8\"],[0.3333333333333333,\"#9c179e\"],[0.4444444444444444,\"#bd3786\"],[0.5555555555555556,\"#d8576b\"],[0.6666666666666666,\"#ed7953\"],[0.7777777777777778,\"#fb9f3a\"],[0.8888888888888888,\"#fdca26\"],[1.0,\"#f0f921\"]],\"type\":\"heatmapgl\"}],\"histogram\":[{\"marker\":{\"pattern\":{\"fillmode\":\"overlay\",\"size\":10,\"solidity\":0.2}},\"type\":\"histogram\"}],\"histogram2d\":[{\"colorbar\":{\"outlinewidth\":0,\"ticks\":\"\"},\"colorscale\":[[0.0,\"#0d0887\"],[0.1111111111111111,\"#46039f\"],[0.2222222222222222,\"#7201a8\"],[0.3333333333333333,\"#9c179e\"],[0.4444444444444444,\"#bd3786\"],[0.5555555555555556,\"#d8576b\"],[0.6666666666666666,\"#ed7953\"],[0.7777777777777778,\"#fb9f3a\"],[0.8888888888888888,\"#fdca26\"],[1.0,\"#f0f921\"]],\"type\":\"histogram2d\"}],\"histogram2dcontour\":[{\"colorbar\":{\"outlinewidth\":0,\"ticks\":\"\"},\"colorscale\":[[0.0,\"#0d0887\"],[0.1111111111111111,\"#46039f\"],[0.2222222222222222,\"#7201a8\"],[0.3333333333333333,\"#9c179e\"],[0.4444444444444444,\"#bd3786\"],[0.5555555555555556,\"#d8576b\"],[0.6666666666666666,\"#ed7953\"],[0.7777777777777778,\"#fb9f3a\"],[0.8888888888888888,\"#fdca26\"],[1.0,\"#f0f921\"]],\"type\":\"histogram2dcontour\"}],\"mesh3d\":[{\"colorbar\":{\"outlinewidth\":0,\"ticks\":\"\"},\"type\":\"mesh3d\"}],\"parcoords\":[{\"line\":{\"colorbar\":{\"outlinewidth\":0,\"ticks\":\"\"}},\"type\":\"parcoords\"}],\"pie\":[{\"automargin\":true,\"type\":\"pie\"}],\"scatter\":[{\"marker\":{\"colorbar\":{\"outlinewidth\":0,\"ticks\":\"\"}},\"type\":\"scatter\"}],\"scatter3d\":[{\"line\":{\"colorbar\":{\"outlinewidth\":0,\"ticks\":\"\"}},\"marker\":{\"colorbar\":{\"outlinewidth\":0,\"ticks\":\"\"}},\"type\":\"scatter3d\"}],\"scattercarpet\":[{\"marker\":{\"colorbar\":{\"outlinewidth\":0,\"ticks\":\"\"}},\"type\":\"scattercarpet\"}],\"scattergeo\":[{\"marker\":{\"colorbar\":{\"outlinewidth\":0,\"ticks\":\"\"}},\"type\":\"scattergeo\"}],\"scattergl\":[{\"marker\":{\"colorbar\":{\"outlinewidth\":0,\"ticks\":\"\"}},\"type\":\"scattergl\"}],\"scattermapbox\":[{\"marker\":{\"colorbar\":{\"outlinewidth\":0,\"ticks\":\"\"}},\"type\":\"scattermapbox\"}],\"scatterpolar\":[{\"marker\":{\"colorbar\":{\"outlinewidth\":0,\"ticks\":\"\"}},\"type\":\"scatterpolar\"}],\"scatterpolargl\":[{\"marker\":{\"colorbar\":{\"outlinewidth\":0,\"ticks\":\"\"}},\"type\":\"scatterpolargl\"}],\"scatterternary\":[{\"marker\":{\"colorbar\":{\"outlinewidth\":0,\"ticks\":\"\"}},\"type\":\"scatterternary\"}],\"surface\":[{\"colorbar\":{\"outlinewidth\":0,\"ticks\":\"\"},\"colorscale\":[[0.0,\"#0d0887\"],[0.1111111111111111,\"#46039f\"],[0.2222222222222222,\"#7201a8\"],[0.3333333333333333,\"#9c179e\"],[0.4444444444444444,\"#bd3786\"],[0.5555555555555556,\"#d8576b\"],[0.6666666666666666,\"#ed7953\"],[0.7777777777777778,\"#fb9f3a\"],[0.8888888888888888,\"#fdca26\"],[1.0,\"#f0f921\"]],\"type\":\"surface\"}],\"table\":[{\"cells\":{\"fill\":{\"color\":\"#EBF0F8\"},\"line\":{\"color\":\"white\"}},\"header\":{\"fill\":{\"color\":\"#C8D4E3\"},\"line\":{\"color\":\"white\"}},\"type\":\"table\"}]},\"layout\":{\"annotationdefaults\":{\"arrowcolor\":\"#2a3f5f\",\"arrowhead\":0,\"arrowwidth\":1},\"autotypenumbers\":\"strict\",\"coloraxis\":{\"colorbar\":{\"outlinewidth\":0,\"ticks\":\"\"}},\"colorscale\":{\"diverging\":[[0,\"#8e0152\"],[0.1,\"#c51b7d\"],[0.2,\"#de77ae\"],[0.3,\"#f1b6da\"],[0.4,\"#fde0ef\"],[0.5,\"#f7f7f7\"],[0.6,\"#e6f5d0\"],[0.7,\"#b8e186\"],[0.8,\"#7fbc41\"],[0.9,\"#4d9221\"],[1,\"#276419\"]],\"sequential\":[[0.0,\"#0d0887\"],[0.1111111111111111,\"#46039f\"],[0.2222222222222222,\"#7201a8\"],[0.3333333333333333,\"#9c179e\"],[0.4444444444444444,\"#bd3786\"],[0.5555555555555556,\"#d8576b\"],[0.6666666666666666,\"#ed7953\"],[0.7777777777777778,\"#fb9f3a\"],[0.8888888888888888,\"#fdca26\"],[1.0,\"#f0f921\"]],\"sequentialminus\":[[0.0,\"#0d0887\"],[0.1111111111111111,\"#46039f\"],[0.2222222222222222,\"#7201a8\"],[0.3333333333333333,\"#9c179e\"],[0.4444444444444444,\"#bd3786\"],[0.5555555555555556,\"#d8576b\"],[0.6666666666666666,\"#ed7953\"],[0.7777777777777778,\"#fb9f3a\"],[0.8888888888888888,\"#fdca26\"],[1.0,\"#f0f921\"]]},\"colorway\":[\"#636efa\",\"#EF553B\",\"#00cc96\",\"#ab63fa\",\"#FFA15A\",\"#19d3f3\",\"#FF6692\",\"#B6E880\",\"#FF97FF\",\"#FECB52\"],\"font\":{\"color\":\"#2a3f5f\"},\"geo\":{\"bgcolor\":\"white\",\"lakecolor\":\"white\",\"landcolor\":\"#E5ECF6\",\"showlakes\":true,\"showland\":true,\"subunitcolor\":\"white\"},\"hoverlabel\":{\"align\":\"left\"},\"hovermode\":\"closest\",\"mapbox\":{\"style\":\"light\"},\"paper_bgcolor\":\"white\",\"plot_bgcolor\":\"#E5ECF6\",\"polar\":{\"angularaxis\":{\"gridcolor\":\"white\",\"linecolor\":\"white\",\"ticks\":\"\"},\"bgcolor\":\"#E5ECF6\",\"radialaxis\":{\"gridcolor\":\"white\",\"linecolor\":\"white\",\"ticks\":\"\"}},\"scene\":{\"xaxis\":{\"backgroundcolor\":\"#E5ECF6\",\"gridcolor\":\"white\",\"gridwidth\":2,\"linecolor\":\"white\",\"showbackground\":true,\"ticks\":\"\",\"zerolinecolor\":\"white\"},\"yaxis\":{\"backgroundcolor\":\"#E5ECF6\",\"gridcolor\":\"white\",\"gridwidth\":2,\"linecolor\":\"white\",\"showbackground\":true,\"ticks\":\"\",\"zerolinecolor\":\"white\"},\"zaxis\":{\"backgroundcolor\":\"#E5ECF6\",\"gridcolor\":\"white\",\"gridwidth\":2,\"linecolor\":\"white\",\"showbackground\":true,\"ticks\":\"\",\"zerolinecolor\":\"white\"}},\"shapedefaults\":{\"line\":{\"color\":\"#2a3f5f\"}},\"ternary\":{\"aaxis\":{\"gridcolor\":\"white\",\"linecolor\":\"white\",\"ticks\":\"\"},\"baxis\":{\"gridcolor\":\"white\",\"linecolor\":\"white\",\"ticks\":\"\"},\"bgcolor\":\"#E5ECF6\",\"caxis\":{\"gridcolor\":\"white\",\"linecolor\":\"white\",\"ticks\":\"\"}},\"title\":{\"x\":0.05},\"xaxis\":{\"automargin\":true,\"gridcolor\":\"white\",\"linecolor\":\"white\",\"ticks\":\"\",\"title\":{\"standoff\":15},\"zerolinecolor\":\"white\",\"zerolinewidth\":2},\"yaxis\":{\"automargin\":true,\"gridcolor\":\"white\",\"linecolor\":\"white\",\"ticks\":\"\",\"title\":{\"standoff\":15},\"zerolinecolor\":\"white\",\"zerolinewidth\":2}}},\"scene\":{\"xaxis\":{\"title\":{\"text\":\"Maximum Temperature (Celsius)\"}},\"yaxis\":{\"title\":{\"text\":\"Precipitation (mm)\"}},\"zaxis\":{\"title\":{\"text\":\"Wind Speed (km/h)\"}}},\"title\":{\"text\":\"Relationships Between Temperature, Precipitation, and Wind\"}},                        {\"responsive\": true}                    ).then(function(){\n",
              "                            \n",
              "var gd = document.getElementById('dcde275a-e5ae-435a-bad3-c60a5d09e7fd');\n",
              "var x = new MutationObserver(function (mutations, observer) {{\n",
              "        var display = window.getComputedStyle(gd).display;\n",
              "        if (!display || display === 'none') {{\n",
              "            console.log([gd, 'removed!']);\n",
              "            Plotly.purge(gd);\n",
              "            observer.disconnect();\n",
              "        }}\n",
              "}});\n",
              "\n",
              "// Listen for the removal of the full notebook cells\n",
              "var notebookContainer = gd.closest('#notebook-container');\n",
              "if (notebookContainer) {{\n",
              "    x.observe(notebookContainer, {childList: true});\n",
              "}}\n",
              "\n",
              "// Listen for the clearing of the current output cell\n",
              "var outputEl = gd.closest('.output');\n",
              "if (outputEl) {{\n",
              "    x.observe(outputEl, {childList: true});\n",
              "}}\n",
              "\n",
              "                        })                };                            </script>        </div>\n",
              "</body>\n",
              "</html>"
            ]
          },
          "metadata": {}
        }
      ]
    },
    {
      "cell_type": "code",
      "source": [
        "# Parallel coordinates plot of temperature, precipitation, and wind\n",
        "\n",
        "# Create a parallel coordinates plot of temperature, precipitation, and wind\n",
        "fig = px.parallel_coordinates(\n",
        "    df, \n",
        "    dimensions=['temp_max', 'precipitation', 'wind'],\n",
        "    color='temp_max',\n",
        "    color_continuous_scale=px.colors.sequential.Viridis,\n",
        "    title='Relationships Between Temperature, Precipitation, and Wind'\n",
        ")\n",
        "\n",
        "# Show the chart\n",
        "fig.show()"
      ],
      "metadata": {
        "colab": {
          "base_uri": "https://localhost:8080/",
          "height": 562
        },
        "id": "B-wuSyTVhMep",
        "outputId": "f8112c6b-e321-4d3b-8065-fc487ad53815"
      },
      "execution_count": 472,
      "outputs": [
        {
          "output_type": "display_data",
          "data": {
            "text/html": [
              "<html>\n",
              "<head><meta charset=\"utf-8\" /></head>\n",
              "<body>\n",
              "    <div>            <script src=\"https://cdnjs.cloudflare.com/ajax/libs/mathjax/2.7.5/MathJax.js?config=TeX-AMS-MML_SVG\"></script><script type=\"text/javascript\">if (window.MathJax) {MathJax.Hub.Config({SVG: {font: \"STIX-Web\"}});}</script>                <script type=\"text/javascript\">window.PlotlyConfig = {MathJaxConfig: 'local'};</script>\n",
              "        <script src=\"https://cdn.plot.ly/plotly-2.8.3.min.js\"></script>                <div id=\"7c020e3c-1123-4bb0-b49a-e455eb070fe7\" class=\"plotly-graph-div\" style=\"height:525px; width:100%;\"></div>            <script type=\"text/javascript\">                                    window.PLOTLYENV=window.PLOTLYENV || {};                                    if (document.getElementById(\"7c020e3c-1123-4bb0-b49a-e455eb070fe7\")) {                    Plotly.newPlot(                        \"7c020e3c-1123-4bb0-b49a-e455eb070fe7\",                        [{\"dimensions\":[{\"label\":\"temp_max\",\"values\":[12.8,10.6,11.7,12.2,8.9,4.4,7.2,10.0,9.4,6.1,6.1,6.1,5.0,4.4,1.1,1.7,3.3,0.0,-1.1,7.2,8.3,6.7,8.3,10.0,8.9,8.9,6.7,6.7,9.4,8.3,9.4,8.9,8.3,14.4,15.6,13.9,16.1,15.6,10.0,11.1,12.8,8.9,8.3,7.2,6.7,7.2,7.2,10.0,6.7,6.7,7.8,10.0,10.0,8.3,6.7,7.2,5.0,6.7,6.7,5.0,6.1,6.7,12.2,10.6,7.8,6.7,8.9,15.6,9.4,7.2,6.7,8.3,5.6,7.8,11.1,8.9,10.0,5.0,7.2,7.8,8.9,10.0,12.2,15.0,13.3,12.8,14.4,10.6,10.0,9.4,10.0,8.9,16.7,11.7,10.6,9.4,11.1,16.1,21.1,20.0,17.8,11.1,13.9,15.0,15.6,16.1,13.3,10.0,13.3,13.9,13.3,20.0,23.3,21.7,13.9,16.7,13.9,13.3,16.1,15.6,12.8,11.7,13.3,11.1,12.2,13.3,17.8,23.9,18.3,13.3,14.4,18.3,24.4,25.6,26.7,24.4,19.4,17.8,15.6,19.4,14.4,16.7,12.8,14.4,17.2,22.2,22.2,17.2,16.7,16.1,18.9,17.8,20.0,18.9,17.2,12.8,13.3,16.1,16.1,15.0,17.2,18.9,23.3,18.3,16.1,17.2,22.2,21.1,18.9,17.2,19.4,24.4,23.9,13.9,15.6,19.4,19.4,18.3,22.8,22.2,21.7,20.0,20.0,18.9,18.3,20.6,24.4,25.0,26.7,28.3,25.0,23.9,27.8,25.6,23.3,25.0,18.9,26.1,21.7,21.1,25.0,19.4,23.9,20.6,18.9,23.3,26.7,25.6,18.9,22.2,22.8,19.4,22.8,23.9,23.3,27.2,33.9,33.9,28.3,21.1,22.2,24.4,25.6,28.3,30.6,30.6,28.9,31.1,34.4,32.8,21.7,23.3,25.6,23.3,22.2,21.1,22.2,26.1,21.1,23.9,22.8,22.8,22.8,22.2,21.7,21.1,22.8,24.4,26.1,28.3,32.2,25.0,18.9,20.0,20.0,22.2,27.8,26.1,22.2,24.4,27.8,27.8,23.9,19.4,16.1,19.4,19.4,21.1,19.4,19.4,22.8,25.0,20.6,21.1,23.3,17.8,18.9,18.9,21.7,23.9,23.9,21.1,16.1,12.2,13.9,13.9,15.6,17.8,17.2,16.1,14.4,17.8,15.0,11.1,11.7,7.8,11.1,11.7,11.7,11.1,14.4,14.4,15.6,15.0,15.6,15.0,15.0,15.6,17.8,15.0,12.8,12.2,10.0,8.9,7.8,8.9,12.8,11.1,11.1,9.4,9.4,12.2,10.0,13.3,11.1,8.3,8.9,9.4,8.9,8.3,9.4,10.0,9.4,12.8,15.0,13.3,8.3,9.4,11.7,8.9,7.2,7.8,6.7,6.7,7.2,7.8,6.7,7.2,6.1,4.4,6.7,8.3,3.9,8.3,7.2,8.3,8.3,7.2,5.6,5.6,6.7,7.8,8.3,5.0,4.4,3.3,5.0,6.1,6.7,10.0,6.7,7.2,10.0,11.7,10.0,3.3,2.8,2.8,2.2,3.3,6.7,6.1,3.9,3.3,1.1,3.3,2.2,3.3,7.2,7.2,10.6,8.3,5.6,6.1,8.3,8.9,9.4,11.7,6.1,8.9,10.6,10.0,10.6,9.4,7.8,8.3,8.9,8.3,11.1,9.4,9.4,13.3,11.1,9.4,7.8,10.6,7.8,6.7,7.8,10.0,8.9,10.6,8.9,10.0,11.7,15.0,13.9,11.1,13.3,9.4,7.2,12.2,11.7,12.8,7.8,10.6,12.8,11.7,11.7,14.4,10.6,8.9,11.7,12.8,11.1,10.0,9.4,10.0,12.2,16.7,16.7,13.3,16.1,18.3,20.0,20.6,17.2,13.9,16.7,14.4,13.9,12.2,8.3,13.3,12.2,15.0,12.2,7.8,10.6,12.8,13.9,13.9,15.0,11.7,13.3,13.9,12.2,16.1,17.8,21.1,21.7,20.6,13.9,15.0,13.9,12.8,18.3,20.6,21.7,25.0,28.9,30.6,20.6,19.4,22.8,26.1,27.2,21.7,18.9,18.3,17.2,21.7,17.2,16.7,18.3,19.4,15.6,11.1,12.2,16.7,17.8,18.3,16.7,17.2,16.1,16.7,19.4,22.8,20.6,22.2,26.1,26.7,26.7,21.7,20.6,20.6,21.7,20.0,20.6,21.1,20.0,25.6,23.9,25.6,23.3,20.0,17.2,20.6,25.6,22.2,21.1,23.3,22.2,21.1,30.6,30.0,33.9,31.7,28.3,26.1,21.7,23.3,26.1,23.9,26.7,30.0,22.2,22.8,19.4,26.1,27.8,27.8,31.1,22.2,26.1,27.8,25.0,23.9,26.1,31.1,31.1,31.1,31.1,25.6,21.1,25.0,25.0,21.7,20.6,17.2,25.0,28.9,30.0,30.6,31.1,28.3,28.3,25.6,25.0,25.6,27.8,27.2,21.1,28.9,25.6,26.1,26.7,25.6,27.8,28.9,25.0,25.0,22.2,24.4,26.7,26.7,23.9,26.1,27.8,27.8,27.8,25.0,22.8,20.0,21.7,23.3,26.7,26.1,26.7,33.9,25.6,18.9,21.7,18.9,21.7,17.8,21.1,25.6,23.3,21.1,17.2,16.1,17.8,16.1,17.2,13.9,16.7,14.4,13.9,14.4,12.8,14.4,17.8,20.0,22.8,16.1,13.9,15.0,14.4,13.9,14.4,15.0,15.6,15.6,12.8,14.4,12.8,10.6,10.6,11.7,14.4,12.8,10.0,12.2,11.7,13.9,14.4,13.3,15.0,14.4,17.8,14.4,12.2,10.6,13.3,12.8,11.1,13.3,11.1,11.1,16.1,15.6,13.9,11.1,10.6,10.0,11.7,12.8,13.3,7.8,7.8,9.4,11.1,11.7,12.2,12.2,14.4,11.7,9.4,11.1,13.3,7.8,5.0,4.4,1.1,1.1,0.0,2.2,1.1,5.6,5.0,5.6,9.4,9.4,11.7,10.0,8.3,7.8,5.0,8.3,8.9,10.6,11.7,8.3,6.7,6.7,8.9,9.4,7.2,8.9,8.3,7.2,10.6,8.9,7.8,8.3,7.8,8.3,10.0,9.4,12.8,14.4,11.1,10.6,11.1,11.1,6.7,5.6,9.4,6.1,10.0,10.0,9.4,10.0,12.8,12.2,8.3,9.4,11.1,11.1,8.3,7.8,7.8,8.9,5.0,2.8,-0.5,-1.6,3.3,5.6,3.9,10.0,12.2,12.2,12.8,11.7,11.1,9.4,8.3,8.9,8.3,10.0,6.7,5.6,7.2,6.7,12.2,13.9,12.8,14.4,7.2,11.1,14.4,13.9,15.6,13.3,15.6,12.8,15.0,12.2,14.4,16.1,13.9,14.4,16.7,10.6,10.0,10.0,11.1,11.1,10.6,11.1,12.8,18.9,13.9,11.1,12.2,11.7,11.7,11.1,15.6,14.4,14.4,13.3,12.8,11.7,13.9,21.1,15.6,14.4,15.0,17.2,16.1,20.6,20.0,14.4,11.1,11.7,14.4,11.7,15.6,17.2,12.2,11.7,13.9,14.4,15.0,11.1,16.1,25.0,27.8,29.4,18.3,15.0,14.4,15.6,16.7,18.3,13.9,13.3,15.6,18.9,24.4,26.7,27.8,26.7,20.0,20.0,20.0,21.1,22.2,20.0,24.4,20.0,18.3,15.0,18.3,20.0,18.9,18.9,20.6,23.3,22.2,23.3,18.3,19.4,22.2,25.0,24.4,23.3,21.1,20.0,23.9,21.7,15.6,17.8,18.3,17.8,17.8,18.9,25.6,20.0,22.2,25.0,25.0,24.4,26.1,21.1,21.1,20.0,20.6,25.6,34.4,27.2,21.7,23.9,24.4,28.9,27.2,30.0,26.7,28.9,31.1,32.2,29.4,27.8,31.1,31.1,26.7,23.9,25.6,19.4,23.9,21.1,18.9,20.6,22.8,26.1,28.3,30.6,30.0,29.4,30.6,28.9,29.4,31.7,32.8,25.0,26.1,25.6,25.6,27.2,30.6,35.6,27.2,23.3,21.1,24.4,25.6,27.8,29.4,27.2,21.7,21.1,23.9,27.8,25.0,28.9,31.1,28.9,23.3,22.8,17.8,21.1,23.3,20.0,20.6,23.9,27.8,32.2,28.3,21.1,21.7,22.2,24.4,24.4,28.3,30.0,30.6,22.2,22.8,19.4,23.9,24.4,26.1,22.2,18.9,18.9,21.7,20.0,20.6,18.9,16.7,19.4,18.3,19.4,22.2,21.7,23.9,25.6,18.9,20.6,17.2,18.3,18.3,17.8,21.1,16.7,16.1,20.6,16.7,19.4,22.2,16.1,16.1,15.6,14.4,14.4,16.7,12.8,15.6,15.0,16.7,15.6,12.8,11.1,13.3,13.9,14.4,15.0,16.7,14.4,12.8,13.3,11.1,7.8,6.7,7.2,7.2,8.3,9.4,10.6,7.2,11.1,11.1,11.1,9.4,12.8,11.7,13.9,15.0,14.4,12.8,4.4,2.8,4.4,5.6,10.0,8.3,12.8,11.7,14.4,14.4,16.1,18.9,14.4,11.1,10.0,12.8,12.2,10.0,8.9,9.4,11.1,12.8,12.8,10.6,12.2,7.2,7.8,5.6,9.4,6.7,6.1,3.3,3.3,5.6,5.6,5.0,10.6,12.2,12.2,7.8,7.8,10.0,7.8,9.4,11.1,9.4,6.1,7.8,11.7,13.3,13.9,10.0,10.0,7.2,9.4,12.2,14.4,17.2,16.1,11.1,12.2,12.2,8.3,7.2,9.4,11.1,10.0,10.6,13.3,14.4,12.2,15.0,13.3,12.8,12.8,16.7,15.6,14.4,12.2,15.0,16.1,12.2,10.6,11.1,12.2,11.7,12.8,11.1,10.0,11.7,10.0,12.2,11.1,11.1,10.6,12.8,13.3,15.0,16.7,17.2,14.4,13.3,14.4,17.8,17.2,13.9,10.6,13.9,13.3,15.6,15.6,13.9,13.3,11.7,11.1,12.8,14.4,20.6,18.3,15.6,15.6,17.8,12.8,12.8,13.3,11.1,12.8,16.7,13.9,14.4,17.2,17.2,13.9,11.7,13.3,11.7,11.7,13.9,17.8,18.9,18.9,21.1,22.8,17.2,15.6,12.2,12.2,13.3,15.6,25.0,15.6,16.1,17.2,18.3,18.3,20.6,17.2,14.4,16.7,20.6,23.9,26.7,19.4,13.9,15.6,12.2,17.8,20.0,15.6,19.4,25.6,21.7,23.3,25.6,16.7,16.1,17.8,15.6,21.7,24.4,27.8,26.1,22.8,25.0,16.1,17.8,20.0,22.8,26.7,29.4,31.1,30.6,28.9,25.6,24.4,20.0,23.9,27.8,30.0,22.8,25.0,24.4,23.9,25.0,25.6,25.0,26.1,25.6,30.6,31.7,33.3,28.3,28.9,30.6,32.2,33.9,33.3,33.3,32.8,29.4,27.2,30.0,28.9,21.1,22.2,26.1,25.6,27.8,26.1,26.1,27.8,33.3,35.0,26.7,23.9,23.9,26.1,22.8,21.1,22.2,23.3,27.8,32.2,34.4,34.4,33.3,30.6,28.3,26.1,23.3,25.0,28.3,25.0,28.3,28.9,30.0,28.3,28.3,18.3,21.7,25.0,27.2,30.0,31.7,22.8,22.2,26.7,27.8,23.9,25.6,28.3,29.4,23.3,22.2,20.0,18.9,19.4,19.4,18.3,18.3,20.6,16.1,21.1,22.8,24.4,25.0,27.2,26.7,20.6,16.7,17.8,20.0,18.3,19.4,21.1,22.8,18.3,18.9,20.6,22.2,15.6,18.3,17.8,21.1,21.7,18.3,21.1,15.6,19.4,22.8,23.3,18.3,16.1,18.9,19.4,21.1,17.8,18.3,16.7,15.0,21.1,20.0,19.4,15.0,17.2,17.8,16.1,16.1,12.8,15.0,19.4,12.2,16.1,13.9,15.0,17.2,15.6,12.2,11.1,10.6,10.0,11.7,15.6,12.2,11.1,10.0,11.1,11.1,11.1,13.3,9.4,8.9,8.9,13.3,8.9,8.9,8.3,8.9,10.0,6.7,6.7,7.2,9.4,9.4,7.2,1.7,5.6,10.0,10.6,15.6,10.6,10.0,12.8,11.1,15.6,12.2,11.7,9.4,8.9,7.8,7.8,6.7,6.1,6.7,8.9,8.3,7.8,5.6,7.8,5.0,5.6,5.0,4.4,4.4,5.0,7.2,5.6,5.6]},{\"label\":\"precipitation\",\"values\":[0.0,10.9,0.8,20.3,1.3,2.5,0.0,0.0,4.3,1.0,0.0,0.0,0.0,4.1,5.3,2.5,8.1,19.8,15.2,13.5,3.0,6.1,0.0,8.6,8.1,4.8,0.0,0.0,27.7,3.6,1.8,13.5,0.0,0.0,0.0,0.0,0.0,0.3,2.8,2.5,2.5,0.8,1.0,11.4,2.5,0.0,1.8,17.3,6.4,0.0,3.0,0.8,8.6,0.0,11.4,0.0,1.3,0.0,3.6,0.8,0.0,2.0,0.0,0.0,6.9,0.5,0.0,0.0,3.6,10.4,13.7,19.3,9.4,8.6,23.9,8.4,9.4,3.6,2.0,3.6,1.3,4.1,0.0,0.0,0.0,0.0,4.8,1.3,27.4,5.6,13.2,1.5,0.0,1.5,0.0,4.6,0.3,0.0,0.0,0.0,0.0,2.3,0.5,0.0,0.0,0.0,8.1,1.8,1.8,10.9,6.6,0.0,0.0,0.0,4.3,10.7,3.8,0.8,0.0,4.3,4.3,0.5,0.5,18.5,1.8,0.0,0.0,0.0,0.0,0.0,0.0,0.0,0.0,0.0,0.0,0.0,0.0,0.0,0.0,0.0,6.4,14.0,6.1,0.3,0.0,0.0,0.0,0.0,0.0,0.0,0.3,3.8,6.6,0.3,0.0,1.3,16.0,0.0,16.5,1.5,0.0,0.0,0.0,0.8,0.0,0.0,0.0,0.0,0.0,3.0,1.0,0.0,0.0,15.7,8.6,0.0,0.5,0.0,0.0,0.0,0.3,3.0,0.0,2.0,5.8,0.0,0.0,0.0,0.0,0.0,1.5,0.0,0.0,0.0,0.5,0.0,0.0,0.3,0.0,0.0,0.0,15.2,0.0,1.0,0.0,0.0,0.0,0.0,0.0,0.0,0.0,0.0,0.0,0.0,0.0,0.0,0.0,0.0,0.0,0.0,0.0,0.0,0.0,0.0,0.0,0.0,0.0,0.0,0.0,0.0,0.0,0.0,0.0,0.0,0.0,0.0,0.0,0.0,0.0,0.0,0.0,0.0,0.0,0.0,0.0,0.0,0.0,0.0,0.0,0.0,0.0,0.0,0.3,0.3,0.0,0.0,0.0,0.0,0.0,0.0,0.0,0.0,0.0,0.0,0.0,0.3,0.0,0.0,0.0,0.0,0.0,0.0,0.0,0.0,0.0,0.0,0.0,0.0,0.0,0.0,0.0,0.0,0.0,0.0,0.0,2.0,4.8,16.5,7.9,0.0,0.0,20.8,4.8,0.5,6.4,8.9,0.0,7.1,0.0,1.5,23.1,6.1,10.9,34.5,14.5,9.7,5.6,0.5,8.1,0.8,0.3,0.0,0.0,0.0,0.0,15.2,3.6,5.3,0.8,0.0,5.6,6.1,7.9,54.1,3.8,11.2,0.0,32.0,0.0,0.0,0.0,0.0,2.8,1.5,35.6,4.1,19.6,13.0,14.2,1.5,1.5,1.0,0.0,1.5,0.5,3.0,8.1,2.3,7.9,5.3,22.6,2.0,3.3,13.7,13.2,1.8,3.3,6.6,0.3,13.5,4.6,4.1,0.0,1.5,0.0,0.0,0.0,0.0,4.1,2.5,3.0,2.0,2.3,16.3,38.4,0.3,0.0,0.0,0.0,0.0,0.0,0.0,0.0,0.0,0.0,0.0,0.0,0.0,5.1,5.8,3.0,2.3,1.8,7.9,4.3,3.6,3.0,0.3,0.0,2.3,0.0,3.3,1.0,1.3,0.0,0.3,0.0,0.3,1.0,2.3,1.0,0.0,0.0,0.0,0.0,0.0,1.5,0.5,9.4,0.3,0.0,2.3,0.5,4.6,8.1,4.1,0.8,0.0,0.0,0.0,11.9,7.4,0.0,0.0,0.8,1.3,2.0,2.3,2.8,0.0,4.3,0.0,0.0,11.7,9.9,8.1,0.0,0.0,0.0,0.0,0.0,0.3,2.0,0.0,0.0,0.0,0.0,0.0,0.0,8.4,18.5,12.7,39.1,0.8,0.0,9.4,1.5,9.7,9.4,5.8,0.0,0.3,0.0,5.3,20.6,0.0,3.3,0.0,0.0,0.0,0.0,0.0,0.0,1.0,3.8,0.0,0.0,0.0,0.0,0.0,0.0,0.0,0.0,0.0,0.0,0.0,0.0,6.6,3.3,0.0,1.0,0.0,0.5,0.0,0.0,0.0,13.7,13.7,4.1,0.3,0.0,1.5,9.7,0.5,5.6,0.0,0.0,0.0,1.0,0.0,0.0,0.0,0.0,0.0,0.0,0.0,0.0,0.0,0.3,0.0,0.0,0.0,0.0,0.0,0.3,0.0,3.0,0.3,0.0,7.9,4.8,9.9,2.0,3.6,0.0,0.0,0.0,0.0,0.0,0.0,0.0,0.0,0.0,0.0,0.0,0.0,0.0,0.0,0.0,0.0,0.0,0.0,0.0,0.0,0.0,0.0,0.0,0.0,0.0,0.0,0.0,0.0,0.0,0.0,0.0,0.0,0.0,0.0,0.0,2.0,0.0,0.0,0.0,0.0,0.0,0.0,0.0,2.3,0.0,0.0,0.0,0.8,1.8,0.0,0.0,0.0,0.0,0.0,0.0,0.0,0.0,0.0,0.3,1.0,1.3,5.6,19.3,0.0,0.0,0.0,0.0,2.3,0.3,27.7,21.3,0.0,0.0,0.0,0.0,0.0,0.0,0.0,0.0,3.3,0.3,0.0,0.0,0.0,3.6,0.0,13.5,2.8,0.0,2.0,0.0,1.0,43.4,16.8,18.5,7.9,5.3,0.8,0.0,0.0,4.1,0.5,6.9,0.0,1.0,9.1,1.0,0.0,0.0,0.0,0.0,0.0,0.0,0.0,0.0,0.0,0.0,0.0,0.0,0.0,0.0,1.8,0.0,0.0,0.5,0.3,1.3,12.7,0.5,0.0,2.5,3.8,30.0,0.0,1.8,0.0,0.0,4.1,0.0,1.3,3.0,0.0,5.3,26.2,1.0,0.0,0.0,0.0,0.0,0.0,0.0,0.0,0.0,0.0,0.5,2.3,3.0,4.6,0.0,0.0,0.0,0.0,0.0,0.0,0.0,0.0,0.0,6.9,0.5,0.0,1.3,0.3,0.0,1.3,0.0,5.6,5.6,10.7,1.5,0.0,0.0,0.0,0.3,0.0,0.0,0.3,0.5,0.0,4.1,1.5,0.0,0.0,0.3,12.2,9.7,5.8,4.3,21.3,1.5,0.0,0.0,0.0,0.0,0.0,0.0,0.0,0.0,0.0,0.5,0.0,0.0,0.0,0.0,0.0,8.9,21.6,0.0,2.3,2.0,0.0,0.0,0.0,0.0,0.0,0.0,5.1,0.5,18.3,17.0,4.6,1.8,9.4,11.7,26.4,14.5,15.2,1.0,3.0,2.8,2.5,6.1,13.0,0.3,0.0,0.0,0.0,0.5,19.1,10.7,16.5,46.7,3.0,0.0,32.3,4.3,18.8,0.0,0.0,0.5,6.9,8.1,27.7,0.3,0.0,0.5,0.0,0.0,0.0,0.0,0.0,4.1,3.6,0.3,22.1,14.0,0.0,0.0,0.0,0.0,2.5,0.0,4.6,0.0,0.0,4.6,0.0,0.0,0.0,0.0,0.0,0.0,0.5,10.9,18.5,0.0,13.7,0.0,5.1,14.2,8.9,12.4,0.0,3.3,6.9,0.0,0.0,0.0,0.0,0.0,33.3,16.0,5.1,0.0,0.0,13.7,2.0,0.5,0.0,0.0,0.0,0.0,0.0,0.0,0.0,0.0,0.0,0.0,0.0,0.0,3.8,0.0,5.6,0.0,0.0,0.0,0.0,0.0,0.0,0.0,0.0,0.0,0.0,0.0,0.0,0.0,0.0,0.0,0.0,0.0,1.8,6.4,0.0,0.5,3.6,1.3,0.0,0.8,0.3,0.0,0.0,0.0,0.0,0.0,0.0,1.8,2.3,0.0,0.0,0.0,0.0,0.0,0.0,0.0,0.0,0.0,0.0,0.0,0.0,0.0,0.0,0.0,0.0,0.0,0.0,0.0,0.0,0.0,0.0,0.0,0.3,19.3,0.0,0.0,0.0,0.0,0.0,0.0,0.0,0.0,0.0,0.5,0.0,0.0,0.0,0.0,0.0,0.0,0.0,0.0,0.5,12.7,21.6,0.0,1.0,0.0,0.0,0.0,0.0,0.0,0.0,0.0,0.0,0.0,0.0,0.0,0.0,0.0,0.0,8.4,1.3,0.0,3.0,0.0,0.0,0.0,0.0,0.0,0.0,0.0,0.0,0.0,0.0,0.0,0.0,0.0,0.0,0.5,0.3,0.0,0.0,0.0,0.3,18.3,20.3,4.3,8.9,0.0,0.0,0.8,0.0,0.0,0.0,0.0,0.0,0.0,0.0,0.0,0.0,0.0,0.3,7.4,0.0,7.6,7.1,8.6,0.0,3.3,15.0,0.0,11.7,1.0,32.0,9.4,4.1,6.1,1.5,0.8,12.7,0.5,25.4,17.0,0.0,1.8,10.9,4.1,4.8,4.1,0.0,0.0,5.1,0.0,0.0,0.0,0.0,0.0,0.0,0.0,0.0,0.0,0.0,3.6,15.2,0.5,11.9,1.3,18.3,0.3,3.3,34.3,3.6,0.0,0.0,0.0,0.0,0.8,3.0,7.4,0.0,9.1,9.9,13.0,6.9,0.0,0.0,0.0,0.0,0.0,2.8,13.0,3.0,19.6,0.0,0.0,20.6,5.3,0.0,0.0,3.3,4.1,0.0,0.0,0.0,0.0,1.5,0.0,10.2,8.1,0.0,0.0,0.0,0.3,5.8,1.5,0.0,0.0,0.0,9.7,0.0,26.2,21.3,0.5,0.0,0.0,0.8,5.8,0.5,0.0,0.0,0.8,0.0,0.0,0.0,0.0,1.5,7.4,1.3,8.4,26.2,17.3,23.6,3.6,6.1,0.3,0.0,1.0,0.0,0.3,0.0,0.0,0.0,0.0,4.6,0.8,0.0,0.0,0.0,0.0,4.1,9.4,18.3,0.0,0.0,0.0,0.0,0.0,0.0,0.0,0.0,0.0,0.0,0.8,2.5,0.0,2.0,17.0,55.9,1.0,0.8,0.0,0.0,4.1,3.8,1.0,8.1,7.6,5.1,0.0,1.0,0.0,0.0,1.8,1.0,5.1,0.0,1.5,0.0,0.0,1.0,0.5,0.0,0.0,10.9,0.0,0.0,14.0,3.3,0.0,0.0,0.0,0.0,0.0,0.0,5.6,0.0,3.0,3.3,1.3,0.0,0.3,1.8,0.0,0.0,0.0,0.0,0.0,0.0,6.1,0.0,0.0,0.0,0.0,0.0,0.0,4.3,4.1,0.3,0.0,0.0,0.0,0.0,0.0,0.0,0.0,0.0,0.0,0.0,0.0,0.0,0.0,0.0,0.0,0.0,0.0,4.6,0.5,0.0,0.0,0.0,0.0,0.0,0.0,0.0,0.0,0.0,0.0,0.0,0.0,0.0,0.0,0.0,0.0,0.5,0.0,0.0,0.0,0.0,0.0,0.0,0.0,0.0,0.3,0.0,0.0,0.0,0.0,0.0,0.0,0.0,0.0,0.0,0.0,0.0,0.0,0.0,0.0,0.0,0.0,0.0,0.0,0.0,0.0,0.0,0.0,0.0,0.0,0.0,0.3,0.0,2.0,0.0,0.0,0.0,0.0,0.0,0.0,0.0,0.0,0.0,0.0,0.0,0.0,0.0,0.0,0.0,0.0,7.6,0.0,30.5,0.0,0.0,0.0,0.0,0.0,2.0,0.0,0.0,0.0,0.0,0.0,0.0,0.0,0.5,32.5,10.2,0.0,5.8,0.0,0.0,0.0,0.3,5.3,0.3,0.0,0.0,0.0,0.0,0.0,0.5,0.0,0.0,1.0,1.8,0.0,0.0,4.1,0.0,0.0,0.0,0.0,2.0,0.0,0.0,0.0,0.0,0.0,0.0,0.0,0.0,0.0,0.0,0.0,9.9,0.0,0.3,28.7,0.0,4.6,1.3,0.0,0.0,0.0,0.3,3.8,0.3,0.0,0.0,0.0,0.0,0.0,8.9,6.9,0.0,3.3,1.8,19.3,33.0,26.2,0.3,0.8,0.0,1.3,0.0,12.7,6.6,3.3,1.3,1.5,9.9,33.5,47.2,22.4,2.0,29.5,1.5,2.0,0.0,0.0,0.0,3.0,7.1,0.0,0.0,0.0,0.0,0.0,0.5,12.2,2.5,12.7,2.0,15.7,11.2,27.4,54.1,13.5,9.4,0.3,16.0,1.3,0.0,1.5,3.6,21.8,18.5,0.0,4.3,27.4,4.6,6.1,2.5,5.8,0.0,8.6,1.5,0.0,0.0,0.0]},{\"label\":\"wind\",\"values\":[4.7,4.5,2.3,4.7,6.1,2.2,2.3,2.0,3.4,3.4,5.1,1.9,1.3,5.3,3.2,5.0,5.6,5.0,1.6,2.3,8.2,4.8,3.6,5.1,5.4,4.8,1.4,2.2,4.5,5.1,3.9,2.7,2.6,5.3,4.3,2.9,5.0,5.3,2.7,2.4,3.0,3.4,1.3,1.4,3.1,1.8,2.1,3.4,8.1,4.7,2.9,7.5,5.9,3.9,3.5,6.4,3.4,3.0,4.2,7.0,3.1,5.1,7.0,5.6,6.2,2.7,2.7,2.5,2.8,3.4,5.8,6.2,5.3,4.7,5.8,5.1,3.8,2.7,3.0,6.4,2.5,2.1,2.8,5.2,2.7,4.3,3.8,5.9,4.4,4.7,3.4,6.8,3.1,3.1,2.1,1.8,2.6,4.3,4.1,2.1,3.2,2.6,2.6,4.0,3.0,2.9,5.8,2.0,3.9,2.6,2.7,2.3,2.6,3.5,2.8,2.6,5.2,4.8,2.5,1.6,8.0,6.4,2.5,3.4,4.6,2.3,2.4,2.2,3.0,3.9,3.0,4.3,3.4,4.2,3.8,4.1,3.5,2.9,3.1,1.5,1.3,4.0,4.8,6.3,3.3,3.1,3.6,3.7,3.4,1.8,1.5,2.7,3.7,3.7,2.9,3.1,3.3,3.4,3.5,3.0,4.7,2.9,1.8,3.9,4.3,2.7,1.7,4.1,6.4,3.8,3.0,3.0,2.1,1.9,2.5,2.0,3.1,3.4,1.8,2.5,1.9,2.4,2.3,2.1,6.0,3.8,3.1,2.1,3.8,2.8,2.0,2.3,2.9,2.7,2.2,2.2,3.8,2.5,2.6,2.9,2.2,4.0,2.3,3.9,3.3,4.3,2.6,2.2,2.8,1.7,2.0,3.0,2.8,2.2,2.5,3.9,3.7,1.9,2.5,2.6,3.1,3.8,2.3,2.5,3.0,2.8,2.8,4.7,2.8,1.8,3.0,2.7,1.9,3.0,2.3,3.8,3.3,3.2,3.4,1.8,3.2,2.4,1.9,2.9,2.1,2.0,3.3,3.1,2.6,4.2,3.1,3.0,5.0,3.9,4.2,5.6,3.6,1.5,1.9,2.3,2.2,1.4,1.9,2.5,2.1,1.1,1.4,1.8,1.7,1.7,1.7,1.1,4.3,3.1,3.0,4.1,7.3,6.5,5.7,5.1,1.3,1.9,1.6,1.4,1.3,4.6,3.9,3.4,4.6,5.5,1.6,2.0,5.3,5.7,2.7,2.6,3.0,2.1,1.5,2.5,5.1,3.8,4.9,2.8,2.7,3.0,1.0,3.6,3.8,4.0,3.5,3.4,3.4,2.0,2.2,3.0,3.0,2.5,2.6,2.4,1.6,5.3,4.9,6.0,4.2,5.5,1.5,2.4,1.2,3.6,3.8,1.5,2.9,4.2,4.6,5.5,6.2,4.4,6.2,5.0,5.1,4.6,2.0,2.1,1.8,4.5,2.0,2.8,1.7,5.1,5.5,9.5,5.3,5.8,3.7,1.7,3.5,2.5,2.8,4.2,4.9,3.2,1.7,1.7,1.8,2.0,2.7,3.2,3.0,2.8,3.1,3.0,7.3,6.3,5.1,2.1,1.9,2.0,1.5,1.3,2.3,1.8,1.0,1.3,1.9,2.1,1.1,0.6,3.1,2.6,2.1,4.5,4.5,3.2,3.9,3.9,4.0,2.9,2.0,2.9,2.6,5.1,4.5,4.1,1.3,1.3,2.0,1.4,5.6,4.1,2.2,2.4,5.6,3.4,1.9,3.4,2.1,6.2,8.1,4.6,5.5,7.1,3.8,1.8,3.8,5.4,4.5,2.8,3.9,2.4,4.1,2.5,2.6,1.3,1.6,1.1,5.7,3.7,3.0,4.3,6.4,6.1,5.9,3.4,7.6,4.9,2.2,2.6,2.1,2.8,1.7,1.6,1.3,2.5,4.4,2.9,3.6,2.2,1.6,3.0,5.6,5.0,3.9,3.1,2.4,6.4,3.8,4.6,5.7,2.3,2.4,2.6,3.3,4.0,4.9,5.8,4.1,4.3,2.8,3.0,1.1,2.2,5.9,5.2,4.2,2.4,3.1,4.0,4.9,6.5,5.3,2.0,3.3,1.9,1.3,1.0,2.6,3.9,5.0,2.4,2.3,2.7,3.7,2.9,2.3,1.8,4.8,3.0,1.9,2.7,2.7,2.2,3.1,2.8,4.0,5.3,2.5,2.5,3.1,2.9,3.4,3.1,2.5,3.2,3.1,3.7,3.2,5.7,4.2,2.6,3.7,2.9,3.4,3.0,3.4,3.7,5.0,1.5,1.7,2.1,3.7,2.8,2.3,1.3,2.2,1.7,2.5,2.3,3.0,3.2,2.2,2.6,2.2,2.9,2.8,2.5,2.6,3.0,2.2,3.1,3.0,4.6,4.1,3.7,2.0,1.9,2.0,2.3,2.4,3.0,2.5,2.3,2.9,2.6,3.4,1.4,2.8,1.8,3.9,2.0,2.4,3.4,2.1,1.4,1.9,2.5,2.1,2.9,2.9,1.9,1.8,2.0,1.0,2.2,3.0,3.1,3.0,4.6,4.3,1.9,4.1,2.7,2.6,1.9,1.4,1.3,3.0,2.9,2.6,2.5,2.1,1.7,2.4,2.5,2.6,2.0,1.5,2.1,3.7,2.4,1.7,2.0,1.4,2.2,4.3,2.3,2.5,1.5,3.0,2.5,5.5,4.5,2.6,3.0,2.2,4.3,6.0,7.1,6.3,4.7,2.4,0.9,1.1,1.6,2.6,6.3,3.0,1.6,1.7,1.0,2.2,1.8,1.6,0.9,2.7,1.7,1.2,1.4,2.4,2.5,1.9,0.4,0.6,1.8,2.7,4.4,5.1,2.2,3.9,2.2,1.4,7.9,2.4,1.6,3.1,1.7,7.2,4.1,1.4,4.4,2.6,2.2,3.8,1.1,6.0,4.6,5.4,3.9,5.1,4.3,3.6,4.6,2.6,0.9,0.5,1.0,1.3,0.7,2.1,3.9,8.8,3.5,5.6,1.6,2.6,4.7,3.1,2.2,1.3,1.5,0.8,2.3,2.9,3.7,3.9,1.0,2.7,2.8,2.1,3.7,2.3,4.0,5.9,1.7,0.8,0.5,2.1,1.3,1.1,2.6,1.7,1.2,3.2,2.6,2.7,3.7,2.6,1.6,4.6,6.3,7.0,8.8,8.1,7.1,1.3,2.5,2.7,2.3,2.2,2.5,2.2,1.5,2.6,5.2,1.9,0.8,1.3,1.3,1.6,3.4,6.4,2.6,0.8,2.5,4.3,4.7,6.6,4.5,4.2,4.6,2.4,4.7,3.8,6.4,6.3,6.4,5.1,7.9,5.5,6.2,6.0,6.9,2.9,3.1,2.6,3.2,4.5,2.5,2.3,5.9,4.7,5.7,5.1,3.9,3.9,6.2,4.2,2.7,4.3,2.2,2.3,1.9,2.5,6.1,3.0,3.8,3.2,1.6,5.1,3.0,3.8,1.8,3.3,2.2,4.4,2.4,2.8,3.9,5.1,5.1,3.8,2.8,4.2,3.9,4.7,4.3,2.6,2.5,4.2,2.9,3.6,2.8,4.4,3.1,2.6,4.0,4.6,4.7,3.8,4.7,2.7,2.5,4.2,5.0,5.3,2.3,3.9,5.8,2.6,2.3,3.9,3.0,4.7,3.4,4.2,3.8,2.6,1.7,3.4,5.6,2.1,1.7,2.7,3.8,3.3,3.0,4.1,3.2,3.2,2.2,2.7,1.7,2.5,4.0,2.4,1.4,4.5,2.5,3.4,4.3,4.5,2.2,2.3,2.4,3.2,2.6,2.4,3.2,3.1,2.1,3.6,2.9,2.7,4.0,5.0,3.2,3.6,2.4,3.0,2.7,3.7,3.4,3.6,2.7,2.5,2.5,2.4,4.1,4.5,4.3,3.2,4.4,3.5,3.6,3.1,3.6,2.2,3.0,4.1,3.5,2.3,2.2,2.2,2.2,2.6,2.8,2.3,2.4,3.7,2.8,5.4,2.8,2.2,1.1,3.3,4.7,2.7,3.6,4.1,3.7,2.8,3.4,4.1,3.3,1.7,2.6,2.6,2.7,2.2,2.4,2.9,4.1,3.4,2.6,3.1,2.7,0.6,1.5,2.2,2.8,3.3,2.4,3.6,1.7,2.9,2.0,2.3,2.0,1.8,1.6,2.3,3.4,2.2,1.9,2.5,4.3,2.7,3.1,6.5,2.9,2.1,2.8,2.3,3.9,5.3,5.9,4.2,1.8,1.2,2.8,2.3,3.1,2.8,4.4,3.0,2.1,2.5,2.7,2.5,3.3,3.2,2.0,3.5,2.6,2.1,2.0,1.0,1.2,1.4,2.5,1.0,1.8,1.0,3.8,3.5,2.1,3.1,2.2,4.7,3.3,3.0,1.9,3.2,3.1,4.7,5.0,4.6,3.2,5.4,5.0,2.4,3.9,3.1,3.2,2.0,1.2,2.9,4.8,3.3,2.1,6.7,2.3,0.8,3.0,3.9,7.7,7.6,4.7,4.5,4.2,4.2,1.9,0.9,1.9,2.1,4.7,4.7,5.1,3.8,4.5,3.9,6.6,5.8,5.3,4.4,2.2,5.7,3.6,1.1,3.1,3.6,2.8,4.2,5.1,6.7,6.4,3.7,1.1,3.5,5.9,4.0,1.6,3.1,4.3,5.5,5.2,1.5,3.8,1.8,2.2,1.2,4.9,1.8,4.3,3.6,3.0,1.2,2.3,1.7,4.5,6.4,1.3,1.6,2.6,0.6,0.5,1.1,1.6,2.7,2.8,3.2,4.5,2.8,6.6,2.8,3.0,1.3,1.3,2.6,3.3,1.4,2.2,2.0,1.8,2.9,0.8,1.9,2.6,4.0,1.9,1.7,4.6,4.5,4.6,3.9,2.5,4.0,1.0,2.1,1.7,2.9,4.8,6.6,4.0,2.6,2.2,0.9,4.5,4.2,1.4,1.5,1.0,1.4,4.0,5.1,2.2,4.8,2.1,1.8,1.3,1.4,2.7,1.7,1.8,2.6,3.1,3.2,2.2,3.8,4.2,3.0,2.6,2.5,1.9,1.9,4.7,2.3,2.8,3.9,4.4,2.2,4.0,5.7,3.0,2.9,4.2,3.2,2.4,3.6,1.7,2.4,3.5,3.9,1.7,2.3,4.6,6.5,3.6,3.6,3.3,2.4,3.1,3.6,3.9,3.6,2.6,3.4,2.3,4.1,5.0,3.0,2.7,2.3,4.3,4.7,2.1,3.7,3.7,2.6,5.2,5.1,2.6,3.0,3.0,2.6,2.8,2.5,3.3,2.8,2.0,2.8,3.0,2.1,3.0,2.6,1.8,2.1,3.7,2.6,2.7,2.7,2.1,1.8,2.1,2.5,2.5,2.2,3.4,5.0,3.0,3.9,4.3,2.6,3.2,3.5,2.7,3.0,3.5,2.3,2.6,3.7,3.5,3.0,3.1,3.0,3.2,4.3,3.4,2.4,2.4,2.6,3.0,4.7,3.9,2.1,2.7,3.4,4.3,3.4,2.6,2.9,2.1,3.2,2.4,1.9,3.4,3.7,3.0,2.2,3.1,3.3,3.2,2.8,3.3,3.4,3.3,3.9,2.4,2.8,1.9,3.8,2.4,2.6,1.9,3.4,3.8,3.5,2.6,3.1,2.0,2.3,2.6,3.5,2.9,3.7,3.6,2.2,2.4,4.4,2.7,2.2,5.2,3.7,3.7,3.0,3.0,2.1,4.2,2.6,2.5,1.8,2.3,3.4,1.7,2.1,2.6,5.8,4.7,5.8,5.0,3.8,2.9,2.9,3.5,2.4,1.5,2.4,3.3,3.6,3.1,2.1,3.0,3.4,2.8,1.9,3.8,2.6,4.3,6.8,2.7,2.0,1.8,2.5,2.6,2.7,3.8,5.1,1.9,1.3,1.3,2.9,4.8,3.7,1.6,2.6,2.2,1.1,2.6,4.7,2.6,2.8,3.2,5.0,3.4,1.3,1.3,2.0,2.6,1.8,1.3,2.7,2.6,2.9,3.4,4.6,1.7,2.8,4.7,6.7,7.2,6.0,2.8,1.4,2.2,2.3,2.7,3.0,1.8,1.3,3.9,4.6,5.1,6.5,4.5,4.1,4.0,8.0,3.8,4.2,4.0,4.7,3.1,1.3,4.5,5.7,4.3,3.0,1.0,0.9,1.7,3.5,5.0,5.9,4.7,4.0,5.9,3.4,6.2,6.3,7.5,2.8,5.6,6.1,1.7,2.9,2.3,6.0,5.1,4.1,6.7,4.3,5.0,7.6,4.3,1.5,2.5,2.9,1.3,2.6,3.4,3.5]}],\"domain\":{\"x\":[0.0,1.0],\"y\":[0.0,1.0]},\"line\":{\"color\":[12.8,10.6,11.7,12.2,8.9,4.4,7.2,10.0,9.4,6.1,6.1,6.1,5.0,4.4,1.1,1.7,3.3,0.0,-1.1,7.2,8.3,6.7,8.3,10.0,8.9,8.9,6.7,6.7,9.4,8.3,9.4,8.9,8.3,14.4,15.6,13.9,16.1,15.6,10.0,11.1,12.8,8.9,8.3,7.2,6.7,7.2,7.2,10.0,6.7,6.7,7.8,10.0,10.0,8.3,6.7,7.2,5.0,6.7,6.7,5.0,6.1,6.7,12.2,10.6,7.8,6.7,8.9,15.6,9.4,7.2,6.7,8.3,5.6,7.8,11.1,8.9,10.0,5.0,7.2,7.8,8.9,10.0,12.2,15.0,13.3,12.8,14.4,10.6,10.0,9.4,10.0,8.9,16.7,11.7,10.6,9.4,11.1,16.1,21.1,20.0,17.8,11.1,13.9,15.0,15.6,16.1,13.3,10.0,13.3,13.9,13.3,20.0,23.3,21.7,13.9,16.7,13.9,13.3,16.1,15.6,12.8,11.7,13.3,11.1,12.2,13.3,17.8,23.9,18.3,13.3,14.4,18.3,24.4,25.6,26.7,24.4,19.4,17.8,15.6,19.4,14.4,16.7,12.8,14.4,17.2,22.2,22.2,17.2,16.7,16.1,18.9,17.8,20.0,18.9,17.2,12.8,13.3,16.1,16.1,15.0,17.2,18.9,23.3,18.3,16.1,17.2,22.2,21.1,18.9,17.2,19.4,24.4,23.9,13.9,15.6,19.4,19.4,18.3,22.8,22.2,21.7,20.0,20.0,18.9,18.3,20.6,24.4,25.0,26.7,28.3,25.0,23.9,27.8,25.6,23.3,25.0,18.9,26.1,21.7,21.1,25.0,19.4,23.9,20.6,18.9,23.3,26.7,25.6,18.9,22.2,22.8,19.4,22.8,23.9,23.3,27.2,33.9,33.9,28.3,21.1,22.2,24.4,25.6,28.3,30.6,30.6,28.9,31.1,34.4,32.8,21.7,23.3,25.6,23.3,22.2,21.1,22.2,26.1,21.1,23.9,22.8,22.8,22.8,22.2,21.7,21.1,22.8,24.4,26.1,28.3,32.2,25.0,18.9,20.0,20.0,22.2,27.8,26.1,22.2,24.4,27.8,27.8,23.9,19.4,16.1,19.4,19.4,21.1,19.4,19.4,22.8,25.0,20.6,21.1,23.3,17.8,18.9,18.9,21.7,23.9,23.9,21.1,16.1,12.2,13.9,13.9,15.6,17.8,17.2,16.1,14.4,17.8,15.0,11.1,11.7,7.8,11.1,11.7,11.7,11.1,14.4,14.4,15.6,15.0,15.6,15.0,15.0,15.6,17.8,15.0,12.8,12.2,10.0,8.9,7.8,8.9,12.8,11.1,11.1,9.4,9.4,12.2,10.0,13.3,11.1,8.3,8.9,9.4,8.9,8.3,9.4,10.0,9.4,12.8,15.0,13.3,8.3,9.4,11.7,8.9,7.2,7.8,6.7,6.7,7.2,7.8,6.7,7.2,6.1,4.4,6.7,8.3,3.9,8.3,7.2,8.3,8.3,7.2,5.6,5.6,6.7,7.8,8.3,5.0,4.4,3.3,5.0,6.1,6.7,10.0,6.7,7.2,10.0,11.7,10.0,3.3,2.8,2.8,2.2,3.3,6.7,6.1,3.9,3.3,1.1,3.3,2.2,3.3,7.2,7.2,10.6,8.3,5.6,6.1,8.3,8.9,9.4,11.7,6.1,8.9,10.6,10.0,10.6,9.4,7.8,8.3,8.9,8.3,11.1,9.4,9.4,13.3,11.1,9.4,7.8,10.6,7.8,6.7,7.8,10.0,8.9,10.6,8.9,10.0,11.7,15.0,13.9,11.1,13.3,9.4,7.2,12.2,11.7,12.8,7.8,10.6,12.8,11.7,11.7,14.4,10.6,8.9,11.7,12.8,11.1,10.0,9.4,10.0,12.2,16.7,16.7,13.3,16.1,18.3,20.0,20.6,17.2,13.9,16.7,14.4,13.9,12.2,8.3,13.3,12.2,15.0,12.2,7.8,10.6,12.8,13.9,13.9,15.0,11.7,13.3,13.9,12.2,16.1,17.8,21.1,21.7,20.6,13.9,15.0,13.9,12.8,18.3,20.6,21.7,25.0,28.9,30.6,20.6,19.4,22.8,26.1,27.2,21.7,18.9,18.3,17.2,21.7,17.2,16.7,18.3,19.4,15.6,11.1,12.2,16.7,17.8,18.3,16.7,17.2,16.1,16.7,19.4,22.8,20.6,22.2,26.1,26.7,26.7,21.7,20.6,20.6,21.7,20.0,20.6,21.1,20.0,25.6,23.9,25.6,23.3,20.0,17.2,20.6,25.6,22.2,21.1,23.3,22.2,21.1,30.6,30.0,33.9,31.7,28.3,26.1,21.7,23.3,26.1,23.9,26.7,30.0,22.2,22.8,19.4,26.1,27.8,27.8,31.1,22.2,26.1,27.8,25.0,23.9,26.1,31.1,31.1,31.1,31.1,25.6,21.1,25.0,25.0,21.7,20.6,17.2,25.0,28.9,30.0,30.6,31.1,28.3,28.3,25.6,25.0,25.6,27.8,27.2,21.1,28.9,25.6,26.1,26.7,25.6,27.8,28.9,25.0,25.0,22.2,24.4,26.7,26.7,23.9,26.1,27.8,27.8,27.8,25.0,22.8,20.0,21.7,23.3,26.7,26.1,26.7,33.9,25.6,18.9,21.7,18.9,21.7,17.8,21.1,25.6,23.3,21.1,17.2,16.1,17.8,16.1,17.2,13.9,16.7,14.4,13.9,14.4,12.8,14.4,17.8,20.0,22.8,16.1,13.9,15.0,14.4,13.9,14.4,15.0,15.6,15.6,12.8,14.4,12.8,10.6,10.6,11.7,14.4,12.8,10.0,12.2,11.7,13.9,14.4,13.3,15.0,14.4,17.8,14.4,12.2,10.6,13.3,12.8,11.1,13.3,11.1,11.1,16.1,15.6,13.9,11.1,10.6,10.0,11.7,12.8,13.3,7.8,7.8,9.4,11.1,11.7,12.2,12.2,14.4,11.7,9.4,11.1,13.3,7.8,5.0,4.4,1.1,1.1,0.0,2.2,1.1,5.6,5.0,5.6,9.4,9.4,11.7,10.0,8.3,7.8,5.0,8.3,8.9,10.6,11.7,8.3,6.7,6.7,8.9,9.4,7.2,8.9,8.3,7.2,10.6,8.9,7.8,8.3,7.8,8.3,10.0,9.4,12.8,14.4,11.1,10.6,11.1,11.1,6.7,5.6,9.4,6.1,10.0,10.0,9.4,10.0,12.8,12.2,8.3,9.4,11.1,11.1,8.3,7.8,7.8,8.9,5.0,2.8,-0.5,-1.6,3.3,5.6,3.9,10.0,12.2,12.2,12.8,11.7,11.1,9.4,8.3,8.9,8.3,10.0,6.7,5.6,7.2,6.7,12.2,13.9,12.8,14.4,7.2,11.1,14.4,13.9,15.6,13.3,15.6,12.8,15.0,12.2,14.4,16.1,13.9,14.4,16.7,10.6,10.0,10.0,11.1,11.1,10.6,11.1,12.8,18.9,13.9,11.1,12.2,11.7,11.7,11.1,15.6,14.4,14.4,13.3,12.8,11.7,13.9,21.1,15.6,14.4,15.0,17.2,16.1,20.6,20.0,14.4,11.1,11.7,14.4,11.7,15.6,17.2,12.2,11.7,13.9,14.4,15.0,11.1,16.1,25.0,27.8,29.4,18.3,15.0,14.4,15.6,16.7,18.3,13.9,13.3,15.6,18.9,24.4,26.7,27.8,26.7,20.0,20.0,20.0,21.1,22.2,20.0,24.4,20.0,18.3,15.0,18.3,20.0,18.9,18.9,20.6,23.3,22.2,23.3,18.3,19.4,22.2,25.0,24.4,23.3,21.1,20.0,23.9,21.7,15.6,17.8,18.3,17.8,17.8,18.9,25.6,20.0,22.2,25.0,25.0,24.4,26.1,21.1,21.1,20.0,20.6,25.6,34.4,27.2,21.7,23.9,24.4,28.9,27.2,30.0,26.7,28.9,31.1,32.2,29.4,27.8,31.1,31.1,26.7,23.9,25.6,19.4,23.9,21.1,18.9,20.6,22.8,26.1,28.3,30.6,30.0,29.4,30.6,28.9,29.4,31.7,32.8,25.0,26.1,25.6,25.6,27.2,30.6,35.6,27.2,23.3,21.1,24.4,25.6,27.8,29.4,27.2,21.7,21.1,23.9,27.8,25.0,28.9,31.1,28.9,23.3,22.8,17.8,21.1,23.3,20.0,20.6,23.9,27.8,32.2,28.3,21.1,21.7,22.2,24.4,24.4,28.3,30.0,30.6,22.2,22.8,19.4,23.9,24.4,26.1,22.2,18.9,18.9,21.7,20.0,20.6,18.9,16.7,19.4,18.3,19.4,22.2,21.7,23.9,25.6,18.9,20.6,17.2,18.3,18.3,17.8,21.1,16.7,16.1,20.6,16.7,19.4,22.2,16.1,16.1,15.6,14.4,14.4,16.7,12.8,15.6,15.0,16.7,15.6,12.8,11.1,13.3,13.9,14.4,15.0,16.7,14.4,12.8,13.3,11.1,7.8,6.7,7.2,7.2,8.3,9.4,10.6,7.2,11.1,11.1,11.1,9.4,12.8,11.7,13.9,15.0,14.4,12.8,4.4,2.8,4.4,5.6,10.0,8.3,12.8,11.7,14.4,14.4,16.1,18.9,14.4,11.1,10.0,12.8,12.2,10.0,8.9,9.4,11.1,12.8,12.8,10.6,12.2,7.2,7.8,5.6,9.4,6.7,6.1,3.3,3.3,5.6,5.6,5.0,10.6,12.2,12.2,7.8,7.8,10.0,7.8,9.4,11.1,9.4,6.1,7.8,11.7,13.3,13.9,10.0,10.0,7.2,9.4,12.2,14.4,17.2,16.1,11.1,12.2,12.2,8.3,7.2,9.4,11.1,10.0,10.6,13.3,14.4,12.2,15.0,13.3,12.8,12.8,16.7,15.6,14.4,12.2,15.0,16.1,12.2,10.6,11.1,12.2,11.7,12.8,11.1,10.0,11.7,10.0,12.2,11.1,11.1,10.6,12.8,13.3,15.0,16.7,17.2,14.4,13.3,14.4,17.8,17.2,13.9,10.6,13.9,13.3,15.6,15.6,13.9,13.3,11.7,11.1,12.8,14.4,20.6,18.3,15.6,15.6,17.8,12.8,12.8,13.3,11.1,12.8,16.7,13.9,14.4,17.2,17.2,13.9,11.7,13.3,11.7,11.7,13.9,17.8,18.9,18.9,21.1,22.8,17.2,15.6,12.2,12.2,13.3,15.6,25.0,15.6,16.1,17.2,18.3,18.3,20.6,17.2,14.4,16.7,20.6,23.9,26.7,19.4,13.9,15.6,12.2,17.8,20.0,15.6,19.4,25.6,21.7,23.3,25.6,16.7,16.1,17.8,15.6,21.7,24.4,27.8,26.1,22.8,25.0,16.1,17.8,20.0,22.8,26.7,29.4,31.1,30.6,28.9,25.6,24.4,20.0,23.9,27.8,30.0,22.8,25.0,24.4,23.9,25.0,25.6,25.0,26.1,25.6,30.6,31.7,33.3,28.3,28.9,30.6,32.2,33.9,33.3,33.3,32.8,29.4,27.2,30.0,28.9,21.1,22.2,26.1,25.6,27.8,26.1,26.1,27.8,33.3,35.0,26.7,23.9,23.9,26.1,22.8,21.1,22.2,23.3,27.8,32.2,34.4,34.4,33.3,30.6,28.3,26.1,23.3,25.0,28.3,25.0,28.3,28.9,30.0,28.3,28.3,18.3,21.7,25.0,27.2,30.0,31.7,22.8,22.2,26.7,27.8,23.9,25.6,28.3,29.4,23.3,22.2,20.0,18.9,19.4,19.4,18.3,18.3,20.6,16.1,21.1,22.8,24.4,25.0,27.2,26.7,20.6,16.7,17.8,20.0,18.3,19.4,21.1,22.8,18.3,18.9,20.6,22.2,15.6,18.3,17.8,21.1,21.7,18.3,21.1,15.6,19.4,22.8,23.3,18.3,16.1,18.9,19.4,21.1,17.8,18.3,16.7,15.0,21.1,20.0,19.4,15.0,17.2,17.8,16.1,16.1,12.8,15.0,19.4,12.2,16.1,13.9,15.0,17.2,15.6,12.2,11.1,10.6,10.0,11.7,15.6,12.2,11.1,10.0,11.1,11.1,11.1,13.3,9.4,8.9,8.9,13.3,8.9,8.9,8.3,8.9,10.0,6.7,6.7,7.2,9.4,9.4,7.2,1.7,5.6,10.0,10.6,15.6,10.6,10.0,12.8,11.1,15.6,12.2,11.7,9.4,8.9,7.8,7.8,6.7,6.1,6.7,8.9,8.3,7.8,5.6,7.8,5.0,5.6,5.0,4.4,4.4,5.0,7.2,5.6,5.6],\"coloraxis\":\"coloraxis\"},\"name\":\"\",\"type\":\"parcoords\"}],                        {\"template\":{\"data\":{\"bar\":[{\"error_x\":{\"color\":\"#2a3f5f\"},\"error_y\":{\"color\":\"#2a3f5f\"},\"marker\":{\"line\":{\"color\":\"#E5ECF6\",\"width\":0.5},\"pattern\":{\"fillmode\":\"overlay\",\"size\":10,\"solidity\":0.2}},\"type\":\"bar\"}],\"barpolar\":[{\"marker\":{\"line\":{\"color\":\"#E5ECF6\",\"width\":0.5},\"pattern\":{\"fillmode\":\"overlay\",\"size\":10,\"solidity\":0.2}},\"type\":\"barpolar\"}],\"carpet\":[{\"aaxis\":{\"endlinecolor\":\"#2a3f5f\",\"gridcolor\":\"white\",\"linecolor\":\"white\",\"minorgridcolor\":\"white\",\"startlinecolor\":\"#2a3f5f\"},\"baxis\":{\"endlinecolor\":\"#2a3f5f\",\"gridcolor\":\"white\",\"linecolor\":\"white\",\"minorgridcolor\":\"white\",\"startlinecolor\":\"#2a3f5f\"},\"type\":\"carpet\"}],\"choropleth\":[{\"colorbar\":{\"outlinewidth\":0,\"ticks\":\"\"},\"type\":\"choropleth\"}],\"contour\":[{\"colorbar\":{\"outlinewidth\":0,\"ticks\":\"\"},\"colorscale\":[[0.0,\"#0d0887\"],[0.1111111111111111,\"#46039f\"],[0.2222222222222222,\"#7201a8\"],[0.3333333333333333,\"#9c179e\"],[0.4444444444444444,\"#bd3786\"],[0.5555555555555556,\"#d8576b\"],[0.6666666666666666,\"#ed7953\"],[0.7777777777777778,\"#fb9f3a\"],[0.8888888888888888,\"#fdca26\"],[1.0,\"#f0f921\"]],\"type\":\"contour\"}],\"contourcarpet\":[{\"colorbar\":{\"outlinewidth\":0,\"ticks\":\"\"},\"type\":\"contourcarpet\"}],\"heatmap\":[{\"colorbar\":{\"outlinewidth\":0,\"ticks\":\"\"},\"colorscale\":[[0.0,\"#0d0887\"],[0.1111111111111111,\"#46039f\"],[0.2222222222222222,\"#7201a8\"],[0.3333333333333333,\"#9c179e\"],[0.4444444444444444,\"#bd3786\"],[0.5555555555555556,\"#d8576b\"],[0.6666666666666666,\"#ed7953\"],[0.7777777777777778,\"#fb9f3a\"],[0.8888888888888888,\"#fdca26\"],[1.0,\"#f0f921\"]],\"type\":\"heatmap\"}],\"heatmapgl\":[{\"colorbar\":{\"outlinewidth\":0,\"ticks\":\"\"},\"colorscale\":[[0.0,\"#0d0887\"],[0.1111111111111111,\"#46039f\"],[0.2222222222222222,\"#7201a8\"],[0.3333333333333333,\"#9c179e\"],[0.4444444444444444,\"#bd3786\"],[0.5555555555555556,\"#d8576b\"],[0.6666666666666666,\"#ed7953\"],[0.7777777777777778,\"#fb9f3a\"],[0.8888888888888888,\"#fdca26\"],[1.0,\"#f0f921\"]],\"type\":\"heatmapgl\"}],\"histogram\":[{\"marker\":{\"pattern\":{\"fillmode\":\"overlay\",\"size\":10,\"solidity\":0.2}},\"type\":\"histogram\"}],\"histogram2d\":[{\"colorbar\":{\"outlinewidth\":0,\"ticks\":\"\"},\"colorscale\":[[0.0,\"#0d0887\"],[0.1111111111111111,\"#46039f\"],[0.2222222222222222,\"#7201a8\"],[0.3333333333333333,\"#9c179e\"],[0.4444444444444444,\"#bd3786\"],[0.5555555555555556,\"#d8576b\"],[0.6666666666666666,\"#ed7953\"],[0.7777777777777778,\"#fb9f3a\"],[0.8888888888888888,\"#fdca26\"],[1.0,\"#f0f921\"]],\"type\":\"histogram2d\"}],\"histogram2dcontour\":[{\"colorbar\":{\"outlinewidth\":0,\"ticks\":\"\"},\"colorscale\":[[0.0,\"#0d0887\"],[0.1111111111111111,\"#46039f\"],[0.2222222222222222,\"#7201a8\"],[0.3333333333333333,\"#9c179e\"],[0.4444444444444444,\"#bd3786\"],[0.5555555555555556,\"#d8576b\"],[0.6666666666666666,\"#ed7953\"],[0.7777777777777778,\"#fb9f3a\"],[0.8888888888888888,\"#fdca26\"],[1.0,\"#f0f921\"]],\"type\":\"histogram2dcontour\"}],\"mesh3d\":[{\"colorbar\":{\"outlinewidth\":0,\"ticks\":\"\"},\"type\":\"mesh3d\"}],\"parcoords\":[{\"line\":{\"colorbar\":{\"outlinewidth\":0,\"ticks\":\"\"}},\"type\":\"parcoords\"}],\"pie\":[{\"automargin\":true,\"type\":\"pie\"}],\"scatter\":[{\"marker\":{\"colorbar\":{\"outlinewidth\":0,\"ticks\":\"\"}},\"type\":\"scatter\"}],\"scatter3d\":[{\"line\":{\"colorbar\":{\"outlinewidth\":0,\"ticks\":\"\"}},\"marker\":{\"colorbar\":{\"outlinewidth\":0,\"ticks\":\"\"}},\"type\":\"scatter3d\"}],\"scattercarpet\":[{\"marker\":{\"colorbar\":{\"outlinewidth\":0,\"ticks\":\"\"}},\"type\":\"scattercarpet\"}],\"scattergeo\":[{\"marker\":{\"colorbar\":{\"outlinewidth\":0,\"ticks\":\"\"}},\"type\":\"scattergeo\"}],\"scattergl\":[{\"marker\":{\"colorbar\":{\"outlinewidth\":0,\"ticks\":\"\"}},\"type\":\"scattergl\"}],\"scattermapbox\":[{\"marker\":{\"colorbar\":{\"outlinewidth\":0,\"ticks\":\"\"}},\"type\":\"scattermapbox\"}],\"scatterpolar\":[{\"marker\":{\"colorbar\":{\"outlinewidth\":0,\"ticks\":\"\"}},\"type\":\"scatterpolar\"}],\"scatterpolargl\":[{\"marker\":{\"colorbar\":{\"outlinewidth\":0,\"ticks\":\"\"}},\"type\":\"scatterpolargl\"}],\"scatterternary\":[{\"marker\":{\"colorbar\":{\"outlinewidth\":0,\"ticks\":\"\"}},\"type\":\"scatterternary\"}],\"surface\":[{\"colorbar\":{\"outlinewidth\":0,\"ticks\":\"\"},\"colorscale\":[[0.0,\"#0d0887\"],[0.1111111111111111,\"#46039f\"],[0.2222222222222222,\"#7201a8\"],[0.3333333333333333,\"#9c179e\"],[0.4444444444444444,\"#bd3786\"],[0.5555555555555556,\"#d8576b\"],[0.6666666666666666,\"#ed7953\"],[0.7777777777777778,\"#fb9f3a\"],[0.8888888888888888,\"#fdca26\"],[1.0,\"#f0f921\"]],\"type\":\"surface\"}],\"table\":[{\"cells\":{\"fill\":{\"color\":\"#EBF0F8\"},\"line\":{\"color\":\"white\"}},\"header\":{\"fill\":{\"color\":\"#C8D4E3\"},\"line\":{\"color\":\"white\"}},\"type\":\"table\"}]},\"layout\":{\"annotationdefaults\":{\"arrowcolor\":\"#2a3f5f\",\"arrowhead\":0,\"arrowwidth\":1},\"autotypenumbers\":\"strict\",\"coloraxis\":{\"colorbar\":{\"outlinewidth\":0,\"ticks\":\"\"}},\"colorscale\":{\"diverging\":[[0,\"#8e0152\"],[0.1,\"#c51b7d\"],[0.2,\"#de77ae\"],[0.3,\"#f1b6da\"],[0.4,\"#fde0ef\"],[0.5,\"#f7f7f7\"],[0.6,\"#e6f5d0\"],[0.7,\"#b8e186\"],[0.8,\"#7fbc41\"],[0.9,\"#4d9221\"],[1,\"#276419\"]],\"sequential\":[[0.0,\"#0d0887\"],[0.1111111111111111,\"#46039f\"],[0.2222222222222222,\"#7201a8\"],[0.3333333333333333,\"#9c179e\"],[0.4444444444444444,\"#bd3786\"],[0.5555555555555556,\"#d8576b\"],[0.6666666666666666,\"#ed7953\"],[0.7777777777777778,\"#fb9f3a\"],[0.8888888888888888,\"#fdca26\"],[1.0,\"#f0f921\"]],\"sequentialminus\":[[0.0,\"#0d0887\"],[0.1111111111111111,\"#46039f\"],[0.2222222222222222,\"#7201a8\"],[0.3333333333333333,\"#9c179e\"],[0.4444444444444444,\"#bd3786\"],[0.5555555555555556,\"#d8576b\"],[0.6666666666666666,\"#ed7953\"],[0.7777777777777778,\"#fb9f3a\"],[0.8888888888888888,\"#fdca26\"],[1.0,\"#f0f921\"]]},\"colorway\":[\"#636efa\",\"#EF553B\",\"#00cc96\",\"#ab63fa\",\"#FFA15A\",\"#19d3f3\",\"#FF6692\",\"#B6E880\",\"#FF97FF\",\"#FECB52\"],\"font\":{\"color\":\"#2a3f5f\"},\"geo\":{\"bgcolor\":\"white\",\"lakecolor\":\"white\",\"landcolor\":\"#E5ECF6\",\"showlakes\":true,\"showland\":true,\"subunitcolor\":\"white\"},\"hoverlabel\":{\"align\":\"left\"},\"hovermode\":\"closest\",\"mapbox\":{\"style\":\"light\"},\"paper_bgcolor\":\"white\",\"plot_bgcolor\":\"#E5ECF6\",\"polar\":{\"angularaxis\":{\"gridcolor\":\"white\",\"linecolor\":\"white\",\"ticks\":\"\"},\"bgcolor\":\"#E5ECF6\",\"radialaxis\":{\"gridcolor\":\"white\",\"linecolor\":\"white\",\"ticks\":\"\"}},\"scene\":{\"xaxis\":{\"backgroundcolor\":\"#E5ECF6\",\"gridcolor\":\"white\",\"gridwidth\":2,\"linecolor\":\"white\",\"showbackground\":true,\"ticks\":\"\",\"zerolinecolor\":\"white\"},\"yaxis\":{\"backgroundcolor\":\"#E5ECF6\",\"gridcolor\":\"white\",\"gridwidth\":2,\"linecolor\":\"white\",\"showbackground\":true,\"ticks\":\"\",\"zerolinecolor\":\"white\"},\"zaxis\":{\"backgroundcolor\":\"#E5ECF6\",\"gridcolor\":\"white\",\"gridwidth\":2,\"linecolor\":\"white\",\"showbackground\":true,\"ticks\":\"\",\"zerolinecolor\":\"white\"}},\"shapedefaults\":{\"line\":{\"color\":\"#2a3f5f\"}},\"ternary\":{\"aaxis\":{\"gridcolor\":\"white\",\"linecolor\":\"white\",\"ticks\":\"\"},\"baxis\":{\"gridcolor\":\"white\",\"linecolor\":\"white\",\"ticks\":\"\"},\"bgcolor\":\"#E5ECF6\",\"caxis\":{\"gridcolor\":\"white\",\"linecolor\":\"white\",\"ticks\":\"\"}},\"title\":{\"x\":0.05},\"xaxis\":{\"automargin\":true,\"gridcolor\":\"white\",\"linecolor\":\"white\",\"ticks\":\"\",\"title\":{\"standoff\":15},\"zerolinecolor\":\"white\",\"zerolinewidth\":2},\"yaxis\":{\"automargin\":true,\"gridcolor\":\"white\",\"linecolor\":\"white\",\"ticks\":\"\",\"title\":{\"standoff\":15},\"zerolinecolor\":\"white\",\"zerolinewidth\":2}}},\"coloraxis\":{\"colorbar\":{\"title\":{\"text\":\"temp_max\"}},\"colorscale\":[[0.0,\"#440154\"],[0.1111111111111111,\"#482878\"],[0.2222222222222222,\"#3e4989\"],[0.3333333333333333,\"#31688e\"],[0.4444444444444444,\"#26828e\"],[0.5555555555555556,\"#1f9e89\"],[0.6666666666666666,\"#35b779\"],[0.7777777777777778,\"#6ece58\"],[0.8888888888888888,\"#b5de2b\"],[1.0,\"#fde725\"]]},\"legend\":{\"tracegroupgap\":0},\"title\":{\"text\":\"Relationships Between Temperature, Precipitation, and Wind\"}},                        {\"responsive\": true}                    ).then(function(){\n",
              "                            \n",
              "var gd = document.getElementById('7c020e3c-1123-4bb0-b49a-e455eb070fe7');\n",
              "var x = new MutationObserver(function (mutations, observer) {{\n",
              "        var display = window.getComputedStyle(gd).display;\n",
              "        if (!display || display === 'none') {{\n",
              "            console.log([gd, 'removed!']);\n",
              "            Plotly.purge(gd);\n",
              "            observer.disconnect();\n",
              "        }}\n",
              "}});\n",
              "\n",
              "// Listen for the removal of the full notebook cells\n",
              "var notebookContainer = gd.closest('#notebook-container');\n",
              "if (notebookContainer) {{\n",
              "    x.observe(notebookContainer, {childList: true});\n",
              "}}\n",
              "\n",
              "// Listen for the clearing of the current output cell\n",
              "var outputEl = gd.closest('.output');\n",
              "if (outputEl) {{\n",
              "    x.observe(outputEl, {childList: true});\n",
              "}}\n",
              "\n",
              "                        })                };                            </script>        </div>\n",
              "</body>\n",
              "</html>"
            ]
          },
          "metadata": {}
        }
      ]
    },
    {
      "cell_type": "code",
      "source": [
        "# Density plot of wind speed by temperature\n",
        "\n",
        "# Create a density plot of wind speed by temperature\n",
        "fig = px.density_heatmap(\n",
        "    df, \n",
        "    x='temp_max', \n",
        "    y='wind',\n",
        "    title='Density Plot of Wind Speed by Temperature',\n",
        "    color_continuous_scale='Viridis'\n",
        ")\n",
        "\n",
        "# Show the chart\n",
        "fig.show()"
      ],
      "metadata": {
        "colab": {
          "base_uri": "https://localhost:8080/",
          "height": 562
        },
        "id": "2ZThw416hXqH",
        "outputId": "3e93f77e-fd00-4bdf-be64-b0d5c63d05d1"
      },
      "execution_count": 473,
      "outputs": [
        {
          "output_type": "display_data",
          "data": {
            "text/html": [
              "<html>\n",
              "<head><meta charset=\"utf-8\" /></head>\n",
              "<body>\n",
              "    <div>            <script src=\"https://cdnjs.cloudflare.com/ajax/libs/mathjax/2.7.5/MathJax.js?config=TeX-AMS-MML_SVG\"></script><script type=\"text/javascript\">if (window.MathJax) {MathJax.Hub.Config({SVG: {font: \"STIX-Web\"}});}</script>                <script type=\"text/javascript\">window.PlotlyConfig = {MathJaxConfig: 'local'};</script>\n",
              "        <script src=\"https://cdn.plot.ly/plotly-2.8.3.min.js\"></script>                <div id=\"618990c7-097d-4727-8b2c-b507f29e4de8\" class=\"plotly-graph-div\" style=\"height:525px; width:100%;\"></div>            <script type=\"text/javascript\">                                    window.PLOTLYENV=window.PLOTLYENV || {};                                    if (document.getElementById(\"618990c7-097d-4727-8b2c-b507f29e4de8\")) {                    Plotly.newPlot(                        \"618990c7-097d-4727-8b2c-b507f29e4de8\",                        [{\"coloraxis\":\"coloraxis\",\"hovertemplate\":\"temp_max=%{x}<br>wind=%{y}<br>count=%{z}<extra></extra>\",\"name\":\"\",\"x\":[12.8,10.6,11.7,12.2,8.9,4.4,7.2,10.0,9.4,6.1,6.1,6.1,5.0,4.4,1.1,1.7,3.3,0.0,-1.1,7.2,8.3,6.7,8.3,10.0,8.9,8.9,6.7,6.7,9.4,8.3,9.4,8.9,8.3,14.4,15.6,13.9,16.1,15.6,10.0,11.1,12.8,8.9,8.3,7.2,6.7,7.2,7.2,10.0,6.7,6.7,7.8,10.0,10.0,8.3,6.7,7.2,5.0,6.7,6.7,5.0,6.1,6.7,12.2,10.6,7.8,6.7,8.9,15.6,9.4,7.2,6.7,8.3,5.6,7.8,11.1,8.9,10.0,5.0,7.2,7.8,8.9,10.0,12.2,15.0,13.3,12.8,14.4,10.6,10.0,9.4,10.0,8.9,16.7,11.7,10.6,9.4,11.1,16.1,21.1,20.0,17.8,11.1,13.9,15.0,15.6,16.1,13.3,10.0,13.3,13.9,13.3,20.0,23.3,21.7,13.9,16.7,13.9,13.3,16.1,15.6,12.8,11.7,13.3,11.1,12.2,13.3,17.8,23.9,18.3,13.3,14.4,18.3,24.4,25.6,26.7,24.4,19.4,17.8,15.6,19.4,14.4,16.7,12.8,14.4,17.2,22.2,22.2,17.2,16.7,16.1,18.9,17.8,20.0,18.9,17.2,12.8,13.3,16.1,16.1,15.0,17.2,18.9,23.3,18.3,16.1,17.2,22.2,21.1,18.9,17.2,19.4,24.4,23.9,13.9,15.6,19.4,19.4,18.3,22.8,22.2,21.7,20.0,20.0,18.9,18.3,20.6,24.4,25.0,26.7,28.3,25.0,23.9,27.8,25.6,23.3,25.0,18.9,26.1,21.7,21.1,25.0,19.4,23.9,20.6,18.9,23.3,26.7,25.6,18.9,22.2,22.8,19.4,22.8,23.9,23.3,27.2,33.9,33.9,28.3,21.1,22.2,24.4,25.6,28.3,30.6,30.6,28.9,31.1,34.4,32.8,21.7,23.3,25.6,23.3,22.2,21.1,22.2,26.1,21.1,23.9,22.8,22.8,22.8,22.2,21.7,21.1,22.8,24.4,26.1,28.3,32.2,25.0,18.9,20.0,20.0,22.2,27.8,26.1,22.2,24.4,27.8,27.8,23.9,19.4,16.1,19.4,19.4,21.1,19.4,19.4,22.8,25.0,20.6,21.1,23.3,17.8,18.9,18.9,21.7,23.9,23.9,21.1,16.1,12.2,13.9,13.9,15.6,17.8,17.2,16.1,14.4,17.8,15.0,11.1,11.7,7.8,11.1,11.7,11.7,11.1,14.4,14.4,15.6,15.0,15.6,15.0,15.0,15.6,17.8,15.0,12.8,12.2,10.0,8.9,7.8,8.9,12.8,11.1,11.1,9.4,9.4,12.2,10.0,13.3,11.1,8.3,8.9,9.4,8.9,8.3,9.4,10.0,9.4,12.8,15.0,13.3,8.3,9.4,11.7,8.9,7.2,7.8,6.7,6.7,7.2,7.8,6.7,7.2,6.1,4.4,6.7,8.3,3.9,8.3,7.2,8.3,8.3,7.2,5.6,5.6,6.7,7.8,8.3,5.0,4.4,3.3,5.0,6.1,6.7,10.0,6.7,7.2,10.0,11.7,10.0,3.3,2.8,2.8,2.2,3.3,6.7,6.1,3.9,3.3,1.1,3.3,2.2,3.3,7.2,7.2,10.6,8.3,5.6,6.1,8.3,8.9,9.4,11.7,6.1,8.9,10.6,10.0,10.6,9.4,7.8,8.3,8.9,8.3,11.1,9.4,9.4,13.3,11.1,9.4,7.8,10.6,7.8,6.7,7.8,10.0,8.9,10.6,8.9,10.0,11.7,15.0,13.9,11.1,13.3,9.4,7.2,12.2,11.7,12.8,7.8,10.6,12.8,11.7,11.7,14.4,10.6,8.9,11.7,12.8,11.1,10.0,9.4,10.0,12.2,16.7,16.7,13.3,16.1,18.3,20.0,20.6,17.2,13.9,16.7,14.4,13.9,12.2,8.3,13.3,12.2,15.0,12.2,7.8,10.6,12.8,13.9,13.9,15.0,11.7,13.3,13.9,12.2,16.1,17.8,21.1,21.7,20.6,13.9,15.0,13.9,12.8,18.3,20.6,21.7,25.0,28.9,30.6,20.6,19.4,22.8,26.1,27.2,21.7,18.9,18.3,17.2,21.7,17.2,16.7,18.3,19.4,15.6,11.1,12.2,16.7,17.8,18.3,16.7,17.2,16.1,16.7,19.4,22.8,20.6,22.2,26.1,26.7,26.7,21.7,20.6,20.6,21.7,20.0,20.6,21.1,20.0,25.6,23.9,25.6,23.3,20.0,17.2,20.6,25.6,22.2,21.1,23.3,22.2,21.1,30.6,30.0,33.9,31.7,28.3,26.1,21.7,23.3,26.1,23.9,26.7,30.0,22.2,22.8,19.4,26.1,27.8,27.8,31.1,22.2,26.1,27.8,25.0,23.9,26.1,31.1,31.1,31.1,31.1,25.6,21.1,25.0,25.0,21.7,20.6,17.2,25.0,28.9,30.0,30.6,31.1,28.3,28.3,25.6,25.0,25.6,27.8,27.2,21.1,28.9,25.6,26.1,26.7,25.6,27.8,28.9,25.0,25.0,22.2,24.4,26.7,26.7,23.9,26.1,27.8,27.8,27.8,25.0,22.8,20.0,21.7,23.3,26.7,26.1,26.7,33.9,25.6,18.9,21.7,18.9,21.7,17.8,21.1,25.6,23.3,21.1,17.2,16.1,17.8,16.1,17.2,13.9,16.7,14.4,13.9,14.4,12.8,14.4,17.8,20.0,22.8,16.1,13.9,15.0,14.4,13.9,14.4,15.0,15.6,15.6,12.8,14.4,12.8,10.6,10.6,11.7,14.4,12.8,10.0,12.2,11.7,13.9,14.4,13.3,15.0,14.4,17.8,14.4,12.2,10.6,13.3,12.8,11.1,13.3,11.1,11.1,16.1,15.6,13.9,11.1,10.6,10.0,11.7,12.8,13.3,7.8,7.8,9.4,11.1,11.7,12.2,12.2,14.4,11.7,9.4,11.1,13.3,7.8,5.0,4.4,1.1,1.1,0.0,2.2,1.1,5.6,5.0,5.6,9.4,9.4,11.7,10.0,8.3,7.8,5.0,8.3,8.9,10.6,11.7,8.3,6.7,6.7,8.9,9.4,7.2,8.9,8.3,7.2,10.6,8.9,7.8,8.3,7.8,8.3,10.0,9.4,12.8,14.4,11.1,10.6,11.1,11.1,6.7,5.6,9.4,6.1,10.0,10.0,9.4,10.0,12.8,12.2,8.3,9.4,11.1,11.1,8.3,7.8,7.8,8.9,5.0,2.8,-0.5,-1.6,3.3,5.6,3.9,10.0,12.2,12.2,12.8,11.7,11.1,9.4,8.3,8.9,8.3,10.0,6.7,5.6,7.2,6.7,12.2,13.9,12.8,14.4,7.2,11.1,14.4,13.9,15.6,13.3,15.6,12.8,15.0,12.2,14.4,16.1,13.9,14.4,16.7,10.6,10.0,10.0,11.1,11.1,10.6,11.1,12.8,18.9,13.9,11.1,12.2,11.7,11.7,11.1,15.6,14.4,14.4,13.3,12.8,11.7,13.9,21.1,15.6,14.4,15.0,17.2,16.1,20.6,20.0,14.4,11.1,11.7,14.4,11.7,15.6,17.2,12.2,11.7,13.9,14.4,15.0,11.1,16.1,25.0,27.8,29.4,18.3,15.0,14.4,15.6,16.7,18.3,13.9,13.3,15.6,18.9,24.4,26.7,27.8,26.7,20.0,20.0,20.0,21.1,22.2,20.0,24.4,20.0,18.3,15.0,18.3,20.0,18.9,18.9,20.6,23.3,22.2,23.3,18.3,19.4,22.2,25.0,24.4,23.3,21.1,20.0,23.9,21.7,15.6,17.8,18.3,17.8,17.8,18.9,25.6,20.0,22.2,25.0,25.0,24.4,26.1,21.1,21.1,20.0,20.6,25.6,34.4,27.2,21.7,23.9,24.4,28.9,27.2,30.0,26.7,28.9,31.1,32.2,29.4,27.8,31.1,31.1,26.7,23.9,25.6,19.4,23.9,21.1,18.9,20.6,22.8,26.1,28.3,30.6,30.0,29.4,30.6,28.9,29.4,31.7,32.8,25.0,26.1,25.6,25.6,27.2,30.6,35.6,27.2,23.3,21.1,24.4,25.6,27.8,29.4,27.2,21.7,21.1,23.9,27.8,25.0,28.9,31.1,28.9,23.3,22.8,17.8,21.1,23.3,20.0,20.6,23.9,27.8,32.2,28.3,21.1,21.7,22.2,24.4,24.4,28.3,30.0,30.6,22.2,22.8,19.4,23.9,24.4,26.1,22.2,18.9,18.9,21.7,20.0,20.6,18.9,16.7,19.4,18.3,19.4,22.2,21.7,23.9,25.6,18.9,20.6,17.2,18.3,18.3,17.8,21.1,16.7,16.1,20.6,16.7,19.4,22.2,16.1,16.1,15.6,14.4,14.4,16.7,12.8,15.6,15.0,16.7,15.6,12.8,11.1,13.3,13.9,14.4,15.0,16.7,14.4,12.8,13.3,11.1,7.8,6.7,7.2,7.2,8.3,9.4,10.6,7.2,11.1,11.1,11.1,9.4,12.8,11.7,13.9,15.0,14.4,12.8,4.4,2.8,4.4,5.6,10.0,8.3,12.8,11.7,14.4,14.4,16.1,18.9,14.4,11.1,10.0,12.8,12.2,10.0,8.9,9.4,11.1,12.8,12.8,10.6,12.2,7.2,7.8,5.6,9.4,6.7,6.1,3.3,3.3,5.6,5.6,5.0,10.6,12.2,12.2,7.8,7.8,10.0,7.8,9.4,11.1,9.4,6.1,7.8,11.7,13.3,13.9,10.0,10.0,7.2,9.4,12.2,14.4,17.2,16.1,11.1,12.2,12.2,8.3,7.2,9.4,11.1,10.0,10.6,13.3,14.4,12.2,15.0,13.3,12.8,12.8,16.7,15.6,14.4,12.2,15.0,16.1,12.2,10.6,11.1,12.2,11.7,12.8,11.1,10.0,11.7,10.0,12.2,11.1,11.1,10.6,12.8,13.3,15.0,16.7,17.2,14.4,13.3,14.4,17.8,17.2,13.9,10.6,13.9,13.3,15.6,15.6,13.9,13.3,11.7,11.1,12.8,14.4,20.6,18.3,15.6,15.6,17.8,12.8,12.8,13.3,11.1,12.8,16.7,13.9,14.4,17.2,17.2,13.9,11.7,13.3,11.7,11.7,13.9,17.8,18.9,18.9,21.1,22.8,17.2,15.6,12.2,12.2,13.3,15.6,25.0,15.6,16.1,17.2,18.3,18.3,20.6,17.2,14.4,16.7,20.6,23.9,26.7,19.4,13.9,15.6,12.2,17.8,20.0,15.6,19.4,25.6,21.7,23.3,25.6,16.7,16.1,17.8,15.6,21.7,24.4,27.8,26.1,22.8,25.0,16.1,17.8,20.0,22.8,26.7,29.4,31.1,30.6,28.9,25.6,24.4,20.0,23.9,27.8,30.0,22.8,25.0,24.4,23.9,25.0,25.6,25.0,26.1,25.6,30.6,31.7,33.3,28.3,28.9,30.6,32.2,33.9,33.3,33.3,32.8,29.4,27.2,30.0,28.9,21.1,22.2,26.1,25.6,27.8,26.1,26.1,27.8,33.3,35.0,26.7,23.9,23.9,26.1,22.8,21.1,22.2,23.3,27.8,32.2,34.4,34.4,33.3,30.6,28.3,26.1,23.3,25.0,28.3,25.0,28.3,28.9,30.0,28.3,28.3,18.3,21.7,25.0,27.2,30.0,31.7,22.8,22.2,26.7,27.8,23.9,25.6,28.3,29.4,23.3,22.2,20.0,18.9,19.4,19.4,18.3,18.3,20.6,16.1,21.1,22.8,24.4,25.0,27.2,26.7,20.6,16.7,17.8,20.0,18.3,19.4,21.1,22.8,18.3,18.9,20.6,22.2,15.6,18.3,17.8,21.1,21.7,18.3,21.1,15.6,19.4,22.8,23.3,18.3,16.1,18.9,19.4,21.1,17.8,18.3,16.7,15.0,21.1,20.0,19.4,15.0,17.2,17.8,16.1,16.1,12.8,15.0,19.4,12.2,16.1,13.9,15.0,17.2,15.6,12.2,11.1,10.6,10.0,11.7,15.6,12.2,11.1,10.0,11.1,11.1,11.1,13.3,9.4,8.9,8.9,13.3,8.9,8.9,8.3,8.9,10.0,6.7,6.7,7.2,9.4,9.4,7.2,1.7,5.6,10.0,10.6,15.6,10.6,10.0,12.8,11.1,15.6,12.2,11.7,9.4,8.9,7.8,7.8,6.7,6.1,6.7,8.9,8.3,7.8,5.6,7.8,5.0,5.6,5.0,4.4,4.4,5.0,7.2,5.6,5.6],\"xaxis\":\"x\",\"xbingroup\":\"x\",\"y\":[4.7,4.5,2.3,4.7,6.1,2.2,2.3,2.0,3.4,3.4,5.1,1.9,1.3,5.3,3.2,5.0,5.6,5.0,1.6,2.3,8.2,4.8,3.6,5.1,5.4,4.8,1.4,2.2,4.5,5.1,3.9,2.7,2.6,5.3,4.3,2.9,5.0,5.3,2.7,2.4,3.0,3.4,1.3,1.4,3.1,1.8,2.1,3.4,8.1,4.7,2.9,7.5,5.9,3.9,3.5,6.4,3.4,3.0,4.2,7.0,3.1,5.1,7.0,5.6,6.2,2.7,2.7,2.5,2.8,3.4,5.8,6.2,5.3,4.7,5.8,5.1,3.8,2.7,3.0,6.4,2.5,2.1,2.8,5.2,2.7,4.3,3.8,5.9,4.4,4.7,3.4,6.8,3.1,3.1,2.1,1.8,2.6,4.3,4.1,2.1,3.2,2.6,2.6,4.0,3.0,2.9,5.8,2.0,3.9,2.6,2.7,2.3,2.6,3.5,2.8,2.6,5.2,4.8,2.5,1.6,8.0,6.4,2.5,3.4,4.6,2.3,2.4,2.2,3.0,3.9,3.0,4.3,3.4,4.2,3.8,4.1,3.5,2.9,3.1,1.5,1.3,4.0,4.8,6.3,3.3,3.1,3.6,3.7,3.4,1.8,1.5,2.7,3.7,3.7,2.9,3.1,3.3,3.4,3.5,3.0,4.7,2.9,1.8,3.9,4.3,2.7,1.7,4.1,6.4,3.8,3.0,3.0,2.1,1.9,2.5,2.0,3.1,3.4,1.8,2.5,1.9,2.4,2.3,2.1,6.0,3.8,3.1,2.1,3.8,2.8,2.0,2.3,2.9,2.7,2.2,2.2,3.8,2.5,2.6,2.9,2.2,4.0,2.3,3.9,3.3,4.3,2.6,2.2,2.8,1.7,2.0,3.0,2.8,2.2,2.5,3.9,3.7,1.9,2.5,2.6,3.1,3.8,2.3,2.5,3.0,2.8,2.8,4.7,2.8,1.8,3.0,2.7,1.9,3.0,2.3,3.8,3.3,3.2,3.4,1.8,3.2,2.4,1.9,2.9,2.1,2.0,3.3,3.1,2.6,4.2,3.1,3.0,5.0,3.9,4.2,5.6,3.6,1.5,1.9,2.3,2.2,1.4,1.9,2.5,2.1,1.1,1.4,1.8,1.7,1.7,1.7,1.1,4.3,3.1,3.0,4.1,7.3,6.5,5.7,5.1,1.3,1.9,1.6,1.4,1.3,4.6,3.9,3.4,4.6,5.5,1.6,2.0,5.3,5.7,2.7,2.6,3.0,2.1,1.5,2.5,5.1,3.8,4.9,2.8,2.7,3.0,1.0,3.6,3.8,4.0,3.5,3.4,3.4,2.0,2.2,3.0,3.0,2.5,2.6,2.4,1.6,5.3,4.9,6.0,4.2,5.5,1.5,2.4,1.2,3.6,3.8,1.5,2.9,4.2,4.6,5.5,6.2,4.4,6.2,5.0,5.1,4.6,2.0,2.1,1.8,4.5,2.0,2.8,1.7,5.1,5.5,9.5,5.3,5.8,3.7,1.7,3.5,2.5,2.8,4.2,4.9,3.2,1.7,1.7,1.8,2.0,2.7,3.2,3.0,2.8,3.1,3.0,7.3,6.3,5.1,2.1,1.9,2.0,1.5,1.3,2.3,1.8,1.0,1.3,1.9,2.1,1.1,0.6,3.1,2.6,2.1,4.5,4.5,3.2,3.9,3.9,4.0,2.9,2.0,2.9,2.6,5.1,4.5,4.1,1.3,1.3,2.0,1.4,5.6,4.1,2.2,2.4,5.6,3.4,1.9,3.4,2.1,6.2,8.1,4.6,5.5,7.1,3.8,1.8,3.8,5.4,4.5,2.8,3.9,2.4,4.1,2.5,2.6,1.3,1.6,1.1,5.7,3.7,3.0,4.3,6.4,6.1,5.9,3.4,7.6,4.9,2.2,2.6,2.1,2.8,1.7,1.6,1.3,2.5,4.4,2.9,3.6,2.2,1.6,3.0,5.6,5.0,3.9,3.1,2.4,6.4,3.8,4.6,5.7,2.3,2.4,2.6,3.3,4.0,4.9,5.8,4.1,4.3,2.8,3.0,1.1,2.2,5.9,5.2,4.2,2.4,3.1,4.0,4.9,6.5,5.3,2.0,3.3,1.9,1.3,1.0,2.6,3.9,5.0,2.4,2.3,2.7,3.7,2.9,2.3,1.8,4.8,3.0,1.9,2.7,2.7,2.2,3.1,2.8,4.0,5.3,2.5,2.5,3.1,2.9,3.4,3.1,2.5,3.2,3.1,3.7,3.2,5.7,4.2,2.6,3.7,2.9,3.4,3.0,3.4,3.7,5.0,1.5,1.7,2.1,3.7,2.8,2.3,1.3,2.2,1.7,2.5,2.3,3.0,3.2,2.2,2.6,2.2,2.9,2.8,2.5,2.6,3.0,2.2,3.1,3.0,4.6,4.1,3.7,2.0,1.9,2.0,2.3,2.4,3.0,2.5,2.3,2.9,2.6,3.4,1.4,2.8,1.8,3.9,2.0,2.4,3.4,2.1,1.4,1.9,2.5,2.1,2.9,2.9,1.9,1.8,2.0,1.0,2.2,3.0,3.1,3.0,4.6,4.3,1.9,4.1,2.7,2.6,1.9,1.4,1.3,3.0,2.9,2.6,2.5,2.1,1.7,2.4,2.5,2.6,2.0,1.5,2.1,3.7,2.4,1.7,2.0,1.4,2.2,4.3,2.3,2.5,1.5,3.0,2.5,5.5,4.5,2.6,3.0,2.2,4.3,6.0,7.1,6.3,4.7,2.4,0.9,1.1,1.6,2.6,6.3,3.0,1.6,1.7,1.0,2.2,1.8,1.6,0.9,2.7,1.7,1.2,1.4,2.4,2.5,1.9,0.4,0.6,1.8,2.7,4.4,5.1,2.2,3.9,2.2,1.4,7.9,2.4,1.6,3.1,1.7,7.2,4.1,1.4,4.4,2.6,2.2,3.8,1.1,6.0,4.6,5.4,3.9,5.1,4.3,3.6,4.6,2.6,0.9,0.5,1.0,1.3,0.7,2.1,3.9,8.8,3.5,5.6,1.6,2.6,4.7,3.1,2.2,1.3,1.5,0.8,2.3,2.9,3.7,3.9,1.0,2.7,2.8,2.1,3.7,2.3,4.0,5.9,1.7,0.8,0.5,2.1,1.3,1.1,2.6,1.7,1.2,3.2,2.6,2.7,3.7,2.6,1.6,4.6,6.3,7.0,8.8,8.1,7.1,1.3,2.5,2.7,2.3,2.2,2.5,2.2,1.5,2.6,5.2,1.9,0.8,1.3,1.3,1.6,3.4,6.4,2.6,0.8,2.5,4.3,4.7,6.6,4.5,4.2,4.6,2.4,4.7,3.8,6.4,6.3,6.4,5.1,7.9,5.5,6.2,6.0,6.9,2.9,3.1,2.6,3.2,4.5,2.5,2.3,5.9,4.7,5.7,5.1,3.9,3.9,6.2,4.2,2.7,4.3,2.2,2.3,1.9,2.5,6.1,3.0,3.8,3.2,1.6,5.1,3.0,3.8,1.8,3.3,2.2,4.4,2.4,2.8,3.9,5.1,5.1,3.8,2.8,4.2,3.9,4.7,4.3,2.6,2.5,4.2,2.9,3.6,2.8,4.4,3.1,2.6,4.0,4.6,4.7,3.8,4.7,2.7,2.5,4.2,5.0,5.3,2.3,3.9,5.8,2.6,2.3,3.9,3.0,4.7,3.4,4.2,3.8,2.6,1.7,3.4,5.6,2.1,1.7,2.7,3.8,3.3,3.0,4.1,3.2,3.2,2.2,2.7,1.7,2.5,4.0,2.4,1.4,4.5,2.5,3.4,4.3,4.5,2.2,2.3,2.4,3.2,2.6,2.4,3.2,3.1,2.1,3.6,2.9,2.7,4.0,5.0,3.2,3.6,2.4,3.0,2.7,3.7,3.4,3.6,2.7,2.5,2.5,2.4,4.1,4.5,4.3,3.2,4.4,3.5,3.6,3.1,3.6,2.2,3.0,4.1,3.5,2.3,2.2,2.2,2.2,2.6,2.8,2.3,2.4,3.7,2.8,5.4,2.8,2.2,1.1,3.3,4.7,2.7,3.6,4.1,3.7,2.8,3.4,4.1,3.3,1.7,2.6,2.6,2.7,2.2,2.4,2.9,4.1,3.4,2.6,3.1,2.7,0.6,1.5,2.2,2.8,3.3,2.4,3.6,1.7,2.9,2.0,2.3,2.0,1.8,1.6,2.3,3.4,2.2,1.9,2.5,4.3,2.7,3.1,6.5,2.9,2.1,2.8,2.3,3.9,5.3,5.9,4.2,1.8,1.2,2.8,2.3,3.1,2.8,4.4,3.0,2.1,2.5,2.7,2.5,3.3,3.2,2.0,3.5,2.6,2.1,2.0,1.0,1.2,1.4,2.5,1.0,1.8,1.0,3.8,3.5,2.1,3.1,2.2,4.7,3.3,3.0,1.9,3.2,3.1,4.7,5.0,4.6,3.2,5.4,5.0,2.4,3.9,3.1,3.2,2.0,1.2,2.9,4.8,3.3,2.1,6.7,2.3,0.8,3.0,3.9,7.7,7.6,4.7,4.5,4.2,4.2,1.9,0.9,1.9,2.1,4.7,4.7,5.1,3.8,4.5,3.9,6.6,5.8,5.3,4.4,2.2,5.7,3.6,1.1,3.1,3.6,2.8,4.2,5.1,6.7,6.4,3.7,1.1,3.5,5.9,4.0,1.6,3.1,4.3,5.5,5.2,1.5,3.8,1.8,2.2,1.2,4.9,1.8,4.3,3.6,3.0,1.2,2.3,1.7,4.5,6.4,1.3,1.6,2.6,0.6,0.5,1.1,1.6,2.7,2.8,3.2,4.5,2.8,6.6,2.8,3.0,1.3,1.3,2.6,3.3,1.4,2.2,2.0,1.8,2.9,0.8,1.9,2.6,4.0,1.9,1.7,4.6,4.5,4.6,3.9,2.5,4.0,1.0,2.1,1.7,2.9,4.8,6.6,4.0,2.6,2.2,0.9,4.5,4.2,1.4,1.5,1.0,1.4,4.0,5.1,2.2,4.8,2.1,1.8,1.3,1.4,2.7,1.7,1.8,2.6,3.1,3.2,2.2,3.8,4.2,3.0,2.6,2.5,1.9,1.9,4.7,2.3,2.8,3.9,4.4,2.2,4.0,5.7,3.0,2.9,4.2,3.2,2.4,3.6,1.7,2.4,3.5,3.9,1.7,2.3,4.6,6.5,3.6,3.6,3.3,2.4,3.1,3.6,3.9,3.6,2.6,3.4,2.3,4.1,5.0,3.0,2.7,2.3,4.3,4.7,2.1,3.7,3.7,2.6,5.2,5.1,2.6,3.0,3.0,2.6,2.8,2.5,3.3,2.8,2.0,2.8,3.0,2.1,3.0,2.6,1.8,2.1,3.7,2.6,2.7,2.7,2.1,1.8,2.1,2.5,2.5,2.2,3.4,5.0,3.0,3.9,4.3,2.6,3.2,3.5,2.7,3.0,3.5,2.3,2.6,3.7,3.5,3.0,3.1,3.0,3.2,4.3,3.4,2.4,2.4,2.6,3.0,4.7,3.9,2.1,2.7,3.4,4.3,3.4,2.6,2.9,2.1,3.2,2.4,1.9,3.4,3.7,3.0,2.2,3.1,3.3,3.2,2.8,3.3,3.4,3.3,3.9,2.4,2.8,1.9,3.8,2.4,2.6,1.9,3.4,3.8,3.5,2.6,3.1,2.0,2.3,2.6,3.5,2.9,3.7,3.6,2.2,2.4,4.4,2.7,2.2,5.2,3.7,3.7,3.0,3.0,2.1,4.2,2.6,2.5,1.8,2.3,3.4,1.7,2.1,2.6,5.8,4.7,5.8,5.0,3.8,2.9,2.9,3.5,2.4,1.5,2.4,3.3,3.6,3.1,2.1,3.0,3.4,2.8,1.9,3.8,2.6,4.3,6.8,2.7,2.0,1.8,2.5,2.6,2.7,3.8,5.1,1.9,1.3,1.3,2.9,4.8,3.7,1.6,2.6,2.2,1.1,2.6,4.7,2.6,2.8,3.2,5.0,3.4,1.3,1.3,2.0,2.6,1.8,1.3,2.7,2.6,2.9,3.4,4.6,1.7,2.8,4.7,6.7,7.2,6.0,2.8,1.4,2.2,2.3,2.7,3.0,1.8,1.3,3.9,4.6,5.1,6.5,4.5,4.1,4.0,8.0,3.8,4.2,4.0,4.7,3.1,1.3,4.5,5.7,4.3,3.0,1.0,0.9,1.7,3.5,5.0,5.9,4.7,4.0,5.9,3.4,6.2,6.3,7.5,2.8,5.6,6.1,1.7,2.9,2.3,6.0,5.1,4.1,6.7,4.3,5.0,7.6,4.3,1.5,2.5,2.9,1.3,2.6,3.4,3.5],\"yaxis\":\"y\",\"ybingroup\":\"y\",\"type\":\"histogram2d\"}],                        {\"template\":{\"data\":{\"bar\":[{\"error_x\":{\"color\":\"#2a3f5f\"},\"error_y\":{\"color\":\"#2a3f5f\"},\"marker\":{\"line\":{\"color\":\"#E5ECF6\",\"width\":0.5},\"pattern\":{\"fillmode\":\"overlay\",\"size\":10,\"solidity\":0.2}},\"type\":\"bar\"}],\"barpolar\":[{\"marker\":{\"line\":{\"color\":\"#E5ECF6\",\"width\":0.5},\"pattern\":{\"fillmode\":\"overlay\",\"size\":10,\"solidity\":0.2}},\"type\":\"barpolar\"}],\"carpet\":[{\"aaxis\":{\"endlinecolor\":\"#2a3f5f\",\"gridcolor\":\"white\",\"linecolor\":\"white\",\"minorgridcolor\":\"white\",\"startlinecolor\":\"#2a3f5f\"},\"baxis\":{\"endlinecolor\":\"#2a3f5f\",\"gridcolor\":\"white\",\"linecolor\":\"white\",\"minorgridcolor\":\"white\",\"startlinecolor\":\"#2a3f5f\"},\"type\":\"carpet\"}],\"choropleth\":[{\"colorbar\":{\"outlinewidth\":0,\"ticks\":\"\"},\"type\":\"choropleth\"}],\"contour\":[{\"colorbar\":{\"outlinewidth\":0,\"ticks\":\"\"},\"colorscale\":[[0.0,\"#0d0887\"],[0.1111111111111111,\"#46039f\"],[0.2222222222222222,\"#7201a8\"],[0.3333333333333333,\"#9c179e\"],[0.4444444444444444,\"#bd3786\"],[0.5555555555555556,\"#d8576b\"],[0.6666666666666666,\"#ed7953\"],[0.7777777777777778,\"#fb9f3a\"],[0.8888888888888888,\"#fdca26\"],[1.0,\"#f0f921\"]],\"type\":\"contour\"}],\"contourcarpet\":[{\"colorbar\":{\"outlinewidth\":0,\"ticks\":\"\"},\"type\":\"contourcarpet\"}],\"heatmap\":[{\"colorbar\":{\"outlinewidth\":0,\"ticks\":\"\"},\"colorscale\":[[0.0,\"#0d0887\"],[0.1111111111111111,\"#46039f\"],[0.2222222222222222,\"#7201a8\"],[0.3333333333333333,\"#9c179e\"],[0.4444444444444444,\"#bd3786\"],[0.5555555555555556,\"#d8576b\"],[0.6666666666666666,\"#ed7953\"],[0.7777777777777778,\"#fb9f3a\"],[0.8888888888888888,\"#fdca26\"],[1.0,\"#f0f921\"]],\"type\":\"heatmap\"}],\"heatmapgl\":[{\"colorbar\":{\"outlinewidth\":0,\"ticks\":\"\"},\"colorscale\":[[0.0,\"#0d0887\"],[0.1111111111111111,\"#46039f\"],[0.2222222222222222,\"#7201a8\"],[0.3333333333333333,\"#9c179e\"],[0.4444444444444444,\"#bd3786\"],[0.5555555555555556,\"#d8576b\"],[0.6666666666666666,\"#ed7953\"],[0.7777777777777778,\"#fb9f3a\"],[0.8888888888888888,\"#fdca26\"],[1.0,\"#f0f921\"]],\"type\":\"heatmapgl\"}],\"histogram\":[{\"marker\":{\"pattern\":{\"fillmode\":\"overlay\",\"size\":10,\"solidity\":0.2}},\"type\":\"histogram\"}],\"histogram2d\":[{\"colorbar\":{\"outlinewidth\":0,\"ticks\":\"\"},\"colorscale\":[[0.0,\"#0d0887\"],[0.1111111111111111,\"#46039f\"],[0.2222222222222222,\"#7201a8\"],[0.3333333333333333,\"#9c179e\"],[0.4444444444444444,\"#bd3786\"],[0.5555555555555556,\"#d8576b\"],[0.6666666666666666,\"#ed7953\"],[0.7777777777777778,\"#fb9f3a\"],[0.8888888888888888,\"#fdca26\"],[1.0,\"#f0f921\"]],\"type\":\"histogram2d\"}],\"histogram2dcontour\":[{\"colorbar\":{\"outlinewidth\":0,\"ticks\":\"\"},\"colorscale\":[[0.0,\"#0d0887\"],[0.1111111111111111,\"#46039f\"],[0.2222222222222222,\"#7201a8\"],[0.3333333333333333,\"#9c179e\"],[0.4444444444444444,\"#bd3786\"],[0.5555555555555556,\"#d8576b\"],[0.6666666666666666,\"#ed7953\"],[0.7777777777777778,\"#fb9f3a\"],[0.8888888888888888,\"#fdca26\"],[1.0,\"#f0f921\"]],\"type\":\"histogram2dcontour\"}],\"mesh3d\":[{\"colorbar\":{\"outlinewidth\":0,\"ticks\":\"\"},\"type\":\"mesh3d\"}],\"parcoords\":[{\"line\":{\"colorbar\":{\"outlinewidth\":0,\"ticks\":\"\"}},\"type\":\"parcoords\"}],\"pie\":[{\"automargin\":true,\"type\":\"pie\"}],\"scatter\":[{\"marker\":{\"colorbar\":{\"outlinewidth\":0,\"ticks\":\"\"}},\"type\":\"scatter\"}],\"scatter3d\":[{\"line\":{\"colorbar\":{\"outlinewidth\":0,\"ticks\":\"\"}},\"marker\":{\"colorbar\":{\"outlinewidth\":0,\"ticks\":\"\"}},\"type\":\"scatter3d\"}],\"scattercarpet\":[{\"marker\":{\"colorbar\":{\"outlinewidth\":0,\"ticks\":\"\"}},\"type\":\"scattercarpet\"}],\"scattergeo\":[{\"marker\":{\"colorbar\":{\"outlinewidth\":0,\"ticks\":\"\"}},\"type\":\"scattergeo\"}],\"scattergl\":[{\"marker\":{\"colorbar\":{\"outlinewidth\":0,\"ticks\":\"\"}},\"type\":\"scattergl\"}],\"scattermapbox\":[{\"marker\":{\"colorbar\":{\"outlinewidth\":0,\"ticks\":\"\"}},\"type\":\"scattermapbox\"}],\"scatterpolar\":[{\"marker\":{\"colorbar\":{\"outlinewidth\":0,\"ticks\":\"\"}},\"type\":\"scatterpolar\"}],\"scatterpolargl\":[{\"marker\":{\"colorbar\":{\"outlinewidth\":0,\"ticks\":\"\"}},\"type\":\"scatterpolargl\"}],\"scatterternary\":[{\"marker\":{\"colorbar\":{\"outlinewidth\":0,\"ticks\":\"\"}},\"type\":\"scatterternary\"}],\"surface\":[{\"colorbar\":{\"outlinewidth\":0,\"ticks\":\"\"},\"colorscale\":[[0.0,\"#0d0887\"],[0.1111111111111111,\"#46039f\"],[0.2222222222222222,\"#7201a8\"],[0.3333333333333333,\"#9c179e\"],[0.4444444444444444,\"#bd3786\"],[0.5555555555555556,\"#d8576b\"],[0.6666666666666666,\"#ed7953\"],[0.7777777777777778,\"#fb9f3a\"],[0.8888888888888888,\"#fdca26\"],[1.0,\"#f0f921\"]],\"type\":\"surface\"}],\"table\":[{\"cells\":{\"fill\":{\"color\":\"#EBF0F8\"},\"line\":{\"color\":\"white\"}},\"header\":{\"fill\":{\"color\":\"#C8D4E3\"},\"line\":{\"color\":\"white\"}},\"type\":\"table\"}]},\"layout\":{\"annotationdefaults\":{\"arrowcolor\":\"#2a3f5f\",\"arrowhead\":0,\"arrowwidth\":1},\"autotypenumbers\":\"strict\",\"coloraxis\":{\"colorbar\":{\"outlinewidth\":0,\"ticks\":\"\"}},\"colorscale\":{\"diverging\":[[0,\"#8e0152\"],[0.1,\"#c51b7d\"],[0.2,\"#de77ae\"],[0.3,\"#f1b6da\"],[0.4,\"#fde0ef\"],[0.5,\"#f7f7f7\"],[0.6,\"#e6f5d0\"],[0.7,\"#b8e186\"],[0.8,\"#7fbc41\"],[0.9,\"#4d9221\"],[1,\"#276419\"]],\"sequential\":[[0.0,\"#0d0887\"],[0.1111111111111111,\"#46039f\"],[0.2222222222222222,\"#7201a8\"],[0.3333333333333333,\"#9c179e\"],[0.4444444444444444,\"#bd3786\"],[0.5555555555555556,\"#d8576b\"],[0.6666666666666666,\"#ed7953\"],[0.7777777777777778,\"#fb9f3a\"],[0.8888888888888888,\"#fdca26\"],[1.0,\"#f0f921\"]],\"sequentialminus\":[[0.0,\"#0d0887\"],[0.1111111111111111,\"#46039f\"],[0.2222222222222222,\"#7201a8\"],[0.3333333333333333,\"#9c179e\"],[0.4444444444444444,\"#bd3786\"],[0.5555555555555556,\"#d8576b\"],[0.6666666666666666,\"#ed7953\"],[0.7777777777777778,\"#fb9f3a\"],[0.8888888888888888,\"#fdca26\"],[1.0,\"#f0f921\"]]},\"colorway\":[\"#636efa\",\"#EF553B\",\"#00cc96\",\"#ab63fa\",\"#FFA15A\",\"#19d3f3\",\"#FF6692\",\"#B6E880\",\"#FF97FF\",\"#FECB52\"],\"font\":{\"color\":\"#2a3f5f\"},\"geo\":{\"bgcolor\":\"white\",\"lakecolor\":\"white\",\"landcolor\":\"#E5ECF6\",\"showlakes\":true,\"showland\":true,\"subunitcolor\":\"white\"},\"hoverlabel\":{\"align\":\"left\"},\"hovermode\":\"closest\",\"mapbox\":{\"style\":\"light\"},\"paper_bgcolor\":\"white\",\"plot_bgcolor\":\"#E5ECF6\",\"polar\":{\"angularaxis\":{\"gridcolor\":\"white\",\"linecolor\":\"white\",\"ticks\":\"\"},\"bgcolor\":\"#E5ECF6\",\"radialaxis\":{\"gridcolor\":\"white\",\"linecolor\":\"white\",\"ticks\":\"\"}},\"scene\":{\"xaxis\":{\"backgroundcolor\":\"#E5ECF6\",\"gridcolor\":\"white\",\"gridwidth\":2,\"linecolor\":\"white\",\"showbackground\":true,\"ticks\":\"\",\"zerolinecolor\":\"white\"},\"yaxis\":{\"backgroundcolor\":\"#E5ECF6\",\"gridcolor\":\"white\",\"gridwidth\":2,\"linecolor\":\"white\",\"showbackground\":true,\"ticks\":\"\",\"zerolinecolor\":\"white\"},\"zaxis\":{\"backgroundcolor\":\"#E5ECF6\",\"gridcolor\":\"white\",\"gridwidth\":2,\"linecolor\":\"white\",\"showbackground\":true,\"ticks\":\"\",\"zerolinecolor\":\"white\"}},\"shapedefaults\":{\"line\":{\"color\":\"#2a3f5f\"}},\"ternary\":{\"aaxis\":{\"gridcolor\":\"white\",\"linecolor\":\"white\",\"ticks\":\"\"},\"baxis\":{\"gridcolor\":\"white\",\"linecolor\":\"white\",\"ticks\":\"\"},\"bgcolor\":\"#E5ECF6\",\"caxis\":{\"gridcolor\":\"white\",\"linecolor\":\"white\",\"ticks\":\"\"}},\"title\":{\"x\":0.05},\"xaxis\":{\"automargin\":true,\"gridcolor\":\"white\",\"linecolor\":\"white\",\"ticks\":\"\",\"title\":{\"standoff\":15},\"zerolinecolor\":\"white\",\"zerolinewidth\":2},\"yaxis\":{\"automargin\":true,\"gridcolor\":\"white\",\"linecolor\":\"white\",\"ticks\":\"\",\"title\":{\"standoff\":15},\"zerolinecolor\":\"white\",\"zerolinewidth\":2}}},\"xaxis\":{\"anchor\":\"y\",\"domain\":[0.0,1.0],\"title\":{\"text\":\"temp_max\"}},\"yaxis\":{\"anchor\":\"x\",\"domain\":[0.0,1.0],\"title\":{\"text\":\"wind\"}},\"coloraxis\":{\"colorbar\":{\"title\":{\"text\":\"count\"}},\"colorscale\":[[0.0,\"#440154\"],[0.1111111111111111,\"#482878\"],[0.2222222222222222,\"#3e4989\"],[0.3333333333333333,\"#31688e\"],[0.4444444444444444,\"#26828e\"],[0.5555555555555556,\"#1f9e89\"],[0.6666666666666666,\"#35b779\"],[0.7777777777777778,\"#6ece58\"],[0.8888888888888888,\"#b5de2b\"],[1.0,\"#fde725\"]]},\"legend\":{\"tracegroupgap\":0},\"title\":{\"text\":\"Density Plot of Wind Speed by Temperature\"}},                        {\"responsive\": true}                    ).then(function(){\n",
              "                            \n",
              "var gd = document.getElementById('618990c7-097d-4727-8b2c-b507f29e4de8');\n",
              "var x = new MutationObserver(function (mutations, observer) {{\n",
              "        var display = window.getComputedStyle(gd).display;\n",
              "        if (!display || display === 'none') {{\n",
              "            console.log([gd, 'removed!']);\n",
              "            Plotly.purge(gd);\n",
              "            observer.disconnect();\n",
              "        }}\n",
              "}});\n",
              "\n",
              "// Listen for the removal of the full notebook cells\n",
              "var notebookContainer = gd.closest('#notebook-container');\n",
              "if (notebookContainer) {{\n",
              "    x.observe(notebookContainer, {childList: true});\n",
              "}}\n",
              "\n",
              "// Listen for the clearing of the current output cell\n",
              "var outputEl = gd.closest('.output');\n",
              "if (outputEl) {{\n",
              "    x.observe(outputEl, {childList: true});\n",
              "}}\n",
              "\n",
              "                        })                };                            </script>        </div>\n",
              "</body>\n",
              "</html>"
            ]
          },
          "metadata": {}
        }
      ]
    },
    {
      "cell_type": "code",
      "source": [
        "# Violin plot of temperature by month\n",
        "\n",
        "# Create a violin plot of maximum temperature by month\n",
        "fig = px.violin(df, x='month', y='temp_max', title='Distribution of Maximum Temperature by Month')\n",
        "\n",
        "# Show the chart\n",
        "fig.show()"
      ],
      "metadata": {
        "colab": {
          "base_uri": "https://localhost:8080/",
          "height": 562
        },
        "id": "QSO6sebehoSU",
        "outputId": "580fdcae-21e9-416d-e455-fbd8c5cd66a1"
      },
      "execution_count": 474,
      "outputs": [
        {
          "output_type": "display_data",
          "data": {
            "text/html": [
              "<html>\n",
              "<head><meta charset=\"utf-8\" /></head>\n",
              "<body>\n",
              "    <div>            <script src=\"https://cdnjs.cloudflare.com/ajax/libs/mathjax/2.7.5/MathJax.js?config=TeX-AMS-MML_SVG\"></script><script type=\"text/javascript\">if (window.MathJax) {MathJax.Hub.Config({SVG: {font: \"STIX-Web\"}});}</script>                <script type=\"text/javascript\">window.PlotlyConfig = {MathJaxConfig: 'local'};</script>\n",
              "        <script src=\"https://cdn.plot.ly/plotly-2.8.3.min.js\"></script>                <div id=\"5a781b6c-a4cb-4ccb-990c-b4f0427de640\" class=\"plotly-graph-div\" style=\"height:525px; width:100%;\"></div>            <script type=\"text/javascript\">                                    window.PLOTLYENV=window.PLOTLYENV || {};                                    if (document.getElementById(\"5a781b6c-a4cb-4ccb-990c-b4f0427de640\")) {                    Plotly.newPlot(                        \"5a781b6c-a4cb-4ccb-990c-b4f0427de640\",                        [{\"alignmentgroup\":\"True\",\"box\":{\"visible\":false},\"hovertemplate\":\"month=%{x}<br>temp_max=%{y}<extra></extra>\",\"legendgroup\":\"\",\"marker\":{\"color\":\"#636efa\"},\"name\":\"\",\"offsetgroup\":\"\",\"orientation\":\"v\",\"scalegroup\":\"True\",\"showlegend\":false,\"x\":[1,1,1,1,1,1,1,1,1,1,1,1,1,1,1,1,1,1,1,1,1,1,1,1,1,1,1,1,1,1,1,2,2,2,2,2,2,2,2,2,2,2,2,2,2,2,2,2,2,2,2,2,2,2,2,2,2,2,2,2,3,3,3,3,3,3,3,3,3,3,3,3,3,3,3,3,3,3,3,3,3,3,3,3,3,3,3,3,3,3,3,4,4,4,4,4,4,4,4,4,4,4,4,4,4,4,4,4,4,4,4,4,4,4,4,4,4,4,4,4,4,5,5,5,5,5,5,5,5,5,5,5,5,5,5,5,5,5,5,5,5,5,5,5,5,5,5,5,5,5,5,5,6,6,6,6,6,6,6,6,6,6,6,6,6,6,6,6,6,6,6,6,6,6,6,6,6,6,6,6,6,6,7,7,7,7,7,7,7,7,7,7,7,7,7,7,7,7,7,7,7,7,7,7,7,7,7,7,7,7,7,7,7,8,8,8,8,8,8,8,8,8,8,8,8,8,8,8,8,8,8,8,8,8,8,8,8,8,8,8,8,8,8,8,9,9,9,9,9,9,9,9,9,9,9,9,9,9,9,9,9,9,9,9,9,9,9,9,9,9,9,9,9,9,10,10,10,10,10,10,10,10,10,10,10,10,10,10,10,10,10,10,10,10,10,10,10,10,10,10,10,10,10,10,10,11,11,11,11,11,11,11,11,11,11,11,11,11,11,11,11,11,11,11,11,11,11,11,11,11,11,11,11,11,11,12,12,12,12,12,12,12,12,12,12,12,12,12,12,12,12,12,12,12,12,12,12,12,12,12,12,12,12,12,12,12,1,1,1,1,1,1,1,1,1,1,1,1,1,1,1,1,1,1,1,1,1,1,1,1,1,1,1,1,1,1,1,2,2,2,2,2,2,2,2,2,2,2,2,2,2,2,2,2,2,2,2,2,2,2,2,2,2,2,2,3,3,3,3,3,3,3,3,3,3,3,3,3,3,3,3,3,3,3,3,3,3,3,3,3,3,3,3,3,3,3,4,4,4,4,4,4,4,4,4,4,4,4,4,4,4,4,4,4,4,4,4,4,4,4,4,4,4,4,4,4,5,5,5,5,5,5,5,5,5,5,5,5,5,5,5,5,5,5,5,5,5,5,5,5,5,5,5,5,5,5,5,6,6,6,6,6,6,6,6,6,6,6,6,6,6,6,6,6,6,6,6,6,6,6,6,6,6,6,6,6,6,7,7,7,7,7,7,7,7,7,7,7,7,7,7,7,7,7,7,7,7,7,7,7,7,7,7,7,7,7,7,7,8,8,8,8,8,8,8,8,8,8,8,8,8,8,8,8,8,8,8,8,8,8,8,8,8,8,8,8,8,8,8,9,9,9,9,9,9,9,9,9,9,9,9,9,9,9,9,9,9,9,9,9,9,9,9,9,9,9,9,9,9,10,10,10,10,10,10,10,10,10,10,10,10,10,10,10,10,10,10,10,10,10,10,10,10,10,10,10,10,10,10,10,11,11,11,11,11,11,11,11,11,11,11,11,11,11,11,11,11,11,11,11,11,11,11,11,11,11,11,11,11,11,12,12,12,12,12,12,12,12,12,12,12,12,12,12,12,12,12,12,12,12,12,12,12,12,12,12,12,12,12,12,12,1,1,1,1,1,1,1,1,1,1,1,1,1,1,1,1,1,1,1,1,1,1,1,1,1,1,1,1,1,1,1,2,2,2,2,2,2,2,2,2,2,2,2,2,2,2,2,2,2,2,2,2,2,2,2,2,2,2,2,3,3,3,3,3,3,3,3,3,3,3,3,3,3,3,3,3,3,3,3,3,3,3,3,3,3,3,3,3,3,3,4,4,4,4,4,4,4,4,4,4,4,4,4,4,4,4,4,4,4,4,4,4,4,4,4,4,4,4,4,4,5,5,5,5,5,5,5,5,5,5,5,5,5,5,5,5,5,5,5,5,5,5,5,5,5,5,5,5,5,5,5,6,6,6,6,6,6,6,6,6,6,6,6,6,6,6,6,6,6,6,6,6,6,6,6,6,6,6,6,6,6,7,7,7,7,7,7,7,7,7,7,7,7,7,7,7,7,7,7,7,7,7,7,7,7,7,7,7,7,7,7,7,8,8,8,8,8,8,8,8,8,8,8,8,8,8,8,8,8,8,8,8,8,8,8,8,8,8,8,8,8,8,8,9,9,9,9,9,9,9,9,9,9,9,9,9,9,9,9,9,9,9,9,9,9,9,9,9,9,9,9,9,9,10,10,10,10,10,10,10,10,10,10,10,10,10,10,10,10,10,10,10,10,10,10,10,10,10,10,10,10,10,10,10,11,11,11,11,11,11,11,11,11,11,11,11,11,11,11,11,11,11,11,11,11,11,11,11,11,11,11,11,11,11,12,12,12,12,12,12,12,12,12,12,12,12,12,12,12,12,12,12,12,12,12,12,12,12,12,12,12,12,12,12,12,1,1,1,1,1,1,1,1,1,1,1,1,1,1,1,1,1,1,1,1,1,1,1,1,1,1,1,1,1,1,1,2,2,2,2,2,2,2,2,2,2,2,2,2,2,2,2,2,2,2,2,2,2,2,2,2,2,2,2,3,3,3,3,3,3,3,3,3,3,3,3,3,3,3,3,3,3,3,3,3,3,3,3,3,3,3,3,3,3,3,4,4,4,4,4,4,4,4,4,4,4,4,4,4,4,4,4,4,4,4,4,4,4,4,4,4,4,4,4,4,5,5,5,5,5,5,5,5,5,5,5,5,5,5,5,5,5,5,5,5,5,5,5,5,5,5,5,5,5,5,5,6,6,6,6,6,6,6,6,6,6,6,6,6,6,6,6,6,6,6,6,6,6,6,6,6,6,6,6,6,6,7,7,7,7,7,7,7,7,7,7,7,7,7,7,7,7,7,7,7,7,7,7,7,7,7,7,7,7,7,7,7,8,8,8,8,8,8,8,8,8,8,8,8,8,8,8,8,8,8,8,8,8,8,8,8,8,8,8,8,8,8,8,9,9,9,9,9,9,9,9,9,9,9,9,9,9,9,9,9,9,9,9,9,9,9,9,9,9,9,9,9,9,10,10,10,10,10,10,10,10,10,10,10,10,10,10,10,10,10,10,10,10,10,10,10,10,10,10,10,10,10,10,10,11,11,11,11,11,11,11,11,11,11,11,11,11,11,11,11,11,11,11,11,11,11,11,11,11,11,11,11,11,11,12,12,12,12,12,12,12,12,12,12,12,12,12,12,12,12,12,12,12,12,12,12,12,12,12,12,12,12,12,12,12],\"x0\":\" \",\"xaxis\":\"x\",\"y\":[12.8,10.6,11.7,12.2,8.9,4.4,7.2,10.0,9.4,6.1,6.1,6.1,5.0,4.4,1.1,1.7,3.3,0.0,-1.1,7.2,8.3,6.7,8.3,10.0,8.9,8.9,6.7,6.7,9.4,8.3,9.4,8.9,8.3,14.4,15.6,13.9,16.1,15.6,10.0,11.1,12.8,8.9,8.3,7.2,6.7,7.2,7.2,10.0,6.7,6.7,7.8,10.0,10.0,8.3,6.7,7.2,5.0,6.7,6.7,5.0,6.1,6.7,12.2,10.6,7.8,6.7,8.9,15.6,9.4,7.2,6.7,8.3,5.6,7.8,11.1,8.9,10.0,5.0,7.2,7.8,8.9,10.0,12.2,15.0,13.3,12.8,14.4,10.6,10.0,9.4,10.0,8.9,16.7,11.7,10.6,9.4,11.1,16.1,21.1,20.0,17.8,11.1,13.9,15.0,15.6,16.1,13.3,10.0,13.3,13.9,13.3,20.0,23.3,21.7,13.9,16.7,13.9,13.3,16.1,15.6,12.8,11.7,13.3,11.1,12.2,13.3,17.8,23.9,18.3,13.3,14.4,18.3,24.4,25.6,26.7,24.4,19.4,17.8,15.6,19.4,14.4,16.7,12.8,14.4,17.2,22.2,22.2,17.2,16.7,16.1,18.9,17.8,20.0,18.9,17.2,12.8,13.3,16.1,16.1,15.0,17.2,18.9,23.3,18.3,16.1,17.2,22.2,21.1,18.9,17.2,19.4,24.4,23.9,13.9,15.6,19.4,19.4,18.3,22.8,22.2,21.7,20.0,20.0,18.9,18.3,20.6,24.4,25.0,26.7,28.3,25.0,23.9,27.8,25.6,23.3,25.0,18.9,26.1,21.7,21.1,25.0,19.4,23.9,20.6,18.9,23.3,26.7,25.6,18.9,22.2,22.8,19.4,22.8,23.9,23.3,27.2,33.9,33.9,28.3,21.1,22.2,24.4,25.6,28.3,30.6,30.6,28.9,31.1,34.4,32.8,21.7,23.3,25.6,23.3,22.2,21.1,22.2,26.1,21.1,23.9,22.8,22.8,22.8,22.2,21.7,21.1,22.8,24.4,26.1,28.3,32.2,25.0,18.9,20.0,20.0,22.2,27.8,26.1,22.2,24.4,27.8,27.8,23.9,19.4,16.1,19.4,19.4,21.1,19.4,19.4,22.8,25.0,20.6,21.1,23.3,17.8,18.9,18.9,21.7,23.9,23.9,21.1,16.1,12.2,13.9,13.9,15.6,17.8,17.2,16.1,14.4,17.8,15.0,11.1,11.7,7.8,11.1,11.7,11.7,11.1,14.4,14.4,15.6,15.0,15.6,15.0,15.0,15.6,17.8,15.0,12.8,12.2,10.0,8.9,7.8,8.9,12.8,11.1,11.1,9.4,9.4,12.2,10.0,13.3,11.1,8.3,8.9,9.4,8.9,8.3,9.4,10.0,9.4,12.8,15.0,13.3,8.3,9.4,11.7,8.9,7.2,7.8,6.7,6.7,7.2,7.8,6.7,7.2,6.1,4.4,6.7,8.3,3.9,8.3,7.2,8.3,8.3,7.2,5.6,5.6,6.7,7.8,8.3,5.0,4.4,3.3,5.0,6.1,6.7,10.0,6.7,7.2,10.0,11.7,10.0,3.3,2.8,2.8,2.2,3.3,6.7,6.1,3.9,3.3,1.1,3.3,2.2,3.3,7.2,7.2,10.6,8.3,5.6,6.1,8.3,8.9,9.4,11.7,6.1,8.9,10.6,10.0,10.6,9.4,7.8,8.3,8.9,8.3,11.1,9.4,9.4,13.3,11.1,9.4,7.8,10.6,7.8,6.7,7.8,10.0,8.9,10.6,8.9,10.0,11.7,15.0,13.9,11.1,13.3,9.4,7.2,12.2,11.7,12.8,7.8,10.6,12.8,11.7,11.7,14.4,10.6,8.9,11.7,12.8,11.1,10.0,9.4,10.0,12.2,16.7,16.7,13.3,16.1,18.3,20.0,20.6,17.2,13.9,16.7,14.4,13.9,12.2,8.3,13.3,12.2,15.0,12.2,7.8,10.6,12.8,13.9,13.9,15.0,11.7,13.3,13.9,12.2,16.1,17.8,21.1,21.7,20.6,13.9,15.0,13.9,12.8,18.3,20.6,21.7,25.0,28.9,30.6,20.6,19.4,22.8,26.1,27.2,21.7,18.9,18.3,17.2,21.7,17.2,16.7,18.3,19.4,15.6,11.1,12.2,16.7,17.8,18.3,16.7,17.2,16.1,16.7,19.4,22.8,20.6,22.2,26.1,26.7,26.7,21.7,20.6,20.6,21.7,20.0,20.6,21.1,20.0,25.6,23.9,25.6,23.3,20.0,17.2,20.6,25.6,22.2,21.1,23.3,22.2,21.1,30.6,30.0,33.9,31.7,28.3,26.1,21.7,23.3,26.1,23.9,26.7,30.0,22.2,22.8,19.4,26.1,27.8,27.8,31.1,22.2,26.1,27.8,25.0,23.9,26.1,31.1,31.1,31.1,31.1,25.6,21.1,25.0,25.0,21.7,20.6,17.2,25.0,28.9,30.0,30.6,31.1,28.3,28.3,25.6,25.0,25.6,27.8,27.2,21.1,28.9,25.6,26.1,26.7,25.6,27.8,28.9,25.0,25.0,22.2,24.4,26.7,26.7,23.9,26.1,27.8,27.8,27.8,25.0,22.8,20.0,21.7,23.3,26.7,26.1,26.7,33.9,25.6,18.9,21.7,18.9,21.7,17.8,21.1,25.6,23.3,21.1,17.2,16.1,17.8,16.1,17.2,13.9,16.7,14.4,13.9,14.4,12.8,14.4,17.8,20.0,22.8,16.1,13.9,15.0,14.4,13.9,14.4,15.0,15.6,15.6,12.8,14.4,12.8,10.6,10.6,11.7,14.4,12.8,10.0,12.2,11.7,13.9,14.4,13.3,15.0,14.4,17.8,14.4,12.2,10.6,13.3,12.8,11.1,13.3,11.1,11.1,16.1,15.6,13.9,11.1,10.6,10.0,11.7,12.8,13.3,7.8,7.8,9.4,11.1,11.7,12.2,12.2,14.4,11.7,9.4,11.1,13.3,7.8,5.0,4.4,1.1,1.1,0.0,2.2,1.1,5.6,5.0,5.6,9.4,9.4,11.7,10.0,8.3,7.8,5.0,8.3,8.9,10.6,11.7,8.3,6.7,6.7,8.9,9.4,7.2,8.9,8.3,7.2,10.6,8.9,7.8,8.3,7.8,8.3,10.0,9.4,12.8,14.4,11.1,10.6,11.1,11.1,6.7,5.6,9.4,6.1,10.0,10.0,9.4,10.0,12.8,12.2,8.3,9.4,11.1,11.1,8.3,7.8,7.8,8.9,5.0,2.8,-0.5,-1.6,3.3,5.6,3.9,10.0,12.2,12.2,12.8,11.7,11.1,9.4,8.3,8.9,8.3,10.0,6.7,5.6,7.2,6.7,12.2,13.9,12.8,14.4,7.2,11.1,14.4,13.9,15.6,13.3,15.6,12.8,15.0,12.2,14.4,16.1,13.9,14.4,16.7,10.6,10.0,10.0,11.1,11.1,10.6,11.1,12.8,18.9,13.9,11.1,12.2,11.7,11.7,11.1,15.6,14.4,14.4,13.3,12.8,11.7,13.9,21.1,15.6,14.4,15.0,17.2,16.1,20.6,20.0,14.4,11.1,11.7,14.4,11.7,15.6,17.2,12.2,11.7,13.9,14.4,15.0,11.1,16.1,25.0,27.8,29.4,18.3,15.0,14.4,15.6,16.7,18.3,13.9,13.3,15.6,18.9,24.4,26.7,27.8,26.7,20.0,20.0,20.0,21.1,22.2,20.0,24.4,20.0,18.3,15.0,18.3,20.0,18.9,18.9,20.6,23.3,22.2,23.3,18.3,19.4,22.2,25.0,24.4,23.3,21.1,20.0,23.9,21.7,15.6,17.8,18.3,17.8,17.8,18.9,25.6,20.0,22.2,25.0,25.0,24.4,26.1,21.1,21.1,20.0,20.6,25.6,34.4,27.2,21.7,23.9,24.4,28.9,27.2,30.0,26.7,28.9,31.1,32.2,29.4,27.8,31.1,31.1,26.7,23.9,25.6,19.4,23.9,21.1,18.9,20.6,22.8,26.1,28.3,30.6,30.0,29.4,30.6,28.9,29.4,31.7,32.8,25.0,26.1,25.6,25.6,27.2,30.6,35.6,27.2,23.3,21.1,24.4,25.6,27.8,29.4,27.2,21.7,21.1,23.9,27.8,25.0,28.9,31.1,28.9,23.3,22.8,17.8,21.1,23.3,20.0,20.6,23.9,27.8,32.2,28.3,21.1,21.7,22.2,24.4,24.4,28.3,30.0,30.6,22.2,22.8,19.4,23.9,24.4,26.1,22.2,18.9,18.9,21.7,20.0,20.6,18.9,16.7,19.4,18.3,19.4,22.2,21.7,23.9,25.6,18.9,20.6,17.2,18.3,18.3,17.8,21.1,16.7,16.1,20.6,16.7,19.4,22.2,16.1,16.1,15.6,14.4,14.4,16.7,12.8,15.6,15.0,16.7,15.6,12.8,11.1,13.3,13.9,14.4,15.0,16.7,14.4,12.8,13.3,11.1,7.8,6.7,7.2,7.2,8.3,9.4,10.6,7.2,11.1,11.1,11.1,9.4,12.8,11.7,13.9,15.0,14.4,12.8,4.4,2.8,4.4,5.6,10.0,8.3,12.8,11.7,14.4,14.4,16.1,18.9,14.4,11.1,10.0,12.8,12.2,10.0,8.9,9.4,11.1,12.8,12.8,10.6,12.2,7.2,7.8,5.6,9.4,6.7,6.1,3.3,3.3,5.6,5.6,5.0,10.6,12.2,12.2,7.8,7.8,10.0,7.8,9.4,11.1,9.4,6.1,7.8,11.7,13.3,13.9,10.0,10.0,7.2,9.4,12.2,14.4,17.2,16.1,11.1,12.2,12.2,8.3,7.2,9.4,11.1,10.0,10.6,13.3,14.4,12.2,15.0,13.3,12.8,12.8,16.7,15.6,14.4,12.2,15.0,16.1,12.2,10.6,11.1,12.2,11.7,12.8,11.1,10.0,11.7,10.0,12.2,11.1,11.1,10.6,12.8,13.3,15.0,16.7,17.2,14.4,13.3,14.4,17.8,17.2,13.9,10.6,13.9,13.3,15.6,15.6,13.9,13.3,11.7,11.1,12.8,14.4,20.6,18.3,15.6,15.6,17.8,12.8,12.8,13.3,11.1,12.8,16.7,13.9,14.4,17.2,17.2,13.9,11.7,13.3,11.7,11.7,13.9,17.8,18.9,18.9,21.1,22.8,17.2,15.6,12.2,12.2,13.3,15.6,25.0,15.6,16.1,17.2,18.3,18.3,20.6,17.2,14.4,16.7,20.6,23.9,26.7,19.4,13.9,15.6,12.2,17.8,20.0,15.6,19.4,25.6,21.7,23.3,25.6,16.7,16.1,17.8,15.6,21.7,24.4,27.8,26.1,22.8,25.0,16.1,17.8,20.0,22.8,26.7,29.4,31.1,30.6,28.9,25.6,24.4,20.0,23.9,27.8,30.0,22.8,25.0,24.4,23.9,25.0,25.6,25.0,26.1,25.6,30.6,31.7,33.3,28.3,28.9,30.6,32.2,33.9,33.3,33.3,32.8,29.4,27.2,30.0,28.9,21.1,22.2,26.1,25.6,27.8,26.1,26.1,27.8,33.3,35.0,26.7,23.9,23.9,26.1,22.8,21.1,22.2,23.3,27.8,32.2,34.4,34.4,33.3,30.6,28.3,26.1,23.3,25.0,28.3,25.0,28.3,28.9,30.0,28.3,28.3,18.3,21.7,25.0,27.2,30.0,31.7,22.8,22.2,26.7,27.8,23.9,25.6,28.3,29.4,23.3,22.2,20.0,18.9,19.4,19.4,18.3,18.3,20.6,16.1,21.1,22.8,24.4,25.0,27.2,26.7,20.6,16.7,17.8,20.0,18.3,19.4,21.1,22.8,18.3,18.9,20.6,22.2,15.6,18.3,17.8,21.1,21.7,18.3,21.1,15.6,19.4,22.8,23.3,18.3,16.1,18.9,19.4,21.1,17.8,18.3,16.7,15.0,21.1,20.0,19.4,15.0,17.2,17.8,16.1,16.1,12.8,15.0,19.4,12.2,16.1,13.9,15.0,17.2,15.6,12.2,11.1,10.6,10.0,11.7,15.6,12.2,11.1,10.0,11.1,11.1,11.1,13.3,9.4,8.9,8.9,13.3,8.9,8.9,8.3,8.9,10.0,6.7,6.7,7.2,9.4,9.4,7.2,1.7,5.6,10.0,10.6,15.6,10.6,10.0,12.8,11.1,15.6,12.2,11.7,9.4,8.9,7.8,7.8,6.7,6.1,6.7,8.9,8.3,7.8,5.6,7.8,5.0,5.6,5.0,4.4,4.4,5.0,7.2,5.6,5.6],\"y0\":\" \",\"yaxis\":\"y\",\"type\":\"violin\"}],                        {\"template\":{\"data\":{\"bar\":[{\"error_x\":{\"color\":\"#2a3f5f\"},\"error_y\":{\"color\":\"#2a3f5f\"},\"marker\":{\"line\":{\"color\":\"#E5ECF6\",\"width\":0.5},\"pattern\":{\"fillmode\":\"overlay\",\"size\":10,\"solidity\":0.2}},\"type\":\"bar\"}],\"barpolar\":[{\"marker\":{\"line\":{\"color\":\"#E5ECF6\",\"width\":0.5},\"pattern\":{\"fillmode\":\"overlay\",\"size\":10,\"solidity\":0.2}},\"type\":\"barpolar\"}],\"carpet\":[{\"aaxis\":{\"endlinecolor\":\"#2a3f5f\",\"gridcolor\":\"white\",\"linecolor\":\"white\",\"minorgridcolor\":\"white\",\"startlinecolor\":\"#2a3f5f\"},\"baxis\":{\"endlinecolor\":\"#2a3f5f\",\"gridcolor\":\"white\",\"linecolor\":\"white\",\"minorgridcolor\":\"white\",\"startlinecolor\":\"#2a3f5f\"},\"type\":\"carpet\"}],\"choropleth\":[{\"colorbar\":{\"outlinewidth\":0,\"ticks\":\"\"},\"type\":\"choropleth\"}],\"contour\":[{\"colorbar\":{\"outlinewidth\":0,\"ticks\":\"\"},\"colorscale\":[[0.0,\"#0d0887\"],[0.1111111111111111,\"#46039f\"],[0.2222222222222222,\"#7201a8\"],[0.3333333333333333,\"#9c179e\"],[0.4444444444444444,\"#bd3786\"],[0.5555555555555556,\"#d8576b\"],[0.6666666666666666,\"#ed7953\"],[0.7777777777777778,\"#fb9f3a\"],[0.8888888888888888,\"#fdca26\"],[1.0,\"#f0f921\"]],\"type\":\"contour\"}],\"contourcarpet\":[{\"colorbar\":{\"outlinewidth\":0,\"ticks\":\"\"},\"type\":\"contourcarpet\"}],\"heatmap\":[{\"colorbar\":{\"outlinewidth\":0,\"ticks\":\"\"},\"colorscale\":[[0.0,\"#0d0887\"],[0.1111111111111111,\"#46039f\"],[0.2222222222222222,\"#7201a8\"],[0.3333333333333333,\"#9c179e\"],[0.4444444444444444,\"#bd3786\"],[0.5555555555555556,\"#d8576b\"],[0.6666666666666666,\"#ed7953\"],[0.7777777777777778,\"#fb9f3a\"],[0.8888888888888888,\"#fdca26\"],[1.0,\"#f0f921\"]],\"type\":\"heatmap\"}],\"heatmapgl\":[{\"colorbar\":{\"outlinewidth\":0,\"ticks\":\"\"},\"colorscale\":[[0.0,\"#0d0887\"],[0.1111111111111111,\"#46039f\"],[0.2222222222222222,\"#7201a8\"],[0.3333333333333333,\"#9c179e\"],[0.4444444444444444,\"#bd3786\"],[0.5555555555555556,\"#d8576b\"],[0.6666666666666666,\"#ed7953\"],[0.7777777777777778,\"#fb9f3a\"],[0.8888888888888888,\"#fdca26\"],[1.0,\"#f0f921\"]],\"type\":\"heatmapgl\"}],\"histogram\":[{\"marker\":{\"pattern\":{\"fillmode\":\"overlay\",\"size\":10,\"solidity\":0.2}},\"type\":\"histogram\"}],\"histogram2d\":[{\"colorbar\":{\"outlinewidth\":0,\"ticks\":\"\"},\"colorscale\":[[0.0,\"#0d0887\"],[0.1111111111111111,\"#46039f\"],[0.2222222222222222,\"#7201a8\"],[0.3333333333333333,\"#9c179e\"],[0.4444444444444444,\"#bd3786\"],[0.5555555555555556,\"#d8576b\"],[0.6666666666666666,\"#ed7953\"],[0.7777777777777778,\"#fb9f3a\"],[0.8888888888888888,\"#fdca26\"],[1.0,\"#f0f921\"]],\"type\":\"histogram2d\"}],\"histogram2dcontour\":[{\"colorbar\":{\"outlinewidth\":0,\"ticks\":\"\"},\"colorscale\":[[0.0,\"#0d0887\"],[0.1111111111111111,\"#46039f\"],[0.2222222222222222,\"#7201a8\"],[0.3333333333333333,\"#9c179e\"],[0.4444444444444444,\"#bd3786\"],[0.5555555555555556,\"#d8576b\"],[0.6666666666666666,\"#ed7953\"],[0.7777777777777778,\"#fb9f3a\"],[0.8888888888888888,\"#fdca26\"],[1.0,\"#f0f921\"]],\"type\":\"histogram2dcontour\"}],\"mesh3d\":[{\"colorbar\":{\"outlinewidth\":0,\"ticks\":\"\"},\"type\":\"mesh3d\"}],\"parcoords\":[{\"line\":{\"colorbar\":{\"outlinewidth\":0,\"ticks\":\"\"}},\"type\":\"parcoords\"}],\"pie\":[{\"automargin\":true,\"type\":\"pie\"}],\"scatter\":[{\"marker\":{\"colorbar\":{\"outlinewidth\":0,\"ticks\":\"\"}},\"type\":\"scatter\"}],\"scatter3d\":[{\"line\":{\"colorbar\":{\"outlinewidth\":0,\"ticks\":\"\"}},\"marker\":{\"colorbar\":{\"outlinewidth\":0,\"ticks\":\"\"}},\"type\":\"scatter3d\"}],\"scattercarpet\":[{\"marker\":{\"colorbar\":{\"outlinewidth\":0,\"ticks\":\"\"}},\"type\":\"scattercarpet\"}],\"scattergeo\":[{\"marker\":{\"colorbar\":{\"outlinewidth\":0,\"ticks\":\"\"}},\"type\":\"scattergeo\"}],\"scattergl\":[{\"marker\":{\"colorbar\":{\"outlinewidth\":0,\"ticks\":\"\"}},\"type\":\"scattergl\"}],\"scattermapbox\":[{\"marker\":{\"colorbar\":{\"outlinewidth\":0,\"ticks\":\"\"}},\"type\":\"scattermapbox\"}],\"scatterpolar\":[{\"marker\":{\"colorbar\":{\"outlinewidth\":0,\"ticks\":\"\"}},\"type\":\"scatterpolar\"}],\"scatterpolargl\":[{\"marker\":{\"colorbar\":{\"outlinewidth\":0,\"ticks\":\"\"}},\"type\":\"scatterpolargl\"}],\"scatterternary\":[{\"marker\":{\"colorbar\":{\"outlinewidth\":0,\"ticks\":\"\"}},\"type\":\"scatterternary\"}],\"surface\":[{\"colorbar\":{\"outlinewidth\":0,\"ticks\":\"\"},\"colorscale\":[[0.0,\"#0d0887\"],[0.1111111111111111,\"#46039f\"],[0.2222222222222222,\"#7201a8\"],[0.3333333333333333,\"#9c179e\"],[0.4444444444444444,\"#bd3786\"],[0.5555555555555556,\"#d8576b\"],[0.6666666666666666,\"#ed7953\"],[0.7777777777777778,\"#fb9f3a\"],[0.8888888888888888,\"#fdca26\"],[1.0,\"#f0f921\"]],\"type\":\"surface\"}],\"table\":[{\"cells\":{\"fill\":{\"color\":\"#EBF0F8\"},\"line\":{\"color\":\"white\"}},\"header\":{\"fill\":{\"color\":\"#C8D4E3\"},\"line\":{\"color\":\"white\"}},\"type\":\"table\"}]},\"layout\":{\"annotationdefaults\":{\"arrowcolor\":\"#2a3f5f\",\"arrowhead\":0,\"arrowwidth\":1},\"autotypenumbers\":\"strict\",\"coloraxis\":{\"colorbar\":{\"outlinewidth\":0,\"ticks\":\"\"}},\"colorscale\":{\"diverging\":[[0,\"#8e0152\"],[0.1,\"#c51b7d\"],[0.2,\"#de77ae\"],[0.3,\"#f1b6da\"],[0.4,\"#fde0ef\"],[0.5,\"#f7f7f7\"],[0.6,\"#e6f5d0\"],[0.7,\"#b8e186\"],[0.8,\"#7fbc41\"],[0.9,\"#4d9221\"],[1,\"#276419\"]],\"sequential\":[[0.0,\"#0d0887\"],[0.1111111111111111,\"#46039f\"],[0.2222222222222222,\"#7201a8\"],[0.3333333333333333,\"#9c179e\"],[0.4444444444444444,\"#bd3786\"],[0.5555555555555556,\"#d8576b\"],[0.6666666666666666,\"#ed7953\"],[0.7777777777777778,\"#fb9f3a\"],[0.8888888888888888,\"#fdca26\"],[1.0,\"#f0f921\"]],\"sequentialminus\":[[0.0,\"#0d0887\"],[0.1111111111111111,\"#46039f\"],[0.2222222222222222,\"#7201a8\"],[0.3333333333333333,\"#9c179e\"],[0.4444444444444444,\"#bd3786\"],[0.5555555555555556,\"#d8576b\"],[0.6666666666666666,\"#ed7953\"],[0.7777777777777778,\"#fb9f3a\"],[0.8888888888888888,\"#fdca26\"],[1.0,\"#f0f921\"]]},\"colorway\":[\"#636efa\",\"#EF553B\",\"#00cc96\",\"#ab63fa\",\"#FFA15A\",\"#19d3f3\",\"#FF6692\",\"#B6E880\",\"#FF97FF\",\"#FECB52\"],\"font\":{\"color\":\"#2a3f5f\"},\"geo\":{\"bgcolor\":\"white\",\"lakecolor\":\"white\",\"landcolor\":\"#E5ECF6\",\"showlakes\":true,\"showland\":true,\"subunitcolor\":\"white\"},\"hoverlabel\":{\"align\":\"left\"},\"hovermode\":\"closest\",\"mapbox\":{\"style\":\"light\"},\"paper_bgcolor\":\"white\",\"plot_bgcolor\":\"#E5ECF6\",\"polar\":{\"angularaxis\":{\"gridcolor\":\"white\",\"linecolor\":\"white\",\"ticks\":\"\"},\"bgcolor\":\"#E5ECF6\",\"radialaxis\":{\"gridcolor\":\"white\",\"linecolor\":\"white\",\"ticks\":\"\"}},\"scene\":{\"xaxis\":{\"backgroundcolor\":\"#E5ECF6\",\"gridcolor\":\"white\",\"gridwidth\":2,\"linecolor\":\"white\",\"showbackground\":true,\"ticks\":\"\",\"zerolinecolor\":\"white\"},\"yaxis\":{\"backgroundcolor\":\"#E5ECF6\",\"gridcolor\":\"white\",\"gridwidth\":2,\"linecolor\":\"white\",\"showbackground\":true,\"ticks\":\"\",\"zerolinecolor\":\"white\"},\"zaxis\":{\"backgroundcolor\":\"#E5ECF6\",\"gridcolor\":\"white\",\"gridwidth\":2,\"linecolor\":\"white\",\"showbackground\":true,\"ticks\":\"\",\"zerolinecolor\":\"white\"}},\"shapedefaults\":{\"line\":{\"color\":\"#2a3f5f\"}},\"ternary\":{\"aaxis\":{\"gridcolor\":\"white\",\"linecolor\":\"white\",\"ticks\":\"\"},\"baxis\":{\"gridcolor\":\"white\",\"linecolor\":\"white\",\"ticks\":\"\"},\"bgcolor\":\"#E5ECF6\",\"caxis\":{\"gridcolor\":\"white\",\"linecolor\":\"white\",\"ticks\":\"\"}},\"title\":{\"x\":0.05},\"xaxis\":{\"automargin\":true,\"gridcolor\":\"white\",\"linecolor\":\"white\",\"ticks\":\"\",\"title\":{\"standoff\":15},\"zerolinecolor\":\"white\",\"zerolinewidth\":2},\"yaxis\":{\"automargin\":true,\"gridcolor\":\"white\",\"linecolor\":\"white\",\"ticks\":\"\",\"title\":{\"standoff\":15},\"zerolinecolor\":\"white\",\"zerolinewidth\":2}}},\"xaxis\":{\"anchor\":\"y\",\"domain\":[0.0,1.0],\"title\":{\"text\":\"month\"}},\"yaxis\":{\"anchor\":\"x\",\"domain\":[0.0,1.0],\"title\":{\"text\":\"temp_max\"}},\"legend\":{\"tracegroupgap\":0},\"title\":{\"text\":\"Distribution of Maximum Temperature by Month\"},\"violinmode\":\"group\"},                        {\"responsive\": true}                    ).then(function(){\n",
              "                            \n",
              "var gd = document.getElementById('5a781b6c-a4cb-4ccb-990c-b4f0427de640');\n",
              "var x = new MutationObserver(function (mutations, observer) {{\n",
              "        var display = window.getComputedStyle(gd).display;\n",
              "        if (!display || display === 'none') {{\n",
              "            console.log([gd, 'removed!']);\n",
              "            Plotly.purge(gd);\n",
              "            observer.disconnect();\n",
              "        }}\n",
              "}});\n",
              "\n",
              "// Listen for the removal of the full notebook cells\n",
              "var notebookContainer = gd.closest('#notebook-container');\n",
              "if (notebookContainer) {{\n",
              "    x.observe(notebookContainer, {childList: true});\n",
              "}}\n",
              "\n",
              "// Listen for the clearing of the current output cell\n",
              "var outputEl = gd.closest('.output');\n",
              "if (outputEl) {{\n",
              "    x.observe(outputEl, {childList: true});\n",
              "}}\n",
              "\n",
              "                        })                };                            </script>        </div>\n",
              "</body>\n",
              "</html>"
            ]
          },
          "metadata": {}
        }
      ]
    },
    {
      "cell_type": "markdown",
      "source": [
        "#Machine Learning Models"
      ],
      "metadata": {
        "id": "RVsgMzhAkCSt"
      }
    },
    {
      "cell_type": "markdown",
      "source": [
        "##Decision Tree Classifier"
      ],
      "metadata": {
        "id": "Nd1aLZFPkrUF"
      }
    },
    {
      "cell_type": "code",
      "source": [
        "# Define the input features and output variable\n",
        "X = df[['precipitation', 'temp_max', 'temp_min', 'wind', 'year', 'month', 'day']]\n",
        "y = df['weather']\n",
        "\n",
        "# Set the feature names explicitly\n",
        "X.columns = ['precipitation', 'temp_max', 'temp_min', 'wind', 'year', 'month', 'day']\n",
        "\n",
        "# Split the data into training and testing sets\n",
        "X_train, X_test, y_train, y_test = train_test_split(X, y, test_size=0.2, random_state=42)\n",
        "\n",
        "# Set feature names for X_train and X_test\n",
        "X_train.columns = X.columns\n",
        "X_test.columns = X.columns\n",
        "\n",
        "# Train the model\n",
        "DTC_model = DecisionTreeClassifier()\n",
        "DTC_model.fit(X_train, y_train)\n",
        "\n",
        "# Make predictions on the testing data\n",
        "y_pred = DTC_model.predict(X_test)\n",
        "\n",
        "# Evaluate the performance of the model\n",
        "accuracy = accuracy_score(y_test, y_pred)\n",
        "print(f\"Accuracy: {accuracy}\")\n",
        "\n",
        "\n",
        "#confusion_matrix of Decision Tree Classifier\n",
        "\n",
        "cm = confusion_matrix(y_test, y_pred)\n",
        "plt.figure(figsize=(8, 6))\n",
        "sns.heatmap(cm, annot=True, cmap='YlGnBu', fmt='g')\n",
        "plt.xlabel('Predicted')\n",
        "plt.ylabel('Actual')\n",
        "plt.show()\n",
        "\n",
        "\n"
      ],
      "metadata": {
        "colab": {
          "base_uri": "https://localhost:8080/",
          "height": 72
        },
        "id": "qwTNAEVpkljz",
        "outputId": "5e933c3a-f3e9-4625-f677-7e7edc4e0d25"
      },
      "execution_count": 475,
      "outputs": [
        {
          "output_type": "stream",
          "name": "stdout",
          "text": [
            "Accuracy: 0.757679180887372\n"
          ]
        },
        {
          "output_type": "display_data",
          "data": {
            "text/plain": [
              "<Figure size 576x432 with 2 Axes>"
            ],
            "image/png": "[encoded data removed]"
          },
          "metadata": {
            "needs_background": "light"
          }
        }
      ]
    },
    {
      "cell_type": "markdown",
      "source": [
        "The Decision Tree Classifier can produce different results each time it's run on the same data, even with the same random state. This is because the algorithm randomly selects features and thresholds to split the data at each node of the tree. This random selection can cause small differences in the structure of the decision tree and ultimately the accuracy of the model."
      ],
      "metadata": {
        "id": "lbNx0w2Vqa14"
      }
    },
    {
      "cell_type": "markdown",
      "source": [
        "##Random Forest"
      ],
      "metadata": {
        "id": "4GSNDBjMlT6b"
      }
    },
    {
      "cell_type": "code",
      "source": [
        "X = df[['precipitation', 'temp_max', 'temp_min', 'wind', 'year', 'month', 'day']]\n",
        "y = df['weather']\n",
        "\n",
        "\n",
        "X_train, X_test, y_train, y_test = train_test_split(X, y, test_size=0.2, random_state=42)\n",
        "\n",
        "\n",
        "RF_model = RandomForestClassifier()\n",
        "RF_model.fit(X_train, y_train)\n",
        "\n",
        "\n",
        "y_pred = RF_model.predict(X_test)\n",
        "\n",
        "# Evaluate the performance of the model\n",
        "\n",
        "accuracy = accuracy_score(y_test, y_pred)\n",
        "print(f\"Accuracy: {accuracy}\")\n",
        "\n",
        "\n"
      ],
      "metadata": {
        "colab": {
          "base_uri": "https://localhost:8080/"
        },
        "id": "oPt4EqxqlV0c",
        "outputId": "1078d825-79bf-49a0-ba89-82fef9b8d3d9"
      },
      "execution_count": 476,
      "outputs": [
        {
          "output_type": "stream",
          "name": "stdout",
          "text": [
            "Accuracy: 0.8498293515358362\n"
          ]
        }
      ]
    },
    {
      "cell_type": "code",
      "source": [
        "#confusion_matrix of Random Forest\n",
        "\n",
        "cm = confusion_matrix(y_test, y_pred)\n",
        "plt.figure(figsize=(8, 6))\n",
        "sns.heatmap(cm, annot=True, cmap='Blues', fmt='g')\n",
        "plt.xlabel('Predicted')\n",
        "plt.ylabel('Actual')\n",
        "plt.show()"
      ],
      "metadata": {
        "colab": {
          "base_uri": "https://localhost:8080/",
          "height": 54
        },
        "id": "ws8jYxlClYWM",
        "outputId": "97a0ed1d-df58-4254-a05b-7fb6a54af149"
      },
      "execution_count": 477,
      "outputs": [
        {
          "output_type": "display_data",
          "data": {
            "text/plain": [
              "<Figure size 576x432 with 2 Axes>"
            ],
            "image/png": "[encoded data removed]"
          },
          "metadata": {
            "needs_background": "light"
          }
        }
      ]
    },
    {
      "cell_type": "markdown",
      "source": [
        "##SVM"
      ],
      "metadata": {
        "id": "z29_XVlxlzxM"
      }
    },
    {
      "cell_type": "code",
      "source": [
        "\n",
        "# Split the data into training and testing sets\n",
        "X_train, X_test, y_train, y_test = train_test_split(X, y, test_size=0.2, random_state=42)\n",
        "\n",
        "# Create the SVM model and train it on the training data\n",
        "svm_model = SVC(kernel='linear', C=1, gamma='auto')\n",
        "svm_model.fit(X_train, y_train)\n",
        "\n",
        "# Make predictions on the testing data\n",
        "y_pred = svm_model.predict(X_test)\n",
        "\n",
        "# Evaluate the performance of the model\n",
        "accuracy = accuracy_score(y_test, y_pred)\n",
        "print(f\"Accuracy: {accuracy}\")\n",
        "\n",
        "\n",
        "#confusion_matrix of SVM\n",
        "\n",
        "cm = confusion_matrix(y_test, y_pred)\n",
        "plt.figure(figsize=(8, 6))\n",
        "sns.heatmap(cm, annot=True, cmap='PuBu', fmt='g')\n",
        "plt.xlabel('Predicted')\n",
        "plt.ylabel('Actual')\n",
        "plt.show()\n",
        "\n",
        "\n"
      ],
      "metadata": {
        "colab": {
          "base_uri": "https://localhost:8080/",
          "height": 72
        },
        "id": "VUP8EF3Dl1pE",
        "outputId": "00461b57-b48b-4329-a285-e2bde6cd85a3"
      },
      "execution_count": 478,
      "outputs": [
        {
          "output_type": "stream",
          "name": "stdout",
          "text": [
            "Accuracy: 0.8327645051194539\n"
          ]
        },
        {
          "output_type": "display_data",
          "data": {
            "text/plain": [
              "<Figure size 576x432 with 2 Axes>"
            ],
            "image/png": "[encoded data removed]"
          },
          "metadata": {
            "needs_background": "light"
          }
        }
      ]
    },
    {
      "cell_type": "markdown",
      "source": [
        "##GradientBoostingClassifier"
      ],
      "metadata": {
        "id": "Ml2swbm4mJeN"
      }
    },
    {
      "cell_type": "code",
      "source": [
        "# Split the data into training and testing sets\n",
        "X_train, X_test, y_train, y_test = train_test_split(X, y, test_size=0.2, random_state=42)\n",
        "\n",
        "# Create the GBM model and train it on the training data\n",
        "gbm_model = GradientBoostingClassifier(n_estimators=100, learning_rate=0.1, max_depth=3, random_state=42)\n",
        "gbm_model.fit(X_train, y_train)\n",
        "\n",
        "# Make predictions on the testing data\n",
        "y_pred = gbm_model.predict(X_test)\n",
        "\n",
        "\n",
        "# Evaluate the performance of the model\n",
        "\n",
        "accuracy = accuracy_score(y_test, y_pred)\n",
        "print(f\"Accuracy: {accuracy}\")\n",
        "\n",
        "\n",
        "#confusion_matrix of GradientBoostingClassifier\n",
        "\n",
        "cm = confusion_matrix(y_test, y_pred)\n",
        "plt.figure(figsize=(8, 6))\n",
        "sns.heatmap(cm, annot=True, cmap='PuBu', fmt='g')\n",
        "plt.xlabel('Predicted')\n",
        "plt.ylabel('Actual')\n",
        "plt.show()"
      ],
      "metadata": {
        "colab": {
          "base_uri": "https://localhost:8080/",
          "height": 72
        },
        "id": "hu8YQ9zPl8HT",
        "outputId": "74562622-adee-43ad-acf0-d82ba579d5c7"
      },
      "execution_count": 479,
      "outputs": [
        {
          "output_type": "stream",
          "name": "stdout",
          "text": [
            "Accuracy: 0.8327645051194539\n"
          ]
        },
        {
          "output_type": "display_data",
          "data": {
            "text/plain": [
              "<Figure size 576x432 with 2 Axes>"
            ],
            "image/png": "[encoded data removed]"
          },
          "metadata": {
            "needs_background": "light"
          }
        }
      ]
    },
    {
      "cell_type": "markdown",
      "source": [
        "##KNN"
      ],
      "metadata": {
        "id": "SVEQoO7K1-nV"
      }
    },
    {
      "cell_type": "code",
      "source": [
        "\n",
        "# Split the data into training and testing sets\n",
        "X_train, X_test, y_train, y_test = train_test_split(X, y, test_size=0.2, random_state=42)\n",
        "\n",
        "# Create the KNN model and train it on the training data\n",
        "knn_model = KNeighborsClassifier(n_neighbors=5)\n",
        "knn_model.fit(X_train, y_train)\n",
        "\n",
        "# Make predictions on the testing data\n",
        "y_pred = knn_model.predict(X_test)\n",
        "\n",
        "# Evaluate the performance of the model\n",
        "\n",
        "accuracy = accuracy_score(y_test, y_pred)\n",
        "print(f\"Accuracy: {accuracy}\")\n",
        "\n",
        "\n",
        "#confusion_matrix of KNN\n",
        "\n",
        "cm = confusion_matrix(y_test, y_pred)\n",
        "plt.figure(figsize=(8, 6))\n",
        "sns.heatmap(cm, annot=True, cmap='RdPu', fmt='g')\n",
        "plt.xlabel('Predicted')\n",
        "plt.ylabel('Actual')\n",
        "plt.show()\n",
        "\n"
      ],
      "metadata": {
        "colab": {
          "base_uri": "https://localhost:8080/",
          "height": 72
        },
        "id": "Z7EDUvSymKhb",
        "outputId": "8bef6a1d-1866-4b49-b623-34bc5e330213"
      },
      "execution_count": 480,
      "outputs": [
        {
          "output_type": "stream",
          "name": "stdout",
          "text": [
            "Accuracy: 0.7030716723549488\n"
          ]
        },
        {
          "output_type": "display_data",
          "data": {
            "text/plain": [
              "<Figure size 576x432 with 2 Axes>"
            ],
            "image/png": "[encoded data removed]"
          },
          "metadata": {
            "needs_background": "light"
          }
        }
      ]
    },
    {
      "cell_type": "markdown",
      "source": [
        "#Results Analysis"
      ],
      "metadata": {
        "id": "hJbPwBxVsjPp"
      }
    },
    {
      "cell_type": "markdown",
      "source": [
        "In this report, we will analyze the performance of various classification algorithms on a given dataset. The goal of this analysis is to determine which algorithm(s) have the highest accuracy on this particular dataset and to make recommendations on which algorithm(s) to use for future classification tasks.\n",
        "\n",
        "The results of our analysis showed that the Random Forest algorithm had the highest accuracy, with a score of 0.853. The SVM and Gradient Boosting Classifier models had identical accuracy scores of 0.833. The Decision Tree Classifier had an accuracy of 0.768, while KNN had accuracies of 0.703 .\n",
        "\n",
        "Based on our results, we recommend the use of Random Forest for future classification tasks on this dataset. However, it is important to note that accuracy alone may not be sufficient to determine the best algorithm for a particular dataset. Other factors, such as training time, interpretability, and the specific problem being addressed, should also be taken into account when selecting the best algorithm for a particular task.\n",
        "\n",
        "\n",
        "In conclusion, our analysis showed that the Random Forest algorithm had the highest accuracy for the given dataset. However, the final decision on which algorithm to use should be based on a combination of accuracy and other relevant factors, such as training time and interpretability. By considering these factors, we can ensure that we select the most effective algorithm for the specific classification task at hand."
      ],
      "metadata": {
        "id": "0-KQibVRsH9U"
      }
    },
    {
      "cell_type": "markdown",
      "source": [
        "#Check User Input Data"
      ],
      "metadata": {
        "id": "NsTR1lFhs-Un"
      }
    },
    {
      "cell_type": "code",
      "source": [
        "def predict_weather():\n",
        "    # Prompt the user to enter input values\n",
        "    print(\"Please enter the following weather data to predict the weather:\\n\")\n",
        "\n",
        "    precipitation = float(input(\"Enter precipitation: \"))\n",
        "    temp_max = float(input(\"Enter max temperature: \"))\n",
        "    temp_min = float(input(\"Enter min temperature: \"))\n",
        "    wind = float(input(\"Enter wind speed: \"))\n",
        "    year = int(input(\"Enter year: \"))\n",
        "    month = int(input(\"Enter month: \"))\n",
        "    day = int(input(\"Enter day: \"))\n",
        "    print(\"\\n\")\n",
        "\n",
        "    # Use the user input to make a prediction with the trained model\n",
        "    input_data = [[precipitation, temp_max, temp_min, wind, year, month, day]]\n",
        "    predicted_weather_DTC = DTC_model.predict(input_data)[0]\n",
        "    predicted_weather_RF = RF_model.predict(input_data)[0]\n",
        "    predicted_weather_SVM = svm_model.predict(input_data)[0]\n",
        "    predicted_weather_GBM = gbm_model.predict(input_data)[0]\n",
        "    predicted_weather_KNN = knn_model.predict(input_data)[0]\n",
        "    \n",
        "    \n",
        "\n",
        "    print('Results of Models :\\n')\n",
        "    print(f\"The predicted weather by Decision Tree Classifier is: {predicted_weather_DTC}\")\n",
        "    print(f\"The predicted weather by Random Forest is: {predicted_weather_RF}\")\n",
        "    print(f\"The predicted weather by SVM  is: {predicted_weather_SVM}\")\n",
        "    print(f\"The predicted weather by Gradient Boosting Classifier is: {predicted_weather_GBM}\")\n",
        "    print(f\"The predicted weather by KNN is: {predicted_weather_KNN}\")\n",
        "    \n",
        "\n",
        "predict_weather()"
      ],
      "metadata": {
        "colab": {
          "base_uri": "https://localhost:8080/"
        },
        "id": "tfRdWOmcsiIP",
        "outputId": "07436b48-26aa-44ca-91b7-0cabd843881b"
      },
      "execution_count": 481,
      "outputs": [
        {
          "output_type": "stream",
          "name": "stdout",
          "text": [
            "Please enter the following weather data to predict the weather:\n",
            "\n",
            "Enter precipitation: 12\n",
            "Enter max temperature: 12\n",
            "Enter min temperature: 12\n",
            "Enter wind speed: 12\n",
            "Enter year: 12\n",
            "Enter month: 12\n",
            "Enter day: 12\n",
            "\n",
            "\n",
            "Results of Models :\n",
            "\n",
            "The predicted weather by Decision Tree Classifier is: rain\n",
            "The predicted weather by Random Forest is: rain\n",
            "The predicted weather by SVM  is: drizzle\n",
            "The predicted weather by Gradient Boosting Classifier is: rain\n",
            "The predicted weather by KNN is: rain\n"
          ]
        }
      ]
    },
    {
      "cell_type": "code",
      "source": [
        "16"
      ],
      "metadata": {
        "colab": {
          "base_uri": "https://localhost:8080/"
        },
        "id": "5f88c9yDt2Tw",
        "outputId": "0ebec9d3-55f2-47c3-d42f-6884b85080ed"
      },
      "execution_count": 482,
      "outputs": [
        {
          "output_type": "execute_result",
          "data": {
            "text/plain": [
              "16"
            ]
          },
          "metadata": {},
          "execution_count": 482
        }
      ]
    }
  ]
}